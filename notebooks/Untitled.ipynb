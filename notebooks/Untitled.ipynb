{
 "cells": [
  {
   "cell_type": "code",
   "execution_count": 1,
   "id": "ff2b138c-39d6-44a9-ab6a-9a292da07644",
   "metadata": {},
   "outputs": [
    {
     "name": "stdout",
     "output_type": "stream",
     "text": [
      "Unable to import optional dependencies:\n",
      "selenium: No module named 'selenium'\n",
      "Directory clinical_data already exists. Nothing done.\n",
      "Directory health_system already exists. Nothing done.\n",
      "Directory vocabulary already exists. Nothing done.\n"
     ]
    }
   ],
   "source": [
    "import os\n",
    "import time\n",
    "import math\n",
    "import uuid\n",
    "\n",
    "import numpy as np\n",
    "import pandas as pd\n",
    "import dask.dataframe as dd\n",
    "from turbodbc import connect, make_options, Megabytes, Rows\n",
    "\n",
    "from omop_etl.io import to_csv\n",
    "from omop_etl.load import Loader\n",
    "from omop_etl.utils import timeitc, find\n",
    "\n",
    "rpath = '//share.***REMOVED***/Cancer_Center/data_release'\n",
    "config_path = '//share.***REMOVED***/Cancer_Center/omop_cc_etl/config.yml'\n",
    "folders = ['clinical_data', 'health_system', 'vocabulary']\n",
    "\n",
    "for folder in folders:\n",
    "    dirpath = os.path.join(rpath, folder)\n",
    "    \n",
    "    try:\n",
    "        os.mkdir(dirpath)\n",
    "    except (FileExistsError) as e:\n",
    "        print(f'Directory {folder} already exists. Nothing done.')\n",
    "        pass\n",
    "\n",
    "loader = Loader(config_path)\n",
    "server = loader.config.server\n",
    "database = loader.config.project_database"
   ]
  },
  {
   "cell_type": "code",
   "execution_count": 2,
   "id": "11285947-9c20-4bad-9feb-b2060010a1c8",
   "metadata": {},
   "outputs": [
    {
     "name": "stdout",
     "output_type": "stream",
     "text": [
      "Total rows:  38061468 \n",
      "Batch size:  1000000 \n",
      "Batches: 39\n"
     ]
    }
   ],
   "source": [
    "table = 'procedure_occurrence'\n",
    "file = os.path.join(rpath, table + '.csv')\n",
    "count = 1\n",
    "batch_size = 1000000\n",
    "\n",
    "with loader.engine.connect() as con:\n",
    "    result = con.execute(\"EXEC sp_spaceused N'hipaa.{}';\".format(table))\n",
    "    rows = int(result.fetchall()[0][1].strip())\n",
    "\n",
    "n_batches = math.ceil(rows/batch_size)\n",
    "\n",
    "print('Total rows: ', rows, '\\nBatch size: ', batch_size, '\\nBatches:', n_batches)"
   ]
  },
  {
   "cell_type": "code",
   "execution_count": null,
   "id": "c6cd3cc8-ea7c-4db1-a8a6-aeb57ea7a79e",
   "metadata": {},
   "outputs": [],
   "source": [
    "table = 'procedure_occurrence'\n",
    "rpath = '//share.***REMOVED***/Cancer_Center/data_release/' + table\n",
    "\n",
    "# Set batch size in number of rows\n",
    "options = make_options(read_buffer_size = Megabytes(2000), \n",
    "                       prefer_unicode = True,\n",
    "                       use_async_io = True,\n",
    "                       limit_varchar_results_to_max = True)\n",
    "\n",
    "con = connect(driver = '{SQL Server}', server = server, database = database, \n",
    "              trusted_connection = 'yes', turbodbc_options = options)\n",
    "\n",
    "cursor = con.cursor()\n",
    "cursor.execute(f\"select * from hipaa.{table}\")\n",
    "batches = cursor.fetchnumpybatches()\n",
    "\n",
    "count = 0\n",
    "\n",
    "with timeitc(f'Exporting {table}'):\n",
    "    if not os.path.exists(rpath):\n",
    "        os.mkdir(rpath)\n",
    "    \n",
    "    for batch in batches:\n",
    "        batch_id = uuid.uuid4()\n",
    "        header = os.path.join(rpath, table + '.csv')\n",
    "        file = os.path.join(rpath, table + f'-{count}-{batch_id}-*.csv')\n",
    "        df = dd.from_pandas(pd.DataFrame(batch), npartitions=3)\n",
    "        \n",
    "        if count == 0:\n",
    "            dtypes = {t:batch[t].dtype.type for t in batch.keys()}\n",
    "            for dtype in dtypes.keys():\n",
    "                if dtypes[dtype] == np.int64:\n",
    "                    dtypes[dtype] = 'Int64'\n",
    "                else:\n",
    "                    dtypes[dtype] = 'str'\n",
    "            \n",
    "            df = df.astype(dtypes)\n",
    "            df.head(0).to_csv(header, index=False, sep='\\t')\n",
    "            df.to_csv(file, header=False, index=False, sep='\\t')\n",
    "            count =+ 1\n",
    "\n",
    "        if count == 1:\n",
    "            df = df.astype(dtypes)\n",
    "            df.to_csv(file, header=False, index=False, sep='\\t')\n",
    "            count =+ 1\n",
    "        else:\n",
    "            con.close()\n",
    "            break       \n",
    "        \n",
    "    con.close()"
   ]
  },
  {
   "cell_type": "code",
   "execution_count": null,
   "id": "aa8fe798-c093-496d-a760-b5963c40fe5b",
   "metadata": {},
   "outputs": [],
   "source": []
  }
 ],
 "metadata": {
  "kernelspec": {
   "display_name": "Python 3",
   "language": "python",
   "name": "python3"
  },
  "language_info": {
   "codemirror_mode": {
    "name": "ipython",
    "version": 3
   },
   "file_extension": ".py",
   "mimetype": "text/x-python",
   "name": "python",
   "nbconvert_exporter": "python",
   "pygments_lexer": "ipython3",
   "version": "3.7.11"
  }
 },
 "nbformat": 4,
 "nbformat_minor": 5
}
