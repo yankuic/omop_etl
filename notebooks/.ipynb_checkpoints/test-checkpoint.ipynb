{
 "metadata": {
  "language_info": {
   "codemirror_mode": {
    "name": "ipython",
    "version": 3
   },
   "file_extension": ".py",
   "mimetype": "text/x-python",
   "name": "python",
   "nbconvert_exporter": "python",
   "pygments_lexer": "ipython3",
   "version": "3.7.4"
  },
  "orig_nbformat": 2,
  "kernelspec": {
   "name": "python3",
   "display_name": "Python 3.7.4 64-bit ('base': conda)",
   "metadata": {
    "interpreter": {
     "hash": "ed9aecc04a78bc023d6560d59868ba438581fdda2914504ea0b1a159872595b9"
    }
   }
  }
 },
 "nbformat": 4,
 "nbformat_minor": 2,
 "cells": [
  {
   "cell_type": "code",
   "execution_count": 1,
   "metadata": {},
   "outputs": [
    {
     "output_type": "stream",
     "name": "stdout",
     "text": [
      "z:\\OMOP\\omop_etl\n"
     ]
    }
   ],
   "source": [
    "import yaml\n",
    "import sqlparse\n",
    "import os\n",
    "import pandas as pd\n",
    "os.chdir('..')\n",
    "print(os.getcwd())\n",
    "\n",
    "from omop_etl.datastore import DataStore, format_bo_sql\n",
    "from omop_etl.load import Loader\n",
    "\n",
    "# Generate cohort\n",
    "omop = DataStore('config.yml')"
   ]
  },
  {
   "cell_type": "code",
   "execution_count": 2,
   "metadata": {},
   "outputs": [],
   "source": [
    "omop = DataStore('config.yml')\n",
    "\n",
    "def format_stage_query(dp_name):\n",
    "\n",
    "    with open('stage_aliases.yml') as f:\n",
    "        yml = yaml.safe_load(f) \n",
    "    \n",
    "    aliases= yml[dp_name]\n",
    "    bo_queries = omop.get_bo_query('omop')\n",
    "\n",
    "    start_date = omop.config_param['date_range']['start_date']\n",
    "    end_date = omop.config_param['date_range']['end_date']\n",
    "\n",
    "    sql_query = format_bo_sql(bo_queries[dp_name], dp_name, schema='stage', aliases=aliases)\n",
    "    patient_id = \"select PATIENT_KEY from DWS_OMOP.cohort.PersonList\"\n",
    "    sql_query = sql_query.replace(\"12345678\", patient_id)\n",
    "    sql_query = sql_query.replace(\"01/01/1900 00:0:0\", start_date)\n",
    "    sql_query = sql_query.replace(\"12/31/1900 00:0:0\", end_date)\n",
    "\n",
    "    sql_query = sqlparse.format(sql_query, reindent_aligned=True, indent_with=1)\n",
    "\n",
    "    return f\"EXECUTE ('USE [DWS_PROD];\\n {sql_query}')\" "
   ]
  },
  {
   "cell_type": "code",
   "execution_count": 14,
   "metadata": {},
   "outputs": [
    {
     "output_type": "stream",
     "name": "stdout",
     "text": [
      "EXECUTE ('USE [DWS_PROD];\n DROP TABLE IF EXISTS DWS_OMOP.stage.MEASUREMENT_HeartRate;SELECT DISTINCT dbo.ALL_PATIENTS.PATNT_KEY AS patient_key,\n       PATNT_ENCNTR_KEY_XREF1.PATNT_ENCNTR_KEY AS patnt_encntr_key,\n       Flowsheet_Enc_Dttime_VITALS.MEASR_TAKN_DATE AS vitals_date,\n       Flowsheet_Enc_Dttime_VITALS.MEASR_TAKN_DT AS vitals_datetime,\n       Flowsheet_VITALS_HR.MEASR_VALUE AS heartrate,\n       ALL_PROVIDERS_PT_IND.PROVIDR_KEY AS attending_provider,\n       ALL_PROVIDERS_VISIT.PROVIDR_KEY AS visit_provider INTO DWS_OMOP.stage.MEASUREMENT_HeartRate\n  FROM dbo.ALL_PATIENTS\n RIGHT OUTER JOIN dbo.ALL_PATIENT_SNAPSHOTS ALL_PT_SNAPSHOTS_ENCOUNTER\n    ON (ALL_PT_SNAPSHOTS_ENCOUNTER.PATNT_KEY=dbo.ALL_PATIENTS.PATNT_KEY)\n RIGHT OUTER JOIN dbo.PATIENT_ENCOUNTER_DTL\n    ON (ALL_PT_SNAPSHOTS_ENCOUNTER.PATNT_SNAPSHT_KEY=dbo.PATIENT_ENCOUNTER_DTL.DSCHRG_PATNT_SNAPSHT_KEY AND dbo.PATIENT_ENCOUNTER_DTL.TEST_IND=''N'')\n  LEFT OUTER JOIN dbo.PATNT_ENCNTR_KEY_XREF PATNT_ENCNTR_KEY_XREF1\n    ON (dbo.PATIENT_ENCOUNTER_DTL.PATNT_ENCNTR_KEY=PATNT_ENCNTR_KEY_XREF1.PATNT_ENCNTR_KEY AND dbo.PATIENT_ENCOUNTER_DTL.TEST_IND=''N'')\n  LEFT OUTER JOIN (\n        SELECT DISTINCT a.LINK_PATNT_ENCNTR_KEY,\n               a.PATNT_ENCNTR_KEY,\n               a.MEASR_TAKN_DT,\n               a.MEASR_TAKN_DATE\n          FROM flowsheet_measure_dtl a\n          join all_flowsheet_measures b\n            on a.flowsht_measr_key=b.flowsht_measr_key\n         where b.ETL_IND = ''Y''\n           and a.MEASR_VALUE is not null\n           and b.STNDRD_LABEL_CAT is not null\n       ) Flowsheet_Enc_Dttime\n    ON (dbo.PATIENT_ENCOUNTER_DTL.TEST_IND=''N'' AND dbo.PATIENT_ENCOUNTER_DTL.PATNT_ENCNTR_KEY=Flowsheet_Enc_Dttime.LINK_PATNT_ENCNTR_KEY)\n  LEFT OUTER JOIN (\n        SELECT DISTINCT a.PATNT_ENCNTR_KEY,\n               a.MEASR_TAKN_DT,\n               a.MEASR_TAKN_DATE\n          FROM flowsheet_measure_dtl a\n          join all_flowsheet_measures b on(a.flowsht_measr_key=b.flowsht_measr_key)\n         where b.stndrd_label_cat in(''RESPIRATORY'')\n           and a.measr_value is not null\n       ) Flowsheet_Enc_Dttime_RESP\n    ON (Flowsheet_Enc_Dttime.PATNT_ENCNTR_KEY=Flowsheet_Enc_Dttime_RESP.PATNT_ENCNTR_KEY AND Flowsheet_Enc_Dttime.MEASR_TAKN_DT=Flowsheet_Enc_Dttime_RESP.MEASR_TAKN_DT)\n  LEFT OUTER JOIN (\n        SELECT DISTINCT a.PATNT_ENCNTR_KEY,\n               a.MEASR_TAKN_DT,\n               a.MEASR_TAKN_DATE\n          FROM flowsheet_measure_dtl a\n          join all_flowsheet_measures b on(a.flowsht_measr_key=b.flowsht_measr_key)\n         where b.stndrd_label_cat in(''VITALS'')\n           and a.measr_value is not null\n       ) Flowsheet_Enc_Dttime_VITALS\n    ON (Flowsheet_Enc_Dttime.PATNT_ENCNTR_KEY=Flowsheet_Enc_Dttime_VITALS.PATNT_ENCNTR_KEY AND Flowsheet_Enc_Dttime.MEASR_TAKN_DT=Flowsheet_Enc_Dttime_VITALS.MEASR_TAKN_DT)\n  LEFT OUTER JOIN (\n        select a.*\n          from flowsheet_measure_dtl a\n          join all_flowsheet_measures b\n            on (a.flowsht_measr_key=b.flowsht_measr_key)\n         where b.stndrd_label_dtl = ''HEART RATE''\n       ) Flowsheet_VITALS_HR\n    ON (Flowsheet_Enc_Dttime_VITALS.PATNT_ENCNTR_KEY=Flowsheet_VITALS_HR.PATNT_ENCNTR_KEY AND Flowsheet_Enc_Dttime_VITALS.MEASR_TAKN_DT=Flowsheet_VITALS_HR.MEASR_TAKN_DT)\n  LEFT OUTER JOIN PATIENT_ENCOUNTER_DAILY_SUMMARY\n    ON (dbo.PATIENT_ENCOUNTER_DTL.TEST_IND=''N'' AND PATIENT_ENCOUNTER_DAILY_SUMMARY.PATNT_ENCNTR_KEY=dbo.PATIENT_ENCOUNTER_DTL.PATNT_ENCNTR_KEY)\n  LEFT OUTER JOIN dbo.ALL_PROVIDERS ALL_PROVIDERS_PT_IND\n    ON (PATIENT_ENCOUNTER_DAILY_SUMMARY.ATTND_PROVIDR_KEY=ALL_PROVIDERS_PT_IND.PROVIDR_KEY)\n  LEFT OUTER JOIN dbo.ALL_PROVIDERS ALL_PROVIDERS_VISIT\n    ON (dbo.PATIENT_ENCOUNTER_DTL.TEST_IND=''N'' AND dbo.PATIENT_ENCOUNTER_DTL.VISIT_PROVIDR_KEY=ALL_PROVIDERS_VISIT.PROVIDR_KEY)\n WHERE (dbo.ALL_PATIENTS.PATNT_KEY IN (select PATIENT_KEY from DWS_OMOP.cohort.PersonList) AND Flowsheet_Enc_Dttime_RESP.MEASR_TAKN_DATE >= ''01/01/2020'' AND Flowsheet_VITALS_HR.MEASR_VALUE Is Not Null AND (dbo.ALL_PATIENTS.TEST_IND=''N''))')\n"
     ]
    }
   ],
   "source": [
    "table = 'MEASUREMENT_HeartRate'\n",
    "print(format_stage_query(table))"
   ]
  },
  {
   "cell_type": "code",
   "execution_count": 16,
   "metadata": {},
   "outputs": [
    {
     "output_type": "stream",
     "name": "stdout",
     "text": [
      "dict_keys(['CONDITION', 'DEATH', 'DRUG_ADMIN', 'DRUG_ORDER', 'MEASUREMENT_BP', 'MEASUREMENT_HeartRate', 'MEASUREMENT_Height', 'MEASUREMENT_LAB', 'MEASUREMENT_PainScale', 'MEASUREMENT_QTCB', 'MEASUREMENT_Res_Device', 'MEASUREMENT_Res_ETCO2', 'MEASUREMENT_Res_FIO2', 'MEASUREMENT_Res_GCS', 'MEASUREMENT_Res_O2', 'MEASUREMENT_Res_PEEP', 'MEASUREMENT_Res_PIP', 'MEASUREMENT_Res_RESP', 'MEASUREMENT_Res_SPO2', 'MEASUREMENT_Res_Tidal', 'MEASUREMENT_Res_Vent', 'MEASUREMENT_Rothman', 'MEASUREMENT_SOFA', 'MEASUREMENT_Temp', 'MEASUREMENT_Weight', 'OBSERVATION_ICU', 'OBSERVATION_LDA', 'OBSERVATION_Payer', 'OBSERVATION_Smoking', 'OBSERVATION_Vent', 'OBSERVATION_Zipcode', 'PERSON', 'PROCEDURE_CPT', 'PROCEDURE_ICD', 'VISIT'])\n"
     ]
    }
   ],
   "source": [
    "bo_queries = omop.get_bo_query('omop')\n",
    "print(bo_queries.keys())\n",
    "\n",
    "for t in bo_queries.keys():\n",
    "    f = open(f'./output/sqlstring_{t.lower()}.sql', 'w')\n",
    "    f.write(format_stage_query(t))\n",
    "    f.close()\n",
    "\n",
    "# aliases= yml[table]\n",
    "# format_bo_sql(bo_queries[table], table, schema='stage')\n",
    "# omop.execute(format_stage_query('MEASUREMENT_HeartRate'))\n",
    "\n",
    "# aliases = {}\n",
    "# for t in bo_queries.keys():\n",
    "#     with omop.engine.connect() as con:\n",
    "#         cols = pd.read_sql(f\"select top 0 * from stage.{t}\", con)\n",
    "#         aliases[t] = [x.lower() for x in cols.columns]\n",
    "\n",
    "# with open('col_aliases.yml', 'w') as f:\n",
    "#     yaml.dump(aliases, f)\n",
    "#     f.close()"
   ]
  },
  {
   "cell_type": "code",
   "execution_count": 3,
   "metadata": {},
   "outputs": [
    {
     "output_type": "stream",
     "name": "stdout",
     "text": [
      "Identifier dbo.ALL_PATIENTS.PATNT_KEY\nSomething else <bound method Token.__repr__ of <Punctuation ',' at 0x1556133ACA8>>\nSomething else <bound method Token.__repr__ of <Whitespace ' ' at 0x1556133ABE8>>\nSomething else <bound method Token.__repr__ of <Whitespace ' ' at 0x1556133A4C8>>\nIdentifier dbo.ALL_MEDICATION_STATUSES.STNDRD_LABEL\nSomething else <bound method Token.__repr__ of <Punctuation ',' at 0x1556135DD68>>\nSomething else <bound method Token.__repr__ of <Whitespace ' ' at 0x1556135DE28>>\nSomething else <bound method Token.__repr__ of <Whitespace ' ' at 0x1556135DE88>>\nIdentifier ALL_MEDICATIONS1.LINK_RXNORM_CODE\nSomething else <bound method Token.__repr__ of <Punctuation ',' at 0x1556136B228>>\nSomething else <bound method Token.__repr__ of <Whitespace ' ' at 0x1556136B108>>\nSomething else <bound method Token.__repr__ of <Whitespace ' ' at 0x1556136B0A8>>\nSomething else <bound method Token.__repr__ of <Case 'case w...' at 0x15561369CC8>>\nSomething else <bound method Token.__repr__ of <Punctuation ',' at 0x1556136BD08>>\nSomething else <bound method Token.__repr__ of <Whitespace ' ' at 0x1556136BD68>>\nSomething else <bound method Token.__repr__ of <Whitespace ' ' at 0x1556136BDC8>>\nIdentifier dbo.MED_ADMINISTRATION_DTL.TAKN_DATE\nSomething else <bound method Token.__repr__ of <Punctuation ',' at 0x1556138A048>>\nSomething else <bound method Token.__repr__ of <Whitespace ' ' at 0x1556138A0A8>>\nSomething else <bound method Token.__repr__ of <Whitespace ' ' at 0x1556138A108>>\nIdentifier dbo.MED_ADMINISTRATION_DTL.TAKN_DT\nSomething else <bound method Token.__repr__ of <Punctuation ',' at 0x1556138A348>>\nSomething else <bound method Token.__repr__ of <Whitespace ' ' at 0x1556138A3A8>>\nSomething else <bound method Token.__repr__ of <Whitespace ' ' at 0x1556138A408>>\nIdentifier dbo.MED_ADMINISTRATION_DTL.TOT_DOSE\nSomething else <bound method Token.__repr__ of <Punctuation ',' at 0x1556138A648>>\nSomething else <bound method Token.__repr__ of <Whitespace ' ' at 0x1556138A6A8>>\nSomething else <bound method Token.__repr__ of <Whitespace ' ' at 0x1556138A708>>\nIdentifier dbo.MED_ADMINISTRATION_DTL.MED_DOSE_UNIT_DESC\nSomething else <bound method Token.__repr__ of <Punctuation ',' at 0x1556138A948>>\nSomething else <bound method Token.__repr__ of <Whitespace ' ' at 0x1556138A9A8>>\nSomething else <bound method Token.__repr__ of <Whitespace ' ' at 0x1556138AA08>>\nIdentifier ALL_PROVIDERS_AUTH_MED.PROVIDR_KEY\nSomething else <bound method Token.__repr__ of <Punctuation ',' at 0x1556138AB88>>\nSomething else <bound method Token.__repr__ of <Whitespace ' ' at 0x1556138ABE8>>\nSomething else <bound method Token.__repr__ of <Whitespace ' ' at 0x1556138AC48>>\nIdentifier PATNT_ENCNTR_KEY_XREF1.PATNT_ENCNTR_KEY\n"
     ]
    }
   ],
   "source": [
    "bo_queries = omop.get_bo_query('omop')\n",
    "sqlstring = bo_queries['DRUG_ADMIN']\n",
    "parsed = sqlparse.parse(sqlstring)[0]\n",
    "idx = [parsed.token_index(t) for t in parsed if t.is_keyword and t.value == 'FROM'][0]\n",
    "columns = parsed.token_prev(idx)[1]\n",
    "\n",
    "# Extract columns from SELECT clause. If duplicated columns, use alias, \n",
    "# else append abbreviated source table name.\n",
    "colnames = [i.value.split('.')[-1] for i in columns]\n",
    "dup_cols = set([x for x in colnames if colnames.count(x) > 1])\n",
    "new_colnames = []\n",
    "\n",
    "counter = 0\n",
    "for item in columns:\n",
    "    if isinstance(item, sqlparse.sql.Identifier):\n",
    "        colname = item.value.split('.')[-1]\n",
    "        tabname = item.value.split('.')[-2]\n",
    "        shrt_tabname = '_'.join([word[:3] for word in tabname.split('_')])\n",
    "        print('Identifier', item.value)\n",
    "    \n",
    "    elif isinstance(item, sqlparse.sql.Function):\n",
    "        counter += 1\n",
    "        fn_name = f'FN_{counter}'\n",
    "        print('Function', item.value)\n",
    "        \n",
    "    else: \n",
    "        print('Something else', item.__repr__)"
   ]
  },
  {
   "source": [
    "from omop_etl.stage import Stager\n",
    "stage = Stager('config.yml')\n",
    "# print(l.update_mappings('person'))\n",
    "# print(l.update_mappings('visit_occurrence'))\n",
    "\n",
    "# print(l.preload_all())\n",
    "\n",
    "# print(l.load_table('person'))\n",
    "# print(l.load_table('death'))\n",
    "# print(l.load_table('condition_occurrence'))\n",
    "# print(l.load_table('procedure_occurrence'))\n",
    "# print(l.load_table('drug_exposure'))\n",
    "# print(l.load_table('observation'))\n",
    "# print(l.load_table('provider'))\n",
    "# print(l.load_table('care_site'))\n",
    "# print(l.load_table('location'))"
   ],
   "cell_type": "code",
   "metadata": {},
   "execution_count": 2,
   "outputs": []
  },
  {
   "cell_type": "code",
   "execution_count": 5,
   "metadata": {},
   "outputs": [],
   "source": [
    "load_conf = stage.store.config_param['load']\n",
    "# stage.stage_table('measurement','res_fio2')"
   ]
  },
  {
   "cell_type": "code",
   "execution_count": 15,
   "metadata": {},
   "outputs": [
    {
     "output_type": "stream",
     "name": "stdout",
     "text": [
      "no parts person\nno parts death\nno parts condition_occurrence\nhas part procedure_occurrence icd\nhas part procedure_occurrence cpt\nhas part drug_exposure order\nhas part drug_exposure admin\nhas part measurement bp\nhas part measurement heart_rate\nhas part measurement height\nhas part measurement lab\nhas part measurement pain\nhas part measurement qtcb\nhas part measurement res_dev\nhas part measurement res_etco2\nhas part measurement res_fio2\nhas part measurement res_gcs\nhas part measurement res_o2\nhas part measurement res_peep\nhas part measurement res_pip\nhas part measurement res_resp\nhas part measurement res_spo2\nhas part measurement res_tidal\nhas part measurement res_vent\nhas part measurement rothman\nhas part measurement sofa\nhas part measurement temp\nhas part measurement weight\nhas part observation icu\nhas part observation lda\nhas part observation vent\nhas part observation payer\nhas part observation smoking\nhas part observation zipcode\nno parts visit\n"
     ]
    }
   ],
   "source": [
    "for t in load_conf.keys():\n",
    "    if load_conf[t]:\n",
    "        for part in load_conf[t].keys():\n",
    "            stage.stage_table(t, part)\n",
    "    else:\n",
    "        if t not in ('provider','care_site','location'): \n",
    "            stage.stage_table(t)"
   ]
  },
  {
   "cell_type": "code",
   "execution_count": null,
   "metadata": {},
   "outputs": [],
   "source": []
  }
 ]
}