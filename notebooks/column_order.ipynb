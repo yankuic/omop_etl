{
 "cells": [
  {
   "cell_type": "code",
   "execution_count": 4,
   "source": [
    "from pydma.databases import OneFLDb\r\n",
    "import pandas as pd"
   ],
   "outputs": [],
   "metadata": {}
  },
  {
   "cell_type": "code",
   "execution_count": 9,
   "source": [
    "pain = OneFLDb('rsr', database='DWS_PAIN_OMOP')"
   ],
   "outputs": [],
   "metadata": {}
  },
  {
   "cell_type": "code",
   "execution_count": 49,
   "source": [
    "schema = 'preload'\r\n",
    "table = 'condition_occurrence'\r\n",
    "pre_tables = pain.list_tables(in_schema=[schema])\r\n",
    "catalog_1 = 'dws_pain_omop'\r\n",
    "catalog_2 = 'dws_omop'\r\n",
    "\r\n",
    "for table in pre_tables.Table:\r\n",
    "    with pain.engine.connect() as con:\r\n",
    "        pain_t = pd.read_sql(f'select top 0 * from dws_pain_omop.{schema}.{table}', con)\r\n",
    "        pain_dt = pd.read_sql(f\"SELECT COLUMN_NAME, DATA_TYPE FROM {catalog_1}.INFORMATION_SCHEMA.COLUMNS where TABLE_NAME = '{table}' and TABLE_SCHEMA = '{schema}'\", con)\r\n",
    "        omop_t = pd.read_sql(f'select top 0 * from dws_omop.{schema}.{table}', con)\r\n",
    "        omop_dt = pd.read_sql(f\"SELECT COLUMN_NAME, DATA_TYPE FROM {catalog_2}.INFORMATION_SCHEMA.COLUMNS where TABLE_NAME = '{table}' and TABLE_SCHEMA = '{schema}'\", con)\r\n",
    "\r\n",
    "    compare = pd.DataFrame({'pain':pain_t.columns, \r\n",
    "                            'pain_dt': pain_dt.DATA_TYPE, \r\n",
    "                            'omop': omop_t.columns, \r\n",
    "                            'omop_dt': omop_dt.DATA_TYPE})\r\n",
    "    compare['q_name'] = compare.apply(lambda row: row.pain == row.omop, 1)\r\n",
    "    compare['q_datatype'] = compare.apply(lambda row: row.pain_dt == row.omop_dt, 1)\r\n",
    "\r\n",
    "    if all(compare.q_name) and all(compare.q_datatype): \r\n",
    "        print(f'table {table} OK')\r\n",
    "        pass\r\n",
    "    else: \r\n",
    "        print(table, compare)"
   ],
   "outputs": [
    {
     "output_type": "stream",
     "name": "stdout",
     "text": [
      "CONDITION_OCCURRENCE                              pain   pain_dt                           omop  \\\n",
      "0                       person_id       int                      person_id   \n",
      "1            condition_concept_id       int           condition_concept_id   \n",
      "2            condition_start_date      date           condition_start_date   \n",
      "3        condition_start_datetime  datetime       condition_start_datetime   \n",
      "4              condition_end_date      date             condition_end_date   \n",
      "5          condition_end_datetime  datetime         condition_end_datetime   \n",
      "6       condition_type_concept_id       int      condition_type_concept_id   \n",
      "7                     stop_reason   varchar                    stop_reason   \n",
      "8                     provider_id       int                    provider_id   \n",
      "9             visit_occurrence_id       int            visit_occurrence_id   \n",
      "10                visit_detail_id       int                visit_detail_id   \n",
      "11         condition_source_value   varchar         condition_source_value   \n",
      "12    condition_source_concept_id       int    condition_source_concept_id   \n",
      "13  condition_status_source_value   varchar  condition_status_source_value   \n",
      "14    condition_status_concept_id       int    condition_status_concept_id   \n",
      "\n",
      "      omop_dt  q_name  q_datatype  \n",
      "0         int    True        True  \n",
      "1         int    True        True  \n",
      "2        date    True        True  \n",
      "3   datetime2    True       False  \n",
      "4        date    True        True  \n",
      "5   datetime2    True       False  \n",
      "6         int    True        True  \n",
      "7     varchar    True        True  \n",
      "8         int    True        True  \n",
      "9         int    True        True  \n",
      "10        int    True        True  \n",
      "11    varchar    True        True  \n",
      "12        int    True        True  \n",
      "13    varchar    True        True  \n",
      "14        int    True        True  \n",
      "DRUG_EXPOSURE                             pain    pain_dt                          omop  \\\n",
      "0                      person_id        int                     person_id   \n",
      "1                drug_concept_id        int               drug_concept_id   \n",
      "2       drug_exposure_start_date       date      drug_exposure_start_date   \n",
      "3   drug_exposure_start_datetime  datetime2  drug_exposure_start_datetime   \n",
      "4         drug_exposure_end_date       date        drug_exposure_end_date   \n",
      "5     drug_exposure_end_datetime  datetime2    drug_exposure_end_datetime   \n",
      "6              verbatim_end_date       date             verbatim_end_date   \n",
      "7           drug_type_concept_id        int          drug_type_concept_id   \n",
      "8                    stop_reason    varchar                   stop_reason   \n",
      "9                        refills        int                       refills   \n",
      "10                      quantity    varchar                      quantity   \n",
      "11                   days_supply        int                   days_supply   \n",
      "12                           sig    varchar                           sig   \n",
      "13              route_concept_id        int              route_concept_id   \n",
      "14                    lot_number    varchar                    lot_number   \n",
      "15                   provider_id        int                   provider_id   \n",
      "16           visit_occurrence_id        int           visit_occurrence_id   \n",
      "17               visit_detail_id        int               visit_detail_id   \n",
      "18             drug_source_value    varchar             drug_source_value   \n",
      "19        drug_source_concept_id        int        drug_source_concept_id   \n",
      "20            route_source_value    varchar            route_source_value   \n",
      "21        dose_unit_source_value    varchar        dose_unit_source_value   \n",
      "22                  source_table    varchar                  source_table   \n",
      "\n",
      "     omop_dt  q_name  q_datatype  \n",
      "0        int    True        True  \n",
      "1        int    True        True  \n",
      "2       date    True        True  \n",
      "3   datetime    True       False  \n",
      "4       date    True        True  \n",
      "5   datetime    True       False  \n",
      "6       date    True        True  \n",
      "7        int    True        True  \n",
      "8    varchar    True        True  \n",
      "9        int    True        True  \n",
      "10   varchar    True        True  \n",
      "11       int    True        True  \n",
      "12   varchar    True        True  \n",
      "13       int    True        True  \n",
      "14   varchar    True        True  \n",
      "15       int    True        True  \n",
      "16       int    True        True  \n",
      "17       int    True        True  \n",
      "18   varchar    True        True  \n",
      "19       int    True        True  \n",
      "20   varchar    True        True  \n",
      "21   varchar    True        True  \n",
      "22   varchar    True        True  \n",
      "table PROCEDURE_OCCURRENCE OK\n",
      "table MEASUREMENT OK\n",
      "table OBSERVATION OK\n"
     ]
    }
   ],
   "metadata": {}
  },
  {
   "cell_type": "code",
   "execution_count": null,
   "source": [],
   "outputs": [],
   "metadata": {}
  }
 ],
 "metadata": {
  "orig_nbformat": 4,
  "language_info": {
   "name": "python",
   "version": "3.7.10",
   "mimetype": "text/x-python",
   "codemirror_mode": {
    "name": "ipython",
    "version": 3
   },
   "pygments_lexer": "ipython3",
   "nbconvert_exporter": "python",
   "file_extension": ".py"
  },
  "kernelspec": {
   "name": "python3",
   "display_name": "Python 3.7.10 64-bit ('omop': conda)"
  },
  "interpreter": {
   "hash": "7c85ff1ad38d990bff1f8127f6f93832ae5b0f8f3376f1de851f2ae7a03d3a34"
  }
 },
 "nbformat": 4,
 "nbformat_minor": 2
}