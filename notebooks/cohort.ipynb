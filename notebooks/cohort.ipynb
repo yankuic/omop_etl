{
 "cells": [
  {
   "cell_type": "code",
   "execution_count": 18,
   "source": [
    " \"\"\"Refresh patient cohort list.\r\n",
    "\r\n",
    "This template script to generate the project cohort list. Some customizations may be needed to make it work for each project. \r\n",
    "\r\n",
    "Usage:\r\n",
    " \r\n",
    "Add instructions here. \r\n",
    "\"\"\"\r\n",
    "\r\n",
    "from omop_etl.utils import timeitc\r\n",
    "from omop_etl.datastore import DataStore \r\n",
    "from omop_etl.bo import bo_query, format_bo_sql\r\n",
    "\r\n",
    "store = DataStore('z:/test/config.yml')\r\n",
    "BO_DOCNAME = store.config.bo_docname_cohort\r\n",
    "END_DATE = store.config.end_date\r\n",
    "DATABASE = 'DWS_OMOP' # store.config.project_database\r\n",
    "SCHEMA = 'cohort'\r\n",
    "COHORT_TABLE = 'PersonList'\r\n",
    "\r\n",
    "# Use this list to add things to replace (placeholders) in the original BO query.\r\n",
    "# Add pairs as (old_value, new_value)\r\n",
    "replace_placeholders = [\r\n",
    "    ('12/31/1900 00:0:0', END_DATE)\r\n",
    "]\r\n",
    "\r\n",
    "def load_cohort_query(dp_names, cohort_table, schema):\r\n",
    "    \"\"\"Return query string to load cohort into schema.cohort_table.\"\"\"\r\n",
    "    if hasattr(dp_names, '__iter__'):\r\n",
    "        union_str = 'union '.join([f'select patnt_key from {SCHEMA}.{t} ' for t in dp_names])\r\n",
    "    elif isinstance(dp_names, str):\r\n",
    "        union_str = f'select patnt_key from {SCHEMA}.{dp_names}'\r\n",
    "    else:\r\n",
    "        raise TypeError\r\n",
    "\r\n",
    "    return f\"\"\"\r\n",
    "        INSERT INTO {schema}.{cohort_table} WITH (TABLOCK)\r\n",
    "        SELECT DISTINCT *\r\n",
    "        FROM (\r\n",
    "            {union_str}\r\n",
    "        ) x\r\n",
    "    \"\"\"\r\n",
    "\r\n",
    "def refresh_cohort(stage=True, replace_placeholders=None):\r\n",
    "    \"\"\"[summary]\r\n",
    "\r\n",
    "    Returns:\r\n",
    "        [type]: [description]\r\n",
    "    \"\"\"\r\n",
    "    store.truncate(SCHEMA, COHORT_TABLE)\r\n",
    "\r\n",
    "    with store.bo_engine.connect() as con:\r\n",
    "        bo_q = bo_query(BO_DOCNAME, con)\r\n",
    "    \r\n",
    "    # Stage all cohort tables\r\n",
    "    if stage:\r\n",
    "        for t in bo_q.keys():\r\n",
    "            q = bo_q[t]\r\n",
    "            sqlstring = format_bo_sql(q, t, DATABASE)\r\n",
    "\r\n",
    "            # Replace placeholders\r\n",
    "            if replace_placeholders: \r\n",
    "                for item in replace_placeholders:\r\n",
    "                    old, new = item\r\n",
    "                    sqlstring = sqlstring.replace(old, new)\r\n",
    "\r\n",
    "            print(f'Staging {t} ...')\r\n",
    "            print(store.execute(f\"EXECUTE ('USE DWS_PROD;\\n {sqlstring}')\"))\r\n",
    "\r\n",
    "    print(f'Loading cohort into {COHORT_TABLE} ...')\r\n",
    "    cohort_q = load_cohort_query(bo_q.keys(), COHORT_TABLE, SCHEMA)\r\n",
    "    \r\n",
    "    return store.execute(cohort_q)\r\n"
   ],
   "outputs": [],
   "metadata": {}
  },
  {
   "cell_type": "code",
   "execution_count": 19,
   "source": [
    "# refresh_cohort(replace_placeholders=replace_placeholders)\r\n",
    "with store.bo_engine.connect() as con:\r\n",
    "    bo_q = bo_query(BO_DOCNAME, con)"
   ],
   "outputs": [],
   "metadata": {}
  },
  {
   "cell_type": "code",
   "execution_count": 20,
   "source": [
    "for t in bo_q.keys():\r\n",
    "    q = bo_q[t]\r\n",
    "    sqlstring = format_bo_sql(q, t, DATABASE)"
   ],
   "outputs": [],
   "metadata": {}
  },
  {
   "cell_type": "code",
   "execution_count": 22,
   "source": [
    "bo_q['ICD_CodingDetail']"
   ],
   "outputs": [
    {
     "output_type": "execute_result",
     "data": {
      "text/plain": [
       "\"SELECT  ALL_PATIENTS.PATNT_KEY,  ALL_PATIENTS.PATNT_ID,  ALL_PATIENT_IDENTITIES.IDENT_ID_INT,  JAX_MRN.IDENT_ID_INT FROM  ALL_PATIENTS RIGHT OUTER JOIN ALL_PATIENT_SNAPSHOTS ON (ALL_PATIENT_SNAPSHOTS.PATNT_KEY=ALL_PATIENTS.PATNT_KEY)  RIGHT OUTER JOIN DIAGNOSIS_EVENT_DTL ON (DIAGNOSIS_EVENT_DTL.PATNT_SNAPSHT_KEY=ALL_PATIENT_SNAPSHOTS.PATNT_SNAPSHT_KEY)  LEFT OUTER JOIN SOURCE_DIAG_ICD_XREF ON (DIAGNOSIS_EVENT_DTL.ICD_TYPE = SOURCE_DIAG_ICD_XREF.ICD_TYPE AND DIAGNOSIS_EVENT_DTL.SOURCE_DIAG_CD_KEY = SOURCE_DIAG_ICD_XREF.SOURCE_DIAG_CD_KEY)  LEFT OUTER JOIN ALL_ICD_DIAGNOSIS_CODES ON (SOURCE_DIAG_ICD_XREF.DIAG_CD_KEY=ALL_ICD_DIAGNOSIS_CODES.DIAG_CD_KEY)  LEFT OUTER JOIN PATIENT_ENCOUNTER_DTL ON (DIAGNOSIS_EVENT_DTL.PATNT_ENCNTR_KEY=PATIENT_ENCOUNTER_DTL.PATNT_ENCNTR_KEY)  LEFT OUTER JOIN ALL_PATIENT_IDENTITIES ON (ALL_PATIENT_SNAPSHOTS.PATNT_KEY=ALL_PATIENT_IDENTITIES.PATNT_KEY and ALL_PATIENT_IDENTITIES.LOOKUP_IND = 'Y' and ALL_PATIENT_IDENTITIES.IDENT_ID_TYPE = 101)  LEFT OUTER JOIN ALL_PATIENT_IDENTITIES JAX_MRN ON (ALL_PATIENT_SNAPSHOTS.PATNT_KEY=JAX_MRN.PATNT_KEY and JAX_MRN.LOOKUP_IND = 'Y' and JAX_MRN.IDENT_ID_TYPE = 110)  WHERE  (  DIAGNOSIS_EVENT_DTL.START_DATE BETWEEN '01/01/1900 00:0:0' AND '12/31/1900 00:0:0'  AND  ALL_ICD_DIAGNOSIS_CODES.DIAG_CD_DECML IN ( 'A01.03','A02.22','A37.01','A37.11','A37.81','A37.91','A54.84','B01.2','B05.2','B06.81','B20.6','B33.8','B34.2','B34.8','B34.9','B77.81','B97.2','B97.21','B97.29','B97.89','J00','J01.0','J01.00','J01.01','J01.1','J01.10','J01.11','J01.2','J01.20','J01.3','J01.30','J01.31','J01.4','J01.40','J01.41','J01.8','J01.80','J01.81','J01.9','J01.90','J01.91','J02','J02.0','J02.21','J02.8','J02.9','J03','J03.0','J03.00','J03.01','J03.8','J03.80','J03.81','J03.9','J03.90','J03.91','J04.0','J04.1','J04.10','J04.11','J04.2','J04.3','J04.30','J04.31','J05.0','J05.1','J05.10','J05.11','J06.0','J06.9','J09','J09.01','J09.010','J09.018','J09.019','J09.02','J09.03','J09.090','J09.091','J09.092','J09.098','J09.11','J09.110','J09.118','J09.119','J09.12','J09.13','J09.190','J09.191','J09.192','J09.198','J09.X','J09.X1','J09.X2','J09.X3','J09.X9','J10','J10.0','J10.00','J10.01','J10.08','J10.1','J10.2','J10.8','J10.81','J10.82','J10.83','J10.89','J11','J11.0','J11.00','J11.08','J11.1','J11.2','J11.8','J11.81','J11.82','J11.83','J11.89','J12','J12.0','J12.1','J12.2','J12.3','J12.8','J12.81','J12.89','J12.9','J13','J14','J15','J15.0','J15.1','J15.2','J15.20','J15.21','J15.211','J15.212','J15.29','J15.3','J15.4','J15.5','J15.6','J15.7','J15.8','J15.9','J16','J16.0','J16.8','J17','J17.0','J17.1','J17.2','J17.3','J17.8','J18','J18.0','J18.1','J18.2','J18.8','J18.9','J20','J20.0','J20.1','J20.2','J20.3','J20.4','J20.5','J20.6','J20.7','J20.8','J20.9','J21','J21.0','J21.1','J21.8','J21.9','J22','J39.8','J39.9','J40','J41','J41.0','J41.1','J41.8','J42','J44.0','J47.0','J68.0','J80','J84.11','J84.111','J84.115','J84.116','J84.117','J84.2','J85.1','J95.82','J95.821','J95.822','J95.851','J96','J96.0','J96.00','J96.01','J96.02','J96.1','J96.10','J96.11','J96.12','J96.2','J96.20','J96.21','J96.22','J96.9','J96.90','J96.91','J96.92','J98.8','P22','P22.0','P22.8','P22.9','P23.0','P28.11','P28.5','P28.81','R05','R06.02','R06.03','R09.2','R50','R50.2','R50.8','R50.81','R50.84','R50.9','R56.00','U04','U04.9','U07.1','U07.2','Z20.828','Z03.818','041','041.5','041.81','079.1','079.2','079.3','079.6','079.89','466','466.11','466.19','490','491','491.1','491.8','491.9','506','519.8' )  AND  PATIENT_ENCOUNTER_DTL.CALCULATED_ENCNTR_STAT_DESC = 'Complete'  AND  (   JAX_MRN.IDENT_ID_INT Is Not Null    OR   ALL_PATIENT_IDENTITIES.IDENT_ID_INT Is Not Null   )  AND  ( ALL_PATIENTS.TEST_IND='N' )  ) /* User Running = 'yujunchen' ; Document = '21285159'- 'cohort_COVID_Broad'; Query = 'ICD_CodingDetail' ('DPUNIVERS') */\""
      ]
     },
     "metadata": {},
     "execution_count": 22
    }
   ],
   "metadata": {}
  },
  {
   "cell_type": "code",
   "execution_count": 14,
   "source": [
    "with timeitc('Refreshing cohort table '):\r\n",
    "    refresh_cohort(replace_placeholders=replace_placeholders)"
   ],
   "outputs": [
    {
     "output_type": "stream",
     "name": "stdout",
     "text": [
      "Staging Diagnosis ...\n"
     ]
    },
    {
     "output_type": "error",
     "ename": "ProgrammingError",
     "evalue": "(pyodbc.ProgrammingError) ('42000', \"[42000] [Microsoft][ODBC SQL Server Driver][SQL Server]Incorrect syntax near the keyword 'INTO'. (156) (SQLExecDirectW); [42000] [Microsoft][ODBC SQL Server Driver][SQL Server]Incorrect syntax near 'ALL_ICD_DIAGNOSIS_CODES'. (102)\")\n[SQL: EXECUTE ('USE DWS_PROD;\n DROP TABLE IF EXISTS DWS_OMOP.cohort.Diagnosis; SELECT DISTINCT   INTO DWS_OMOP.cohort.Diagnosis  FROM  ALL_PATIENTS RIGHT OUTER JOIN ALL_PATIENT_SNAPSHOTS ON (ALL_PATIENT_SNAPSHOTS.PATNT_KEY=ALL_PATIENTS.PATNT_KEY)  RIGHT OUTER JOIN DIAGNOSIS_EVENT_DTL ON (DIAGNOSIS_EVENT_DTL.PATNT_SNAPSHT_KEY=ALL_PATIENT_SNAPSHOTS.PATNT_SNAPSHT_KEY)  LEFT OUTER JOIN SOURCE_DIAG_ICD_XREF ON (DIAGNOSIS_EVENT_DTL.ICD_TYPE = SOURCE_DIAG_ICD_XREF.ICD_TYPE AND DIAGNOSIS_EVENT_DTL.SOURCE_DIAG_CD_KEY = SOURCE_DIAG_ICD_XREF.SOURCE_DIAG_CD_KEY)  LEFT OUTER JOIN ALL_ICD_DIAGNOSIS_CODES ON (SOURCE_DIAG_ICD_XREF.DIAG_CD_KEY=ALL_ICD_DIAGNOSIS_CODES.DIAG_CD_KEY)  LEFT OUTER JOIN PATIENT_ENCOUNTER_DTL ON (DIAGNOSIS_EVENT_DTL.PATNT_ENCNTR_KEY=PATIENT_ENCOUNTER_DTL.PATNT_ENCNTR_KEY)  LEFT OUTER JOIN ALL_PATIENT_IDENTITIES ON (ALL_PATIENT_SNAPSHOTS.PATNT_KEY=ALL_PATIENT_IDENTITIES.PATNT_KEY and ALL_PATIENT_IDENTITIES.LOOKUP_IND = ''Y'' and ALL_PATIENT_IDENTITIES.IDENT_ID_TYPE = 101)  LEFT OUTER JOIN ALL_PATIENT_IDENTITIES JAX_MRN ON (ALL_PATIENT_SNAPSHOTS.PATNT_KEY=JAX_MRN.PATNT_KEY and JAX_MRN.LOOKUP_IND = ''Y'' and JAX_MRN.IDENT_ID_TYPE = 110)  WHERE  (  DIAGNOSIS_EVENT_DTL.DIAGNOSIS_TYPE IN ( ''PROBLEM LIST'',''PROFESSSIONAL BILLING CHARGE'',''HOSPITAL BILLING CODED'' )  AND  DIAGNOSIS_EVENT_DTL.START_DATE > ''01/01/2012 00:0:0''  AND  PATIENT_ENCOUNTER_DTL.NUM_YEAR_AGE >= 18  AND  (   (   (    ALL_ICD_DIAGNOSIS_CODES.DIAG_CD_DECML IN ( ''89.17'',''89.18'',''52630'',''4498'',''4464'',''5351'',''4467'',''4495'',''5362'',''5371'',''5383'',''4581'',''4438'',''4468'',''6831'',''6841'',''6851'',''4382'',''4573'',''4582'',''5372'',''5361'',''5384'',''5369'',''4583'',''4439'',''5363'',''4466'',''6839'',''6849'',''689'',''5375'',''5359'',''5380'' )    OR    ALL_ICD_DIAGNOSIS_CODES.DIAG_CD_DECML IN ( ''070.41'',''070.51'',''042.x'',''043.x'',''044.x'',''070.44'',''070.54'',''070.70'',''070.71'',''079.53'',''291'',''291'',''291.0'',''291.1'',''291.2'',''291.3'',''291.4'',''291.5'',''291.8x'',''291.9'',''292.11'',''292.81'',''292.9'',''303.x'',''303'',''303'',''304'',''304.0x'',''304.1x'',''304.1'',''304.2x'',''304.2'',''304.3x'',''304.3000'',''304.4x'',''304.3999'',''304.5x'',''304.5'',''304.6x'',''304.6000'',''304.7x'',''304.8x'',''304.8'',''304.9x'',''304.9'',''305'',''305.0x'',''305.0'',''305.2x'',''305.2'',''305.3x'',''305.3000'',''305.4x'',''305.4'',''305.5x'',''305.6x'',''305.6000'',''305.7x'',''305.6999'',''305.8x'',''305.8000'',''305.9x'',''305.9'',''309'',''309.24'',''309.2799'',''309.2900'',''309.3000'',''309.4'',''309.82'',''309.83'',''309.89'',''309.9'',''965'',''965.00'',''965.01'',''965.02'',''965.09'',''966'',''967'',''968'',''969'',''969.4'',''970'',''971'',''972'',''973'',''975'',''977'',''980'',''989'',''E935.0'',''E935.1'',''E935.2'',''V02.62'',''V08'',''V11.3'',''V79.1'',''076'',''078.88'',''079.98'',''079.88'',''099.1'',''099.41'',''099.5'',''098'',''090'',''091'',''092'',''093'',''094'',''095'',''096'',''097'',''078.11'',''079.4'',''795.05'',''795.09'',''795.15'',''795.19'',''796.75'',''796.79'',''131'',''099.0'',''054.1'',''099.9'',''099.3'',''099.2'',''041.81'' )   )   AND   DIAGNOSIS_EVENT_DTL.ICD_TYPE IN ( ''ICD9'' )   )   OR   (   (    ALL_ICD_DIAGNOSIS_CODES.DIAG_CD_DECML IN ( ''B17.10'',''B17.11'',''B18.2'',''B19.20'',''B19.21'',''B20.x'',''B21.x'',''B22.x'',''B23.x'',''B24.x'',''B97.35'',''F10'',''F10.1'',''F10.1'',''F10.10'',''F10.120'',''F10.121'',''F10.121'',''F10.129'',''F10.14'',''F10.14'',''F10.15'',''F10.15'',''F10.159'',''F10.180'',''F10.180'',''F10.180'',''F10.181'',''F10.182'',''F10.182'',''F10.188'',''F10.2'',''F10.220'',''F10.221'',''F10.221'',''F10.231'',''F1.0231'',''F10.231'',''F10..232'',''F10.232'',''F10.239'',''F10..24'',''F10.24'',''F10..25'',''F10.25'',''F10.259'',''F10.26'',''F10.26'',''F10.27'',''F10.27'',''F10.27'',''F10.280'',''F10.280'',''F10.280'',''F10.281'',''F10.282'',''F10.282'',''F10.288'',''F10.921'',''F10.929'',''F10.94'',''F10.95'',''F10.950'',''F10.951'',''F10.959'',''F10.96'',''F10.96'',''F10.97'',''F10.980'',''F10980'',''F10982'',''F10.99'',''F11'',''F11.1x'',''F11.2x'',''F12.x'',''F12'',''F12.1'',''F12.121'',''F12.122'',''F12.15'',''F12.180'',''F12.2x'',''F12.2'',''F12.221'',''F12.222'',''F12.25'',''F12.280'',''F12.921'',''F12.922'',''F12.95'',''F12.980'',''F13'',''F13.1x'',''F13.1'',''F13.121'',''F13.14'',''F13.15'',''F13.180'',''F13.182'',''F13.2x'',''F13.2'',''F13.221'',''F13.231'',''F13.232'',''F13.24'',''F13.25'',''F13.26'',''F13.27'',''F13.280'',''F13.282'',''F13.90'',''F13.921'',''F13.931'',''F13.932'',''F13.94'',''F13.95'',''F13.96'',''F13.97'',''F13.980'',''F13.982'',''F14'',''F14.1x'',''F14.1'',''F14.121'',''F14.122'',''F14.14'',''F14.15'',''F14.180'',''F14.182'',''F14.2x'',''F14.2'',''F14.221'',''F14.222'',''F14.24'',''F14.25'',''F14.280'',''F14.282'',''F14.90'',''F14.921'',''F14.922'',''F14.94'',''F14.95'',''F14.980'',''F14.982'',''F15'',''F15.1x'',''F15.1'',''F15.121'',''F15.122'',''F15.14'',''F15.15'',''F15.180'',''F15.182'',''F15.2x'',''F15.2'',''F15.221'',''F15.222'',''F15.24'',''F15.25'',''F15.280'',''F15.282'',''F15.90'',''F15.921'',''F15.922'',''F15.94'',''F15.95'',''F15.980'',''F15.982'',''F16.x'',''F16'',''F16.1'',''F16.121'',''F16.122'',''F16.14'',''F16.15'',''F16.180'',''F16.183'',''F16.2x'',''F16.2'',''F16.221'',''F16.24'',''F16.25'',''F16.280'',''F16.283'',''F16.921'',''F16.94'',''F16.95'',''F16.98'',''F17'',''F18'',''F18.1'',''F18.10'',''F18.120'',''F18.121'',''F18.14'',''F18.15'',''F18.180'',''F18.2'',''F18.20'',''F18.21'',''F18.221'',''F18.24'',''F18.25'',''F18.27'',''F18.280'',''F18.90'',''F18.921'',''F18.94'',''F18.95'',''F18.97'',''F18.980'',''F19'',''F19.1x'',''F19.1'',''F19.121'',''F19.122'',''F19.14'',''F19.15'',''F19.16'',''F19.17'',''F19.180'',''F19.182'',''F19.2x'',''F19.2'',''F19.20'',''F19.21'',''F19.221'',''F19.222'',''F19.231'',''F19.232'',''F19.24'',''F19.25'',''F19.26'',''F19.27'',''F19.280'',''F19.282'',''F19.90'',''F19.921'',''F19.922'',''F19.931'',''F19.932'',''F19.94'',''F19.95'',''F19.96'',''F19.97'',''F19.980'',''F19.982'',''F43.2'',''F55.x'',''T39'',''T40'',''T40.0X1A'',''T40.0X2A'',''T40.0X3A'',''T40.0X4A'',''T40.1X1A'',''T40.1X2A'',''T40.1X3A'',''T40.1X4A'',''T40.2X1A'',''T40.2X2A'',''T40.2X3A'',''T40.2X4A'',''T40.3X1A'',''T40.3X2A'',''T40.3X3A'',''T40.3X4A'',''T40.4X1A'',''T40.4X2A'',''T40.4X3A'',''T40.4X4A'',''T40.601A'',''T40.602A'',''T40.603A'',''T40.604A'',''T40.691A'',''T40.692A'',''T40.693A'',''T40.694A'',''T41'',''T42'',''T42.4X1A'',''T42.4X2A'',''T42.4X3A'',''T42.4X4A'',''T43'',''T48'',''T51'',''T65'',''Z13.89'',''Z21'',''Z22.52'',''Z65.8'',''A55'',''A56'',''A71'',''A74'',''A54'',''A51'',''A52'',''A53'',''A55'',''A56'',''A63.0'',''R85.81'',''R85.82'',''R87.81'',''R87.82'',''A59'',''A57'',''A60'',''A64'',''M02.3'',''A58'',''A49.3'' )    OR    ALL_ICD_DIAGNOSIS_CODES.DIAG_CD_DECML IN ( ''4A0ZXQZ'',''4A1ZXQZ'' )   )   AND   DIAGNOSIS_EVENT_DTL.ICD_TYPE IN ( ''ICD10'' )   )  )  AND  (   JAX_MRN.IDENT_ID_INT Is Not Null    OR   ALL_PATIENT_IDENTITIES.IDENT_ID_INT Is Not Null   )  AND  ( ALL_PATIENTS.TEST_IND=''N'' )  ) /* User Running = ''tmagoc'' ; Document = ''45600503''- ''cohort_LoCiganic''; Query = ''Diagnosis'' (''DPUNIVERS'') */')]\n(Background on this error at: http://sqlalche.me/e/13/f405)",
     "traceback": [
      "\u001b[1;31m---------------------------------------------------------------------------\u001b[0m",
      "\u001b[1;31mProgrammingError\u001b[0m                          Traceback (most recent call last)",
      "\u001b[1;32m~\\AppData\\Roaming\\Python\\Python37\\site-packages\\sqlalchemy\\engine\\base.py\u001b[0m in \u001b[0;36m_execute_context\u001b[1;34m(self, dialect, constructor, statement, parameters, *args)\u001b[0m\n\u001b[0;32m   1276\u001b[0m                     self.dialect.do_execute(\n\u001b[1;32m-> 1277\u001b[1;33m                         \u001b[0mcursor\u001b[0m\u001b[1;33m,\u001b[0m \u001b[0mstatement\u001b[0m\u001b[1;33m,\u001b[0m \u001b[0mparameters\u001b[0m\u001b[1;33m,\u001b[0m \u001b[0mcontext\u001b[0m\u001b[1;33m\u001b[0m\u001b[1;33m\u001b[0m\u001b[0m\n\u001b[0m\u001b[0;32m   1278\u001b[0m                     )\n",
      "\u001b[1;32m~\\AppData\\Roaming\\Python\\Python37\\site-packages\\sqlalchemy\\engine\\default.py\u001b[0m in \u001b[0;36mdo_execute\u001b[1;34m(self, cursor, statement, parameters, context)\u001b[0m\n\u001b[0;32m    607\u001b[0m     \u001b[1;32mdef\u001b[0m \u001b[0mdo_execute\u001b[0m\u001b[1;33m(\u001b[0m\u001b[0mself\u001b[0m\u001b[1;33m,\u001b[0m \u001b[0mcursor\u001b[0m\u001b[1;33m,\u001b[0m \u001b[0mstatement\u001b[0m\u001b[1;33m,\u001b[0m \u001b[0mparameters\u001b[0m\u001b[1;33m,\u001b[0m \u001b[0mcontext\u001b[0m\u001b[1;33m=\u001b[0m\u001b[1;32mNone\u001b[0m\u001b[1;33m)\u001b[0m\u001b[1;33m:\u001b[0m\u001b[1;33m\u001b[0m\u001b[1;33m\u001b[0m\u001b[0m\n\u001b[1;32m--> 608\u001b[1;33m         \u001b[0mcursor\u001b[0m\u001b[1;33m.\u001b[0m\u001b[0mexecute\u001b[0m\u001b[1;33m(\u001b[0m\u001b[0mstatement\u001b[0m\u001b[1;33m,\u001b[0m \u001b[0mparameters\u001b[0m\u001b[1;33m)\u001b[0m\u001b[1;33m\u001b[0m\u001b[1;33m\u001b[0m\u001b[0m\n\u001b[0m\u001b[0;32m    609\u001b[0m \u001b[1;33m\u001b[0m\u001b[0m\n",
      "\u001b[1;31mProgrammingError\u001b[0m: ('42000', \"[42000] [Microsoft][ODBC SQL Server Driver][SQL Server]Incorrect syntax near the keyword 'INTO'. (156) (SQLExecDirectW); [42000] [Microsoft][ODBC SQL Server Driver][SQL Server]Incorrect syntax near 'ALL_ICD_DIAGNOSIS_CODES'. (102)\")",
      "\nThe above exception was the direct cause of the following exception:\n",
      "\u001b[1;31mProgrammingError\u001b[0m                          Traceback (most recent call last)",
      "\u001b[1;32m<ipython-input-14-1670e72c769d>\u001b[0m in \u001b[0;36m<module>\u001b[1;34m\u001b[0m\n\u001b[0;32m      1\u001b[0m \u001b[1;32mwith\u001b[0m \u001b[0mtimeitc\u001b[0m\u001b[1;33m(\u001b[0m\u001b[1;34m'Refreshing cohort table '\u001b[0m\u001b[1;33m)\u001b[0m\u001b[1;33m:\u001b[0m\u001b[1;33m\u001b[0m\u001b[1;33m\u001b[0m\u001b[0m\n\u001b[1;32m----> 2\u001b[1;33m     \u001b[0mrefresh_cohort\u001b[0m\u001b[1;33m(\u001b[0m\u001b[0mreplace_placeholders\u001b[0m\u001b[1;33m=\u001b[0m\u001b[0mreplace_placeholders\u001b[0m\u001b[1;33m)\u001b[0m\u001b[1;33m\u001b[0m\u001b[1;33m\u001b[0m\u001b[0m\n\u001b[0m",
      "\u001b[1;32m<ipython-input-13-bfd3ab9c1a6a>\u001b[0m in \u001b[0;36mrefresh_cohort\u001b[1;34m(stage, replace_placeholders)\u001b[0m\n\u001b[0;32m     66\u001b[0m \u001b[1;33m\u001b[0m\u001b[0m\n\u001b[0;32m     67\u001b[0m            \u001b[0mprint\u001b[0m\u001b[1;33m(\u001b[0m\u001b[1;34mf'Staging {t} ...'\u001b[0m\u001b[1;33m)\u001b[0m\u001b[1;33m\u001b[0m\u001b[1;33m\u001b[0m\u001b[0m\n\u001b[1;32m---> 68\u001b[1;33m            \u001b[0mprint\u001b[0m\u001b[1;33m(\u001b[0m\u001b[0mstore\u001b[0m\u001b[1;33m.\u001b[0m\u001b[0mexecute\u001b[0m\u001b[1;33m(\u001b[0m\u001b[1;34mf\"EXECUTE ('USE DWS_PROD;\\n {sqlstring}')\"\u001b[0m\u001b[1;33m)\u001b[0m\u001b[1;33m)\u001b[0m\u001b[1;33m\u001b[0m\u001b[1;33m\u001b[0m\u001b[0m\n\u001b[0m\u001b[0;32m     69\u001b[0m \u001b[1;33m\u001b[0m\u001b[0m\n\u001b[0;32m     70\u001b[0m    \u001b[0mprint\u001b[0m\u001b[1;33m(\u001b[0m\u001b[1;34mf'Loading cohort into {COHORT_TABLE} ...'\u001b[0m\u001b[1;33m)\u001b[0m\u001b[1;33m\u001b[0m\u001b[1;33m\u001b[0m\u001b[0m\n",
      "\u001b[1;32mE:\\Continuum\\anaconda3\\envs\\omop\\lib\\site-packages\\omop_etl-0.1-py3.7.egg\\omop_etl\\datastore.py\u001b[0m in \u001b[0;36mexecute\u001b[1;34m(self, query_string)\u001b[0m\n\u001b[0;32m     63\u001b[0m         \u001b[1;34m\"\"\"[summary].\"\"\"\u001b[0m\u001b[1;33m\u001b[0m\u001b[1;33m\u001b[0m\u001b[0m\n\u001b[0;32m     64\u001b[0m         \u001b[1;32mwith\u001b[0m \u001b[0mself\u001b[0m\u001b[1;33m.\u001b[0m\u001b[0mconnection\u001b[0m\u001b[1;33m(\u001b[0m\u001b[1;33m)\u001b[0m \u001b[1;32mas\u001b[0m \u001b[0mcon\u001b[0m\u001b[1;33m:\u001b[0m\u001b[1;33m\u001b[0m\u001b[1;33m\u001b[0m\u001b[0m\n\u001b[1;32m---> 65\u001b[1;33m             \u001b[0mres\u001b[0m \u001b[1;33m=\u001b[0m \u001b[0mcon\u001b[0m\u001b[1;33m.\u001b[0m\u001b[0mexecute\u001b[0m\u001b[1;33m(\u001b[0m\u001b[0mquery_string\u001b[0m\u001b[1;33m)\u001b[0m\u001b[1;33m\u001b[0m\u001b[1;33m\u001b[0m\u001b[0m\n\u001b[0m\u001b[0;32m     66\u001b[0m             \u001b[1;32mreturn\u001b[0m \u001b[1;34mf'{res.rowcount} rows affected'\u001b[0m\u001b[1;33m\u001b[0m\u001b[1;33m\u001b[0m\u001b[0m\n\u001b[0;32m     67\u001b[0m \u001b[1;33m\u001b[0m\u001b[0m\n",
      "\u001b[1;32m~\\AppData\\Roaming\\Python\\Python37\\site-packages\\sqlalchemy\\engine\\base.py\u001b[0m in \u001b[0;36mexecute\u001b[1;34m(self, object_, *multiparams, **params)\u001b[0m\n\u001b[0;32m   1001\u001b[0m         \"\"\"\n\u001b[0;32m   1002\u001b[0m         \u001b[1;32mif\u001b[0m \u001b[0misinstance\u001b[0m\u001b[1;33m(\u001b[0m\u001b[0mobject_\u001b[0m\u001b[1;33m,\u001b[0m \u001b[0mutil\u001b[0m\u001b[1;33m.\u001b[0m\u001b[0mstring_types\u001b[0m\u001b[1;33m[\u001b[0m\u001b[1;36m0\u001b[0m\u001b[1;33m]\u001b[0m\u001b[1;33m)\u001b[0m\u001b[1;33m:\u001b[0m\u001b[1;33m\u001b[0m\u001b[1;33m\u001b[0m\u001b[0m\n\u001b[1;32m-> 1003\u001b[1;33m             \u001b[1;32mreturn\u001b[0m \u001b[0mself\u001b[0m\u001b[1;33m.\u001b[0m\u001b[0m_execute_text\u001b[0m\u001b[1;33m(\u001b[0m\u001b[0mobject_\u001b[0m\u001b[1;33m,\u001b[0m \u001b[0mmultiparams\u001b[0m\u001b[1;33m,\u001b[0m \u001b[0mparams\u001b[0m\u001b[1;33m)\u001b[0m\u001b[1;33m\u001b[0m\u001b[1;33m\u001b[0m\u001b[0m\n\u001b[0m\u001b[0;32m   1004\u001b[0m         \u001b[1;32mtry\u001b[0m\u001b[1;33m:\u001b[0m\u001b[1;33m\u001b[0m\u001b[1;33m\u001b[0m\u001b[0m\n\u001b[0;32m   1005\u001b[0m             \u001b[0mmeth\u001b[0m \u001b[1;33m=\u001b[0m \u001b[0mobject_\u001b[0m\u001b[1;33m.\u001b[0m\u001b[0m_execute_on_connection\u001b[0m\u001b[1;33m\u001b[0m\u001b[1;33m\u001b[0m\u001b[0m\n",
      "\u001b[1;32m~\\AppData\\Roaming\\Python\\Python37\\site-packages\\sqlalchemy\\engine\\base.py\u001b[0m in \u001b[0;36m_execute_text\u001b[1;34m(self, statement, multiparams, params)\u001b[0m\n\u001b[0;32m   1176\u001b[0m             \u001b[0mparameters\u001b[0m\u001b[1;33m,\u001b[0m\u001b[1;33m\u001b[0m\u001b[1;33m\u001b[0m\u001b[0m\n\u001b[0;32m   1177\u001b[0m             \u001b[0mstatement\u001b[0m\u001b[1;33m,\u001b[0m\u001b[1;33m\u001b[0m\u001b[1;33m\u001b[0m\u001b[0m\n\u001b[1;32m-> 1178\u001b[1;33m             \u001b[0mparameters\u001b[0m\u001b[1;33m,\u001b[0m\u001b[1;33m\u001b[0m\u001b[1;33m\u001b[0m\u001b[0m\n\u001b[0m\u001b[0;32m   1179\u001b[0m         )\n\u001b[0;32m   1180\u001b[0m         \u001b[1;32mif\u001b[0m \u001b[0mself\u001b[0m\u001b[1;33m.\u001b[0m\u001b[0m_has_events\u001b[0m \u001b[1;32mor\u001b[0m \u001b[0mself\u001b[0m\u001b[1;33m.\u001b[0m\u001b[0mengine\u001b[0m\u001b[1;33m.\u001b[0m\u001b[0m_has_events\u001b[0m\u001b[1;33m:\u001b[0m\u001b[1;33m\u001b[0m\u001b[1;33m\u001b[0m\u001b[0m\n",
      "\u001b[1;32m~\\AppData\\Roaming\\Python\\Python37\\site-packages\\sqlalchemy\\engine\\base.py\u001b[0m in \u001b[0;36m_execute_context\u001b[1;34m(self, dialect, constructor, statement, parameters, *args)\u001b[0m\n\u001b[0;32m   1315\u001b[0m         \u001b[1;32mexcept\u001b[0m \u001b[0mBaseException\u001b[0m \u001b[1;32mas\u001b[0m \u001b[0me\u001b[0m\u001b[1;33m:\u001b[0m\u001b[1;33m\u001b[0m\u001b[1;33m\u001b[0m\u001b[0m\n\u001b[0;32m   1316\u001b[0m             self._handle_dbapi_exception(\n\u001b[1;32m-> 1317\u001b[1;33m                 \u001b[0me\u001b[0m\u001b[1;33m,\u001b[0m \u001b[0mstatement\u001b[0m\u001b[1;33m,\u001b[0m \u001b[0mparameters\u001b[0m\u001b[1;33m,\u001b[0m \u001b[0mcursor\u001b[0m\u001b[1;33m,\u001b[0m \u001b[0mcontext\u001b[0m\u001b[1;33m\u001b[0m\u001b[1;33m\u001b[0m\u001b[0m\n\u001b[0m\u001b[0;32m   1318\u001b[0m             )\n\u001b[0;32m   1319\u001b[0m \u001b[1;33m\u001b[0m\u001b[0m\n",
      "\u001b[1;32m~\\AppData\\Roaming\\Python\\Python37\\site-packages\\sqlalchemy\\engine\\base.py\u001b[0m in \u001b[0;36m_handle_dbapi_exception\u001b[1;34m(self, e, statement, parameters, cursor, context)\u001b[0m\n\u001b[0;32m   1509\u001b[0m             \u001b[1;32melif\u001b[0m \u001b[0mshould_wrap\u001b[0m\u001b[1;33m:\u001b[0m\u001b[1;33m\u001b[0m\u001b[1;33m\u001b[0m\u001b[0m\n\u001b[0;32m   1510\u001b[0m                 util.raise_(\n\u001b[1;32m-> 1511\u001b[1;33m                     \u001b[0msqlalchemy_exception\u001b[0m\u001b[1;33m,\u001b[0m \u001b[0mwith_traceback\u001b[0m\u001b[1;33m=\u001b[0m\u001b[0mexc_info\u001b[0m\u001b[1;33m[\u001b[0m\u001b[1;36m2\u001b[0m\u001b[1;33m]\u001b[0m\u001b[1;33m,\u001b[0m \u001b[0mfrom_\u001b[0m\u001b[1;33m=\u001b[0m\u001b[0me\u001b[0m\u001b[1;33m\u001b[0m\u001b[1;33m\u001b[0m\u001b[0m\n\u001b[0m\u001b[0;32m   1512\u001b[0m                 )\n\u001b[0;32m   1513\u001b[0m             \u001b[1;32melse\u001b[0m\u001b[1;33m:\u001b[0m\u001b[1;33m\u001b[0m\u001b[1;33m\u001b[0m\u001b[0m\n",
      "\u001b[1;32m~\\AppData\\Roaming\\Python\\Python37\\site-packages\\sqlalchemy\\util\\compat.py\u001b[0m in \u001b[0;36mraise_\u001b[1;34m(***failed resolving arguments***)\u001b[0m\n\u001b[0;32m    180\u001b[0m \u001b[1;33m\u001b[0m\u001b[0m\n\u001b[0;32m    181\u001b[0m         \u001b[1;32mtry\u001b[0m\u001b[1;33m:\u001b[0m\u001b[1;33m\u001b[0m\u001b[1;33m\u001b[0m\u001b[0m\n\u001b[1;32m--> 182\u001b[1;33m             \u001b[1;32mraise\u001b[0m \u001b[0mexception\u001b[0m\u001b[1;33m\u001b[0m\u001b[1;33m\u001b[0m\u001b[0m\n\u001b[0m\u001b[0;32m    183\u001b[0m         \u001b[1;32mfinally\u001b[0m\u001b[1;33m:\u001b[0m\u001b[1;33m\u001b[0m\u001b[1;33m\u001b[0m\u001b[0m\n\u001b[0;32m    184\u001b[0m             \u001b[1;31m# credit to\u001b[0m\u001b[1;33m\u001b[0m\u001b[1;33m\u001b[0m\u001b[1;33m\u001b[0m\u001b[0m\n",
      "\u001b[1;32m~\\AppData\\Roaming\\Python\\Python37\\site-packages\\sqlalchemy\\engine\\base.py\u001b[0m in \u001b[0;36m_execute_context\u001b[1;34m(self, dialect, constructor, statement, parameters, *args)\u001b[0m\n\u001b[0;32m   1275\u001b[0m                 \u001b[1;32mif\u001b[0m \u001b[1;32mnot\u001b[0m \u001b[0mevt_handled\u001b[0m\u001b[1;33m:\u001b[0m\u001b[1;33m\u001b[0m\u001b[1;33m\u001b[0m\u001b[0m\n\u001b[0;32m   1276\u001b[0m                     self.dialect.do_execute(\n\u001b[1;32m-> 1277\u001b[1;33m                         \u001b[0mcursor\u001b[0m\u001b[1;33m,\u001b[0m \u001b[0mstatement\u001b[0m\u001b[1;33m,\u001b[0m \u001b[0mparameters\u001b[0m\u001b[1;33m,\u001b[0m \u001b[0mcontext\u001b[0m\u001b[1;33m\u001b[0m\u001b[1;33m\u001b[0m\u001b[0m\n\u001b[0m\u001b[0;32m   1278\u001b[0m                     )\n\u001b[0;32m   1279\u001b[0m \u001b[1;33m\u001b[0m\u001b[0m\n",
      "\u001b[1;32m~\\AppData\\Roaming\\Python\\Python37\\site-packages\\sqlalchemy\\engine\\default.py\u001b[0m in \u001b[0;36mdo_execute\u001b[1;34m(self, cursor, statement, parameters, context)\u001b[0m\n\u001b[0;32m    606\u001b[0m \u001b[1;33m\u001b[0m\u001b[0m\n\u001b[0;32m    607\u001b[0m     \u001b[1;32mdef\u001b[0m \u001b[0mdo_execute\u001b[0m\u001b[1;33m(\u001b[0m\u001b[0mself\u001b[0m\u001b[1;33m,\u001b[0m \u001b[0mcursor\u001b[0m\u001b[1;33m,\u001b[0m \u001b[0mstatement\u001b[0m\u001b[1;33m,\u001b[0m \u001b[0mparameters\u001b[0m\u001b[1;33m,\u001b[0m \u001b[0mcontext\u001b[0m\u001b[1;33m=\u001b[0m\u001b[1;32mNone\u001b[0m\u001b[1;33m)\u001b[0m\u001b[1;33m:\u001b[0m\u001b[1;33m\u001b[0m\u001b[1;33m\u001b[0m\u001b[0m\n\u001b[1;32m--> 608\u001b[1;33m         \u001b[0mcursor\u001b[0m\u001b[1;33m.\u001b[0m\u001b[0mexecute\u001b[0m\u001b[1;33m(\u001b[0m\u001b[0mstatement\u001b[0m\u001b[1;33m,\u001b[0m \u001b[0mparameters\u001b[0m\u001b[1;33m)\u001b[0m\u001b[1;33m\u001b[0m\u001b[1;33m\u001b[0m\u001b[0m\n\u001b[0m\u001b[0;32m    609\u001b[0m \u001b[1;33m\u001b[0m\u001b[0m\n\u001b[0;32m    610\u001b[0m     \u001b[1;32mdef\u001b[0m \u001b[0mdo_execute_no_params\u001b[0m\u001b[1;33m(\u001b[0m\u001b[0mself\u001b[0m\u001b[1;33m,\u001b[0m \u001b[0mcursor\u001b[0m\u001b[1;33m,\u001b[0m \u001b[0mstatement\u001b[0m\u001b[1;33m,\u001b[0m \u001b[0mcontext\u001b[0m\u001b[1;33m=\u001b[0m\u001b[1;32mNone\u001b[0m\u001b[1;33m)\u001b[0m\u001b[1;33m:\u001b[0m\u001b[1;33m\u001b[0m\u001b[1;33m\u001b[0m\u001b[0m\n",
      "\u001b[1;31mProgrammingError\u001b[0m: (pyodbc.ProgrammingError) ('42000', \"[42000] [Microsoft][ODBC SQL Server Driver][SQL Server]Incorrect syntax near the keyword 'INTO'. (156) (SQLExecDirectW); [42000] [Microsoft][ODBC SQL Server Driver][SQL Server]Incorrect syntax near 'ALL_ICD_DIAGNOSIS_CODES'. (102)\")\n[SQL: EXECUTE ('USE DWS_PROD;\n DROP TABLE IF EXISTS DWS_OMOP.cohort.Diagnosis; SELECT DISTINCT   INTO DWS_OMOP.cohort.Diagnosis  FROM  ALL_PATIENTS RIGHT OUTER JOIN ALL_PATIENT_SNAPSHOTS ON (ALL_PATIENT_SNAPSHOTS.PATNT_KEY=ALL_PATIENTS.PATNT_KEY)  RIGHT OUTER JOIN DIAGNOSIS_EVENT_DTL ON (DIAGNOSIS_EVENT_DTL.PATNT_SNAPSHT_KEY=ALL_PATIENT_SNAPSHOTS.PATNT_SNAPSHT_KEY)  LEFT OUTER JOIN SOURCE_DIAG_ICD_XREF ON (DIAGNOSIS_EVENT_DTL.ICD_TYPE = SOURCE_DIAG_ICD_XREF.ICD_TYPE AND DIAGNOSIS_EVENT_DTL.SOURCE_DIAG_CD_KEY = SOURCE_DIAG_ICD_XREF.SOURCE_DIAG_CD_KEY)  LEFT OUTER JOIN ALL_ICD_DIAGNOSIS_CODES ON (SOURCE_DIAG_ICD_XREF.DIAG_CD_KEY=ALL_ICD_DIAGNOSIS_CODES.DIAG_CD_KEY)  LEFT OUTER JOIN PATIENT_ENCOUNTER_DTL ON (DIAGNOSIS_EVENT_DTL.PATNT_ENCNTR_KEY=PATIENT_ENCOUNTER_DTL.PATNT_ENCNTR_KEY)  LEFT OUTER JOIN ALL_PATIENT_IDENTITIES ON (ALL_PATIENT_SNAPSHOTS.PATNT_KEY=ALL_PATIENT_IDENTITIES.PATNT_KEY and ALL_PATIENT_IDENTITIES.LOOKUP_IND = ''Y'' and ALL_PATIENT_IDENTITIES.IDENT_ID_TYPE = 101)  LEFT OUTER JOIN ALL_PATIENT_IDENTITIES JAX_MRN ON (ALL_PATIENT_SNAPSHOTS.PATNT_KEY=JAX_MRN.PATNT_KEY and JAX_MRN.LOOKUP_IND = ''Y'' and JAX_MRN.IDENT_ID_TYPE = 110)  WHERE  (  DIAGNOSIS_EVENT_DTL.DIAGNOSIS_TYPE IN ( ''PROBLEM LIST'',''PROFESSSIONAL BILLING CHARGE'',''HOSPITAL BILLING CODED'' )  AND  DIAGNOSIS_EVENT_DTL.START_DATE > ''01/01/2012 00:0:0''  AND  PATIENT_ENCOUNTER_DTL.NUM_YEAR_AGE >= 18  AND  (   (   (    ALL_ICD_DIAGNOSIS_CODES.DIAG_CD_DECML IN ( ''89.17'',''89.18'',''52630'',''4498'',''4464'',''5351'',''4467'',''4495'',''5362'',''5371'',''5383'',''4581'',''4438'',''4468'',''6831'',''6841'',''6851'',''4382'',''4573'',''4582'',''5372'',''5361'',''5384'',''5369'',''4583'',''4439'',''5363'',''4466'',''6839'',''6849'',''689'',''5375'',''5359'',''5380'' )    OR    ALL_ICD_DIAGNOSIS_CODES.DIAG_CD_DECML IN ( ''070.41'',''070.51'',''042.x'',''043.x'',''044.x'',''070.44'',''070.54'',''070.70'',''070.71'',''079.53'',''291'',''291'',''291.0'',''291.1'',''291.2'',''291.3'',''291.4'',''291.5'',''291.8x'',''291.9'',''292.11'',''292.81'',''292.9'',''303.x'',''303'',''303'',''304'',''304.0x'',''304.1x'',''304.1'',''304.2x'',''304.2'',''304.3x'',''304.3000'',''304.4x'',''304.3999'',''304.5x'',''304.5'',''304.6x'',''304.6000'',''304.7x'',''304.8x'',''304.8'',''304.9x'',''304.9'',''305'',''305.0x'',''305.0'',''305.2x'',''305.2'',''305.3x'',''305.3000'',''305.4x'',''305.4'',''305.5x'',''305.6x'',''305.6000'',''305.7x'',''305.6999'',''305.8x'',''305.8000'',''305.9x'',''305.9'',''309'',''309.24'',''309.2799'',''309.2900'',''309.3000'',''309.4'',''309.82'',''309.83'',''309.89'',''309.9'',''965'',''965.00'',''965.01'',''965.02'',''965.09'',''966'',''967'',''968'',''969'',''969.4'',''970'',''971'',''972'',''973'',''975'',''977'',''980'',''989'',''E935.0'',''E935.1'',''E935.2'',''V02.62'',''V08'',''V11.3'',''V79.1'',''076'',''078.88'',''079.98'',''079.88'',''099.1'',''099.41'',''099.5'',''098'',''090'',''091'',''092'',''093'',''094'',''095'',''096'',''097'',''078.11'',''079.4'',''795.05'',''795.09'',''795.15'',''795.19'',''796.75'',''796.79'',''131'',''099.0'',''054.1'',''099.9'',''099.3'',''099.2'',''041.81'' )   )   AND   DIAGNOSIS_EVENT_DTL.ICD_TYPE IN ( ''ICD9'' )   )   OR   (   (    ALL_ICD_DIAGNOSIS_CODES.DIAG_CD_DECML IN ( ''B17.10'',''B17.11'',''B18.2'',''B19.20'',''B19.21'',''B20.x'',''B21.x'',''B22.x'',''B23.x'',''B24.x'',''B97.35'',''F10'',''F10.1'',''F10.1'',''F10.10'',''F10.120'',''F10.121'',''F10.121'',''F10.129'',''F10.14'',''F10.14'',''F10.15'',''F10.15'',''F10.159'',''F10.180'',''F10.180'',''F10.180'',''F10.181'',''F10.182'',''F10.182'',''F10.188'',''F10.2'',''F10.220'',''F10.221'',''F10.221'',''F10.231'',''F1.0231'',''F10.231'',''F10..232'',''F10.232'',''F10.239'',''F10..24'',''F10.24'',''F10..25'',''F10.25'',''F10.259'',''F10.26'',''F10.26'',''F10.27'',''F10.27'',''F10.27'',''F10.280'',''F10.280'',''F10.280'',''F10.281'',''F10.282'',''F10.282'',''F10.288'',''F10.921'',''F10.929'',''F10.94'',''F10.95'',''F10.950'',''F10.951'',''F10.959'',''F10.96'',''F10.96'',''F10.97'',''F10.980'',''F10980'',''F10982'',''F10.99'',''F11'',''F11.1x'',''F11.2x'',''F12.x'',''F12'',''F12.1'',''F12.121'',''F12.122'',''F12.15'',''F12.180'',''F12.2x'',''F12.2'',''F12.221'',''F12.222'',''F12.25'',''F12.280'',''F12.921'',''F12.922'',''F12.95'',''F12.980'',''F13'',''F13.1x'',''F13.1'',''F13.121'',''F13.14'',''F13.15'',''F13.180'',''F13.182'',''F13.2x'',''F13.2'',''F13.221'',''F13.231'',''F13.232'',''F13.24'',''F13.25'',''F13.26'',''F13.27'',''F13.280'',''F13.282'',''F13.90'',''F13.921'',''F13.931'',''F13.932'',''F13.94'',''F13.95'',''F13.96'',''F13.97'',''F13.980'',''F13.982'',''F14'',''F14.1x'',''F14.1'',''F14.121'',''F14.122'',''F14.14'',''F14.15'',''F14.180'',''F14.182'',''F14.2x'',''F14.2'',''F14.221'',''F14.222'',''F14.24'',''F14.25'',''F14.280'',''F14.282'',''F14.90'',''F14.921'',''F14.922'',''F14.94'',''F14.95'',''F14.980'',''F14.982'',''F15'',''F15.1x'',''F15.1'',''F15.121'',''F15.122'',''F15.14'',''F15.15'',''F15.180'',''F15.182'',''F15.2x'',''F15.2'',''F15.221'',''F15.222'',''F15.24'',''F15.25'',''F15.280'',''F15.282'',''F15.90'',''F15.921'',''F15.922'',''F15.94'',''F15.95'',''F15.980'',''F15.982'',''F16.x'',''F16'',''F16.1'',''F16.121'',''F16.122'',''F16.14'',''F16.15'',''F16.180'',''F16.183'',''F16.2x'',''F16.2'',''F16.221'',''F16.24'',''F16.25'',''F16.280'',''F16.283'',''F16.921'',''F16.94'',''F16.95'',''F16.98'',''F17'',''F18'',''F18.1'',''F18.10'',''F18.120'',''F18.121'',''F18.14'',''F18.15'',''F18.180'',''F18.2'',''F18.20'',''F18.21'',''F18.221'',''F18.24'',''F18.25'',''F18.27'',''F18.280'',''F18.90'',''F18.921'',''F18.94'',''F18.95'',''F18.97'',''F18.980'',''F19'',''F19.1x'',''F19.1'',''F19.121'',''F19.122'',''F19.14'',''F19.15'',''F19.16'',''F19.17'',''F19.180'',''F19.182'',''F19.2x'',''F19.2'',''F19.20'',''F19.21'',''F19.221'',''F19.222'',''F19.231'',''F19.232'',''F19.24'',''F19.25'',''F19.26'',''F19.27'',''F19.280'',''F19.282'',''F19.90'',''F19.921'',''F19.922'',''F19.931'',''F19.932'',''F19.94'',''F19.95'',''F19.96'',''F19.97'',''F19.980'',''F19.982'',''F43.2'',''F55.x'',''T39'',''T40'',''T40.0X1A'',''T40.0X2A'',''T40.0X3A'',''T40.0X4A'',''T40.1X1A'',''T40.1X2A'',''T40.1X3A'',''T40.1X4A'',''T40.2X1A'',''T40.2X2A'',''T40.2X3A'',''T40.2X4A'',''T40.3X1A'',''T40.3X2A'',''T40.3X3A'',''T40.3X4A'',''T40.4X1A'',''T40.4X2A'',''T40.4X3A'',''T40.4X4A'',''T40.601A'',''T40.602A'',''T40.603A'',''T40.604A'',''T40.691A'',''T40.692A'',''T40.693A'',''T40.694A'',''T41'',''T42'',''T42.4X1A'',''T42.4X2A'',''T42.4X3A'',''T42.4X4A'',''T43'',''T48'',''T51'',''T65'',''Z13.89'',''Z21'',''Z22.52'',''Z65.8'',''A55'',''A56'',''A71'',''A74'',''A54'',''A51'',''A52'',''A53'',''A55'',''A56'',''A63.0'',''R85.81'',''R85.82'',''R87.81'',''R87.82'',''A59'',''A57'',''A60'',''A64'',''M02.3'',''A58'',''A49.3'' )    OR    ALL_ICD_DIAGNOSIS_CODES.DIAG_CD_DECML IN ( ''4A0ZXQZ'',''4A1ZXQZ'' )   )   AND   DIAGNOSIS_EVENT_DTL.ICD_TYPE IN ( ''ICD10'' )   )  )  AND  (   JAX_MRN.IDENT_ID_INT Is Not Null    OR   ALL_PATIENT_IDENTITIES.IDENT_ID_INT Is Not Null   )  AND  ( ALL_PATIENTS.TEST_IND=''N'' )  ) /* User Running = ''tmagoc'' ; Document = ''45600503''- ''cohort_LoCiganic''; Query = ''Diagnosis'' (''DPUNIVERS'') */')]\n(Background on this error at: http://sqlalche.me/e/13/f405)"
     ]
    }
   ],
   "metadata": {}
  },
  {
   "cell_type": "code",
   "execution_count": null,
   "source": [],
   "outputs": [],
   "metadata": {}
  }
 ],
 "metadata": {
  "orig_nbformat": 4,
  "language_info": {
   "name": "python",
   "version": "3.7.10",
   "mimetype": "text/x-python",
   "codemirror_mode": {
    "name": "ipython",
    "version": 3
   },
   "pygments_lexer": "ipython3",
   "nbconvert_exporter": "python",
   "file_extension": ".py"
  },
  "kernelspec": {
   "name": "python3",
   "display_name": "Python 3.7.10 64-bit ('omop': conda)"
  },
  "interpreter": {
   "hash": "7c85ff1ad38d990bff1f8127f6f93832ae5b0f8f3376f1de851f2ae7a03d3a34"
  }
 },
 "nbformat": 4,
 "nbformat_minor": 2
}