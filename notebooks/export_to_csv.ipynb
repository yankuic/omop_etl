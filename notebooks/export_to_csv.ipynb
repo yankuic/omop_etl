{
 "cells": [
  {
   "cell_type": "code",
   "execution_count": 2,
   "metadata": {},
   "outputs": [
    {
     "name": "stdout",
     "output_type": "stream",
     "text": [
      "Z:\\OMOP\\omop_etl\n"
     ]
    }
   ],
   "source": [
    "import os\n",
    "\n",
    "os.chdir('Z:\\OMOP\\omop_etl')\n",
    "print(os.getcwd())\n",
    "\n",
    "import pandas as pd\n",
    "from omop_etl.datastore import DataStore\n",
    "import pandas as pd\n",
    "from turbodbc import connect, make_options, Megabytes, Rows\n",
    "import time\n",
    "import math\n",
    "import numpy as np\n",
    "from pydma.databases import OneFLDb\n",
    "from pydma.utils import find"
   ]
  },
  {
   "cell_type": "code",
   "execution_count": 3,
   "metadata": {},
   "outputs": [],
   "source": [
    "#from https://stackoverflow.com/questions/5478351/python-time-measure-function\n",
    "from contextlib import contextmanager\n",
    "\n",
    "@contextmanager\n",
    "def timeit_context(name=None):\n",
    "    startTime = time.time()\n",
    "    yield\n",
    "    elapsedTime = time.time() - startTime\n",
    "    print('{} finished in {}'.format(name, \n",
    "                                     time.strftime(\"%H h %M m %S s\", \n",
    "                                     time.gmtime(elapsedTime))))"
   ]
  },
  {
   "cell_type": "code",
   "execution_count": 24,
   "metadata": {},
   "outputs": [
    {
     "data": {
      "text/plain": [
       "122.54599732155617"
      ]
     },
     "execution_count": 24,
     "metadata": {},
     "output_type": "execute_result"
    }
   ],
   "source": [
    "# %%timeit\n",
    "# table = \"measurement\"\n",
    "# batch_size = 1_000_000\n",
    "# omop = OneFLDb('edw', database='DWS_OMOP')\n",
    "# tables = ['measurement']#'device_exposure', 'person', 'death', 'location', 'provider', 'care_site', 'visit_occurrence', \n",
    "# #           'drug_exposure','condition_occurrence', 'observation', 'procedure_occurrence', 'observation_period']\n",
    "# rpath = '//share.***REMOVED***/COVID-19/OMOP/data_releases/v7'\n",
    "# #omop.list_tables(in_schema=['hipaa'])\n",
    "# # print(tables.Table.to_list())\n",
    "# # n_batches = 40\n",
    "\n",
    "# def nrows(table):\n",
    "#     \"\"\"Returns table number of rows.\n",
    "#     \"\"\"\n",
    "#     con = connect(driver='{SQL Server}', server='edw.***REMOVED***.edu', \n",
    "#                   database='DWS_OMOP', trusted_connection='yes')\n",
    "#     cursor= con.cursor()\n",
    "#     con.autocommit = True\n",
    "#     cursor.execute(\"EXEC sp_spaceused N'hipaa.{}';\".format(table))\n",
    "#     result = cursor.fetchall()[0]\n",
    "#     con.close()\n",
    "    \n",
    "#     return result\n",
    "\n",
    "# table = 'drug_exposure'\n",
    "# # for table in tables: \n",
    "# results = nrows(table)\n",
    "# kb_row = int(results[2].split(' ')[0])/int(results[1])\n",
    "# # n_batches = math.ceil(rows/batch_size)\n",
    "# # # batch_size = math.ceil(rows/n_batches)\n",
    "# # print('Total rows: ', rows, '\\nBatch size: ', batch_size, '\\nBatches:', n_batches)\n",
    "# kb_row*1e6/1000"
   ]
  },
  {
   "cell_type": "code",
   "execution_count": null,
   "metadata": {},
   "outputs": [],
   "source": [
    "# table = 'visit_occurrence'\n",
    "rpath = '//share.***REMOVED***/COVID-19/OMOP/data_releases/v7'\n",
    "tables = ['drug_exposure', 'visit_occurrence', 'measurement']\n",
    "\n",
    "for table in tables:\n",
    "    # Set batch size in number of rows\n",
    "    options = make_options(read_buffer_size=Megabytes(2000), \n",
    "                           prefer_unicode=True,\n",
    "                           use_async_io=True,\n",
    "                           limit_varchar_results_to_max=True)\n",
    "\n",
    "    con = connect(driver='{SQL Server}', server='edw.***REMOVED***.edu', database='DWS_OMOP', \n",
    "                  trusted_connection='yes', turbodbc_options=options)\n",
    "\n",
    "    cursor = con.cursor()\n",
    "    cursor.execute(f\"select * from hipaa.{table}\")\n",
    "    batches = cursor.fetchnumpybatches()\n",
    "\n",
    "    count = 0\n",
    "    file = os.path.join(rpath, table + '.csv')\n",
    "\n",
    "    with timeit_context(f'Exporting {table}'):\n",
    "        if os.path.exists(file):\n",
    "            os.remove(file)\n",
    "\n",
    "        for batch in batches:\n",
    "\n",
    "            df = pd.DataFrame(batch)\n",
    "\n",
    "            if count == 0:\n",
    "                dtypes = {t:batch[t].dtype.type for t in batch.keys()}\n",
    "                for dtype in dtypes.keys():\n",
    "                    if dtypes[dtype] == np.int64:\n",
    "                        dtypes[dtype] = 'Int64'\n",
    "                    else:\n",
    "                        dtypes[dtype] = 'str'\n",
    "\n",
    "                df = df.astype(dtypes)\n",
    "                df.to_csv(file, index=False, sep='\\t')\n",
    "\n",
    "            else: \n",
    "                df = df.astype(dtypes)\n",
    "                df.to_csv(file, header=False, index=False, mode='a', sep='\\t')\n",
    "\n",
    "            count=+1\n",
    "\n",
    "        con.close()"
   ]
  },
  {
   "cell_type": "code",
   "execution_count": 20,
   "metadata": {},
   "outputs": [
    {
     "name": "stdout",
     "output_type": "stream",
     "text": [
      "Rows: (7956, 23)\n",
      "Memory usage (MB): 5.603933\n"
     ]
    }
   ],
   "source": [
    "# count = 0\n",
    "# for batch in batches:\n",
    "#     if count == 0:\n",
    "#         df = pd.DataFrame(batch)\n",
    "#         print('Rows:',df.shape)\n",
    "#         print('Memory usage (MB):', df.memory_usage(deep=True).sum()/1e6)\n",
    "#     else: break\n",
    "#     count+=1"
   ]
  },
  {
   "cell_type": "code",
   "execution_count": 46,
   "metadata": {},
   "outputs": [],
   "source": [
    "# file = os.path.join(rpath, table + '.csv')\n",
    "# count = 1\n",
    "# with timeit_context(f'Exporting {table}'):\n",
    "#     if os.path.exists(file):\n",
    "#         os.remove(file)\n",
    "    \n",
    "#     with open(file, 'a') as f:\n",
    "#         with omop.engine.connect() as con:\n",
    "#             header = pd.read_sql('select top 0 * from {}'.format(table), con)\n",
    "#             header.to_csv(f, index=False, sep='\\t')\n",
    "#             for chunk in pd.read_sql('select * from {}'.format(table), con, coerce_float=False, chunksize=batch_size):\n",
    "#                 if count > 1: break\n",
    "# #                 chunk.to_csv(f, header=False, index=False, sep='\\t')\n",
    "#                 print(f'Batch {count}/{n_batches} complete.', end='\\r')\n",
    "#                 count=+1"
   ]
  },
  {
   "cell_type": "code",
   "execution_count": 46,
   "metadata": {},
   "outputs": [],
   "source": [
    "# Set batch size in number of rows\n",
    "\n",
    "# with ncov.engine.connect() as con:\n",
    "#     drug = pd.read_sql('select * from {}'.format(table), con, chunksize=batch_size)"
   ]
  },
  {
   "cell_type": "code",
   "execution_count": null,
   "metadata": {},
   "outputs": [],
   "source": []
  }
 ],
 "metadata": {
  "kernelspec": {
   "display_name": "Python 3",
   "language": "python",
   "name": "python3"
  },
  "language_info": {
   "codemirror_mode": {
    "name": "ipython",
    "version": 3
   },
   "file_extension": ".py",
   "mimetype": "text/x-python",
   "name": "python",
   "nbconvert_exporter": "python",
   "pygments_lexer": "ipython3",
   "version": "3.7.4"
  }
 },
 "nbformat": 4,
 "nbformat_minor": 4
}
