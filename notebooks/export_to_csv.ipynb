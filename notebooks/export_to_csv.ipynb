{
 "cells": [
  {
   "cell_type": "code",
   "execution_count": 1,
   "source": [
    "import os\r\n",
    "from omop_etl.io import to_csv\r\n",
    "from omop_etl.load import Loader\r\n",
    "from omop_etl.utils import timeitc, find\r\n",
    "\r\n",
    "rpath = '//share.ahc.ufl.edu/share$/DSS/IDR_Projects/Cancer_Center/data_release/v0'\r\n",
    "config_path = '//share.ahc.ufl.edu/share$/DSS/IDR_Projects/Cancer_Center/omop_cc_etl/config.yml'\r\n",
    "folders = ['clinical_data', 'health_system', 'vocabulary']\r\n",
    "\r\n",
    "for folder in folders:\r\n",
    "    dirpath = os.path.join(rpath, folder)\r\n",
    "    \r\n",
    "    try:\r\n",
    "        os.mkdir(dirpath)\r\n",
    "    except (FileExistsError) as e:\r\n",
    "        print(f'Directory {folder} already exists. Nothing done.')\r\n",
    "        pass\r\n",
    "\r\n",
    "loader = Loader(config_path)\r\n",
    "server = loader.config.server\r\n",
    "database = loader.config.project_database"
   ],
   "outputs": [
    {
     "output_type": "stream",
     "name": "stdout",
     "text": [
      "Directory clinical_data already exists. Nothing done.\n",
      "Directory health_system already exists. Nothing done.\n",
      "Directory vocabulary already exists. Nothing done.\n"
     ]
    }
   ],
   "metadata": {}
  },
  {
   "cell_type": "code",
   "execution_count": 2,
   "source": [
    "hipaa = loader.list_tables(in_schema=['hipaa'])\r\n",
    "xref = loader.list_tables(in_schema=['xref'])"
   ],
   "outputs": [],
   "metadata": {}
  },
  {
   "cell_type": "code",
   "execution_count": 3,
   "source": [
    "# hipaa = hipaa[~find(['death','visit_occurrence','condition_occurrence','procedure_occurrence','drug_exposure'], hipaa.Table)]"
   ],
   "outputs": [],
   "metadata": {}
  },
  {
   "cell_type": "code",
   "execution_count": 4,
   "source": [
    "# loader._proj_connection_str"
   ],
   "outputs": [],
   "metadata": {}
  },
  {
   "cell_type": "code",
   "execution_count": 5,
   "source": [
    "xref = xref[~find(['mapping','cdm'], xref.Table)].copy()"
   ],
   "outputs": [],
   "metadata": {}
  },
  {
   "cell_type": "code",
   "execution_count": 6,
   "source": [
    "xref['Rows'] = xref.Table.apply(lambda s: loader.row_count(s, schema='xref'))\r\n",
    "xref"
   ],
   "outputs": [
    {
     "output_type": "execute_result",
     "data": {
      "text/plain": [
       "   Schema                  Table      Rows\n",
       "5    xref                CONCEPT   6581661\n",
       "6    xref             VOCABULARY        92\n",
       "7    xref                 DOMAIN        48\n",
       "8    xref          CONCEPT_CLASS       414\n",
       "9    xref   CONCEPT_RELATIONSHIP  47733858\n",
       "10   xref           RELATIONSHIP       618\n",
       "11   xref        CONCEPT_SYNONYM   2180766\n",
       "12   xref       CONCEPT_ANCESTOR  73470571\n",
       "13   xref  SOURCE_TO_CONCEPT_MAP       167\n",
       "14   xref          DRUG_STRENGTH   2829860"
      ],
      "text/html": [
       "<div>\n",
       "<style scoped>\n",
       "    .dataframe tbody tr th:only-of-type {\n",
       "        vertical-align: middle;\n",
       "    }\n",
       "\n",
       "    .dataframe tbody tr th {\n",
       "        vertical-align: top;\n",
       "    }\n",
       "\n",
       "    .dataframe thead th {\n",
       "        text-align: right;\n",
       "    }\n",
       "</style>\n",
       "<table border=\"1\" class=\"dataframe\">\n",
       "  <thead>\n",
       "    <tr style=\"text-align: right;\">\n",
       "      <th></th>\n",
       "      <th>Schema</th>\n",
       "      <th>Table</th>\n",
       "      <th>Rows</th>\n",
       "    </tr>\n",
       "  </thead>\n",
       "  <tbody>\n",
       "    <tr>\n",
       "      <th>5</th>\n",
       "      <td>xref</td>\n",
       "      <td>CONCEPT</td>\n",
       "      <td>6581661</td>\n",
       "    </tr>\n",
       "    <tr>\n",
       "      <th>6</th>\n",
       "      <td>xref</td>\n",
       "      <td>VOCABULARY</td>\n",
       "      <td>92</td>\n",
       "    </tr>\n",
       "    <tr>\n",
       "      <th>7</th>\n",
       "      <td>xref</td>\n",
       "      <td>DOMAIN</td>\n",
       "      <td>48</td>\n",
       "    </tr>\n",
       "    <tr>\n",
       "      <th>8</th>\n",
       "      <td>xref</td>\n",
       "      <td>CONCEPT_CLASS</td>\n",
       "      <td>414</td>\n",
       "    </tr>\n",
       "    <tr>\n",
       "      <th>9</th>\n",
       "      <td>xref</td>\n",
       "      <td>CONCEPT_RELATIONSHIP</td>\n",
       "      <td>47733858</td>\n",
       "    </tr>\n",
       "    <tr>\n",
       "      <th>10</th>\n",
       "      <td>xref</td>\n",
       "      <td>RELATIONSHIP</td>\n",
       "      <td>618</td>\n",
       "    </tr>\n",
       "    <tr>\n",
       "      <th>11</th>\n",
       "      <td>xref</td>\n",
       "      <td>CONCEPT_SYNONYM</td>\n",
       "      <td>2180766</td>\n",
       "    </tr>\n",
       "    <tr>\n",
       "      <th>12</th>\n",
       "      <td>xref</td>\n",
       "      <td>CONCEPT_ANCESTOR</td>\n",
       "      <td>73470571</td>\n",
       "    </tr>\n",
       "    <tr>\n",
       "      <th>13</th>\n",
       "      <td>xref</td>\n",
       "      <td>SOURCE_TO_CONCEPT_MAP</td>\n",
       "      <td>167</td>\n",
       "    </tr>\n",
       "    <tr>\n",
       "      <th>14</th>\n",
       "      <td>xref</td>\n",
       "      <td>DRUG_STRENGTH</td>\n",
       "      <td>2829860</td>\n",
       "    </tr>\n",
       "  </tbody>\n",
       "</table>\n",
       "</div>"
      ]
     },
     "metadata": {},
     "execution_count": 6
    }
   ],
   "metadata": {}
  },
  {
   "cell_type": "code",
   "execution_count": 4,
   "source": [
    "with timeitc('Exporting csv files'):\r\n",
    "    dirpath = rpath\r\n",
    "    for table in ['location']:#'condition_occurrence', 'procedure_occurrence', 'observation_period']:#hipaa.Table[3:]:\r\n",
    "        print('Exporting table:', table)\r\n",
    "        to_csv(dirpath, table, 1000, 'hipaa', server, database)\r\n",
    "    # to_csv(dirpath, 'drug_exposure', 2000, 'hipaa', server, database)"
   ],
   "outputs": [
    {
     "output_type": "stream",
     "name": "stdout",
     "text": [
      "Exporting table: location\n",
      "Exporting location finished in 00:00:05\n",
      "Exporting csv files finished in 00:00:09\n"
     ]
    }
   ],
   "metadata": {}
  },
  {
   "cell_type": "code",
   "execution_count": 2,
   "source": [],
   "outputs": [
    {
     "output_type": "execute_result",
     "data": {
      "text/plain": [
       "'//share.ahc.ufl.edu/share$/DSS/IDR_Projects/Cancer_Center/data_release/v0'"
      ]
     },
     "metadata": {},
     "execution_count": 2
    }
   ],
   "metadata": {}
  },
  {
   "cell_type": "raw",
   "source": [
    "Exporting death finished in 00:00:00\r\n",
    "Exporting visit_occurrence finished in 00:19:26\r\n",
    "Exporting condition_occurrence finished in 00:49:49\r\n",
    "Exporting procedure_occurrence finished in 00:07:09\r\n",
    "Exporting drug_exposure finished in 01:25:17"
   ],
   "metadata": {}
  },
  {
   "cell_type": "code",
   "execution_count": 7,
   "source": [
    "xref.Table.to_list()"
   ],
   "outputs": [
    {
     "output_type": "execute_result",
     "data": {
      "text/plain": [
       "['CONCEPT',\n",
       " 'VOCABULARY',\n",
       " 'DOMAIN',\n",
       " 'CONCEPT_CLASS',\n",
       " 'CONCEPT_RELATIONSHIP',\n",
       " 'RELATIONSHIP',\n",
       " 'CONCEPT_SYNONYM',\n",
       " 'CONCEPT_ANCESTOR',\n",
       " 'SOURCE_TO_CONCEPT_MAP',\n",
       " 'DRUG_STRENGTH']"
      ]
     },
     "metadata": {},
     "execution_count": 7
    }
   ],
   "metadata": {}
  },
  {
   "cell_type": "code",
   "execution_count": 1,
   "source": [
    "# with timeitc('Exporting csv files'):\r\n",
    "#     dirpath = os.path.join(rpath, 'vocabulary')\r\n",
    "#     for table in ['CONCEPT', 'VOCABULARY', 'DOMAIN', 'CONCEPT_CLASS', 'RELATIONSHIP', 'CONCEPT_SYNONYM', 'SOURCE_TO_CONCEPT_MAP', 'DRUG_STRENGTH']:\r\n",
    "#         to_csv(dirpath, table, 1000, 'xref', server, database)"
   ],
   "outputs": [],
   "metadata": {}
  },
  {
   "cell_type": "raw",
   "source": [
    "Exporting person finished in 00:00:08\r\n",
    "Exporting death finished in 00:00:00\r\n",
    "Exporting visit_occurrence finished in 00:18:48\r\n",
    "Exporting condition_occurrence finished in 00:42:56\r\n",
    "Exporting procedure_occurrence finished in 00:06:37\r\n",
    "Exporting drug_exposure finished in 01:30:58\r\n",
    "Exporting measurement finished in 05:23:56\r\n",
    "Exporting observation finished in 00:55:45\r\n",
    "Exporting observation_period finished in 00:00:02\r\n",
    "Exporting device_exposure finished in 00:00:00\r\n",
    "Exporting provider finished in 00:00:00\r\n",
    "Exporting location finished in 00:00:02\r\n",
    "Exporting care_site finished in 00:00:00\r\n",
    "Exporting csv files finished in 09:01:10"
   ],
   "metadata": {}
  },
  {
   "cell_type": "code",
   "execution_count": 6,
   "source": [
    "# import os\r\n",
    "\r\n",
    "# os.chdir('Z:\\OMOP\\omop_etl')\r\n",
    "# print(os.getcwd())\r\n",
    "\r\n",
    "# import pandas as pd\r\n",
    "# from omop_etl.datastore import DataStore\r\n",
    "# import pandas as pd\r\n",
    "# from turbodbc import connect, make_options, Megabytes, Rows\r\n",
    "# import time\r\n",
    "# import math\r\n",
    "# import numpy as np\r\n",
    "# from pydma.databases import OneFLDb\r\n",
    "# from pydma.utils import find\r\n",
    "\r\n",
    "#from https://stackoverflow.com/questions/5478351/python-time-measure-function\r\n",
    "# from contextlib import contextmanager\r\n",
    "\r\n",
    "# @contextmanager\r\n",
    "# def timeit_context(name=None):\r\n",
    "#     startTime = time.time()\r\n",
    "#     yield\r\n",
    "#     elapsedTime = time.time() - startTime\r\n",
    "#     print('{} finished in {}'.format(name, \r\n",
    "#                                      time.strftime(\"%H h %M m %S s\", \r\n",
    "#                                      time.gmtime(elapsedTime))))\r\n",
    "\r\n",
    "# table = \"measurement\"\r\n",
    "# batch_size = 1_000_000\r\n",
    "# omop = OneFLDb('edw', database='DWS_OMOP')\r\n",
    "# tables = ['measurement']#'device_exposure', 'person', 'death', 'location', 'provider', 'care_site', 'visit_occurrence', \r\n",
    "# #           'drug_exposure','condition_occurrence', 'observation', 'procedure_occurrence', 'observation_period']\r\n",
    "# rpath = '//share.ahc.ufl.edu/share$/DSS/IDR_Projects/COVID-19/OMOP/data_releases/v7'\r\n",
    "# #omop.list_tables(in_schema=['hipaa'])\r\n",
    "# # print(tables.Table.to_list())\r\n",
    "# # n_batches = 40\r\n",
    "\r\n",
    "# def nrows(table):\r\n",
    "#     \"\"\"Returns table number of rows.\r\n",
    "#     \"\"\"\r\n",
    "#     con = connect(driver='{SQL Server}', server='edw.shands.ufl.edu', \r\n",
    "#                   database='DWS_OMOP', trusted_connection='yes')\r\n",
    "#     cursor= con.cursor()\r\n",
    "#     con.autocommit = True\r\n",
    "#     cursor.execute(\"EXEC sp_spaceused N'hipaa.{}';\".format(table))\r\n",
    "#     result = cursor.fetchall()[0]\r\n",
    "#     con.close()\r\n",
    "    \r\n",
    "#     return result\r\n",
    "\r\n",
    "# table = 'drug_exposure'\r\n",
    "# # for table in tables: \r\n",
    "# results = nrows(table)\r\n",
    "# kb_row = int(results[2].split(' ')[0])/int(results[1])\r\n",
    "# # n_batches = math.ceil(rows/batch_size)\r\n",
    "# # # batch_size = math.ceil(rows/n_batches)\r\n",
    "# # print('Total rows: ', rows, '\\nBatch size: ', batch_size, '\\nBatches:', n_batches)\r\n",
    "# kb_row*1e6/1000"
   ],
   "outputs": [],
   "metadata": {}
  },
  {
   "cell_type": "code",
   "execution_count": null,
   "source": [
    "# table = 'visit_occurrence'\r\n",
    "# rpath = '//share.ahc.ufl.edu/share$/DSS/IDR_Projects/COVID-19/OMOP/data_releases/v7'\r\n",
    "# tables = ['drug_exposure', 'visit_occurrence', 'measurement']\r\n",
    "\r\n",
    "# for table in tables:\r\n",
    "#     # Set batch size in number of rows\r\n",
    "#     options = make_options(read_buffer_size=Megabytes(2000), \r\n",
    "#                            prefer_unicode=True,\r\n",
    "#                            use_async_io=True,\r\n",
    "#                            limit_varchar_results_to_max=True)\r\n",
    "\r\n",
    "#     con = connect(driver='{SQL Server}', server='edw.shands.ufl.edu', database='DWS_OMOP', \r\n",
    "#                   trusted_connection='yes', turbodbc_options=options)\r\n",
    "\r\n",
    "#     cursor = con.cursor()\r\n",
    "#     cursor.execute(f\"select * from hipaa.{table}\")\r\n",
    "#     batches = cursor.fetchnumpybatches()\r\n",
    "\r\n",
    "#     count = 0\r\n",
    "#     file = os.path.join(rpath, table + '.csv')\r\n",
    "\r\n",
    "#     with timeit_context(f'Exporting {table}'):\r\n",
    "#         if os.path.exists(file):\r\n",
    "#             os.remove(file)\r\n",
    "\r\n",
    "#         for batch in batches:\r\n",
    "\r\n",
    "#             df = pd.DataFrame(batch)\r\n",
    "\r\n",
    "#             if count == 0:\r\n",
    "#                 dtypes = {t:batch[t].dtype.type for t in batch.keys()}\r\n",
    "#                 for dtype in dtypes.keys():\r\n",
    "#                     if dtypes[dtype] == np.int64:\r\n",
    "#                         dtypes[dtype] = 'Int64'\r\n",
    "#                     else:\r\n",
    "#                         dtypes[dtype] = 'str'\r\n",
    "\r\n",
    "#                 df = df.astype(dtypes)\r\n",
    "#                 df.to_csv(file, index=False, sep='\\t')\r\n",
    "\r\n",
    "#             else: \r\n",
    "#                 df = df.astype(dtypes)\r\n",
    "#                 df.to_csv(file, header=False, index=False, mode='a', sep='\\t')\r\n",
    "\r\n",
    "#             count =+ 1\r\n",
    "\r\n",
    "#         con.close()"
   ],
   "outputs": [],
   "metadata": {}
  },
  {
   "cell_type": "code",
   "execution_count": null,
   "source": [
    "# count = 0\r\n",
    "# for batch in batches:\r\n",
    "#     if count == 0:\r\n",
    "#         df = pd.DataFrame(batch)\r\n",
    "#         print('Rows:',df.shape)\r\n",
    "#         print('Memory usage (MB):', df.memory_usage(deep=True).sum()/1e6)\r\n",
    "#     else: break\r\n",
    "#     count+=1"
   ],
   "outputs": [],
   "metadata": {}
  },
  {
   "cell_type": "code",
   "execution_count": 2,
   "source": [
    "import pandas as pd\r\n",
    "import math"
   ],
   "outputs": [],
   "metadata": {}
  },
  {
   "cell_type": "code",
   "execution_count": 10,
   "source": [
    "# table = 'provider'\r\n",
    "# file = os.path.join(rpath, table + '.csv')\r\n",
    "# schema = 'hipaa'\r\n",
    "# count = 1\r\n",
    "# batch_size = 1000000\r\n",
    "\r\n",
    "# with loader.engine.connect() as con:\r\n",
    "#     result = con.execute(\"EXEC sp_spaceused N'hipaa.{}';\".format(table))\r\n",
    "#     rows = int(result.fetchall()[0][1].strip())\r\n",
    "\r\n",
    "# n_batches = math.ceil(rows/batch_size)\r\n",
    "\r\n",
    "# # print('Total rows: ', rows, '\\nBatch size: ', batch_size, '\\nBatches:', n_batches)\r\n",
    "\r\n",
    "# with timeitc(f'Exporting {table}'):\r\n",
    "#     if os.path.exists(file):\r\n",
    "#         os.remove(file)\r\n",
    "    \r\n",
    "#     with loader.engine.connect() as con:\r\n",
    "#         header = pd.read_sql(f'select top 0 * from {schema}.{table}', con)\r\n",
    "#         header.to_csv(file, index=False, sep='\\t')\r\n",
    "#         for chunk in pd.read_sql(f'select * from {schema}.{table}', con, coerce_float=False, chunksize=batch_size):\r\n",
    "#             chunk.to_csv(file, header=False, index=False, sep='\\t', mode='a')\r\n",
    "#             print(f'Batch {count}/{n_batches} complete.', end='\\r')\r\n",
    "#             count=+1"
   ],
   "outputs": [
    {
     "output_type": "stream",
     "name": "stdout",
     "text": [
      "Exporting provider finished in 00:00:01\n"
     ]
    }
   ],
   "metadata": {}
  },
  {
   "cell_type": "code",
   "execution_count": null,
   "source": [],
   "outputs": [],
   "metadata": {}
  }
 ],
 "metadata": {
  "kernelspec": {
   "name": "python3",
   "display_name": "Python 3.7.10 64-bit ('omop': conda)"
  },
  "language_info": {
   "codemirror_mode": {
    "name": "ipython",
    "version": 3
   },
   "file_extension": ".py",
   "mimetype": "text/x-python",
   "name": "python",
   "nbconvert_exporter": "python",
   "pygments_lexer": "ipython3",
   "version": "3.7.10"
  },
  "interpreter": {
   "hash": "7c85ff1ad38d990bff1f8127f6f93832ae5b0f8f3376f1de851f2ae7a03d3a34"
  }
 },
 "nbformat": 4,
 "nbformat_minor": 4
}