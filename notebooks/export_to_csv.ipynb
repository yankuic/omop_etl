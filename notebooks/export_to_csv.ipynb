{
 "cells": [
  {
   "cell_type": "code",
   "execution_count": 4,
   "source": [
    "import os\r\n",
    "from omop_etl.io import to_csv\r\n",
    "from omop_etl.load import Loader\r\n",
    "from omop_etl.utils import timeitc, find\r\n",
    "\r\n",
    "rpath = 'z:/omop_proj_test/data_release'\r\n",
    "config_path = 'z:/omop_proj_test/config.yml'\r\n",
    "folders = ['clinical_data', 'health_system', 'vocabulary']\r\n",
    "\r\n",
    "for folder in folders:\r\n",
    "    \r\n",
    "    try:\r\n",
    "        dirpath = os.path.join(rpath, folder)\r\n",
    "        os.makedirs(dirpath)\r\n",
    "    except (FileExistsError) as e:\r\n",
    "        print(f'Directory {folder} already exists. Nothing done.')\r\n",
    "        pass\r\n",
    "\r\n",
    "loader = Loader(config_path)\r\n",
    "server = loader.config.server\r\n",
    "database = loader.config.project_database"
   ],
   "outputs": [
    {
     "output_type": "stream",
     "name": "stdout",
     "text": [
      "Directory clinical_data already exists. Nothing done.\n",
      "Directory health_system already exists. Nothing done.\n",
      "Directory vocabulary already exists. Nothing done.\n"
     ]
    }
   ],
   "metadata": {}
  },
  {
   "cell_type": "code",
   "execution_count": 5,
   "source": [
    "hipaa = loader.list_tables(in_schema=['hipaa'])\r\n",
    "# xref = loader.list_tables(in_schema=['xref'])"
   ],
   "outputs": [],
   "metadata": {}
  },
  {
   "cell_type": "code",
   "execution_count": null,
   "source": [
    "with timeitc('Exporting csv files'):\r\n",
    "    dirpath = rpath\r\n",
    "    for table in hipaa.Table:\r\n",
    "        print('Exporting table:', table)\r\n",
    "        to_csv(dirpath, table, 1000, 'hipaa', server, database)"
   ],
   "outputs": [],
   "metadata": {}
  },
  {
   "cell_type": "code",
   "execution_count": 6,
   "source": [
    "# import os\r\n",
    "\r\n",
    "# os.chdir('Z:\\OMOP\\omop_etl')\r\n",
    "# print(os.getcwd())\r\n",
    "\r\n",
    "# import pandas as pd\r\n",
    "# from omop_etl.datastore import DataStore\r\n",
    "# import pandas as pd\r\n",
    "# from turbodbc import connect, make_options, Megabytes, Rows\r\n",
    "# import time\r\n",
    "# import math\r\n",
    "# import numpy as np\r\n",
    "# from pydma.databases import OneFLDb\r\n",
    "# from pydma.utils import find\r\n",
    "\r\n",
    "#from https://stackoverflow.com/questions/5478351/python-time-measure-function\r\n",
    "# from contextlib import contextmanager\r\n",
    "\r\n",
    "# @contextmanager\r\n",
    "# def timeit_context(name=None):\r\n",
    "#     startTime = time.time()\r\n",
    "#     yield\r\n",
    "#     elapsedTime = time.time() - startTime\r\n",
    "#     print('{} finished in {}'.format(name, \r\n",
    "#                                      time.strftime(\"%H h %M m %S s\", \r\n",
    "#                                      time.gmtime(elapsedTime))))\r\n",
    "\r\n",
    "# table = \"measurement\"\r\n",
    "# batch_size = 1_000_000\r\n",
    "# omop = OneFLDb('edw', database='DWS_OMOP')\r\n",
    "# tables = ['measurement']#'device_exposure', 'person', 'death', 'location', 'provider', 'care_site', 'visit_occurrence', \r\n",
    "# #           'drug_exposure','condition_occurrence', 'observation', 'procedure_occurrence', 'observation_period']\r\n",
    "# rpath = '//share.***REMOVED***/COVID-19/OMOP/data_releases/v7'\r\n",
    "# #omop.list_tables(in_schema=['hipaa'])\r\n",
    "# # print(tables.Table.to_list())\r\n",
    "# # n_batches = 40\r\n",
    "\r\n",
    "# def nrows(table):\r\n",
    "#     \"\"\"Returns table number of rows.\r\n",
    "#     \"\"\"\r\n",
    "#     con = connect(driver='{SQL Server}', server='edw.***REMOVED***.edu', \r\n",
    "#                   database='DWS_OMOP', trusted_connection='yes')\r\n",
    "#     cursor= con.cursor()\r\n",
    "#     con.autocommit = True\r\n",
    "#     cursor.execute(\"EXEC sp_spaceused N'hipaa.{}';\".format(table))\r\n",
    "#     result = cursor.fetchall()[0]\r\n",
    "#     con.close()\r\n",
    "    \r\n",
    "#     return result\r\n",
    "\r\n",
    "# table = 'drug_exposure'\r\n",
    "# # for table in tables: \r\n",
    "# results = nrows(table)\r\n",
    "# kb_row = int(results[2].split(' ')[0])/int(results[1])\r\n",
    "# # n_batches = math.ceil(rows/batch_size)\r\n",
    "# # # batch_size = math.ceil(rows/n_batches)\r\n",
    "# # print('Total rows: ', rows, '\\nBatch size: ', batch_size, '\\nBatches:', n_batches)\r\n",
    "# kb_row*1e6/1000"
   ],
   "outputs": [],
   "metadata": {}
  },
  {
   "cell_type": "code",
   "execution_count": null,
   "source": [
    "# table = 'visit_occurrence'\r\n",
    "# rpath = '//share.***REMOVED***/COVID-19/OMOP/data_releases/v7'\r\n",
    "# tables = ['drug_exposure', 'visit_occurrence', 'measurement']\r\n",
    "\r\n",
    "# for table in tables:\r\n",
    "#     # Set batch size in number of rows\r\n",
    "#     options = make_options(read_buffer_size=Megabytes(2000), \r\n",
    "#                            prefer_unicode=True,\r\n",
    "#                            use_async_io=True,\r\n",
    "#                            limit_varchar_results_to_max=True)\r\n",
    "\r\n",
    "#     con = connect(driver='{SQL Server}', server='edw.***REMOVED***.edu', database='DWS_OMOP', \r\n",
    "#                   trusted_connection='yes', turbodbc_options=options)\r\n",
    "\r\n",
    "#     cursor = con.cursor()\r\n",
    "#     cursor.execute(f\"select * from hipaa.{table}\")\r\n",
    "#     batches = cursor.fetchnumpybatches()\r\n",
    "\r\n",
    "#     count = 0\r\n",
    "#     file = os.path.join(rpath, table + '.csv')\r\n",
    "\r\n",
    "#     with timeit_context(f'Exporting {table}'):\r\n",
    "#         if os.path.exists(file):\r\n",
    "#             os.remove(file)\r\n",
    "\r\n",
    "#         for batch in batches:\r\n",
    "\r\n",
    "#             df = pd.DataFrame(batch)\r\n",
    "\r\n",
    "#             if count == 0:\r\n",
    "#                 dtypes = {t:batch[t].dtype.type for t in batch.keys()}\r\n",
    "#                 for dtype in dtypes.keys():\r\n",
    "#                     if dtypes[dtype] == np.int64:\r\n",
    "#                         dtypes[dtype] = 'Int64'\r\n",
    "#                     else:\r\n",
    "#                         dtypes[dtype] = 'str'\r\n",
    "\r\n",
    "#                 df = df.astype(dtypes)\r\n",
    "#                 df.to_csv(file, index=False, sep='\\t')\r\n",
    "\r\n",
    "#             else: \r\n",
    "#                 df = df.astype(dtypes)\r\n",
    "#                 df.to_csv(file, header=False, index=False, mode='a', sep='\\t')\r\n",
    "\r\n",
    "#             count =+ 1\r\n",
    "\r\n",
    "#         con.close()"
   ],
   "outputs": [],
   "metadata": {}
  },
  {
   "cell_type": "code",
   "execution_count": null,
   "source": [
    "# count = 0\r\n",
    "# for batch in batches:\r\n",
    "#     if count == 0:\r\n",
    "#         df = pd.DataFrame(batch)\r\n",
    "#         print('Rows:',df.shape)\r\n",
    "#         print('Memory usage (MB):', df.memory_usage(deep=True).sum()/1e6)\r\n",
    "#     else: break\r\n",
    "#     count+=1"
   ],
   "outputs": [],
   "metadata": {}
  },
  {
   "cell_type": "code",
   "execution_count": 2,
   "source": [
    "import pandas as pd\r\n",
    "import math"
   ],
   "outputs": [],
   "metadata": {}
  },
  {
   "cell_type": "code",
   "execution_count": 10,
   "source": [
    "# table = 'provider'\r\n",
    "# file = os.path.join(rpath, table + '.csv')\r\n",
    "# schema = 'hipaa'\r\n",
    "# count = 1\r\n",
    "# batch_size = 1000000\r\n",
    "\r\n",
    "# with loader.engine.connect() as con:\r\n",
    "#     result = con.execute(\"EXEC sp_spaceused N'hipaa.{}';\".format(table))\r\n",
    "#     rows = int(result.fetchall()[0][1].strip())\r\n",
    "\r\n",
    "# n_batches = math.ceil(rows/batch_size)\r\n",
    "\r\n",
    "# # print('Total rows: ', rows, '\\nBatch size: ', batch_size, '\\nBatches:', n_batches)\r\n",
    "\r\n",
    "# with timeitc(f'Exporting {table}'):\r\n",
    "#     if os.path.exists(file):\r\n",
    "#         os.remove(file)\r\n",
    "    \r\n",
    "#     with loader.engine.connect() as con:\r\n",
    "#         header = pd.read_sql(f'select top 0 * from {schema}.{table}', con)\r\n",
    "#         header.to_csv(file, index=False, sep='\\t')\r\n",
    "#         for chunk in pd.read_sql(f'select * from {schema}.{table}', con, coerce_float=False, chunksize=batch_size):\r\n",
    "#             chunk.to_csv(file, header=False, index=False, sep='\\t', mode='a')\r\n",
    "#             print(f'Batch {count}/{n_batches} complete.', end='\\r')\r\n",
    "#             count=+1"
   ],
   "outputs": [
    {
     "output_type": "stream",
     "name": "stdout",
     "text": [
      "Exporting provider finished in 00:00:01\n"
     ]
    }
   ],
   "metadata": {}
  },
  {
   "cell_type": "code",
   "execution_count": null,
   "source": [],
   "outputs": [],
   "metadata": {}
  }
 ],
 "metadata": {
  "kernelspec": {
   "name": "python3",
   "display_name": "Python 3.7.10 64-bit ('omop': conda)"
  },
  "language_info": {
   "codemirror_mode": {
    "name": "ipython",
    "version": 3
   },
   "file_extension": ".py",
   "mimetype": "text/x-python",
   "name": "python",
   "nbconvert_exporter": "python",
   "pygments_lexer": "ipython3",
   "version": "3.7.10"
  },
  "interpreter": {
   "hash": "7c85ff1ad38d990bff1f8127f6f93832ae5b0f8f3376f1de851f2ae7a03d3a34"
  }
 },
 "nbformat": 4,
 "nbformat_minor": 4
}