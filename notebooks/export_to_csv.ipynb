{
 "cells": [
  {
   "cell_type": "code",
   "execution_count": 1,
   "metadata": {},
   "outputs": [
    {
     "name": "stdout",
     "output_type": "stream",
     "text": [
      "Directory clinical_data already exists. Nothing done.\n",
      "Directory health_system already exists. Nothing done.\n",
      "Directory vocabulary already exists. Nothing done.\n",
      "Directory derived_tables already exists. Nothing done.\n"
     ]
    }
   ],
   "source": [
    "import sys\n",
    "sys.path.append(r'Z:\\OMOP\\omop_etl')\n",
    "\n",
    "import os\n",
    "from omop_etl.io import to_csv\n",
    "from omop_etl.load import Loader\n",
    "from omop_etl.utils import timeitc, find\n",
    "\n",
    "rpath = 'Y:/IDR_Projects/COVID-19/OMOP/data_releases/v8/'\n",
    "config_path = 'Y:/IDR_Projects/COVID-19/OMOP/new_pipeline/config.yml'\n",
    "folders = ['clinical_data', 'health_system', 'vocabulary', 'derived_tables']\n",
    "\n",
    "for folder in folders:\n",
    "    \n",
    "    try:\n",
    "        dirpath = os.path.join(rpath, folder)\n",
    "        os.makedirs(dirpath)\n",
    "    except (FileExistsError) as e:\n",
    "        print(f'Directory {folder} already exists. Nothing done.')\n",
    "        pass\n",
    "\n",
    "loader = Loader(config_path)\n",
    "server = loader.config.server\n",
    "database = loader.config.project_database"
   ]
  },
  {
   "cell_type": "code",
   "execution_count": 2,
   "metadata": {},
   "outputs": [],
   "source": [
    "hipaa = loader.list_tables(in_schema=['hipaa'])\n",
    "xref = loader.list_tables(in_schema=['xref'])"
   ]
  },
  {
   "cell_type": "code",
   "execution_count": 3,
   "metadata": {},
   "outputs": [
    {
     "name": "stdout",
     "output_type": "stream",
     "text": [
      "['person', 'death', 'visit_occurrence', 'condition_occurrence', 'procedure_occurrence', 'drug_exposure', 'measurement', 'observation', 'observation_period', 'device_exposure', 'provider', 'location', 'care_site', 'condition_era', 'drug_era']\n"
     ]
    }
   ],
   "source": [
    "print(hipaa.Table.tolist())"
   ]
  },
  {
   "cell_type": "code",
   "execution_count": 3,
   "metadata": {},
   "outputs": [
    {
     "name": "stdout",
     "output_type": "stream",
     "text": [
      "Exporting table: person\n",
      "Exporting person finished in 00:00:45\n",
      "Exporting table: death\n",
      "Exporting death finished in 00:00:00\n",
      "Exporting table: visit_occurrence\n",
      "Exporting visit_occurrence finished in 00:51:32\n",
      "Exporting table: condition_occurrence\n",
      "Exporting condition_occurrence finished in 02:03:35\n",
      "Exporting table: procedure_occurrence\n",
      "Exporting procedure_occurrence finished in 00:22:18\n",
      "Exporting table: drug_exposure\n",
      "Exporting drug_exposure finished in 04:03:32\n",
      "Exporting table: measurement\n",
      "Exporting measurement finished in 16:07:02\n",
      "Exporting table: observation\n",
      "Exporting observation finished in 03:37:31\n",
      "Exporting table: observation_period\n",
      "Exporting observation_period finished in 00:00:08\n",
      "Exporting table: device_exposure\n",
      "Exporting device_exposure finished in 00:00:01\n",
      "Exporting table: provider\n",
      "Exporting provider finished in 00:00:02\n",
      "Exporting table: location\n",
      "Exporting location finished in 00:00:08\n",
      "Exporting table: care_site\n",
      "Exporting care_site finished in 00:00:00\n",
      "Exporting table: condition_era\n",
      "Exporting condition_era finished in 00:15:04\n",
      "Exporting table: drug_era\n",
      "Exporting drug_era finished in 00:15:50\n",
      "Exporting csv files finished in 03:38:36\n"
     ]
    }
   ],
   "source": [
    "with timeitc('Exporting csv files'):\n",
    "    \n",
    "    for table in ['measurement', 'observation', 'observation_period', 'device_exposure', 'provider', 'location', 'care_site', 'condition_era', 'drug_era']: #hipaa.Table:\n",
    "        print('Exporting table:', table)\n",
    "        if table in ['care_site', 'location', 'provider']:\n",
    "            dirpath = rpath + '/health_system'\n",
    "        elif table in ['condition_era', 'drug_era']:\n",
    "            dirpath = rpath + '/derived_tables'\n",
    "        else:\n",
    "            dirpath = rpath + '/clinical_data'\n",
    "        \n",
    "        to_csv(dirpath, table, 1000, 'hipaa', server, database)\n",
    "    "
   ]
  },
  {
   "cell_type": "code",
   "execution_count": null,
   "metadata": {},
   "outputs": [
    {
     "name": "stdout",
     "output_type": "stream",
     "text": [
      "Exporting drug_era finished in 00:36:53\n"
     ]
    }
   ],
   "source": [
    "dirpath = rpath + '/clinical_data'\n",
    "to_csv(dirpath, 'condition_occurrence', 1000, 'hipaa', server, database)"
   ]
  },
  {
   "cell_type": "code",
   "execution_count": 6,
   "metadata": {},
   "outputs": [],
   "source": [
    "# import os\n",
    "\n",
    "# os.chdir('Z:\\OMOP\\omop_etl')\n",
    "# print(os.getcwd())\n",
    "\n",
    "# import pandas as pd\n",
    "# from omop_etl.datastore import DataStore\n",
    "# import pandas as pd\n",
    "# from turbodbc import connect, make_options, Megabytes, Rows\n",
    "# import time\n",
    "# import math\n",
    "# import numpy as np\n",
    "# from pydma.databases import OneFLDb\n",
    "# from pydma.utils import find\n",
    "\n",
    "#from https://stackoverflow.com/questions/5478351/python-time-measure-function\n",
    "# from contextlib import contextmanager\n",
    "\n",
    "# @contextmanager\n",
    "# def timeit_context(name=None):\n",
    "#     startTime = time.time()\n",
    "#     yield\n",
    "#     elapsedTime = time.time() - startTime\n",
    "#     print('{} finished in {}'.format(name, \n",
    "#                                      time.strftime(\"%H h %M m %S s\", \n",
    "#                                      time.gmtime(elapsedTime))))\n",
    "\n",
    "# table = \"measurement\"\n",
    "# batch_size = 1_000_000\n",
    "# omop = OneFLDb('edw', database='DWS_OMOP')\n",
    "# tables = ['measurement']#'device_exposure', 'person', 'death', 'location', 'provider', 'care_site', 'visit_occurrence', \n",
    "# #           'drug_exposure','condition_occurrence', 'observation', 'procedure_occurrence', 'observation_period']\n",
    "# rpath = '//share.ahc.ufl.edu/share$/DSS/IDR_Projects/COVID-19/OMOP/data_releases/v7'\n",
    "# #omop.list_tables(in_schema=['hipaa'])\n",
    "# # print(tables.Table.to_list())\n",
    "# # n_batches = 40\n",
    "\n",
    "# def nrows(table):\n",
    "#     \"\"\"Returns table number of rows.\n",
    "#     \"\"\"\n",
    "#     con = connect(driver='{SQL Server}', server='edw.shands.ufl.edu', \n",
    "#                   database='DWS_OMOP', trusted_connection='yes')\n",
    "#     cursor= con.cursor()\n",
    "#     con.autocommit = True\n",
    "#     cursor.execute(\"EXEC sp_spaceused N'hipaa.{}';\".format(table))\n",
    "#     result = cursor.fetchall()[0]\n",
    "#     con.close()\n",
    "    \n",
    "#     return result\n",
    "\n",
    "# table = 'drug_exposure'\n",
    "# # for table in tables: \n",
    "# results = nrows(table)\n",
    "# kb_row = int(results[2].split(' ')[0])/int(results[1])\n",
    "# # n_batches = math.ceil(rows/batch_size)\n",
    "# # # batch_size = math.ceil(rows/n_batches)\n",
    "# # print('Total rows: ', rows, '\\nBatch size: ', batch_size, '\\nBatches:', n_batches)\n",
    "# kb_row*1e6/1000"
   ]
  },
  {
   "cell_type": "code",
   "execution_count": null,
   "metadata": {},
   "outputs": [],
   "source": [
    "# table = 'visit_occurrence'\n",
    "# rpath = '//share.ahc.ufl.edu/share$/DSS/IDR_Projects/COVID-19/OMOP/data_releases/v7'\n",
    "# tables = ['drug_exposure', 'visit_occurrence', 'measurement']\n",
    "\n",
    "# for table in tables:\n",
    "#     # Set batch size in number of rows\n",
    "#     options = make_options(read_buffer_size=Megabytes(2000), \n",
    "#                            prefer_unicode=True,\n",
    "#                            use_async_io=True,\n",
    "#                            limit_varchar_results_to_max=True)\n",
    "\n",
    "#     con = connect(driver='{SQL Server}', server='edw.shands.ufl.edu', database='DWS_OMOP', \n",
    "#                   trusted_connection='yes', turbodbc_options=options)\n",
    "\n",
    "#     cursor = con.cursor()\n",
    "#     cursor.execute(f\"select * from hipaa.{table}\")\n",
    "#     batches = cursor.fetchnumpybatches()\n",
    "\n",
    "#     count = 0\n",
    "#     file = os.path.join(rpath, table + '.csv')\n",
    "\n",
    "#     with timeit_context(f'Exporting {table}'):\n",
    "#         if os.path.exists(file):\n",
    "#             os.remove(file)\n",
    "\n",
    "#         for batch in batches:\n",
    "\n",
    "#             df = pd.DataFrame(batch)\n",
    "\n",
    "#             if count == 0:\n",
    "#                 dtypes = {t:batch[t].dtype.type for t in batch.keys()}\n",
    "#                 for dtype in dtypes.keys():\n",
    "#                     if dtypes[dtype] == np.int64:\n",
    "#                         dtypes[dtype] = 'Int64'\n",
    "#                     else:\n",
    "#                         dtypes[dtype] = 'str'\n",
    "\n",
    "#                 df = df.astype(dtypes)\n",
    "#                 df.to_csv(file, index=False, sep='\\t')\n",
    "\n",
    "#             else: \n",
    "#                 df = df.astype(dtypes)\n",
    "#                 df.to_csv(file, header=False, index=False, mode='a', sep='\\t')\n",
    "\n",
    "#             count =+ 1\n",
    "\n",
    "#         con.close()"
   ]
  },
  {
   "cell_type": "code",
   "execution_count": null,
   "metadata": {},
   "outputs": [],
   "source": [
    "# count = 0\n",
    "# for batch in batches:\n",
    "#     if count == 0:\n",
    "#         df = pd.DataFrame(batch)\n",
    "#         print('Rows:',df.shape)\n",
    "#         print('Memory usage (MB):', df.memory_usage(deep=True).sum()/1e6)\n",
    "#     else: break\n",
    "#     count+=1"
   ]
  },
  {
   "cell_type": "code",
   "execution_count": 2,
   "metadata": {},
   "outputs": [],
   "source": [
    "import pandas as pd\n",
    "import math"
   ]
  },
  {
   "cell_type": "code",
   "execution_count": 10,
   "metadata": {},
   "outputs": [
    {
     "name": "stdout",
     "output_type": "stream",
     "text": [
      "Exporting provider finished in 00:00:01\n"
     ]
    }
   ],
   "source": [
    "# table = 'provider'\n",
    "# file = os.path.join(rpath, table + '.csv')\n",
    "# schema = 'hipaa'\n",
    "# count = 1\n",
    "# batch_size = 1000000\n",
    "\n",
    "# with loader.engine.connect() as con:\n",
    "#     result = con.execute(\"EXEC sp_spaceused N'hipaa.{}';\".format(table))\n",
    "#     rows = int(result.fetchall()[0][1].strip())\n",
    "\n",
    "# n_batches = math.ceil(rows/batch_size)\n",
    "\n",
    "# # print('Total rows: ', rows, '\\nBatch size: ', batch_size, '\\nBatches:', n_batches)\n",
    "\n",
    "# with timeitc(f'Exporting {table}'):\n",
    "#     if os.path.exists(file):\n",
    "#         os.remove(file)\n",
    "    \n",
    "#     with loader.engine.connect() as con:\n",
    "#         header = pd.read_sql(f'select top 0 * from {schema}.{table}', con)\n",
    "#         header.to_csv(file, index=False, sep='\\t')\n",
    "#         for chunk in pd.read_sql(f'select * from {schema}.{table}', con, coerce_float=False, chunksize=batch_size):\n",
    "#             chunk.to_csv(file, header=False, index=False, sep='\\t', mode='a')\n",
    "#             print(f'Batch {count}/{n_batches} complete.', end='\\r')\n",
    "#             count=+1"
   ]
  },
  {
   "cell_type": "code",
   "execution_count": null,
   "metadata": {},
   "outputs": [],
   "source": []
  }
 ],
 "metadata": {
  "interpreter": {
   "hash": "ed9aecc04a78bc023d6560d59868ba438581fdda2914504ea0b1a159872595b9"
  },
  "kernelspec": {
   "display_name": "Python 3.7.4 64-bit ('base': conda)",
   "name": "python3"
  },
  "language_info": {
   "codemirror_mode": {
    "name": "ipython",
    "version": 3
   },
   "file_extension": ".py",
   "mimetype": "text/x-python",
   "name": "python",
   "nbconvert_exporter": "python",
   "pygments_lexer": "ipython3",
   "version": "3.7.4"
  }
 },
 "nbformat": 4,
 "nbformat_minor": 4
}
