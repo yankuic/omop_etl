{
 "cells": [
  {
   "cell_type": "code",
   "execution_count": 1,
   "metadata": {},
   "outputs": [
    {
     "name": "stdout",
     "output_type": "stream",
     "text": [
      "Directory clinical_data already exists. Nothing done.\n",
      "Directory health_system already exists. Nothing done.\n",
      "Directory vocabulary already exists. Nothing done.\n"
     ]
    }
   ],
   "source": [
    "import os\n",
    "from omop_etl.io import to_csv\n",
    "from omop_etl.load import Loader\n",
    "from omop_etl.utils import timeitc, find\n",
    "\n",
    "rpath = '//share.***REMOVED***/COVID-19/OMOP/data_releases/v7'\n",
    "config_path = '//share.***REMOVED***/COVID-19/OMOP/new_pipeline/config.yml'\n",
    "folders = ['clinical_data', 'health_system', 'vocabulary']\n",
    "\n",
    "for folder in folders:\n",
    "    dirpath = os.path.join(rpath, folder)\n",
    "    \n",
    "    try:\n",
    "        os.mkdir(dirpath)\n",
    "    except FileExistsError as e:\n",
    "        print(f'Directory {folder} already exists. Nothing done.')\n",
    "        pass\n",
    "\n",
    "loader = Loader(config_path)"
   ]
  },
  {
   "cell_type": "code",
   "execution_count": 2,
   "metadata": {},
   "outputs": [],
   "source": [
    "hipaa = loader.list_tables(in_schema=['hipaa'])\n",
    "xref = loader.list_tables(in_schema=['xref'])"
   ]
  },
  {
   "cell_type": "code",
   "execution_count": 3,
   "metadata": {},
   "outputs": [],
   "source": [
    "xref = xref[~find(['mapping','cdm'], xref.Table)]"
   ]
  },
  {
   "cell_type": "code",
   "execution_count": 4,
   "metadata": {},
   "outputs": [
    {
     "data": {
      "text/html": [
       "<div>\n",
       "<style scoped>\n",
       "    .dataframe tbody tr th:only-of-type {\n",
       "        vertical-align: middle;\n",
       "    }\n",
       "\n",
       "    .dataframe tbody tr th {\n",
       "        vertical-align: top;\n",
       "    }\n",
       "\n",
       "    .dataframe thead th {\n",
       "        text-align: right;\n",
       "    }\n",
       "</style>\n",
       "<table border=\"1\" class=\"dataframe\">\n",
       "  <thead>\n",
       "    <tr style=\"text-align: right;\">\n",
       "      <th></th>\n",
       "      <th>Schema</th>\n",
       "      <th>Table</th>\n",
       "    </tr>\n",
       "  </thead>\n",
       "  <tbody>\n",
       "    <tr>\n",
       "      <th>1</th>\n",
       "      <td>xref</td>\n",
       "      <td>concept</td>\n",
       "    </tr>\n",
       "    <tr>\n",
       "      <th>2</th>\n",
       "      <td>xref</td>\n",
       "      <td>vocabulary</td>\n",
       "    </tr>\n",
       "    <tr>\n",
       "      <th>3</th>\n",
       "      <td>xref</td>\n",
       "      <td>domain</td>\n",
       "    </tr>\n",
       "    <tr>\n",
       "      <th>4</th>\n",
       "      <td>xref</td>\n",
       "      <td>concept_class</td>\n",
       "    </tr>\n",
       "    <tr>\n",
       "      <th>5</th>\n",
       "      <td>xref</td>\n",
       "      <td>concept_relationship</td>\n",
       "    </tr>\n",
       "    <tr>\n",
       "      <th>6</th>\n",
       "      <td>xref</td>\n",
       "      <td>relationship</td>\n",
       "    </tr>\n",
       "    <tr>\n",
       "      <th>7</th>\n",
       "      <td>xref</td>\n",
       "      <td>concept_synonym</td>\n",
       "    </tr>\n",
       "    <tr>\n",
       "      <th>8</th>\n",
       "      <td>xref</td>\n",
       "      <td>concept_ancestor</td>\n",
       "    </tr>\n",
       "    <tr>\n",
       "      <th>9</th>\n",
       "      <td>xref</td>\n",
       "      <td>source_to_concept_map</td>\n",
       "    </tr>\n",
       "    <tr>\n",
       "      <th>10</th>\n",
       "      <td>xref</td>\n",
       "      <td>drug_strength</td>\n",
       "    </tr>\n",
       "  </tbody>\n",
       "</table>\n",
       "</div>"
      ],
      "text/plain": [
       "   Schema                  Table\n",
       "1    xref                concept\n",
       "2    xref             vocabulary\n",
       "3    xref                 domain\n",
       "4    xref          concept_class\n",
       "5    xref   concept_relationship\n",
       "6    xref           relationship\n",
       "7    xref        concept_synonym\n",
       "8    xref       concept_ancestor\n",
       "9    xref  source_to_concept_map\n",
       "10   xref          drug_strength"
      ]
     },
     "execution_count": 4,
     "metadata": {},
     "output_type": "execute_result"
    }
   ],
   "source": [
    "xref"
   ]
  },
  {
   "cell_type": "code",
   "execution_count": 5,
   "metadata": {},
   "outputs": [
    {
     "name": "stdout",
     "output_type": "stream",
     "text": [
      "Exporting source_to_concept_map finished in 00:00:00\n",
      "Exporting csv files finished in 00:00:05\n"
     ]
    }
   ],
   "source": [
    "with timeitc('Exporting csv files'):\n",
    "    dirpath = os.path.join(rpath, 'vocabulary')\n",
    "#     for table in xref.Table:\n",
    "    to_csv(dirpath, 'source_to_concept_map', 2000, 'xref', 'edw.***REMOVED***.edu', 'dws_omop')"
   ]
  },
  {
   "cell_type": "raw",
   "metadata": {},
   "source": [
    "Exporting person finished in 00:00:08\n",
    "Exporting death finished in 00:00:00\n",
    "Exporting visit_occurrence finished in 00:18:48\n",
    "Exporting condition_occurrence finished in 00:42:56\n",
    "Exporting procedure_occurrence finished in 00:06:37\n",
    "Exporting drug_exposure finished in 01:30:58\n",
    "Exporting measurement finished in 05:23:56\n",
    "Exporting observation finished in 00:55:45\n",
    "Exporting observation_period finished in 00:00:02\n",
    "Exporting device_exposure finished in 00:00:00\n",
    "Exporting provider finished in 00:00:00\n",
    "Exporting location finished in 00:00:02\n",
    "Exporting care_site finished in 00:00:00\n",
    "Exporting csv files finished in 09:01:10"
   ]
  },
  {
   "cell_type": "code",
   "execution_count": 24,
   "metadata": {},
   "outputs": [
    {
     "data": {
      "text/plain": [
       "122.54599732155617"
      ]
     },
     "execution_count": 24,
     "metadata": {},
     "output_type": "execute_result"
    }
   ],
   "source": [
    "# import os\n",
    "\n",
    "# os.chdir('Z:\\OMOP\\omop_etl')\n",
    "# print(os.getcwd())\n",
    "\n",
    "# import pandas as pd\n",
    "# from omop_etl.datastore import DataStore\n",
    "# import pandas as pd\n",
    "# from turbodbc import connect, make_options, Megabytes, Rows\n",
    "# import time\n",
    "# import math\n",
    "# import numpy as np\n",
    "# from pydma.databases import OneFLDb\n",
    "# from pydma.utils import find\n",
    "\n",
    "#from https://stackoverflow.com/questions/5478351/python-time-measure-function\n",
    "# from contextlib import contextmanager\n",
    "\n",
    "# @contextmanager\n",
    "# def timeit_context(name=None):\n",
    "#     startTime = time.time()\n",
    "#     yield\n",
    "#     elapsedTime = time.time() - startTime\n",
    "#     print('{} finished in {}'.format(name, \n",
    "#                                      time.strftime(\"%H h %M m %S s\", \n",
    "#                                      time.gmtime(elapsedTime))))\n",
    "\n",
    "# table = \"measurement\"\n",
    "# batch_size = 1_000_000\n",
    "# omop = OneFLDb('edw', database='DWS_OMOP')\n",
    "# tables = ['measurement']#'device_exposure', 'person', 'death', 'location', 'provider', 'care_site', 'visit_occurrence', \n",
    "# #           'drug_exposure','condition_occurrence', 'observation', 'procedure_occurrence', 'observation_period']\n",
    "# rpath = '//share.***REMOVED***/COVID-19/OMOP/data_releases/v7'\n",
    "# #omop.list_tables(in_schema=['hipaa'])\n",
    "# # print(tables.Table.to_list())\n",
    "# # n_batches = 40\n",
    "\n",
    "# def nrows(table):\n",
    "#     \"\"\"Returns table number of rows.\n",
    "#     \"\"\"\n",
    "#     con = connect(driver='{SQL Server}', server='edw.***REMOVED***.edu', \n",
    "#                   database='DWS_OMOP', trusted_connection='yes')\n",
    "#     cursor= con.cursor()\n",
    "#     con.autocommit = True\n",
    "#     cursor.execute(\"EXEC sp_spaceused N'hipaa.{}';\".format(table))\n",
    "#     result = cursor.fetchall()[0]\n",
    "#     con.close()\n",
    "    \n",
    "#     return result\n",
    "\n",
    "# table = 'drug_exposure'\n",
    "# # for table in tables: \n",
    "# results = nrows(table)\n",
    "# kb_row = int(results[2].split(' ')[0])/int(results[1])\n",
    "# # n_batches = math.ceil(rows/batch_size)\n",
    "# # # batch_size = math.ceil(rows/n_batches)\n",
    "# # print('Total rows: ', rows, '\\nBatch size: ', batch_size, '\\nBatches:', n_batches)\n",
    "# kb_row*1e6/1000"
   ]
  },
  {
   "cell_type": "code",
   "execution_count": null,
   "metadata": {},
   "outputs": [
    {
     "name": "stdout",
     "output_type": "stream",
     "text": [
      "Exporting drug_exposure finished in 01 h 00 m 54 s\n",
      "Exporting visit_occurrence finished in 00 h 15 m 13 s\n"
     ]
    }
   ],
   "source": [
    "# table = 'visit_occurrence'\n",
    "# rpath = '//share.***REMOVED***/COVID-19/OMOP/data_releases/v7'\n",
    "# tables = ['drug_exposure', 'visit_occurrence', 'measurement']\n",
    "\n",
    "# for table in tables:\n",
    "#     # Set batch size in number of rows\n",
    "#     options = make_options(read_buffer_size=Megabytes(2000), \n",
    "#                            prefer_unicode=True,\n",
    "#                            use_async_io=True,\n",
    "#                            limit_varchar_results_to_max=True)\n",
    "\n",
    "#     con = connect(driver='{SQL Server}', server='edw.***REMOVED***.edu', database='DWS_OMOP', \n",
    "#                   trusted_connection='yes', turbodbc_options=options)\n",
    "\n",
    "#     cursor = con.cursor()\n",
    "#     cursor.execute(f\"select * from hipaa.{table}\")\n",
    "#     batches = cursor.fetchnumpybatches()\n",
    "\n",
    "#     count = 0\n",
    "#     file = os.path.join(rpath, table + '.csv')\n",
    "\n",
    "#     with timeit_context(f'Exporting {table}'):\n",
    "#         if os.path.exists(file):\n",
    "#             os.remove(file)\n",
    "\n",
    "#         for batch in batches:\n",
    "\n",
    "#             df = pd.DataFrame(batch)\n",
    "\n",
    "#             if count == 0:\n",
    "#                 dtypes = {t:batch[t].dtype.type for t in batch.keys()}\n",
    "#                 for dtype in dtypes.keys():\n",
    "#                     if dtypes[dtype] == np.int64:\n",
    "#                         dtypes[dtype] = 'Int64'\n",
    "#                     else:\n",
    "#                         dtypes[dtype] = 'str'\n",
    "\n",
    "#                 df = df.astype(dtypes)\n",
    "#                 df.to_csv(file, index=False, sep='\\t')\n",
    "\n",
    "#             else: \n",
    "#                 df = df.astype(dtypes)\n",
    "#                 df.to_csv(file, header=False, index=False, mode='a', sep='\\t')\n",
    "\n",
    "#             count =+ 1\n",
    "\n",
    "#         con.close()"
   ]
  },
  {
   "cell_type": "code",
   "execution_count": 20,
   "metadata": {},
   "outputs": [
    {
     "name": "stdout",
     "output_type": "stream",
     "text": [
      "Rows: (7956, 23)\n",
      "Memory usage (MB): 5.603933\n"
     ]
    }
   ],
   "source": [
    "# count = 0\n",
    "# for batch in batches:\n",
    "#     if count == 0:\n",
    "#         df = pd.DataFrame(batch)\n",
    "#         print('Rows:',df.shape)\n",
    "#         print('Memory usage (MB):', df.memory_usage(deep=True).sum()/1e6)\n",
    "#     else: break\n",
    "#     count+=1"
   ]
  },
  {
   "cell_type": "code",
   "execution_count": 46,
   "metadata": {},
   "outputs": [],
   "source": [
    "# file = os.path.join(rpath, table + '.csv')\n",
    "# count = 1\n",
    "# with timeit_context(f'Exporting {table}'):\n",
    "#     if os.path.exists(file):\n",
    "#         os.remove(file)\n",
    "    \n",
    "#     with open(file, 'a') as f:\n",
    "#         with omop.engine.connect() as con:\n",
    "#             header = pd.read_sql('select top 0 * from {}'.format(table), con)\n",
    "#             header.to_csv(f, index=False, sep='\\t')\n",
    "#             for chunk in pd.read_sql('select * from {}'.format(table), con, coerce_float=False, chunksize=batch_size):\n",
    "#                 if count > 1: break\n",
    "# #                 chunk.to_csv(f, header=False, index=False, sep='\\t')\n",
    "#                 print(f'Batch {count}/{n_batches} complete.', end='\\r')\n",
    "#                 count=+1"
   ]
  },
  {
   "cell_type": "code",
   "execution_count": 46,
   "metadata": {},
   "outputs": [],
   "source": [
    "# Set batch size in number of rows\n",
    "\n",
    "# with ncov.engine.connect() as con:\n",
    "#     drug = pd.read_sql('select * from {}'.format(table), con, chunksize=batch_size)"
   ]
  },
  {
   "cell_type": "code",
   "execution_count": null,
   "metadata": {},
   "outputs": [],
   "source": []
  }
 ],
 "metadata": {
  "kernelspec": {
   "display_name": "Python 3",
   "language": "python",
   "name": "python3"
  },
  "language_info": {
   "codemirror_mode": {
    "name": "ipython",
    "version": 3
   },
   "file_extension": ".py",
   "mimetype": "text/x-python",
   "name": "python",
   "nbconvert_exporter": "python",
   "pygments_lexer": "ipython3",
   "version": "3.7.10"
  }
 },
 "nbformat": 4,
 "nbformat_minor": 4
}
