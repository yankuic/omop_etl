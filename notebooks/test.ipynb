{
 "metadata": {
  "language_info": {
   "codemirror_mode": {
    "name": "ipython",
    "version": 3
   },
   "file_extension": ".py",
   "mimetype": "text/x-python",
   "name": "python",
   "nbconvert_exporter": "python",
   "pygments_lexer": "ipython3",
   "version": "3.7.4-final"
  },
  "orig_nbformat": 2,
  "kernelspec": {
   "name": "python3",
   "display_name": "Python 3",
   "language": "python"
  }
 },
 "nbformat": 4,
 "nbformat_minor": 2,
 "cells": [
  {
   "cell_type": "code",
   "execution_count": 1,
   "metadata": {},
   "outputs": [
    {
     "output_type": "stream",
     "name": "stdout",
     "text": [
      "z:\\OMOP\\omop_etl\n"
     ]
    }
   ],
   "source": [
    "import yaml\n",
    "import os\n",
    "os.chdir('..')\n",
    "print(os.getcwd())"
   ]
  },
  {
   "cell_type": "code",
   "execution_count": 2,
   "metadata": {},
   "outputs": [
    {
     "output_type": "stream",
     "name": "stdout",
     "text": [
      "Preloading drug_exposure (order) ...\n",
      "preload complete. Elapsed time 00:00:06\n",
      "Preloading drug_exposure (admin) ...\n",
      "preload complete. Elapsed time 00:00:06\n",
      "Loading drug_exposure ...\n",
      "load_table complete. Elapsed time 00:00:13\n",
      "5904 rows affected\n",
      "z:\\OMOP\\omop_etl\n"
     ]
    }
   ],
   "source": [
    "%run -i run_etl.py"
   ]
  },
  {
   "cell_type": "code",
   "execution_count": 3,
   "metadata": {},
   "outputs": [],
   "source": [
    "from omop_etl.postproc.load import Loader, truncate\n",
    "load = Loader('config.yml')\n",
    "# load.load_person()\n",
    "# load.preload('measurement','height')"
   ]
  },
  {
   "cell_type": "code",
   "execution_count": 5,
   "metadata": {},
   "outputs": [
    {
     "output_type": "stream",
     "name": "stdout",
     "text": [
      "Preloading condition_occurrence (None) ...\n",
      "preload complete. Elapsed time 00:00:02\n",
      "Loading condition_occurrence ...\n",
      "load_table complete. Elapsed time 00:00:03\n"
     ]
    },
    {
     "output_type": "execute_result",
     "data": {
      "text/plain": [
       "'1322 rows affected'"
      ]
     },
     "metadata": {},
     "execution_count": 5
    }
   ],
   "source": [
    "load.load_table('condition_occurrence')"
   ]
  },
  {
   "cell_type": "code",
   "execution_count": 3,
   "metadata": {},
   "outputs": [],
   "source": [
    "# truncate('preload','drug_exposure', load.engine)"
   ]
  },
  {
   "cell_type": "code",
   "execution_count": 2,
   "metadata": {},
   "outputs": [],
   "source": [
    "f = open('config.yml')\n",
    "load = yaml.safe_load(f)\n",
    "# print(preload)\n",
    "# list(preload['preload']['drug'].keys())"
   ]
  },
  {
   "cell_type": "code",
   "execution_count": 4,
   "metadata": {},
   "outputs": [
    {
     "output_type": "stream",
     "name": "stdout",
     "text": [
      "['PERSON', 'DEATH', 'CONDITION', 'PROCEDURE_ICD', 'PROCEDURE_CPT', 'DRUG_ADMIN', 'DRUG_ORDER', 'MEASUREMENT_BP', 'MEASUREMENT_HeartRate', 'MEASUREMENT_Height']\n"
     ]
    }
   ],
   "source": [
    "STAGE = {\n",
    "    'person': 'PERSON',\n",
    "    'death': 'DEATH',\n",
    "    'condition_occurrence': 'CONDITION',\n",
    "    'procedure_occurrence': {\n",
    "        'cpt': 'PROCEDURE_CPT',\n",
    "        'icd': 'PROCEDURE_ICD'\n",
    "    },\n",
    "    'drug_exposure': {\n",
    "        'order': 'DRUG_ADMIN', \n",
    "        'admin': 'DRUG_ORDER'\n",
    "    },\n",
    "    'measurement': {\n",
    "        'bp': 'MEASUREMENT_BP',\n",
    "        'res_pip': 'MEASUREMENT_Res_PIP',\n",
    "        'heart_rate': 'MEASUREMENT_HeartRate',\n",
    "        'height': 'MEASUREMENT_Height'\n",
    "    }\n",
    "}\n",
    "\n",
    "dp_list = []\n",
    "for t in load['load'].keys():\n",
    "    if load['load'][t]:\n",
    "        for part in load['load'][t].keys(): \n",
    "            dp_list.append(STAGE[t][part])\n",
    "    else: \n",
    "        dp_list.append(STAGE[t])\n",
    "        \n",
    "print(dp_list)"
   ]
  },
  {
   "cell_type": "code",
   "execution_count": 6,
   "metadata": {},
   "outputs": [],
   "source": [
    "from omop_etl.datastore import DataStore, execute\n",
    "omop = DataStore('config.yml')\n",
    "# t = omop.list_tables(in_schema=['preload'])"
   ]
  },
  {
   "cell_type": "code",
   "execution_count": 8,
   "metadata": {},
   "outputs": [],
   "source": [
    "omop.config_param['load']['condition_occurrence']"
   ]
  },
  {
   "cell_type": "code",
   "execution_count": 21,
   "metadata": {},
   "outputs": [],
   "source": [
    "# for table in t.Table:\n",
    "#     execute(f'drop table if exists preload.{table}', omop.engine)"
   ]
  },
  {
   "cell_type": "code",
   "execution_count": 2,
   "metadata": {},
   "outputs": [
    {
     "output_type": "stream",
     "name": "stdout",
     "text": [
      "Start time: 2021-01-14 09:51:51.962589\n\n"
     ]
    }
   ],
   "source": [
    "%run -i omop_etl/pullrawdata/pull_raw_data_v2.py"
   ]
  },
  {
   "cell_type": "code",
   "execution_count": null,
   "metadata": {},
   "outputs": [],
   "source": []
  }
 ]
}