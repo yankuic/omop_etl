{
 "cells": [
  {
   "cell_type": "code",
   "execution_count": 1,
   "metadata": {},
   "outputs": [
    {
     "name": "stdout",
     "output_type": "stream",
     "text": [
      "Z:\\OMOP\\omop_etl\n"
     ]
    }
   ],
   "source": [
    "import yaml\n",
    "import sqlparse\n",
    "import os\n",
    "import re\n",
    "\n",
    "import pandas as pd\n",
    "os.chdir('Z:\\OMOP\\omop_etl')\n",
    "print(os.getcwd())\n",
    "\n",
    "from omop_etl.datastore import DataStore, format_bo_sql\n",
    "from omop_etl.load import Loader\n",
    "from omop_etl.utils import search\n",
    "\n",
    "# Generate cohort\n",
    "omop = DataStore('config.yml')"
   ]
  },
  {
   "cell_type": "code",
   "execution_count": null,
   "metadata": {},
   "outputs": [],
   "source": []
  },
  {
   "cell_type": "code",
   "execution_count": 2,
   "metadata": {},
   "outputs": [],
   "source": [
    "omop = DataStore('config.yml')\n",
    "\n",
    "def format_stage_query(dp_name):\n",
    "\n",
    "    with open('omop_etl/stage_config.yml') as f:\n",
    "        yml = yaml.safe_load(f) \n",
    "    \n",
    "    aliases= yml['aliases'][dp_name]\n",
    "    bo_queries = omop.get_bo_query('omop')\n",
    "\n",
    "    start_date = omop.config_param['date_range']['start_date']\n",
    "    end_date = omop.config_param['date_range']['end_date']\n",
    "\n",
    "    sql_query = format_bo_sql(bo_queries[dp_name], dp_name, schema='stage', aliases=aliases)\n",
    "    patient_id = \"select PATIENT_KEY from DWS_OMOP.cohort.PersonList\"\n",
    "    sql_query = sql_query.replace(\"12345678\", patient_id)\n",
    "    sql_query = sql_query.replace(\"01/01/1900 00:0:0\", start_date)\n",
    "    sql_query = sql_query.replace(\"12/31/1900 00:0:0\", end_date)\n",
    "\n",
    "    sql_query = sqlparse.format(sql_query, reindent_aligned=True, indent_with=1)\n",
    "\n",
    "    return f\"EXECUTE ('USE [DWS_PROD];\\n {sql_query}')\" "
   ]
  },
  {
   "cell_type": "code",
   "execution_count": 18,
   "metadata": {},
   "outputs": [
    {
     "name": "stdout",
     "output_type": "stream",
     "text": [
      "EXECUTE ('USE [DWS_PROD];\n",
      " DROP TABLE IF EXISTS DWS_OMOP.stage.MEASUREMENT_Height;SELECT DISTINCT dbo.ALL_PATIENTS.PATNT_KEY AS patient_key,\n",
      "       PATNT_ENCNTR_KEY_XREF1.PATNT_ENCNTR_KEY AS patnt_encntr_key,\n",
      "       Flowsheet_HTandWT_Height.MEASR_TAKN_DATE AS height_date,\n",
      "       Flowsheet_HTandWT_Height.MEASR_TAKN_DT AS height_datetime,\n",
      "       try_convert(real,Flowsheet_HTandWT_Height.MEASR_VALUE) AS height_inch,\n",
      "       (try_convert(real,Flowsheet_HTandWT_Height.MEASR_VALUE))*2.54 AS height_cm,\n",
      "       ALL_PROVIDERS_PT_IND.PROVIDR_KEY AS attending_provider,\n",
      "       ALL_PROVIDERS_VISIT.PROVIDR_KEY AS visit_provider INTO DWS_OMOP.stage.MEASUREMENT_Height\n",
      "  FROM dbo.ALL_PATIENTS\n",
      " RIGHT OUTER JOIN dbo.ALL_PATIENT_SNAPSHOTS ALL_PT_SNAPSHOTS_ENCOUNTER\n",
      "    ON (ALL_PT_SNAPSHOTS_ENCOUNTER.PATNT_KEY=dbo.ALL_PATIENTS.PATNT_KEY)\n",
      " RIGHT OUTER JOIN dbo.PATIENT_ENCOUNTER_DTL\n",
      "    ON (ALL_PT_SNAPSHOTS_ENCOUNTER.PATNT_SNAPSHT_KEY=dbo.PATIENT_ENCOUNTER_DTL.DSCHRG_PATNT_SNAPSHT_KEY AND dbo.PATIENT_ENCOUNTER_DTL.TEST_IND=''N'')\n",
      "  LEFT OUTER JOIN dbo.PATNT_ENCNTR_KEY_XREF PATNT_ENCNTR_KEY_XREF1\n",
      "    ON (dbo.PATIENT_ENCOUNTER_DTL.PATNT_ENCNTR_KEY=PATNT_ENCNTR_KEY_XREF1.PATNT_ENCNTR_KEY AND dbo.PATIENT_ENCOUNTER_DTL.TEST_IND=''N'')\n",
      "  LEFT OUTER JOIN (\n",
      "        SELECT DISTINCT a.LINK_PATNT_ENCNTR_KEY,\n",
      "               a.PATNT_ENCNTR_KEY,\n",
      "               a.MEASR_TAKN_DT,\n",
      "               a.MEASR_TAKN_DATE\n",
      "          FROM flowsheet_measure_dtl a\n",
      "          join all_flowsheet_measures b\n",
      "            on a.flowsht_measr_key=b.flowsht_measr_key\n",
      "         where b.ETL_IND = ''Y''\n",
      "           and a.MEASR_VALUE is not null\n",
      "           and b.STNDRD_LABEL_CAT is not null\n",
      "       ) Flowsheet_Enc_Dttime\n",
      "    ON (dbo.PATIENT_ENCOUNTER_DTL.TEST_IND=''N'' AND dbo.PATIENT_ENCOUNTER_DTL.PATNT_ENCNTR_KEY=Flowsheet_Enc_Dttime.LINK_PATNT_ENCNTR_KEY)\n",
      "  LEFT OUTER JOIN (\n",
      "        SELECT DISTINCT a.PATNT_ENCNTR_KEY,\n",
      "               a.MEASR_TAKN_DT,\n",
      "               a.MEASR_TAKN_DATE\n",
      "          FROM flowsheet_measure_dtl a\n",
      "          join all_flowsheet_measures b on(a.flowsht_measr_key=b.flowsht_measr_key)\n",
      "         where b.stndrd_label_cat in(''HT AND WT'')\n",
      "           and a.measr_value is not null\n",
      "       ) Flowsheet_Enc_Dttime_HTandWT\n",
      "    ON (Flowsheet_Enc_Dttime.PATNT_ENCNTR_KEY=Flowsheet_Enc_Dttime_HTandWT.PATNT_ENCNTR_KEY AND Flowsheet_Enc_Dttime.MEASR_TAKN_DT=Flowsheet_Enc_Dttime_HTandWT.MEASR_TAKN_DT)\n",
      "  LEFT OUTER JOIN (\n",
      "        select a.*\n",
      "          from flowsheet_measure_dtl a\n",
      "          join all_flowsheet_measures b\n",
      "            on a.flowsht_measr_key=b.flowsht_measr_key\n",
      "         where b.stndrd_label_dtl = ''HEIGHT''\n",
      "           and a.measr_value is not null\n",
      "       ) Flowsheet_HTandWT_Height\n",
      "    ON (Flowsheet_Enc_Dttime_HTandWT.PATNT_ENCNTR_KEY=Flowsheet_HTandWT_Height.PATNT_ENCNTR_KEY AND Flowsheet_Enc_Dttime_HTandWT.MEASR_TAKN_DT=Flowsheet_HTandWT_Height.MEASR_TAKN_DT)\n",
      "  LEFT OUTER JOIN (\n",
      "        SELECT DISTINCT a.PATNT_ENCNTR_KEY,\n",
      "               a.MEASR_TAKN_DT,\n",
      "               a.MEASR_TAKN_DATE\n",
      "          FROM flowsheet_measure_dtl a\n",
      "          join all_flowsheet_measures b on(a.flowsht_measr_key=b.flowsht_measr_key)\n",
      "         where b.stndrd_label_cat in(''RESPIRATORY'')\n",
      "           and a.measr_value is not null\n",
      "       ) Flowsheet_Enc_Dttime_RESP\n",
      "    ON (Flowsheet_Enc_Dttime.PATNT_ENCNTR_KEY=Flowsheet_Enc_Dttime_RESP.PATNT_ENCNTR_KEY AND Flowsheet_Enc_Dttime.MEASR_TAKN_DT=Flowsheet_Enc_Dttime_RESP.MEASR_TAKN_DT)\n",
      "  LEFT OUTER JOIN PATIENT_ENCOUNTER_DAILY_SUMMARY\n",
      "    ON (dbo.PATIENT_ENCOUNTER_DTL.TEST_IND=''N'' AND PATIENT_ENCOUNTER_DAILY_SUMMARY.PATNT_ENCNTR_KEY=dbo.PATIENT_ENCOUNTER_DTL.PATNT_ENCNTR_KEY)\n",
      "  LEFT OUTER JOIN dbo.ALL_PROVIDERS ALL_PROVIDERS_PT_IND\n",
      "    ON (PATIENT_ENCOUNTER_DAILY_SUMMARY.ATTND_PROVIDR_KEY=ALL_PROVIDERS_PT_IND.PROVIDR_KEY)\n",
      "  LEFT OUTER JOIN dbo.ALL_PROVIDERS ALL_PROVIDERS_VISIT\n",
      "    ON (dbo.PATIENT_ENCOUNTER_DTL.TEST_IND=''N'' AND dbo.PATIENT_ENCOUNTER_DTL.VISIT_PROVIDR_KEY=ALL_PROVIDERS_VISIT.PROVIDR_KEY)\n",
      " WHERE (dbo.ALL_PATIENTS.PATNT_KEY IN (select PATIENT_KEY from DWS_OMOP.cohort.PersonList) AND Flowsheet_Enc_Dttime_RESP.MEASR_TAKN_DATE >= ''01/01/2012'' AND ((try_convert(real,Flowsheet_HTandWT_Height.MEASR_VALUE))*2.54 Is Not Null OR try_convert(real,Flowsheet_HTandWT_Height.MEASR_VALUE) Is Not Null) AND (dbo.ALL_PATIENTS.TEST_IND=''N''))')\n"
     ]
    }
   ],
   "source": [
    "table = 'MEASUREMENT_Height'\n",
    "print(format_stage_query(table))\n",
    "bo_queries = omop.get_bo_query('omop')"
   ]
  },
  {
   "cell_type": "code",
   "execution_count": 6,
   "metadata": {},
   "outputs": [
    {
     "name": "stdout",
     "output_type": "stream",
     "text": [
      "dict_keys(['CONDITION', 'DEATH', 'DRUG_ADMIN', 'DRUG_ORDER', 'MEASUREMENT_BP', 'MEASUREMENT_HeartRate', 'MEASUREMENT_Height', 'MEASUREMENT_LAB', 'MEASUREMENT_PainScale', 'MEASUREMENT_QTCB', 'MEASUREMENT_Res_Device', 'MEASUREMENT_Res_ETCO2', 'MEASUREMENT_Res_FIO2', 'MEASUREMENT_Res_GCS', 'MEASUREMENT_Res_O2', 'MEASUREMENT_Res_PEEP', 'MEASUREMENT_Res_PIP', 'MEASUREMENT_Res_RESP', 'MEASUREMENT_Res_SPO2', 'MEASUREMENT_Res_Tidal', 'MEASUREMENT_Res_Vent', 'MEASUREMENT_Rothman', 'MEASUREMENT_SOFA', 'MEASUREMENT_Temp', 'MEASUREMENT_Weight', 'OBSERVATION_ICU', 'OBSERVATION_LDA', 'OBSERVATION_Payer', 'OBSERVATION_Smoking', 'OBSERVATION_Vent', 'OBSERVATION_Zipcode', 'PERSON', 'PROCEDURE_CPT', 'PROCEDURE_ICD', 'VISIT'])\n"
     ]
    }
   ],
   "source": [
    "bo_queries = omop.get_bo_query('omop')\n",
    "print(bo_queries.keys())\n",
    "\n",
    "# for t in bo_queries.keys():\n",
    "#     f = open(f'./output/sqlstring_{t.lower()}.sql', 'w')\n",
    "    # f.write(format_stage_query(t))\n",
    "    # f.close()\n",
    "\n",
    "# aliases= yml[table]\n",
    "# format_bo_sql(bo_queries[table], table, schema='stage')\n",
    "# omop.execute(format_stage_query('MEASUREMENT_HeartRate'))\n",
    "\n",
    "# aliases = {}\n",
    "# for t in bo_queries.keys():\n",
    "#     with omop.engine.connect() as con:\n",
    "#         cols = pd.read_sql(f\"select top 0 * from stage.{t}\", con)\n",
    "#         aliases[t] = [x.lower() for x in cols.columns]\n",
    "\n",
    "# with open('col_aliases.yml', 'w') as f:\n",
    "#     yaml.dump(aliases, f)\n",
    "#     f.close()"
   ]
  },
  {
   "cell_type": "code",
   "execution_count": 13,
   "metadata": {},
   "outputs": [],
   "source": [
    "bo_queries = omop.get_bo_query('omop')\n",
    "sqlstring = bo_queries['MEASUREMENT_BP']\n",
    "parsed = sqlparse.parse(sqlstring)[0]\n",
    "idx = [parsed.token_index(t) for t in parsed if t.is_keyword and t.value == 'FROM'][0]\n",
    "columns = parsed.token_prev(idx)[1]\n",
    "\n",
    "# Extract columns from SELECT clause. If duplicated columns, use alias, \n",
    "# else append abbreviated source table name.\n",
    "colnames = [i.value.split('.')[-1] for i in columns]\n",
    "dup_cols = set([x for x in colnames if colnames.count(x) > 1])\n",
    "new_colnames = []\n",
    "\n",
    "counter = 0\n",
    "for item in columns:\n",
    "    if isinstance(item, sqlparse.sql.Identifier):\n",
    "        colname = item.value.split('.')[-1]\n",
    "        tabname = item.value.split('.')[-2]\n",
    "        shrt_tabname = '_'.join([word[:3] for word in tabname.split('_')])\n",
    "        # print('Identifier', item.value)\n",
    "    \n",
    "    elif isinstance(item, sqlparse.sql.Function):\n",
    "        counter += 1\n",
    "        fn_name = f'FN_{counter}'\n",
    "        for x in item:\n",
    "            if (isinstance(x, sqlparse.sql.Identifier) and x.value == 'cast'):\n",
    "                # print(item.value)\n",
    "                continue\n",
    "            else: \n",
    "                pass\n",
    "            if isinstance(x, sqlparse.sql.Parenthesis): \n",
    "                for y in x:\n",
    "                    if isinstance(y, sqlparse.sql.Identifier):\n",
    "                        col, dtype = [i.strip() for i in y.value.split('as')]\n",
    "                        # print(f'try_convert({dtype}, {col})')\n",
    "    \n",
    "    # else: \n",
    "    #     print('Something else', item.__repr__)"
   ]
  },
  {
   "cell_type": "code",
   "execution_count": 11,
   "metadata": {},
   "outputs": [
    {
     "name": "stdout",
     "output_type": "stream",
     "text": [
      "cast(Flowsheet_RESP_O2_mL.MEASR_VALUE as numeric(10,2))\n",
      "(  dbo.ALL_PATIENTS.PATNT_KEY IN ( 12345678 )  AND  Flowsheet_Enc_Dttime_RESP.MEASR_TAKN_DATE >= '01/01/1900 00:0:0'  AND  (   try_convert( numeric(10,2),Flowsheet_RESP_O2_mL.MEASR_VALUE ) Is Not Null    OR   cast(Flowsheet_RESP_O2_Liter.MEASR_VALUE as numeric(10,2)) Is Not Null   )  AND  ( dbo.ALL_PATIENTS.TEST_IND='N' )  )\n",
      "cast(Flowsheet_RESP_O2_Liter.MEASR_VALUE as numeric(10,2))\n",
      "(  dbo.ALL_PATIENTS.PATNT_KEY IN ( 12345678 )  AND  Flowsheet_Enc_Dttime_RESP.MEASR_TAKN_DATE >= '01/01/1900 00:0:0'  AND  (   try_convert( numeric(10,2),Flowsheet_RESP_O2_mL.MEASR_VALUE ) Is Not Null    OR   try_convert( numeric(10,2),Flowsheet_RESP_O2_Liter.MEASR_VALUE ) Is Not Null   )  AND  ( dbo.ALL_PATIENTS.TEST_IND='N' )  )\n"
     ]
    }
   ],
   "source": [
    "def flatten(alist):\n",
    "    return [i for sbl in alist for i in sbl]\n",
    "\n",
    "# def replace_cast_with_try_convert(parsed):    \n",
    "items = []\n",
    "for token in parsed.tokens:\n",
    "    if isinstance(token, sqlparse.sql.IdentifierList) or isinstance(token, sqlparse.sql.Where):\n",
    "        items = [item for item in token if search('cast', item.value)]\n",
    "\n",
    "        for item in items:\n",
    "            if isinstance(item, sqlparse.sql.Function):\n",
    "                col, dtype = flatten([[i.value.split('as') for i in p if isinstance(i, sqlparse.sql.Identifier)] \n",
    "                                       for p in item if isinstance(p, sqlparse.sql.Parenthesis)])[0]\n",
    "                item.value = f'try_convert({dtype},{col})'\n",
    "            else:\n",
    "                fun_list = flatten([[a for a in i if isinstance(a, sqlparse.sql.Function)] \n",
    "                                     for i in item if search('cast', i.value)])\n",
    "                for fun in fun_list:\n",
    "                    col, dtype = flatten([[i.value.split('as') for i in p if isinstance(i, sqlparse.sql.Identifier)] \n",
    "                                           for p in fun if isinstance(p, sqlparse.sql.Parenthesis)][0])\n",
    "                    print(fun.value)\n",
    "                    item.value = item.value.replace(fun.value, f'try_convert({dtype},{col})')\n",
    "                    print(item.value)\n",
    "        \n",
    "        token.value = ''.join(item.value for item in token)\n"
   ]
  },
  {
   "cell_type": "code",
   "execution_count": 14,
   "metadata": {},
   "outputs": [
    {
     "name": "stdout",
     "output_type": "stream",
     "text": [
      "None\n",
      "None\n"
     ]
    }
   ],
   "source": [
    "for token in parsed.tokens:\n",
    "#     print(token.ttype)\n",
    "    if isinstance(token, sqlparse.sql.IdentifierList) or isinstance(token, sqlparse.sql.Where):\n",
    "        print(token.ttype)"
   ]
  },
  {
   "cell_type": "code",
   "execution_count": 2,
   "metadata": {},
   "outputs": [],
   "source": [
    "from omop_etl.stage import Stager\n",
    "stage = Stager('config.yml')\n",
    "# print(l.update_mappings('person'))\n",
    "# print(l.update_mappings('visit_occurrence'))\n",
    "\n",
    "# print(l.preload_all())\n",
    "\n",
    "# print(l.load_table('person'))\n",
    "# print(l.load_table('death'))\n",
    "# print(l.load_table('condition_occurrence'))\n",
    "# print(l.load_table('procedure_occurrence'))\n",
    "# print(l.load_table('drug_exposure'))\n",
    "# print(l.load_table('observation'))\n",
    "# print(l.load_table('provider'))\n",
    "# print(l.load_table('care_site'))\n",
    "# print(l.load_table('location'))"
   ]
  },
  {
   "cell_type": "code",
   "execution_count": 5,
   "metadata": {},
   "outputs": [],
   "source": [
    "load_conf = stage.store.config_param['load']\n",
    "# stage.stage_table('measurement','res_fio2')"
   ]
  },
  {
   "cell_type": "code",
   "execution_count": 15,
   "metadata": {},
   "outputs": [
    {
     "name": "stdout",
     "output_type": "stream",
     "text": [
      "no parts person\n",
      "no parts death\n",
      "no parts condition_occurrence\n",
      "has part procedure_occurrence icd\n",
      "has part procedure_occurrence cpt\n",
      "has part drug_exposure order\n",
      "has part drug_exposure admin\n",
      "has part measurement bp\n",
      "has part measurement heart_rate\n",
      "has part measurement height\n",
      "has part measurement lab\n",
      "has part measurement pain\n",
      "has part measurement qtcb\n",
      "has part measurement res_dev\n",
      "has part measurement res_etco2\n",
      "has part measurement res_fio2\n",
      "has part measurement res_gcs\n",
      "has part measurement res_o2\n",
      "has part measurement res_peep\n",
      "has part measurement res_pip\n",
      "has part measurement res_resp\n",
      "has part measurement res_spo2\n",
      "has part measurement res_tidal\n",
      "has part measurement res_vent\n",
      "has part measurement rothman\n",
      "has part measurement sofa\n",
      "has part measurement temp\n",
      "has part measurement weight\n",
      "has part observation icu\n",
      "has part observation lda\n",
      "has part observation vent\n",
      "has part observation payer\n",
      "has part observation smoking\n",
      "has part observation zipcode\n",
      "no parts visit\n"
     ]
    }
   ],
   "source": [
    "for t in load_conf.keys():\n",
    "    if load_conf[t]:\n",
    "        for part in load_conf[t].keys():\n",
    "            stage.stage_table(t, part)\n",
    "    else:\n",
    "        if t not in ('provider','care_site','location'): \n",
    "            stage.stage_table(t)"
   ]
  },
  {
   "cell_type": "code",
   "execution_count": 131,
   "metadata": {},
   "outputs": [
    {
     "name": "stdout",
     "output_type": "stream",
     "text": [
      "[<Parenthesis '( dbo...' at 0x2A1B00F7AC8>]\n"
     ]
    }
   ],
   "source": [
    "import itertools\n",
    "import re \n",
    "\n",
    "for token in parsed.tokens:\n",
    "    if isinstance(token, sqlparse.sql.Where):\n",
    "        print([item for item in token if search('cast', item.value)])\n",
    "\n",
    "        # par = list(itertools.chain(*token))\n",
    "        # for p in par:\n",
    "        #     print(p.__repr__)\n",
    "            # if isinstance(i, sqlparse.sql.Parenthesis):\n",
    "            #     # defs = extract_definitions(i)\n",
    "            #     for x in i:\n",
    "            #         if isinstance(x, sqlparse.sql.Parenthesis):\n",
    "            #             for y in x:\n",
    "            #                 print(y.__repr__)"
   ]
  },
  {
   "cell_type": "code",
   "execution_count": 79,
   "metadata": {},
   "outputs": [],
   "source": [
    "import sqlparse\n",
    "\n",
    "\n",
    "def extract_definitions(token_list):\n",
    "    # assumes that token_list is a parenthesis\n",
    "    definitions = []\n",
    "    tmp = []\n",
    "    par_level = 0\n",
    "    for token in token_list.flatten():\n",
    "        if token.is_whitespace:\n",
    "            continue\n",
    "        elif token.match(sqlparse.tokens.Punctuation, '('):\n",
    "            par_level += 1\n",
    "            continue\n",
    "        if token.match(sqlparse.tokens.Punctuation, ')'):\n",
    "            if par_level == 0:\n",
    "                break\n",
    "            else:\n",
    "                par_level += 1\n",
    "        elif token.match(sqlparse.tokens.Punctuation, ','):\n",
    "            if tmp:\n",
    "                definitions.append(tmp)\n",
    "            tmp = []\n",
    "        else:\n",
    "            tmp.append(token)\n",
    "    if tmp:\n",
    "        definitions.append(tmp)\n",
    "    return definitions"
   ]
  },
  {
   "cell_type": "code",
   "execution_count": 81,
   "metadata": {},
   "outputs": [
    {
     "name": "stdout",
     "output_type": "stream",
     "text": [
      "NAME: dbo          DEFINITION: . ALL_PATIENTS . PATNT_KEY IN 12345678 AND Flowsheet_Enc_Dttime_RESP . MEASR_TAKN_DATE >= '01/01/1900 00:0:0' AND cast Flowsheet_RESP_O2_mL . MEASR_VALUE as numeric 10\n",
      "NAME: 2            DEFINITION: Is Not Null OR cast Flowsheet_RESP_O2_Liter . MEASR_VALUE as numeric 10\n",
      "NAME: 2            DEFINITION: Is Not Null AND dbo . ALL_PATIENTS . TEST_IND = 'N'\n"
     ]
    }
   ],
   "source": [
    "for d in defs:\n",
    "    print('NAME: {name!s:12} DEFINITION: {definition}'.format(\n",
    "    name=d[0], definition=' '.join(str(t) for t in d[1:])))"
   ]
  },
  {
   "cell_type": "code",
   "execution_count": 25,
   "metadata": {},
   "outputs": [],
   "source": [
    "import yaml\n",
    "\n",
    "MAPPING = {\n",
    "    'person': 'person_mapping.sql',\n",
    "    'visit_occurrence': 'visit_occurrence_mapping.sql'\n",
    "}\n",
    "\n",
    "PRELOAD = {\n",
    "    'condition_occurrence': 'preload_condition.sql', \n",
    "    'procedure_occurrence': {\n",
    "        'cpt': 'preload_procedure_cpt.sql', \n",
    "        'icd': 'preload_procedure_icd.sql'\n",
    "    },\n",
    "    'drug_exposure': {\n",
    "        'order': 'preload_drug_order.sql', \n",
    "        'admin': 'preload_drug_admin.sql'\n",
    "    }, \n",
    "    'measurement': {\n",
    "        'bp': 'preload_measurement_bp.sql', \n",
    "        'heart_rate': 'preload_measurement_heartrate.sql', \n",
    "        'height': 'preload_measurement_height.sql', \n",
    "        'lab': 'preload_measurement_lab.sql', \n",
    "        'pain': 'preload_measurement_painscale.sql', \n",
    "        'qtcb': 'preload_measurement_qtcb.sql', \n",
    "        'res_dev': 'preload_measurement_res_device.sql', \n",
    "        'res_etco2': 'preload_measurement_res_etco2.sql', \n",
    "        'res_fio2': 'preload_measurement_res_fio2.sql', \n",
    "        'res_gcs': 'preload_measurement_res_gcs.sql', \n",
    "        'res_o2': 'preload_measurement_res_o2.sql', \n",
    "        'res_peep': 'preload_measurement_res_peep.sql', \n",
    "        'res_pip': 'preload_measurement_res_pip.sql', \n",
    "        'res_resp': 'preload_measurement_res_resp.sql', \n",
    "        'res_spo2': 'preload_measurement_res_spo2.sql', \n",
    "        'res_tidal': 'preload_measurement_res_tidal.sql', \n",
    "        'res_vent': 'preload_measurement_res_vent.sql', \n",
    "        'rothman': 'preload_measurement_rothman.sql', \n",
    "        'sofa': 'preload_measurement_sofa.sql', \n",
    "        'temp': 'preload_measurement_temp.sql', \n",
    "        'weight': 'preload_measurement_weight.sql'\n",
    "    }, \n",
    "    'observation': {\n",
    "        'icu': 'preload_observation_icu.sql', \n",
    "        'lda': 'preload_observation_lda.sql', \n",
    "        'vent': 'preload_observation_vent.sql',\n",
    "        'payer': 'preload_observation_payer.sql', \n",
    "        'smoking': 'preload_observation_smoking.sql', \n",
    "        'zipcode': 'preload_observation_zipcode.sql'\n",
    "    }\n",
    "}\n",
    "\n",
    "LOAD = {\n",
    "    'person': 'load_person.sql',\n",
    "    'death': 'load_death.sql',\n",
    "    'visit_occurrence': 'load_visit_occurrence.sql',\n",
    "    'observation_period': 'load_observation_period.sql',\n",
    "    'condition_occurrence': 'load_condition.sql',\n",
    "    'procedure_occurrence': 'load_procedure.sql',\n",
    "    'drug_exposure': 'load_drug_exposure.sql',\n",
    "    'measurement': 'load_measurement.sql',\n",
    "    'observation': 'load_observation.sql',\n",
    "    # Load these tables at the end and in order: provider, care_site, location\n",
    "    'provider': 'load_provider.sql',\n",
    "    'care_site': 'load_care_site.sql',\n",
    "    'location': 'load_location.sql'\n",
    "}"
   ]
  },
  {
   "cell_type": "code",
   "execution_count": 26,
   "metadata": {},
   "outputs": [],
   "source": [
    "# with open('load.yaml','w+') as f:\n",
    "#     yaml.dump(MAPPING, f)\n",
    "#     yaml.dump(PRELOAD, f)\n",
    "#     yaml.dump(LOAD, f)"
   ]
  },
  {
   "cell_type": "code",
   "execution_count": 22,
   "metadata": {},
   "outputs": [
    {
     "name": "stdout",
     "output_type": "stream",
     "text": [
      " Volume in drive Z is SH01\n",
      " Volume Serial Number is B8F7-EF52\n",
      "\n",
      " Directory of Z:\\OMOP\\omop_etl\n",
      "\n",
      "04/06/2021  02:31 PM    <DIR>          .\n",
      "04/06/2021  02:31 PM    <DIR>          ..\n",
      "03/19/2021  10:32 AM               144 .gitignore\n",
      "03/19/2021  01:57 PM    <DIR>          .vscode\n",
      "04/05/2021  10:21 AM             1,809 config.yml\n",
      "02/22/2021  02:23 PM    <DIR>          dist\n",
      "03/12/2021  12:42 PM               842 issues.md\n",
      "02/22/2021  02:23 PM               211 MANIFEST\n",
      "04/06/2021  02:30 PM    <DIR>          notebooks\n",
      "02/24/2021  01:01 PM    <DIR>          omop_etl\n",
      "04/06/2021  02:00 PM            89,945 omop_etl.log\n",
      "02/16/2021  02:18 PM    <DIR>          output\n",
      "03/30/2021  08:50 AM             3,293 README.md\n",
      "01/13/2021  02:56 PM             2,753 readme_yujun.md\n",
      "01/27/2021  12:40 PM                30 requirements.txt\n",
      "04/05/2021  02:39 PM             3,248 run_etl.py\n",
      "02/22/2021  02:49 PM               409 setup.py\n",
      "04/06/2021  02:31 PM             1,086 stage.yaml\n",
      "03/19/2021  10:20 AM    <DIR>          validation\n",
      "              11 File(s)        103,770 bytes\n",
      "               8 Dir(s)  6,428,206,661,632 bytes free\n"
     ]
    }
   ],
   "source": [
    "!dir"
   ]
  },
  {
   "cell_type": "code",
   "execution_count": 28,
   "metadata": {},
   "outputs": [],
   "source": [
    "with open('omop_etl/etl_config.yml') as f:\n",
    "        yml = yaml.safe_load(f) "
   ]
  },
  {
   "cell_type": "code",
   "execution_count": 33,
   "metadata": {},
   "outputs": [
    {
     "data": {
      "text/plain": [
       "{'death': 'load_death.sql',\n",
       " 'drug_exposure': 'load_drug_exposure.sql',\n",
       " 'location': 'load_location.sql',\n",
       " 'measurement': 'load_measurement.sql',\n",
       " 'observation': 'load_observation.sql',\n",
       " 'observation_period': 'load_observation_period.sql',\n",
       " 'person': 'load_person.sql',\n",
       " 'procedure_occurrence': 'load_procedure.sql',\n",
       " 'provider': 'load_provider.sql',\n",
       " 'visit_occurrence': 'load_visit_occurrence.sql'}"
      ]
     },
     "execution_count": 33,
     "metadata": {},
     "output_type": "execute_result"
    }
   ],
   "source": [
    "yml['load']"
   ]
  },
  {
   "cell_type": "code",
   "execution_count": null,
   "metadata": {},
   "outputs": [],
   "source": []
  }
 ],
 "metadata": {
  "kernelspec": {
   "display_name": "Python 3",
   "language": "python",
   "name": "python3"
  },
  "language_info": {
   "codemirror_mode": {
    "name": "ipython",
    "version": 3
   },
   "file_extension": ".py",
   "mimetype": "text/x-python",
   "name": "python",
   "nbconvert_exporter": "python",
   "pygments_lexer": "ipython3",
   "version": "3.7.4"
  }
 },
 "nbformat": 4,
 "nbformat_minor": 4
}
