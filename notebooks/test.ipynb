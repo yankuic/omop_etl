{
 "cells": [
  {
   "cell_type": "code",
   "execution_count": 1,
   "metadata": {},
   "outputs": [
    {
     "name": "stdout",
     "output_type": "stream",
     "text": [
      "z:\\Covid19\\Covid19_OMOP\\new_pipeline\n"
     ]
    }
   ],
   "source": [
    "import yaml\n",
    "import sqlparse\n",
    "import os\n",
    "import re\n",
    "\n",
    "import pandas as pd\n",
    "os.chdir('z:/Covid19/Covid19_OMOP/new_pipeline')\n",
    "print(os.getcwd())\n",
    "\n",
    "from omop_etl.datastore import DataStore\n",
    "from omop_etl.load import Loader\n",
    "from omop_etl.utils import search\n",
    "from omop_etl.bo import bo_query, format_stage_query\n",
    "\n",
    "omop = DataStore('config.yml')"
   ]
  },
  {
   "cell_type": "markdown",
   "metadata": {},
   "source": [
    "## Configuration files"
   ]
  },
  {
   "cell_type": "code",
   "execution_count": 2,
   "metadata": {},
   "outputs": [],
   "source": [
    "from omop_etl.config import ProjectConfig, ETLConfig"
   ]
  },
  {
   "cell_type": "code",
   "execution_count": 3,
   "metadata": {},
   "outputs": [],
   "source": [
    "config = ProjectConfig('config.yml')"
   ]
  },
  {
   "cell_type": "code",
   "execution_count": 4,
   "metadata": {},
   "outputs": [],
   "source": [
    "# config._config.get('load')"
   ]
  },
  {
   "cell_type": "code",
   "execution_count": 5,
   "metadata": {},
   "outputs": [],
   "source": [
    "# config = ProjectConfig('config.yml')"
   ]
  },
  {
   "cell_type": "code",
   "execution_count": 6,
   "metadata": {},
   "outputs": [],
   "source": [
    "# with config.engine.connect() as con:\n",
    "#     print(con)"
   ]
  },
  {
   "cell_type": "code",
   "execution_count": 7,
   "metadata": {},
   "outputs": [],
   "source": [
    "etl_config = ETLConfig()"
   ]
  },
  {
   "cell_type": "markdown",
   "metadata": {},
   "source": [
    "## BO Queries"
   ]
  },
  {
   "cell_type": "code",
   "execution_count": 8,
   "metadata": {},
   "outputs": [],
   "source": [
    "omop = DataStore('config.yml')\n",
    "\n",
    "# def format_stage_query(dp_name):\n",
    "\n",
    "#     with open('omop_etl/etl_config.yml') as f:\n",
    "#         yml = yaml.safe_load(f) \n",
    "    \n",
    "#     aliases= yml['aliases'][dp_name]\n",
    "#     bo_queries = omop.get_bo_query('omop')\n",
    "\n",
    "#     start_date = omop.config_param['date_range']['start_date']\n",
    "#     end_date = omop.config_param['date_range']['end_date']\n",
    "\n",
    "#     sql_query = format_bo_sql(bo_queries[dp_name], dp_name, schema='stage', aliases=aliases)\n",
    "#     patient_id = \"select PATIENT_KEY from DWS_OMOP.cohort.PersonList\"\n",
    "#     sql_query = sql_query.replace(\"12345678\", patient_id)\n",
    "#     sql_query = sql_query.replace(\"01/01/1900 00:0:0\", start_date)\n",
    "#     sql_query = sql_query.replace(\"12/31/1900 00:0:0\", end_date)\n",
    "\n",
    "#     sql_query = sqlparse.format(sql_query, reindent_aligned=True, indent_with=1)\n",
    "\n",
    "#     return f\"EXECUTE ('USE [DWS_PROD];\\n {sql_query}')\" "
   ]
  },
  {
   "cell_type": "markdown",
   "metadata": {},
   "source": [
    "### BO cohort queries"
   ]
  },
  {
   "cell_type": "code",
   "execution_count": 9,
   "metadata": {},
   "outputs": [
    {
     "data": {
      "text/plain": [
       "55"
      ]
     },
     "execution_count": 9,
     "metadata": {},
     "output_type": "execute_result"
    }
   ],
   "source": [
    "from omop_etl.bo import bo_query\n",
    "with omop.engine.connect() as con:\n",
    "    bo_queries = bo_query('omop', con)\n",
    "\n",
    "len(bo_queries.keys())\n",
    "# [q for q in bo_queries.keys() if bo_queries[q] == '']"
   ]
  },
  {
   "cell_type": "code",
   "execution_count": 10,
   "metadata": {},
   "outputs": [],
   "source": [
    "for dp in bo_queries.keys():\n",
    "    if len(bo_queries[dp]) == 0:\n",
    "        print(dp)"
   ]
  },
  {
   "cell_type": "code",
   "execution_count": 11,
   "metadata": {},
   "outputs": [],
   "source": [
    "loader = Loader('config.yml')"
   ]
  },
  {
   "cell_type": "code",
   "execution_count": 17,
   "metadata": {},
   "outputs": [
    {
     "name": "stdout",
     "output_type": "stream",
     "text": [
      "Executing stage_table(measurement, ['res_resp', True]) ... Done   \n",
      "Elapsed time 00:00:01\n",
      "EXECUTE ('USE DWS_PROD;\n",
      " DROP TABLE IF EXISTS dws_omop.stage.MEASUREMENT_Res_RESP;SELECT DISTINCT  dbo.ALL_PATIENTS.PATNT_KEY AS patient_key, PATNT_ENCNTR_KEY_XREF1.PATNT_ENCNTR_KEY AS patnt_encntr_key, Flowsheet_Enc_Dttime_RESP.MEASR_TAKN_DATE AS respiratory_date, Flowsheet_Enc_Dttime_RESP.MEASR_TAKN_DT AS respiratory_datetime, Flowsheet_RESP_RESPRATE.MEASR_VALUE AS respiratory_rate, ALL_PROVIDER_IDS_ATTEND_SER.PROVIDR_KEY AS attending_provider, ALL_PROVIDERS_VISIT.PROVIDR_KEY AS visit_provider INTO dws_omop.stage.MEASUREMENT_Res_RESP  FROM  dbo.ALL_PATIENTS RIGHT OUTER JOIN dbo.ALL_PATIENT_SNAPSHOTS ALL_PT_SNAPSHOTS_ENCOUNTER ON (ALL_PT_SNAPSHOTS_ENCOUNTER.PATNT_KEY=dbo.ALL_PATIENTS.PATNT_KEY)  RIGHT OUTER JOIN dbo.PATIENT_ENCOUNTER_DTL ON (ALL_PT_SNAPSHOTS_ENCOUNTER.PATNT_SNAPSHT_KEY=dbo.PATIENT_ENCOUNTER_DTL.DSCHRG_PATNT_SNAPSHT_KEY AND dbo.PATIENT_ENCOUNTER_DTL.TEST_IND=''N''\n",
      " )  LEFT OUTER JOIN dbo.ALL_PROVIDERS ALL_PROVIDERS_ATTENDING ON (dbo.PATIENT_ENCOUNTER_DTL.ATTND_PROVIDR_KEY=ALL_PROVIDERS_ATTENDING.PROVIDR_KEY AND dbo.PATIENT_ENCOUNTER_DTL.TEST_IND=''N''\n",
      " )  FULL OUTER JOIN dbo.ALL_PROVIDER_IDENTITIES ALL_PROVIDER_IDS_ATTEND_SER ON (ALL_PROVIDER_IDS_ATTEND_SER.IDENT_ID_TYPE= -1001\n",
      "  AND ALL_PROVIDERS_ATTENDING.PROVIDR_KEY=ALL_PROVIDER_IDS_ATTEND_SER.PROVIDR_KEY AND ALL_PROVIDER_IDS_ATTEND_SER.IDENT_ID_TYPE= -1001)  LEFT OUTER JOIN dbo.PATNT_ENCNTR_KEY_XREF PATNT_ENCNTR_KEY_XREF1 ON (dbo.PATIENT_ENCOUNTER_DTL.PATNT_ENCNTR_KEY=PATNT_ENCNTR_KEY_XREF1.PATNT_ENCNTR_KEY AND dbo.PATIENT_ENCOUNTER_DTL.TEST_IND=''N''\n",
      " )  LEFT OUTER JOIN (  SELECT DISTINCT a.LINK_PATNT_ENCNTR_KEY,a.PATNT_ENCNTR_KEY,a.MEASR_TAKN_DT,a.MEASR_TAKN_DATE\n",
      "\n",
      " FROM flowsheet_measure_dtl a join all_flowsheet_measures b on a.flowsht_measr_key=b.flowsht_measr_key\n",
      " where b.ETL_IND = ''Y'' and a.MEASR_VALUE is not null\n",
      " and b.STNDRD_LABEL_CAT is not null  ) Flowsheet_Enc_Dttime ON (dbo.PATIENT_ENCOUNTER_DTL.TEST_IND=''N''\n",
      "  AND dbo.PATIENT_ENCOUNTER_DTL.PATNT_ENCNTR_KEY=Flowsheet_Enc_Dttime.LINK_PATNT_ENCNTR_KEY)  LEFT OUTER JOIN (  SELECT DISTINCT a.PATNT_ENCNTR_KEY,a.MEASR_TAKN_DT,a.MEASR_TAKN_DATE\n",
      "FROM flowsheet_measure_dtl a join all_flowsheet_measures b on(a.flowsht_measr_key=b.flowsht_measr_key)\n",
      "where b.stndrd_label_cat in(''RESPIRATORY'') and a.measr_value is not null  ) Flowsheet_Enc_Dttime_RESP ON (Flowsheet_Enc_Dttime.PATNT_ENCNTR_KEY=Flowsheet_Enc_Dttime_RESP.PATNT_ENCNTR_KEY AND Flowsheet_Enc_Dttime.MEASR_TAKN_DT=Flowsheet_Enc_Dttime_RESP.MEASR_TAKN_DT)  LEFT OUTER JOIN (  select a.*\n",
      "\n",
      "from flowsheet_measure_dtl a join all_flowsheet_measures b on (a.flowsht_measr_key=b.flowsht_measr_key)\n",
      "\n",
      " where b.stndrd_label_dtl = ''RESP RATE''  ) Flowsheet_RESP_RESPRATE ON (Flowsheet_Enc_Dttime_RESP.PATNT_ENCNTR_KEY=Flowsheet_RESP_RESPRATE.PATNT_ENCNTR_KEY AND Flowsheet_Enc_Dttime_RESP.MEASR_TAKN_DT=Flowsheet_RESP_RESPRATE.MEASR_TAKN_DT)  LEFT OUTER JOIN dbo.ALL_PROVIDERS ALL_PROVIDERS_VISIT ON (dbo.PATIENT_ENCOUNTER_DTL.TEST_IND=''N''\n",
      "  AND dbo.PATIENT_ENCOUNTER_DTL.VISIT_PROVIDR_KEY=ALL_PROVIDERS_VISIT.PROVIDR_KEY)  WHERE  (  dbo.ALL_PATIENTS.PATNT_KEY IN ( select PATIENT_KEY from dws_omop.cohort.PersonList )  AND  Flowsheet_Enc_Dttime_RESP.MEASR_TAKN_DATE >= ''01/01/2012''  AND  Flowsheet_RESP_RESPRATE.MEASR_VALUE <= ''12/31/2020''  AND  Flowsheet_RESP_RESPRATE.MEASR_VALUE Is Not Null   AND  dbo.PATIENT_ENCOUNTER_DTL.CALCULATED_ENCNTR_STAT_DESC = ''Complete''  AND  ( dbo.ALL_PATIENTS.TEST_IND=''N'' )  ) /* User Running = ''Administrator'' ; Document = ''OMOP''; Query = ''MEASUREMENT_Res_RESP'' (''DPUNIVERS'') */')\n"
     ]
    }
   ],
   "source": [
    "print(loader.stage_table('measurement', subset='res_resp', only_query=True))"
   ]
  },
  {
   "cell_type": "code",
   "execution_count": 13,
   "metadata": {},
   "outputs": [
    {
     "data": {
      "text/plain": [
       "\"SELECT  PX_ALL_PATIENTS.PATNT_KEY,  PX_ALL_PATIENTS.PATNT_ID,  PX_ALL_PATIENT_IDENTITIES.IDENT_ID_INT,  PX_JAX_MRN.IDENT_ID_INT FROM  ALL_PATIENTS PX_ALL_PATIENTS RIGHT OUTER JOIN ALL_PATIENT_SNAPSHOTS PX_ALL_PATIENT_SNAPSHOTS ON (PX_ALL_PATIENT_SNAPSHOTS.PATNT_KEY=PX_ALL_PATIENTS.PATNT_KEY)  LEFT OUTER JOIN ALL_PATIENT_IDENTITIES PX_ALL_PATIENT_IDENTITIES ON (PX_ALL_PATIENT_SNAPSHOTS.PATNT_KEY=PX_ALL_PATIENT_IDENTITIES.PATNT_KEY and PX_ALL_PATIENT_IDENTITIES.LOOKUP_IND = 'Y' and PX_ALL_PATIENT_IDENTITIES.IDENT_ID_TYPE = 101)  LEFT OUTER JOIN ALL_PATIENT_IDENTITIES PX_JAX_MRN ON (PX_ALL_PATIENT_SNAPSHOTS.PATNT_KEY=PX_JAX_MRN.PATNT_KEY and PX_JAX_MRN.LOOKUP_IND = 'Y' and PX_JAX_MRN.IDENT_ID_TYPE = 110)  RIGHT OUTER JOIN PROCEDURE_EVENT_DTL ON (PROCEDURE_EVENT_DTL.PATNT_SNAPSHT_KEY=PX_ALL_PATIENT_SNAPSHOTS.PATNT_SNAPSHT_KEY)  LEFT OUTER JOIN ALL_CPT_PROCEDURE_CODES ON (PROCEDURE_EVENT_DTL.CPT_CD_KEY=ALL_CPT_PROCEDURE_CODES.CPT_CD_KEY)  WHERE  (  PROCEDURE_EVENT_DTL.START_DATE BETWEEN '01/01/2020 00:0:0' AND '12/31/2020 00:0:0'  AND  ALL_CPT_PROCEDURE_CODES.CPT_CD IN ( '87635','U0001','U0002' )  AND  PX_ALL_PATIENT_IDENTITIES.IDENT_ID_INT Is Not Null   AND  ( PX_ALL_PATIENTS.TEST_IND='N' )  ) /* User Running = 'yankuic' ; Document = '21285159'- 'cohort_COVID_Broad'; Query = 'CPT_CodingDetail' ('DPUNIVERS') */\""
      ]
     },
     "execution_count": 13,
     "metadata": {},
     "output_type": "execute_result"
    }
   ],
   "source": [
    "from omop_etl.bo import bo_query\n",
    "with omop.engine.connect() as con:\n",
    "    bo_cohort = bo_query('cohort_COVID_broad', con)\n",
    "\n",
    "table = 'CPT_CodingDetail'\n",
    "# print(format_stage_query(table))\n",
    "bo_cohort[table]"
   ]
  },
  {
   "cell_type": "code",
   "execution_count": 14,
   "metadata": {},
   "outputs": [],
   "source": [
    "from omop_etl.bo import bo_query, format_stage_query\n",
    "import sqlparse"
   ]
  },
  {
   "cell_type": "code",
   "execution_count": 15,
   "metadata": {},
   "outputs": [
    {
     "name": "stdout",
     "output_type": "stream",
     "text": [
      "EXECUTE ('USE DWS_PROD;\n",
      " DROP TABLE IF EXISTS dws_omop.stage.MEASUREMENT_Res_RESP_MechVentSetRate;SELECT DISTINCT  dbo.ALL_PATIENTS.PATNT_KEY, PATNT_ENCNTR_KEY_XREF1.PATNT_ENCNTR_KEY, Flowsheet_Enc_Dttime_RESP.MEASR_TAKN_DATE, Flowsheet_Enc_Dttime_RESP.MEASR_TAKN_DT, Flowsheet_RESP_Mech_Vent.MEASR_VALUE, ALL_PROVIDER_IDS_ATTEND_SER.PROVIDR_KEY AS ALL_PRO_IDS_ATT_SER_PROVIDR_KEY, ALL_PROVIDERS_VISIT.PROVIDR_KEY AS ALL_PRO_VIS_PROVIDR_KEY INTO dws_omop.stage.MEASUREMENT_Res_RESP_MechVentSetRate  FROM  dbo.ALL_PATIENTS RIGHT OUTER JOIN dbo.ALL_PATIENT_SNAPSHOTS ALL_PT_SNAPSHOTS_ENCOUNTER ON (ALL_PT_SNAPSHOTS_ENCOUNTER.PATNT_KEY=dbo.ALL_PATIENTS.PATNT_KEY)  RIGHT OUTER JOIN dbo.PATIENT_ENCOUNTER_DTL ON (ALL_PT_SNAPSHOTS_ENCOUNTER.PATNT_SNAPSHT_KEY=dbo.PATIENT_ENCOUNTER_DTL.DSCHRG_PATNT_SNAPSHT_KEY AND dbo.PATIENT_ENCOUNTER_DTL.TEST_IND=''N''\n",
      " )  LEFT OUTER JOIN dbo.ALL_PROVIDERS ALL_PROVIDERS_ATTENDING ON (dbo.PATIENT_ENCOUNTER_DTL.ATTND_PROVIDR_KEY=ALL_PROVIDERS_ATTENDING.PROVIDR_KEY AND dbo.PATIENT_ENCOUNTER_DTL.TEST_IND=''N''\n",
      " )  FULL OUTER JOIN dbo.ALL_PROVIDER_IDENTITIES ALL_PROVIDER_IDS_ATTEND_SER ON (ALL_PROVIDER_IDS_ATTEND_SER.IDENT_ID_TYPE= -1001\n",
      "  AND ALL_PROVIDERS_ATTENDING.PROVIDR_KEY=ALL_PROVIDER_IDS_ATTEND_SER.PROVIDR_KEY AND ALL_PROVIDER_IDS_ATTEND_SER.IDENT_ID_TYPE= -1001)  LEFT OUTER JOIN dbo.PATNT_ENCNTR_KEY_XREF PATNT_ENCNTR_KEY_XREF1 ON (dbo.PATIENT_ENCOUNTER_DTL.PATNT_ENCNTR_KEY=PATNT_ENCNTR_KEY_XREF1.PATNT_ENCNTR_KEY AND dbo.PATIENT_ENCOUNTER_DTL.TEST_IND=''N''\n",
      " )  LEFT OUTER JOIN (  SELECT DISTINCT a.LINK_PATNT_ENCNTR_KEY,a.PATNT_ENCNTR_KEY,a.MEASR_TAKN_DT,a.MEASR_TAKN_DATE\n",
      "\n",
      " FROM flowsheet_measure_dtl a join all_flowsheet_measures b on a.flowsht_measr_key=b.flowsht_measr_key\n",
      " where b.ETL_IND = ''Y'' and a.MEASR_VALUE is not null\n",
      " and b.STNDRD_LABEL_CAT is not null  ) Flowsheet_Enc_Dttime ON (dbo.PATIENT_ENCOUNTER_DTL.TEST_IND=''N''\n",
      "  AND dbo.PATIENT_ENCOUNTER_DTL.PATNT_ENCNTR_KEY=Flowsheet_Enc_Dttime.LINK_PATNT_ENCNTR_KEY)  LEFT OUTER JOIN (  SELECT DISTINCT a.PATNT_ENCNTR_KEY,a.MEASR_TAKN_DT,a.MEASR_TAKN_DATE\n",
      "FROM flowsheet_measure_dtl a join all_flowsheet_measures b on(a.flowsht_measr_key=b.flowsht_measr_key)\n",
      "where b.stndrd_label_cat in(''RESPIRATORY'') and a.measr_value is not null  ) Flowsheet_Enc_Dttime_RESP ON (Flowsheet_Enc_Dttime.PATNT_ENCNTR_KEY=Flowsheet_Enc_Dttime_RESP.PATNT_ENCNTR_KEY AND Flowsheet_Enc_Dttime.MEASR_TAKN_DT=Flowsheet_Enc_Dttime_RESP.MEASR_TAKN_DT)  LEFT OUTER JOIN (  select a.*\n",
      "\n",
      " from flowsheet_measure_dtl a join all_flowsheet_measures b on (a.flowsht_measr_key=b.flowsht_measr_key)\n",
      "\n",
      " where b.stndrd_label_dtl = ''RESP RATE - Mech Vent Set Rate''\n",
      "  ) Flowsheet_RESP_Mech_Vent ON (Flowsheet_Enc_Dttime_RESP.PATNT_ENCNTR_KEY=Flowsheet_RESP_Mech_Vent.PATNT_ENCNTR_KEY AND Flowsheet_Enc_Dttime_RESP.MEASR_TAKN_DT=Flowsheet_RESP_Mech_Vent.MEASR_TAKN_DT)  LEFT OUTER JOIN (  select a.*\n",
      "\n",
      "from flowsheet_measure_dtl a join all_flowsheet_measures b on (a.flowsht_measr_key=b.flowsht_measr_key)\n",
      "\n",
      " where b.stndrd_label_dtl = ''RESP RATE''  ) Flowsheet_RESP_RESPRATE ON (Flowsheet_Enc_Dttime_RESP.PATNT_ENCNTR_KEY=Flowsheet_RESP_RESPRATE.PATNT_ENCNTR_KEY AND Flowsheet_Enc_Dttime_RESP.MEASR_TAKN_DT=Flowsheet_RESP_RESPRATE.MEASR_TAKN_DT)  LEFT OUTER JOIN dbo.ALL_PROVIDERS ALL_PROVIDERS_VISIT ON (dbo.PATIENT_ENCOUNTER_DTL.TEST_IND=''N''\n",
      "  AND dbo.PATIENT_ENCOUNTER_DTL.VISIT_PROVIDR_KEY=ALL_PROVIDERS_VISIT.PROVIDR_KEY)  WHERE  (  dbo.ALL_PATIENTS.PATNT_KEY IN ( select PATIENT_KEY from dws_omop.cohort.PersonList )  AND  Flowsheet_Enc_Dttime_RESP.MEASR_TAKN_DATE >= ''01/01/2012''  AND  Flowsheet_RESP_RESPRATE.MEASR_VALUE <= ''12/31/2020''  AND  Flowsheet_RESP_Mech_Vent.MEASR_VALUE\n",
      "  Is Not Null   AND  dbo.PATIENT_ENCOUNTER_DTL.CALCULATED_ENCNTR_STAT_DESC = ''Complete''  AND  ( dbo.ALL_PATIENTS.TEST_IND=''N'' )  ) /* User Running = ''Administrator'' ; Document = ''OMOP''; Query = ''MEASUREMENT_Res_RESP_MechVentSetRate'' (''DPUNIVERS'') */')\n"
     ]
    }
   ],
   "source": [
    "with omop.engine.connect() as con:\n",
    "    print(format_stage_query('omop', 'MEASUREMENT_Res_RESP_MechVentSetRate', '01/01/2012', '12/31/2020', con, schema='stage'))"
   ]
  },
  {
   "cell_type": "code",
   "execution_count": 16,
   "metadata": {},
   "outputs": [
    {
     "ename": "NameError",
     "evalue": "name 'bo' is not defined",
     "output_type": "error",
     "traceback": [
      "\u001b[1;31m---------------------------------------------------------------------------\u001b[0m",
      "\u001b[1;31mNameError\u001b[0m                                 Traceback (most recent call last)",
      "\u001b[1;32m<ipython-input-16-6778c24a9752>\u001b[0m in \u001b[0;36m<module>\u001b[1;34m\u001b[0m\n\u001b[1;32m----> 1\u001b[1;33m \u001b[0mbo\u001b[0m\u001b[1;33m[\u001b[0m\u001b[1;34m'MEASUREMENT_Res_RESP_MechVentSetRate'\u001b[0m\u001b[1;33m]\u001b[0m\u001b[1;33m\u001b[0m\u001b[1;33m\u001b[0m\u001b[0m\n\u001b[0m",
      "\u001b[1;31mNameError\u001b[0m: name 'bo' is not defined"
     ]
    }
   ],
   "source": [
    "bo['MEASUREMENT_Res_RESP_MechVentSetRate']"
   ]
  },
  {
   "cell_type": "code",
   "execution_count": null,
   "metadata": {},
   "outputs": [],
   "source": [
    "# with omop.engine.connect() as con:\n",
    "#     bo_queries = bo_query('omop', con)\n",
    "# # print(bo_queries.keys())\n",
    "\n",
    "# # SAVE QUERIES TO FILE\n",
    "# for t in bo_queries.keys():\n",
    "#     try:\n",
    "#         print(t)\n",
    "#         f = open(f'./output/sqlstring_{t.lower()}.sql', 'w')\n",
    "#         f.write(format_stage_query(t))\n",
    "#         format_stage_query(t)\n",
    "#         f.close()\n",
    "#     except ValueError as e:\n",
    "#         print(t)\n",
    "#         raise e\n",
    "\n",
    "# aliases= yml[table]\n",
    "# format_bo_sql(bo_queries[table], table, schema='stage')\n",
    "# omop.execute(format_stage_query('MEASUREMENT_HeartRate'))\n",
    "\n",
    "# aliases = {}\n",
    "# for t in bo_queries.keys():\n",
    "#     with omop.engine.connect() as con:\n",
    "#         cols = pd.read_sql(f\"select top 0 * from stage.{t}\", con)\n",
    "#         aliases[t] = [x.lower() for x in cols.columns]\n",
    "\n",
    "# with open('col_aliases.yml', 'w') as f:\n",
    "#     yaml.dump(aliases, f)\n",
    "#     f.close()"
   ]
  },
  {
   "cell_type": "code",
   "execution_count": null,
   "metadata": {},
   "outputs": [],
   "source": [
    "bo_queries = omop.get_bo_query('omop')\n",
    "sqlstring = bo_queries['MEASUREMENT_BP_CVP']#'MEASUREMENT_BP_MAP_Cuff'] or 'MEASUREMENT_Height' MEASUREMENT_Weight\n",
    "parsed = sqlparse.parse(sqlstring)[0]\n",
    "idx = [parsed.token_index(t) for t in parsed if t.is_keyword and t.value == 'FROM'][0]\n",
    "columns = parsed.token_prev(idx)[1]\n",
    "\n",
    "# Extract columns from SELECT clause. If duplicated columns, use alias, \n",
    "# else append abbreviated source table name.\n",
    "colnames = [i.value.split('.')[-1] for i in columns]\n",
    "dup_cols = set([x for x in colnames if colnames.count(x) > 1])\n",
    "new_colnames = []\n",
    "\n",
    "counter = 0\n",
    "for item in columns:\n",
    "    if isinstance(item, sqlparse.sql.Identifier):\n",
    "        colname = item.value.split('.')[-1]\n",
    "        tabname = item.value.split('.')[-2]\n",
    "        shrt_tabname = '_'.join([word[:3] for word in tabname.split('_')])\n",
    "        # print('Identifier', item.value)\n",
    "    \n",
    "    elif isinstance(item, sqlparse.sql.Function):\n",
    "        counter += 1\n",
    "        fn_name = f'FN_{counter}'\n",
    "        for x in item:\n",
    "            if (isinstance(x, sqlparse.sql.Identifier) and x.value == 'cast'):\n",
    "                print(item.value)\n",
    "                continue\n",
    "            else: \n",
    "                pass\n",
    "            if isinstance(x, sqlparse.sql.Parenthesis): \n",
    "                for y in x:\n",
    "                    if isinstance(y, sqlparse.sql.Identifier):\n",
    "                        print(y.value)\n",
    "                        print([i.strip() for i in y.value.split(' as ')])\n",
    "                        # col, dtype = [i.strip() for i in y.value.split('as')]\n",
    "                        # print(f'try_convert({dtype}, {col})')\n",
    "    \n",
    "    # else: \n",
    "    #     print('Something else', item.__repr__)"
   ]
  },
  {
   "cell_type": "code",
   "execution_count": null,
   "metadata": {},
   "outputs": [],
   "source": [
    "def flatten(alist):\n",
    "    flat = []\n",
    "    while alist: \n",
    "        e = alist.pop()\n",
    "        if type(e) == list: \n",
    "            alist.extend(e) \n",
    "        else:\n",
    "            flat.append(e) \n",
    "     \n",
    "    return flat\n",
    "\n",
    "# def replace_cast_with_try_convert(parsed):    \n",
    "items = []\n",
    "for token in parsed.tokens:\n",
    "    if isinstance(token, sqlparse.sql.IdentifierList) or isinstance(token, sqlparse.sql.Where):\n",
    "        items = [item for item in token if search('cast', item.value)]\n",
    "        # print(items)\n",
    "        for item in items:\n",
    "            if isinstance(item, sqlparse.sql.Function):\n",
    "                \n",
    "                col, dtype = flatten([[i.value.split(' as ') for i in p if isinstance(i, sqlparse.sql.Identifier)] \n",
    "                                       for p in item if isinstance(p, sqlparse.sql.Parenthesis)])\n",
    "                item.value = f'try_convert({dtype},{col})'\n",
    "                \n",
    "            else:\n",
    "                fun_list = flatten([[a for a in i if isinstance(a, sqlparse.sql.Function)] \n",
    "                                     for i in item if search('cast', i.value)])\n",
    "                \n",
    "                # print(fun_list)\n",
    "                if not fun_list:\n",
    "                    fun_list = [i for i in item if (search('cast', i.value) & isinstance(i, sqlparse.sql.Function))]\n",
    "                \n",
    "                if not fun_list:\n",
    "                    fun_list = flatten(flatten([[[a for a in b if isinstance(a, sqlparse.sql.Function)] \n",
    "                                                for b in i if isinstance(b, sqlparse.sql.Operation)] for i in item if search('cast', i.value)]))\n",
    "\n",
    "                # print(fun_list)\n",
    "                for fun in fun_list:\n",
    "                    col, dtype = flatten([[i.value.split(' as ') for i in p if isinstance(i, sqlparse.sql.Identifier)] \n",
    "                                           for p in fun if isinstance(p, sqlparse.sql.Parenthesis)][0])\n",
    "                    # print(fun)\n",
    "                    item.value = item.value.replace(fun.value, f'try_convert({dtype},{col})')\n",
    "                    # print(item.value)\n",
    "        \n",
    "        token.value = ''.join(item.value for item in token)\n",
    "\n",
    "        print(token.value)"
   ]
  },
  {
   "cell_type": "code",
   "execution_count": null,
   "metadata": {},
   "outputs": [],
   "source": [
    "import numpy as np\n",
    "\n",
    "bo_queries = omop.get_bo_query('omop')\n",
    "sqlstring = bo_queries['MEASUREMENT_Height']#'MEASUREMENT_BP_MAP_Cuff'] or 'MEASUREMENT_Height' MEASUREMENT_Weight MEASUREMENT_BP_CVP\n",
    "parsed = sqlparse.parse(sqlstring)[0]\n",
    "\n",
    "def get_function(item):\n",
    "    if isinstance(item, (sqlparse.sql.Parenthesis, sqlparse.sql.Operation)):\n",
    "        return list(filter(None, [get_function(a) for a in item]))\n",
    "    elif isinstance(item, sqlparse.sql.Function):\n",
    "        return item\n",
    "\n",
    "def flatten(lst):\n",
    "    for el in lst:\n",
    "        if isinstance(el, list):  \n",
    "            # recurse\n",
    "            yield from flatten(el)\n",
    "        else:\n",
    "            # generate\n",
    "            yield el\n",
    " \n",
    "\n",
    "# fun_list = []\n",
    "for token in parsed.tokens:\n",
    "    if isinstance(token, (sqlparse.sql.IdentifierList, sqlparse.sql.Where)):\n",
    "        items = [item for item in token if search('cast', item.value)]\n",
    "        # print(items)\n",
    "        for item in items:\n",
    "            if isinstance(item, sqlparse.sql.Function):\n",
    "                fun_list = flatten([get_function(item)])\n",
    "                # print(fun_list)\n",
    "\n",
    "            else:\n",
    "                fun_list = flatten(list(filter(None, [get_function(i) for i in item])))\n",
    "                # print(fun_list)\n",
    "\n",
    "            for fun in fun_list:\n",
    "                col, dtype = flatten([[i.value.split(' as ') for i in p if isinstance(i, sqlparse.sql.Identifier)] \n",
    "                                        for p in fun if isinstance(p, sqlparse.sql.Parenthesis)][0])\n",
    "                # print(fun)\n",
    "                item.value = item.value.replace(fun.value, f'try_convert({dtype},{col})')\n",
    "    \n",
    "        token.value = ''.join(item.value for item in token)\n",
    "\n",
    "        print(token.value)"
   ]
  },
  {
   "cell_type": "code",
   "execution_count": null,
   "metadata": {},
   "outputs": [],
   "source": [
    "from functools import reduce"
   ]
  },
  {
   "cell_type": "code",
   "execution_count": null,
   "metadata": {},
   "outputs": [],
   "source": [
    "reduce(list.__add__, (list(i) for i in [[i.value.split(' as ') for i in p if isinstance(i, sqlparse.sql.Identifier)] \n",
    "                                        for p in fun if isinstance(p, sqlparse.sql.Parenthesis)][0]))"
   ]
  },
  {
   "cell_type": "code",
   "execution_count": null,
   "metadata": {},
   "outputs": [],
   "source": [
    "fun_list"
   ]
  },
  {
   "cell_type": "code",
   "execution_count": null,
   "metadata": {},
   "outputs": [],
   "source": [
    "for token in parsed.tokens:\n",
    "#     print(token.ttype)\n",
    "    if isinstance(token, sqlparse.sql.IdentifierList) or isinstance(token, sqlparse.sql.Where):\n",
    "        print(token.ttype)"
   ]
  },
  {
   "cell_type": "code",
   "execution_count": null,
   "metadata": {},
   "outputs": [],
   "source": [
    "from omop_etl.stage import Stager\n",
    "stage = Stager('config.yml')\n",
    "# print(l.update_mappings('person'))\n",
    "# print(l.update_mappings('visit_occurrence'))\n",
    "\n",
    "# print(l.preload_all())\n",
    "\n",
    "# print(l.load_table('person'))\n",
    "# print(l.load_table('death'))\n",
    "# print(l.load_table('condition_occurrence'))\n",
    "# print(l.load_table('procedure_occurrence'))\n",
    "# print(l.load_table('drug_exposure'))\n",
    "# print(l.load_table('observation'))\n",
    "# print(l.load_table('provider'))\n",
    "# print(l.load_table('care_site'))\n",
    "# print(l.load_table('location'))"
   ]
  },
  {
   "cell_type": "code",
   "execution_count": null,
   "metadata": {},
   "outputs": [],
   "source": [
    "load_conf = stage.store.config_param['load']\n",
    "# stage.stage_table('measurement','res_fio2')"
   ]
  },
  {
   "cell_type": "code",
   "execution_count": null,
   "metadata": {},
   "outputs": [],
   "source": [
    "for t in load_conf.keys():\n",
    "    if load_conf[t]:\n",
    "        for part in load_conf[t].keys():\n",
    "            stage.stage_table(t, part)\n",
    "    else:\n",
    "        if t not in ('provider','care_site','location'): \n",
    "            stage.stage_table(t)"
   ]
  },
  {
   "cell_type": "code",
   "execution_count": null,
   "metadata": {},
   "outputs": [],
   "source": [
    "import itertools\n",
    "import re \n",
    "\n",
    "for token in parsed.tokens:\n",
    "    if isinstance(token, sqlparse.sql.Where):\n",
    "        print([item for item in token if search('cast', item.value)])\n",
    "\n",
    "        # par = list(itertools.chain(*token))\n",
    "        # for p in par:\n",
    "        #     print(p.__repr__)\n",
    "            # if isinstance(i, sqlparse.sql.Parenthesis):\n",
    "            #     # defs = extract_definitions(i)\n",
    "            #     for x in i:\n",
    "            #         if isinstance(x, sqlparse.sql.Parenthesis):\n",
    "            #             for y in x:\n",
    "            #                 print(y.__repr__)"
   ]
  },
  {
   "cell_type": "code",
   "execution_count": null,
   "metadata": {},
   "outputs": [],
   "source": [
    "import sqlparse\n",
    "\n",
    "def extract_definitions(token_list):\n",
    "    # assumes that token_list is a parenthesis\n",
    "    definitions = []\n",
    "    tmp = []\n",
    "    par_level = 0\n",
    "    for token in token_list.flatten():\n",
    "        if token.is_whitespace:\n",
    "            continue\n",
    "        elif token.match(sqlparse.tokens.Punctuation, '('):\n",
    "            par_level += 1\n",
    "            continue\n",
    "        if token.match(sqlparse.tokens.Punctuation, ')'):\n",
    "            if par_level == 0:\n",
    "                break\n",
    "            else:\n",
    "                par_level += 1\n",
    "        elif token.match(sqlparse.tokens.Punctuation, ','):\n",
    "            if tmp:\n",
    "                definitions.append(tmp)\n",
    "            tmp = []\n",
    "        else:\n",
    "            tmp.append(token)\n",
    "    if tmp:\n",
    "        definitions.append(tmp)\n",
    "    return definitions"
   ]
  },
  {
   "cell_type": "code",
   "execution_count": null,
   "metadata": {},
   "outputs": [],
   "source": []
  }
 ],
 "metadata": {
  "kernelspec": {
   "display_name": "Python 3",
   "language": "python",
   "name": "python3"
  },
  "language_info": {
   "codemirror_mode": {
    "name": "ipython",
    "version": 3
   },
   "file_extension": ".py",
   "mimetype": "text/x-python",
   "name": "python",
   "nbconvert_exporter": "python",
   "pygments_lexer": "ipython3",
   "version": "3.7.10"
  }
 },
 "nbformat": 4,
 "nbformat_minor": 4
}
