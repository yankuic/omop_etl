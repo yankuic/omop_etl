{
 "metadata": {
  "language_info": {
   "codemirror_mode": {
    "name": "ipython",
    "version": 3
   },
   "file_extension": ".py",
   "mimetype": "text/x-python",
   "name": "python",
   "nbconvert_exporter": "python",
   "pygments_lexer": "ipython3",
   "version": "3.7.4-final"
  },
  "orig_nbformat": 2,
  "kernelspec": {
   "name": "python3",
   "display_name": "Python 3.7.4 64-bit (conda)",
   "metadata": {
    "interpreter": {
     "hash": "ed9aecc04a78bc023d6560d59868ba438581fdda2914504ea0b1a159872595b9"
    }
   }
  }
 },
 "nbformat": 4,
 "nbformat_minor": 2,
 "cells": [
  {
   "cell_type": "code",
   "execution_count": 1,
   "metadata": {},
   "outputs": [
    {
     "output_type": "stream",
     "name": "stdout",
     "text": [
      "z:\\OMOP\\omop_etl\n"
     ]
    }
   ],
   "source": [
    "import yaml\n",
    "import os\n",
    "os.chdir('..')\n",
    "print(os.getcwd())\n",
    "\n",
    "from omop_etl.postproc.load import Loader\n",
    "from omop_etl.cohort import format_cohort_sql, format_insert_sql"
   ]
  },
  {
   "cell_type": "code",
   "execution_count": null,
   "metadata": {},
   "outputs": [],
   "source": [
    "# Generate cohort\n"
   ]
  },
  {
   "cell_type": "code",
   "execution_count": 3,
   "metadata": {},
   "outputs": [
    {
     "output_type": "stream",
     "name": "stdout",
     "text": [
      "Loading location ...\n",
      "load_table complete. Elapsed time 00:00:00\n"
     ]
    },
    {
     "output_type": "execute_result",
     "data": {
      "text/plain": [
       "'160434 rows affected'"
      ]
     },
     "metadata": {},
     "execution_count": 3
    }
   ],
   "source": [
    "l = Loader(config_file='config.yml')\n",
    "\n",
    "print(l.update_mappings('person'))\n",
    "print(l.update_mappings('visit_occurrence'))\n",
    "\n",
    "print(l.preload_all())\n",
    "\n",
    "print(l.load_table('person'))\n",
    "print(l.load_table('death'))\n",
    "print(l.load_table('condition_occurrence'))\n",
    "print(l.load_table('procedure_occurrence'))\n",
    "print(l.load_table('drug_exposure'))\n",
    "print(l.load_table('observation'))\n",
    "print(l.load_table('provider'))\n",
    "print(l.load_table('care_site'))\n",
    "print(l.load_table('location'))"
   ]
  },
  {
   "cell_type": "code",
   "execution_count": null,
   "metadata": {},
   "outputs": [],
   "source": []
  }
 ]
}