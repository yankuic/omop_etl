{
 "metadata": {
  "language_info": {
   "codemirror_mode": {
    "name": "ipython",
    "version": 3
   },
   "file_extension": ".py",
   "mimetype": "text/x-python",
   "name": "python",
   "nbconvert_exporter": "python",
   "pygments_lexer": "ipython3",
   "version": "3.7.4-final"
  },
  "orig_nbformat": 2,
  "kernelspec": {
   "name": "python3",
   "display_name": "Python 3",
   "language": "python"
  }
 },
 "nbformat": 4,
 "nbformat_minor": 2,
 "cells": [
  {
   "cell_type": "code",
   "execution_count": 1,
   "metadata": {},
   "outputs": [
    {
     "output_type": "stream",
     "name": "stdout",
     "text": [
      "z:\\OMOP\\omop_etl\n"
     ]
    }
   ],
   "source": [
    "import yaml\n",
    "import os\n",
    "os.chdir('..')\n",
    "print(os.getcwd())"
   ]
  },
  {
   "cell_type": "code",
   "execution_count": 2,
   "metadata": {},
   "outputs": [
    {
     "output_type": "stream",
     "name": "stdout",
     "text": [
      "Preloading drug (order) ...\n",
      "preload complete. Elapsed time 00:00:07\n",
      "Loading drug_exposure ...\n",
      "load_drug_exposure complete. Elapsed time 00:00:07\n",
      "517 rows affected\n"
     ]
    }
   ],
   "source": [
    "%run -i run_etl.py"
   ]
  },
  {
   "cell_type": "code",
   "execution_count": 2,
   "metadata": {},
   "outputs": [
    {
     "output_type": "stream",
     "name": "stdout",
     "text": [
      "Preloading measurement (height) ...\n",
      "preload complete. Elapsed time 00:00:00\n"
     ]
    },
    {
     "output_type": "execute_result",
     "data": {
      "text/plain": [
       "'17 rows affected'"
      ]
     },
     "metadata": {},
     "execution_count": 2
    }
   ],
   "source": [
    "from omop_etl.postproc.load import Loader, truncate\n",
    "load = Loader('config.yml')\n",
    "# load.load_person()\n",
    "# load.preload('measurement','height')"
   ]
  },
  {
   "cell_type": "code",
   "execution_count": 3,
   "metadata": {},
   "outputs": [
    {
     "output_type": "execute_result",
     "data": {
      "text/plain": [
       "'-1 rows affected'"
      ]
     },
     "metadata": {},
     "execution_count": 3
    }
   ],
   "source": [
    "truncate('preload','drug_exposure', load.engine)"
   ]
  },
  {
   "cell_type": "code",
   "execution_count": 6,
   "metadata": {},
   "outputs": [
    {
     "output_type": "stream",
     "name": "stdout",
     "text": [
      "Preloading drug (order) ...\n",
      "preload completed. Elapsed time 00:00:07\n",
      "Preloading drug (admin) ...\n",
      "preload completed. Elapsed time 00:00:07\n",
      "Loading drug_exposure ...\n",
      "load_drug_exposure completed. Elapsed time 00:00:14\n"
     ]
    },
    {
     "output_type": "execute_result",
     "data": {
      "text/plain": [
       "'5904 rows affected'"
      ]
     },
     "metadata": {},
     "execution_count": 6
    }
   ],
   "source": [
    "load.load_drug_exposure()"
   ]
  },
  {
   "cell_type": "code",
   "execution_count": 2,
   "metadata": {},
   "outputs": [
    {
     "output_type": "stream",
     "name": "stdout",
     "text": [
      "{'datastore': {'omop': {'server': 'edw.***REMOVED***.edu', 'database': 'DWS_OMOP'}, 'mtd': {'server': 'edw.***REMOVED***.edu', 'database': 'DWS_METADATA'}}, 'load': {'condition': None, 'procedure': None, 'drug': {'order': 'add description', 'admin': 'add description'}, 'measurement': {'bp': 'add description', 'heart_rate': 'add description', 'height': 'add description'}, 'observation': {'icu': 'add description', 'payer': 'add description', 'smoking': 'add description', 'zipcode': 'add description'}}}\n"
     ]
    }
   ],
   "source": [
    "f = open('config.yml')\n",
    "preload = yaml.safe_load(f)\n",
    "print(preload)\n",
    "# list(preload['preload']['drug'].keys())"
   ]
  },
  {
   "cell_type": "code",
   "execution_count": 19,
   "metadata": {},
   "outputs": [],
   "source": [
    "from omop_etl.datastore import DataStore, execute\n",
    "omop = DataStore('config.yml')\n",
    "t = omop.list_tables(in_schema=['preload'])"
   ]
  },
  {
   "cell_type": "code",
   "execution_count": 21,
   "metadata": {},
   "outputs": [],
   "source": [
    "# for table in t.Table:\n",
    "#     execute(f'drop table if exists preload.{table}', omop.engine)"
   ]
  },
  {
   "cell_type": "code",
   "execution_count": null,
   "metadata": {},
   "outputs": [],
   "source": []
  }
 ]
}