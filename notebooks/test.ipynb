{
 "metadata": {
  "language_info": {
   "codemirror_mode": {
    "name": "ipython",
    "version": 3
   },
   "file_extension": ".py",
   "mimetype": "text/x-python",
   "name": "python",
   "nbconvert_exporter": "python",
   "pygments_lexer": "ipython3",
   "version": "3.7.4-final"
  },
  "orig_nbformat": 2,
  "kernelspec": {
   "name": "python3",
   "display_name": "Python 3.7.4 64-bit (conda)",
   "metadata": {
    "interpreter": {
     "hash": "ed9aecc04a78bc023d6560d59868ba438581fdda2914504ea0b1a159872595b9"
    }
   }
  }
 },
 "nbformat": 4,
 "nbformat_minor": 2,
 "cells": [
  {
   "cell_type": "code",
   "execution_count": 1,
   "metadata": {},
   "outputs": [
    {
     "output_type": "stream",
     "name": "stdout",
     "text": [
      "z:\\OMOP\\omop_etl\n"
     ]
    }
   ],
   "source": [
    "import yaml\n",
    "import os\n",
    "os.chdir('..')\n",
    "print(os.getcwd())"
   ]
  },
  {
   "cell_type": "code",
   "execution_count": 2,
   "metadata": {},
   "outputs": [],
   "source": [
    "from omop_etl.postproc.load import Loader, PRELOAD\n",
    "load = Loader('config.yml')\n",
    "# load.load_person()\n",
    "# load.preload('measurement','height')"
   ]
  },
  {
   "cell_type": "code",
   "execution_count": 1,
   "metadata": {},
   "outputs": [
    {
     "output_type": "error",
     "ename": "NameError",
     "evalue": "name 'load' is not defined",
     "traceback": [
      "\u001b[1;31m---------------------------------------------------------------------------\u001b[0m",
      "\u001b[1;31mNameError\u001b[0m                                 Traceback (most recent call last)",
      "\u001b[1;32m<ipython-input-1-4abfd89280ef>\u001b[0m in \u001b[0;36m<module>\u001b[1;34m\u001b[0m\n\u001b[1;32m----> 1\u001b[1;33m \u001b[0mload\u001b[0m\u001b[1;33m.\u001b[0m\u001b[0mload_table\u001b[0m\u001b[1;33m(\u001b[0m\u001b[1;34m'location'\u001b[0m\u001b[1;33m)\u001b[0m\u001b[1;33m\u001b[0m\u001b[1;33m\u001b[0m\u001b[0m\n\u001b[0m\u001b[0;32m      2\u001b[0m \u001b[1;31m# load.update_mappings('person')\u001b[0m\u001b[1;33m\u001b[0m\u001b[1;33m\u001b[0m\u001b[1;33m\u001b[0m\u001b[0m\n\u001b[0;32m      3\u001b[0m \u001b[1;31m# load.update_mappings('visit_occurrence')\u001b[0m\u001b[1;33m\u001b[0m\u001b[1;33m\u001b[0m\u001b[1;33m\u001b[0m\u001b[0m\n\u001b[0;32m      4\u001b[0m \u001b[1;31m# load.preload('observation')\u001b[0m\u001b[1;33m\u001b[0m\u001b[1;33m\u001b[0m\u001b[1;33m\u001b[0m\u001b[0m\n\u001b[0;32m      5\u001b[0m \u001b[1;31m# load.preload_all()\u001b[0m\u001b[1;33m\u001b[0m\u001b[1;33m\u001b[0m\u001b[1;33m\u001b[0m\u001b[0m\n",
      "\u001b[1;31mNameError\u001b[0m: name 'load' is not defined"
     ]
    }
   ],
   "source": [
    "load.load_table('location')\n",
    "# load.update_mappings('person')\n",
    "# load.update_mappings('visit_occurrence')\n",
    "# load.preload('observation')\n",
    "# load.preload_all()"
   ]
  },
  {
   "cell_type": "code",
   "execution_count": 1,
   "metadata": {},
   "outputs": [],
   "source": [
    "# %run -i run_etl.py"
   ]
  },
  {
   "cell_type": "code",
   "execution_count": null,
   "metadata": {},
   "outputs": [],
   "source": []
  },
  {
   "cell_type": "code",
   "execution_count": 6,
   "metadata": {},
   "outputs": [],
   "source": [
    "# truncate('preload','drug_exposure', load.engine)"
   ]
  },
  {
   "source": [
    "f = open('config.yml')\n",
    "load = yaml.safe_load(f)\n",
    "# print(preload)\n",
    "# list(preload['preload']['drug'].keys())"
   ],
   "cell_type": "code",
   "metadata": {},
   "execution_count": 7,
   "outputs": []
  },
  {
   "source": [
    "# STAGE = {\n",
    "#     'person': 'PERSON',\n",
    "#     'death': 'DEATH',\n",
    "#     'condition_occurrence': 'CONDITION',\n",
    "#     'procedure_occurrence': {\n",
    "#         'cpt': 'PROCEDURE_CPT',\n",
    "#         'icd': 'PROCEDURE_ICD'\n",
    "#     },\n",
    "#     'drug_exposure': {\n",
    "#         'order': 'DRUG_ADMIN', \n",
    "#         'admin': 'DRUG_ORDER'\n",
    "#     },\n",
    "#     'measurement': {\n",
    "#         'bp': 'MEASUREMENT_BP',\n",
    "#         'res_pip': 'MEASUREMENT_Res_PIP',\n",
    "#         'heart_rate': 'MEASUREMENT_HeartRate',\n",
    "#         'height': 'MEASUREMENT_Height'\n",
    "#     }\n",
    "# }\n",
    "\n",
    "# dp_list = []\n",
    "# for t in load['load'].keys():\n",
    "#     if load['load'][t]:\n",
    "#         for part in load['load'][t].keys(): \n",
    "#             dp_list.append(STAGE[t][part])\n",
    "#     else: \n",
    "#         dp_list.append(STAGE[t])\n",
    "        \n",
    "# print(dp_list)"
   ],
   "cell_type": "code",
   "metadata": {},
   "execution_count": 8,
   "outputs": []
  },
  {
   "cell_type": "code",
   "execution_count": 9,
   "metadata": {},
   "outputs": [],
   "source": [
    "from omop_etl.datastore import DataStore, execute\n",
    "omop = DataStore('config.yml')\n",
    "# t = omop.list_tables(in_schema=['preload'])"
   ]
  },
  {
   "cell_type": "code",
   "execution_count": 10,
   "metadata": {},
   "outputs": [
    {
     "output_type": "execute_result",
     "data": {
      "text/plain": [
       "  schema_name table_name  column_name\n",
       "0         dbo  care_site  location_id\n",
       "1         dbo   location  location_id\n",
       "2         dbo     person  location_id"
      ],
      "text/html": "<div>\n<style scoped>\n    .dataframe tbody tr th:only-of-type {\n        vertical-align: middle;\n    }\n\n    .dataframe tbody tr th {\n        vertical-align: top;\n    }\n\n    .dataframe thead th {\n        text-align: right;\n    }\n</style>\n<table border=\"1\" class=\"dataframe\">\n  <thead>\n    <tr style=\"text-align: right;\">\n      <th></th>\n      <th>schema_name</th>\n      <th>table_name</th>\n      <th>column_name</th>\n    </tr>\n  </thead>\n  <tbody>\n    <tr>\n      <td>0</td>\n      <td>dbo</td>\n      <td>care_site</td>\n      <td>location_id</td>\n    </tr>\n    <tr>\n      <td>1</td>\n      <td>dbo</td>\n      <td>location</td>\n      <td>location_id</td>\n    </tr>\n    <tr>\n      <td>2</td>\n      <td>dbo</td>\n      <td>person</td>\n      <td>location_id</td>\n    </tr>\n  </tbody>\n</table>\n</div>"
     },
     "metadata": {},
     "execution_count": 10
    }
   ],
   "source": [
    "# omop.config_param['load']['condition_occurrence']\n",
    "omop.find_column('location_id')"
   ]
  },
  {
   "cell_type": "code",
   "execution_count": 11,
   "metadata": {},
   "outputs": [
    {
     "output_type": "execute_result",
     "data": {
      "text/plain": [
       "dict_keys(['CPT_CodingDetail', 'ICD_CodingDetail', 'Labs_UFHealth', 'Meds_by_name'])"
      ]
     },
     "metadata": {},
     "execution_count": 11
    }
   ],
   "source": [
    "# for table in t.Table:\n",
    "#     execute(f'drop table if exists preload.{table}', omop.engine)\n",
    "sql_list = omop.get_bo_query('cohort_COVID_Broad')\n",
    "sql_list.keys()"
   ]
  },
  {
   "cell_type": "code",
   "execution_count": 12,
   "metadata": {},
   "outputs": [
    {
     "output_type": "execute_result",
     "data": {
      "text/plain": [
       "\"SELECT  PX_ALL_PATIENTS.PATNT_KEY,  PX_ALL_PATIENTS.PATNT_ID,  PX_ALL_PATIENT_IDENTITIES.IDENT_ID_INT,  PX_JAX_MRN.IDENT_ID_INT FROM  ALL_PATIENTS PX_ALL_PATIENTS RIGHT OUTER JOIN ALL_PATIENT_SNAPSHOTS PX_ALL_PATIENT_SNAPSHOTS ON (PX_ALL_PATIENT_SNAPSHOTS.PATNT_KEY=PX_ALL_PATIENTS.PATNT_KEY)  LEFT OUTER JOIN ALL_PATIENT_IDENTITIES PX_ALL_PATIENT_IDENTITIES ON (PX_ALL_PATIENT_SNAPSHOTS.PATNT_KEY=PX_ALL_PATIENT_IDENTITIES.PATNT_KEY and PX_ALL_PATIENT_IDENTITIES.LOOKUP_IND = 'Y' and PX_ALL_PATIENT_IDENTITIES.IDENT_ID_TYPE = 101)  LEFT OUTER JOIN ALL_PATIENT_IDENTITIES PX_JAX_MRN ON (PX_ALL_PATIENT_SNAPSHOTS.PATNT_KEY=PX_JAX_MRN.PATNT_KEY and PX_JAX_MRN.LOOKUP_IND = 'Y' and PX_JAX_MRN.IDENT_ID_TYPE = 110)  RIGHT OUTER JOIN PROCEDURE_EVENT_DTL ON (PROCEDURE_EVENT_DTL.PATNT_SNAPSHT_KEY=PX_ALL_PATIENT_SNAPSHOTS.PATNT_SNAPSHT_KEY)  LEFT OUTER JOIN ALL_CPT_PROCEDURE_CODES ON (PROCEDURE_EVENT_DTL.CPT_CD_KEY=ALL_CPT_PROCEDURE_CODES.CPT_CD_KEY)  WHERE  (  PROCEDURE_EVENT_DTL.START_DATE >= '01/01/2020 00:0:0'  AND  ALL_CPT_PROCEDURE_CODES.CPT_CD IN ( '87635','U0001','U0002' )  AND  PX_ALL_PATIENT_IDENTITIES.IDENT_ID_INT Is Not Null   )\""
      ]
     },
     "metadata": {},
     "execution_count": 12
    }
   ],
   "source": [
    "sql_list['CPT_CodingDetail']"
   ]
  },
  {
   "cell_type": "code",
   "execution_count": 13,
   "metadata": {},
   "outputs": [
    {
     "output_type": "stream",
     "name": "stdout",
     "text": [
      "  dbo.ALL_PATIENT_IDENTITIES.IDENT_ID_TYPE = 101  ) Table__1308 ON (Table__1308.PATNT_KEY=ALL_PT_SNAPSHOTS_ENCOUNTER.PATNT_KEY)  LEFT OUTER JOIN dbo.MED_ORDER_MIX_DTL ON (dbo.MED_ORDER_DTL.MED_ORDR_KEY=dbo.MED_ORDER_MIX_DTL.MED_ORDR_KEY)  LEFT OUTER JOIN dbo.ALL_MEDICATIONS ALL_MEDICATIONS1 ON (dbo.MED_ORDER_MIX_DTL.MED_CD_KEY=ALL_MEDICATIONS1.MED_CD_KEY)  LEFT OUTER JOIN dbo.MED_DISPENSE_DTL ON (dbo.MED_ORDER_MIX_DTL.MED_ORDR_KEY=dbo.MED_DISPENSE_DTL.MED_ORDR_KEY)  WHERE  (  (   Table__1308.IDENT_ID_INT Is Not Null    OR   Table__1117.IDENT_ID_INT Is Not Null   )  AND  (   dbo.MED_ADMINISTRATION_DTL.TAKN_DT >= '01/01/2020 00:0:0'   OR   dbo.MED_ORDER_DTL.ORDR_DATE >= '01/01/2020 00:0:0'   OR   dbo.MED_DISPENSE_DTL.ACTION_INSTANT_DT >= '01/01/2020 00:0:0'  )  AND  ALL_MEDICATIONS1.MED_NAME LIKE '%REMDESIVIR%'  AND  ( dbo.ALL_PATIENTS.TEST_IND='N' )  )\n"
     ]
    }
   ],
   "source": [
    "import sqlparse\n",
    "\n",
    "sql_list = omop.get_bo_query('cohort_COVID_Broad')\n",
    "dp_name = 'Meds_by_name'\n",
    "\n",
    "sql_string = sql_list[dp_name]\n",
    "sql_parsed = sqlparse.parse(sql_string)\n",
    "tks = sql_parsed[0]\n",
    "idx = [tks.token_index(t) for t in tks if t.is_keyword and t.value == 'FROM'][0]\n",
    "id_list =sql_parsed[0].token_prev(idx)[1]\n",
    "\n",
    "colnames = [i.value.split('.')[-1] for i in id_list]\n",
    "dup_cols = set([x for x in colnames if colnames.count(x) > 1])\n",
    "\n",
    "new_colnames = []\n",
    "for i,item in enumerate(id_list):\n",
    "    if isinstance(item, sqlparse.sql.Identifier):\n",
    "        colname = item.value.split('.')[-1]\n",
    "        tabname = item.value.split('.')[-2]\n",
    "        tabname = '_'.join([w[:3] for w in tabname.split('_')])\n",
    "        if colname in dup_cols:\n",
    "            item.value = f'{item.value} AS {tabname}_{colname}'\n",
    "            # print(item.value)\n",
    "        new_colnames.append(item.value)\n",
    "\n",
    "colnames_str = ', '.join(new_colnames)\n",
    "\n",
    "into_str = f'{colnames_str} INTO {dp_name}'\n",
    "id_list.value = into_str\n",
    "sql_string = ''.join([t.value for t in tks])\n",
    "# sql_string = sql_string.replace(id_list.value, into_str).replace(\"'\",\"''\")\n",
    "# print(sqlparse.format(sql_string, reindent_aligned=True, comma_first=True))\n",
    "print(sql_string)"
   ]
  },
  {
   "cell_type": "code",
   "execution_count": 14,
   "metadata": {},
   "outputs": [
    {
     "output_type": "stream",
     "name": "stdout",
     "text": [
      "DROP TABLE IF EXISTS DWS_OMOP.cohort.Meds_by_name;SELECT dbo.ALL_PATIENTS.PATNT_KEY,\n       dbo.ALL_PATIENTS.PATNT_ID,\n       Table__1308.IDENT_ID_INT AS Tab__130_IDENT_ID_INT,\n       Table__1117.IDENT_ID_INT AS Tab__111_IDENT_ID_INT INTO DWS_OMOP.cohort.Meds_by_name\n  FROM dbo.MED_ADMINISTRATION_DTL\n RIGHT OUTER JOIN dbo.MED_ORDER_DTL\n    ON (dbo.MED_ADMINISTRATION_DTL.MED_ORDR_KEY=dbo.MED_ORDER_DTL.MED_ORDR_KEY AND dbo.MED_ADMINISTRATION_DTL.LINK_ORDR_IND<>''Y'')\n RIGHT OUTER JOIN dbo.PATIENT_ENCOUNTER_DTL\n    ON (dbo.PATIENT_ENCOUNTER_DTL.PATNT_ENCNTR_KEY=dbo.MED_ORDER_DTL.LINK_PATNT_ENCNTR_KEY AND dbo.PATIENT_ENCOUNTER_DTL.TEST_IND=''N'')\n  LEFT OUTER JOIN dbo.ALL_PATIENT_SNAPSHOTS ALL_PT_SNAPSHOTS_ENCOUNTER\n    ON (ALL_PT_SNAPSHOTS_ENCOUNTER.PATNT_SNAPSHT_KEY=dbo.PATIENT_ENCOUNTER_DTL.DSCHRG_PATNT_SNAPSHT_KEY AND dbo.PATIENT_ENCOUNTER_DTL.TEST_IND=''N'')\n  LEFT OUTER JOIN dbo.ALL_PATIENTS\n    ON (ALL_PT_SNAPSHOTS_ENCOUNTER.PATNT_KEY=dbo.ALL_PATIENTS.PATNT_KEY)\n  LEFT OUTER JOIN (\n        SELECT *\n          FROM dbo.ALL_PATIENT_IDENTITIES\n         WHERE dbo.ALL_PATIENT_IDENTITIES.LOOKUP_IND = ''Y''\n           AND dbo.ALL_PATIENT_IDENTITIES.IDENT_ID_TYPE = 110\n       ) Table__1117\n    ON (Table__1117.PATNT_KEY=ALL_PT_SNAPSHOTS_ENCOUNTER.PATNT_KEY)\n  LEFT OUTER JOIN (\n        SELECT *\n          FROM dbo.ALL_PATIENT_IDENTITIES\n         WHERE dbo.ALL_PATIENT_IDENTITIES.LOOKUP_IND = ''Y''\n           AND dbo.ALL_PATIENT_IDENTITIES.IDENT_ID_TYPE = 101\n       ) Table__1308\n    ON (Table__1308.PATNT_KEY=ALL_PT_SNAPSHOTS_ENCOUNTER.PATNT_KEY)\n  LEFT OUTER JOIN dbo.MED_ORDER_MIX_DTL\n    ON (dbo.MED_ORDER_DTL.MED_ORDR_KEY=dbo.MED_ORDER_MIX_DTL.MED_ORDR_KEY)\n  LEFT OUTER JOIN dbo.ALL_MEDICATIONS ALL_MEDICATIONS1\n    ON (dbo.MED_ORDER_MIX_DTL.MED_CD_KEY=ALL_MEDICATIONS1.MED_CD_KEY)\n  LEFT OUTER JOIN dbo.MED_DISPENSE_DTL\n    ON (dbo.MED_ORDER_MIX_DTL.MED_ORDR_KEY=dbo.MED_DISPENSE_DTL.MED_ORDR_KEY)\n WHERE ((Table__1308.IDENT_ID_INT Is Not Null OR Table__1117.IDENT_ID_INT Is Not Null) AND (dbo.MED_ADMINISTRATION_DTL.TAKN_DT >= ''01/01/2020 00:0:0'' OR dbo.MED_ORDER_DTL.ORDR_DATE >= ''01/01/2020 00:0:0'' OR dbo.MED_DISPENSE_DTL.ACTION_INSTANT_DT >= ''01/01/2020 00:0:0'') AND ALL_MEDICATIONS1.MED_NAME LIKE ''%REMDESIVIR%'' AND (dbo.ALL_PATIENTS.TEST_IND=''N''))\n"
     ]
    }
   ],
   "source": [
    "from omop_etl.cohort import format_cohort_sql, stage_cohort\n",
    "sql_list = omop.get_bo_query('cohort_COVID_Broad')\n",
    "dp_name = 'Meds_by_name'\n",
    "sql_string = format_cohort_sql(sql_list[dp_name], dp_name)\n",
    "print(sqlparse.format(sql_string, reindent_aligned=True, comma_first=True))"
   ]
  },
  {
   "cell_type": "code",
   "execution_count": 12,
   "metadata": {},
   "outputs": [
    {
     "output_type": "stream",
     "name": "stdout",
     "text": [
      "INSERT INTO cohort.PersonList WITH (TABLOCK) SELECT DISTINCT *\n  FROM (\n        select patnt_key\n          from cohort.CPT_CodingDetail\n         union select patnt_key\n          from cohort.ICD_CodingDetail\n         union select patnt_key\n          from cohort.Labs_UFHealth\n         union select patnt_key\n          from cohort.Meds_by_name\n       ) x\n"
     ]
    }
   ],
   "source": [
    "# ', '.join(new_colnames)\n",
    "# items\n",
    "print(sqlparse.format(stage_cohort(sql_list), reindent_aligned=True, comma_first=True))"
   ]
  },
  {
   "cell_type": "code",
   "execution_count": 15,
   "metadata": {
    "tags": []
   },
   "outputs": [],
   "source": [
    "import sqlparse\n",
    "from omop_etl.datastore import DataStore, execute\n",
    "from omop_etl.cohort import format_cohort_sql\n",
    "\n",
    "omop = DataStore('config.yml')\n",
    "sql_list = omop.get_bo_query('cohort_COVID_Broad')\n",
    "\n",
    "test_list = list(sql_list.keys())\n",
    "for t in test_list:\n",
    "    if len(sql_list[t]) == 0: pass\n",
    "    else: execute(\"execute ('use [DWS_PROD]; {}')\".format(format_cohort_sql(sql_list[t], t)), omop.engine)"
   ]
  },
  {
   "source": [
    "# add_into_clause(sql_list['CPT_Professional'], 'CPT_Professional')\n",
    "execute(stage_cohort(sql_list), omop.engine)"
   ],
   "cell_type": "code",
   "metadata": {},
   "execution_count": 16,
   "outputs": [
    {
     "output_type": "execute_result",
     "data": {
      "text/plain": [
       "'226328 rows affected'"
      ]
     },
     "metadata": {},
     "execution_count": 16
    }
   ]
  },
  {
   "cell_type": "code",
   "execution_count": 21,
   "metadata": {},
   "outputs": [],
   "source": [
    "# stack_parsed"
   ]
  },
  {
   "cell_type": "code",
   "execution_count": 124,
   "metadata": {},
   "outputs": [],
   "source": [
    "# tks.token_first()\n",
    "# for t in tks.flatten():\n",
    "#     print(t)"
   ]
  },
  {
   "source": [
    "%run -i omop_etl/pullrawdata/pull_raw_data_v2.py"
   ],
   "cell_type": "markdown",
   "metadata": {}
  },
  {
   "cell_type": "code",
   "execution_count": 1,
   "metadata": {},
   "outputs": [
    {
     "output_type": "stream",
     "name": "stdout",
     "text": [
      "a is False\n"
     ]
    }
   ],
   "source": [
    "a = False\n",
    "if a == False:\n",
    "    print('a is False')"
   ]
  },
  {
   "cell_type": "code",
   "execution_count": null,
   "metadata": {},
   "outputs": [],
   "source": []
  }
 ]
}