{
 "cells": [
  {
   "cell_type": "code",
   "execution_count": 1,
   "metadata": {},
   "outputs": [
    {
     "name": "stdout",
     "output_type": "stream",
     "text": [
      "z:\\Covid19\\Covid19_OMOP\\new_pipeline\n"
     ]
    }
   ],
   "source": [
    "import yaml\n",
    "import sqlparse\n",
    "import os\n",
    "import re\n",
    "\n",
    "import pandas as pd\n",
    "os.chdir('z:/Covid19/Covid19_OMOP/new_pipeline')\n",
    "print(os.getcwd())\n",
    "\n",
    "from omop_etl.datastore import DataStore\n",
    "from omop_etl.load import Loader\n",
    "from omop_etl.utils import search\n",
    "from omop_etl.bo import bo_query, format_stage_query\n",
    "\n",
    "omop = DataStore('config.yml')"
   ]
  },
  {
   "cell_type": "markdown",
   "metadata": {},
   "source": [
    "## Configuration files"
   ]
  },
  {
   "cell_type": "code",
   "execution_count": 2,
   "metadata": {},
   "outputs": [],
   "source": [
    "from omop_etl.config import ProjectConfig, ETLConfig"
   ]
  },
  {
   "cell_type": "code",
   "execution_count": 3,
   "metadata": {},
   "outputs": [],
   "source": [
    "config = ProjectConfig('config.yml')"
   ]
  },
  {
   "cell_type": "code",
   "execution_count": 4,
   "metadata": {},
   "outputs": [],
   "source": [
    "# config._config.get('load')"
   ]
  },
  {
   "cell_type": "code",
   "execution_count": 5,
   "metadata": {},
   "outputs": [],
   "source": [
    "# config = ProjectConfig('config.yml')"
   ]
  },
  {
   "cell_type": "code",
   "execution_count": 6,
   "metadata": {},
   "outputs": [],
   "source": [
    "# with config.engine.connect() as con:\n",
    "#     print(con)"
   ]
  },
  {
   "cell_type": "code",
   "execution_count": 7,
   "metadata": {},
   "outputs": [],
   "source": [
    "etl_config = ETLConfig()"
   ]
  },
  {
   "cell_type": "markdown",
   "metadata": {},
   "source": [
    "## BO Queries"
   ]
  },
  {
   "cell_type": "code",
   "execution_count": 8,
   "metadata": {},
   "outputs": [],
   "source": [
    "omop = DataStore('config.yml')\n",
    "\n",
    "# def format_stage_query(dp_name):\n",
    "\n",
    "#     with open('omop_etl/etl_config.yml') as f:\n",
    "#         yml = yaml.safe_load(f) \n",
    "    \n",
    "#     aliases= yml['aliases'][dp_name]\n",
    "#     bo_queries = omop.get_bo_query('omop')\n",
    "\n",
    "#     start_date = omop.config_param['date_range']['start_date']\n",
    "#     end_date = omop.config_param['date_range']['end_date']\n",
    "\n",
    "#     sql_query = format_bo_sql(bo_queries[dp_name], dp_name, schema='stage', aliases=aliases)\n",
    "#     patient_id = \"select PATIENT_KEY from DWS_OMOP.cohort.PersonList\"\n",
    "#     sql_query = sql_query.replace(\"12345678\", patient_id)\n",
    "#     sql_query = sql_query.replace(\"01/01/1900 00:0:0\", start_date)\n",
    "#     sql_query = sql_query.replace(\"12/31/1900 00:0:0\", end_date)\n",
    "\n",
    "#     sql_query = sqlparse.format(sql_query, reindent_aligned=True, indent_with=1)\n",
    "\n",
    "#     return f\"EXECUTE ('USE [DWS_PROD];\\n {sql_query}')\" "
   ]
  },
  {
   "cell_type": "markdown",
   "metadata": {},
   "source": [
    "### BO cohort queries"
   ]
  },
  {
   "cell_type": "code",
   "execution_count": 9,
   "metadata": {},
   "outputs": [
    {
     "data": {
      "text/plain": [
       "55"
      ]
     },
     "execution_count": 9,
     "metadata": {},
     "output_type": "execute_result"
    }
   ],
   "source": [
    "from omop_etl.bo import bo_query\n",
    "with omop.engine.connect() as con:\n",
    "    bo_queries = bo_query('omop', con)\n",
    "\n",
    "len(bo_queries.keys())\n",
    "# [q for q in bo_queries.keys() if bo_queries[q] == '']"
   ]
  },
  {
   "cell_type": "code",
   "execution_count": 10,
   "metadata": {},
   "outputs": [],
   "source": [
    "for dp in bo_queries.keys():\n",
    "    if len(bo_queries[dp]) == 0:\n",
    "        print(dp)"
   ]
  },
  {
   "cell_type": "code",
   "execution_count": 11,
   "metadata": {},
   "outputs": [],
   "source": [
    "loader = Loader('config.yml')"
   ]
  },
  {
   "cell_type": "code",
   "execution_count": 12,
   "metadata": {},
   "outputs": [
    {
     "name": "stdout",
     "output_type": "stream",
     "text": [
      "Executing stage_table(measurement, ['lab', True]) ... Done   \n",
      "Elapsed time 00:00:01\n",
      "EXECUTE ('USE DWS_PROD;\n",
      " DROP TABLE IF EXISTS dws_omop.stage.MEASUREMENT_LAB;SELECT  dbo.ALL_PATIENTS.PATNT_KEY AS patient_key, PATNT_ENCNTR_KEY_XREF1.PATNT_ENCNTR_KEY AS patnt_encntr_key, dbo.LAB_RESULT_DTL.NORML_LOW AS normal_low, dbo.LAB_RESULT_DTL.NORML_HIGH AS normal_high, ALL_LOINC_CODES_COMBINED.LOINC_CD AS loinc_code, dbo.LAB_RESULT_DTL.LAB_UNIT AS lab_unit, dbo.LAB_RESULT_DTL.LAB_RESULT AS lab_result, dbo.ORDER_PROCEDURE_DTL.SPECMN_TKN_DATE AS specimen_taken_date, dbo.ORDER_PROCEDURE_DTL.SPECMN_TKN_TIME AS specimen_taken_time, dbo.ORDER_PROCEDURE_DTL.SPECMN_TKN_DT AS specimen_taken_datetime, dbo.LAB_RESULT_DTL.RESOLVED_DATE AS inferred_specimen_date, dbo.LAB_RESULT_DTL.RESOLVED_TIME AS inferred_specimen_time, dbo.LAB_RESULT_DTL.RESOLVED_DT AS inferred_specimen_datetime, ALL_PROVIDERS_AUTH_LAB.PROVIDR_KEY AS attending_provider INTO dws_omop.stage.MEASUREMENT_LAB  FROM  dbo.ALL_PROCEDURES RIGHT OUTER JOIN dbo.ORDER_PROCEDURE_DTL ON (dbo.ALL_PROCEDURES.PROC_KEY=dbo.ORDER_PROCEDURE_DTL.PROC_KEY)  RIGHT OUTER JOIN dbo.PATIENT_ENCOUNTER_DTL ON (dbo.PATIENT_ENCOUNTER_DTL.PATNT_ENCNTR_KEY=dbo.ORDER_PROCEDURE_DTL.PATNT_ENCNTR_KEY AND dbo.PATIENT_ENCOUNTER_DTL.TEST_IND=''N''\n",
      " )  LEFT OUTER JOIN dbo.ALL_PATIENT_SNAPSHOTS ALL_PT_SNAPSHOTS_ENCOUNTER ON (ALL_PT_SNAPSHOTS_ENCOUNTER.PATNT_SNAPSHT_KEY=dbo.PATIENT_ENCOUNTER_DTL.DSCHRG_PATNT_SNAPSHT_KEY AND dbo.PATIENT_ENCOUNTER_DTL.TEST_IND=''N''\n",
      " )  LEFT OUTER JOIN dbo.ALL_PATIENTS ON (ALL_PT_SNAPSHOTS_ENCOUNTER.PATNT_KEY=dbo.ALL_PATIENTS.PATNT_KEY)  LEFT OUTER JOIN dbo.PATNT_ENCNTR_KEY_XREF PATNT_ENCNTR_KEY_XREF1 ON (dbo.PATIENT_ENCOUNTER_DTL.PATNT_ENCNTR_KEY=PATNT_ENCNTR_KEY_XREF1.PATNT_ENCNTR_KEY AND dbo.PATIENT_ENCOUNTER_DTL.TEST_IND=''N''\n",
      " )  LEFT OUTER JOIN dbo.LAB_RESULT_DTL ON (dbo.LAB_RESULT_DTL.ORDR_PROC_KEY=dbo.ORDER_PROCEDURE_DTL.ORDR_PROC_KEY)  LEFT OUTER JOIN dbo.ALL_LOINC_CODES ALL_LOINC_CODES_COMBINED ON (dbo.LAB_RESULT_DTL.COMBINED_LOINC_CD_KEY=ALL_LOINC_CODES_COMBINED.LOINC_CD_KEY)  LEFT OUTER JOIN ALL_LAB_STATUSES ON (ALL_LAB_STATUSES.LAB_STAT_CD_KEY=dbo.LAB_RESULT_DTL.LAB_STAT_CD_KEY)  LEFT OUTER JOIN dbo.ALL_PROVIDERS ALL_PROVIDERS_AUTH_LAB ON (ALL_PROVIDERS_AUTH_LAB.PROVIDR_KEY=dbo.ORDER_PROCEDURE_DTL.AUTH_PROVIDR_KEY)  WHERE  (  dbo.ALL_PATIENTS.PATNT_KEY IN ( select PATIENT_KEY from dws_omop.cohort.PersonList )  AND  ALL_LAB_STATUSES.STNDRD_LABEL IN ( ''EDITED'',''EDITED FINAL'',''FINAL'' )  AND  dbo.LAB_RESULT_DTL.RESOLVED_DATE >= ''01/01/2012''  AND  dbo.LAB_RESULT_DTL.RESOLVED_DATE <= ''12/31/2020''  AND  dbo.PATIENT_ENCOUNTER_DTL.CALCULATED_ENCNTR_STAT_DESC = ''Complete''  AND  dbo.LAB_RESULT_DTL.LAB_RESULT Is Not Null   AND  ALL_LOINC_CODES_COMBINED.LOINC_CD IN ( ''10331-7'',''10368-9'',''10466-1'',''10834-0'',''10839-9'',''10900-9'',''10912-4'',''11011-4'',''11053-6'',''11064-3'',''11258-1'',''11259-9'',''11558-4'',''11572-5'',''11573-3'',''11579-0'',''11580-8'',''12185-5'',''12187-1'',''12195-4'',''12227-5'',''12961-9'',''12962-7'',''12963-5'',''1305-2'',''13226-6'',''13249-8'',''13251-4'',''13279-5'',''13281-1'',''13282-9'',''13457-7'',''13488-2'',''13949-3'',''13952-7'',''13955-0'',''13969-1'',''14118-4'',''14196-0'',''14403-0'',''14580-5'',''14627-4'',''14631-6'',''14634-0'',''14682-9'',''14723-1'',''14757-9'',''14759-5'',''14775-1'',''14803-1'',''14804-9'',''14805-6'',''14908-8'',''14929-4'',''14957-5'',''14979-9'',''14995-5'',''1514-9'',''15179-5'',''1518-0'',''15205-8'',''1558-6'',''16128-1'',''16324-6'',''16412-9'',''16461-6'',''16503-5'',''16630-6'',''16631-4'',''16715-5'',''16717-1'',''16719-7'',''16859-1'',''16933-4'',''16934-2'',''16935-9'',''16944-1'',''16955-7'',''16957-3'',''1742-6'',''1743-4'',''1744-2'',''1751-7'',''1754-1'',''17551-3'',''1759-0'',''1783-0'',''17849-1'',''17850-9'',''17851-7'',''17855-8'',''17857-4'',''17861-6'',''17863-2'',''17864-0'',''1798-8'',''18184-2'',''18262-6'',''1834-1'',''18348-3'',''1920-8'',''19213-8'',''19224-5'',''19230-2'',''19231-0'',''19232-8'',''19233-6'',''19255-9'',''1959-6'',''1960-4'',''1961-2'',''1962-0'',''1963-8'',''1968-7'',''1971-1'',''1975-2'',''1977-8'',''1978-6'',''1988-5'',''1992-7'',''1994-3'',''1995-0'',''2019-8'',''2026-3'',''2028-9'',''20409-9'',''20416-4'',''20436-2'',''20447-9'',''20450-3'',''20454-5'',''20464-4'',''20507-0'',''20508-8'',''20509-6'',''20564-1'',''20565-8'',''20567-4'',''20570-8'',''20585-6'',''20624-3'',''2069-3'',''2075-0'',''2085-9'',''2089-1'',''2093-3'',''21000-5'',''21232-4'',''21327-2'',''21482-5'',''2157-6'',''21570-7'',''2160-0'',''2161-8'',''2162-6'',''2164-2'',''22243-0'',''22244-8'',''22316-4'',''22322-2'',''22459-2'',''22496-4'',''22580-5'',''2276-4'',''2283-0'',''2324-2'',''2336-6'',''2339-0'',''2340-8'',''2345-7'',''23761-0'',''23811-3'',''23869-1'',''23876-6'',''24113-3'',''24116-6'',''24119-0'',''24373-3'',''24467-3'',''2498-4'',''2500-7'',''2502-3'',''2524-7'',''2528-8'',''2529-6'',''2530-4'',''2531-2'',''2532-0'',''2533-8'',''2534-6'',''25420-1'',''25514-1'',''25542-2'',''25668-5'',''2571-8'',''25836-8'',''2601-3'',''2638-5'',''26444-0'',''26449-9'',''26450-7'',''26453-1'',''26464-8'',''26474-7'',''26478-8'',''26484-6'',''26485-3'',''26498-6'',''26499-4'',''26511-6'',''26515-7'',''26523-1'',''26524-9'',''26881-3'',''26927-4'',''2703-7'',''2708-6'',''2709-4'',''2711-0'',''2713-6'',''27353-2'',''2744-1'',''2745-8'',''2746-6'',''2777-1'',''27948-9'',''28001-6'',''2823-3'',''28539-5'',''28540-3'',''28541-1'',''2862-1'',''28640-1'',''28641-9'',''28657-5'',''2885-2'',''2888-6'',''2889-4'',''29263-1'',''2947-0'',''2951-2'',''29539-4'',''29541-0'',''29574-1'',''29575-8'',''29610-3'',''29615-2'',''2965-2'',''29991-7'',''30003-8'',''30004-6'',''30009-5'',''30038-4'',''3016-3'',''30180-4'',''30226-5'',''30239-8'',''3024-7'',''3026-2'',''30313-1'',''30325-5'',''3034-6'',''30341-2'',''30350-3'',''30352-9'',''30384-2'',''30385-9'',''3040-3'',''30428-7'',''30433-7'',''30446-9'',''3050-2'',''3051-0'',''3052-8'',''30522-7'',''3053-6'',''3084-1'',''30902-1'',''30934-4'',''3094-0'',''3097-3'',''31066-4'',''31100-1'',''31112-6'',''31144-9'',''31146-4'',''31147-2'',''31156-3'',''31178-7'',''31204-1'',''31411-2'',''3173-2'',''31796-6'',''32133-1'',''3217-7'',''3218-5'',''32215-6'',''32286-7'',''32307-1'',''32324-6'',''32354-3'',''3246-6'',''3251-6'',''32515-9'',''3252-4'',''3255-7'',''3256-5'',''32623-1'',''32673-6'',''32687-6'',''32693-4'',''32713-0'',''32717-1'',''32771-8'',''3289-6'',''33006-8'',''33037-3'',''33204-9'',''33254-4'',''33256-9'',''33291-6'',''33313-8'',''33314-6'',''33336-9'',''33367-4'',''33616-4'',''33762-6'',''33910-1'',''33914-3'',''33959-8'',''33984-6'',''34581-9'',''34714-6'',''34961-3'',''35281-5'',''35591-7'',''35592-5'',''35648-5'',''35674-1'',''35875-4'',''38180-6'',''38483-4'',''38506-2'',''38875-1'',''39485-8'',''39486-6'',''39571-5'',''40045-7'',''40323-8'',''40466-5'',''40665-2'',''40667-8'',''40677-7'',''40678-5'',''41024-1'',''41399-7'',''41652-9'',''41653-7'',''41654-5'',''42507-4'',''42593-4'',''42595-9'',''42606-4'',''42638-7'',''42719-5'',''42757-5'',''42908-4'',''43026-4'',''43030-6'',''43180-9'',''43279-9'',''43396-1'',''43402-7'',''43700-4'',''43734-3'',''43810-1'',''44494-3'',''44817-5'',''45062-7'',''45066-8'',''45161-7'',''45210-2'',''4537-7'',''4538-5'',''4539-3'',''4544-3'',''4545-0'',''4548-4'',''46109-5'',''4621-9'',''4625-0'',''46417-2'',''46418-0'',''47213-4'',''47252-2'',''47390-0'',''47678-8'',''47863-6'',''48058-2'',''48065-7'',''48066-5'',''48067-3'',''48141-6'',''48159-8'',''48398-2'',''48421-2'',''48425-3'',''48426-1'',''48642-3'',''48643-1'',''48664-7'',''49058-1'',''49134-0'',''49136-5'',''49347-8'',''49497-1'',''49498-9'',''49539-0'',''49551-5'',''49563-0'',''49701-6'',''49731-3'',''49732-1'',''49919-4'',''4999-9'',''50044-7'',''5010-4'',''50210-4'',''50380-5'',''50381-3'',''50384-7'',''50551-1'',''50754-1'',''50758-2'',''50980-2'',''5124-3'',''5126-8'',''51731-8'',''51732-6'',''51733-4'',''5187-0'',''51914-0'',''51916-5'',''5193-8'',''5195-3'',''5196-1'',''5199-5'',''5206-8'',''5207-6'',''5209-2'',''5210-0'',''52122-9'',''52129-4'',''5289-4'',''5290-2'',''5291-0'',''5292-8'',''52981-8'',''52984-2'',''5331-4'',''5332-2'',''53326-5'',''5334-8'',''5335-5'',''53553-4'',''53560-9'',''5388-4'',''5390-0'',''53962-7'',''54163-1'',''54206-8'',''54218-3'',''54347-0'',''54363-7'',''55782-7'',''5671-3'',''5770-3'',''57743-7'',''57747-8'',''57899-7'',''5811-5'',''5837-0'',''58450-8'',''58452-4'',''58784-0'',''5901-4'',''5902-2'',''5905-5'',''59052-1'',''59182-6'',''5964-2'',''59794-8'',''59826-8'',''59827-6'',''59828-4'',''60017-1'',''60018-9'',''60019-7'',''60020-5'',''60021-3'',''60022-1'',''60023-9'',''60024-7'',''60474-4'',''61151-7'',''61152-5'',''62234-0'',''62235-7'',''62238-1'',''6298-4'',''6299-2'',''6301-6'',''63432-9'',''63462-6'',''6597-9'',''6598-7'',''6690-2'',''67151-1'',''6768-6'',''68387-0'',''68452-2'',''68453-0'',''6864-3'',''6892-4'',''6921-1'',''69405-9'',''69964-5'',''70154-0'',''70199-5'',''704-7'',''705-4'',''706-2'',''707-0'',''70969-1'',''711-2'',''712-0'',''713-8'',''714-6'',''71426-1'',''71427-9'',''718-7'',''71841-1'',''71842-9'',''71843-7'',''71844-5'',''71845-2'',''71846-0'',''71851-0'',''71852-8'',''71853-6'',''72171-2'',''72925-1'',''731-0'',''732-8'',''73559-7'',''736-9'',''737-7'',''740-1'',''74105-8'',''742-7'',''743-5'',''744-3'',''74464-9'',''749-2'',''751-8'',''75241-0'',''753-4'',''76399-5'',''76485-2'',''76486-0'',''76625-3'',''76631-1'',''76633-7'',''770-8'',''77137-8'',''77140-2'',''77144-4'',''77147-7'',''77148-5'',''77307-7'',''77397-8'',''776-5'',''777-3'',''778-1'',''7799-0'',''783-1'',''785-6'',''7852-7'',''7853-5'',''786-4'',''787-2'',''788-0'',''789-8'',''790-6'',''7905-3'',''7909-5'',''7910-3'',''7912-9'',''7913-7'',''8014-3'',''8015-0'',''8039-0'',''804-5'',''8040-8'',''8123-2'',''81324-6'',''82477-1'',''88112-8'',''882-1'',''88293-6'',''88294-4'',''883-9'',''884-7'',''89576-3'',''89577-1'',''89579-7'',''89871-8'',''89872-6'',''91556-1'',''9422-7'',''94309-2'',''94500-6'',''9741-0'',''978-7'',''9830-1'' )  AND  ( dbo.ALL_PROCEDURES.PROC_CD ) NOT IN ( ''LAB17010'',''LAB170016'' )  AND  ( dbo.ALL_PATIENTS.TEST_IND=''N'' )  ) /* User Running = ''Administrator'' ; Document = ''OMOP''; Query = ''MEASUREMENT_LAB'' (''DPUNIVERS'') */')\n"
     ]
    }
   ],
   "source": [
    "print(loader.stage_table('measurement', subset='lab', only_query=True))"
   ]
  },
  {
   "cell_type": "code",
   "execution_count": 13,
   "metadata": {},
   "outputs": [
    {
     "data": {
      "text/plain": [
       "\"SELECT  PX_ALL_PATIENTS.PATNT_KEY,  PX_ALL_PATIENTS.PATNT_ID,  PX_ALL_PATIENT_IDENTITIES.IDENT_ID_INT,  PX_JAX_MRN.IDENT_ID_INT FROM  ALL_PATIENTS PX_ALL_PATIENTS RIGHT OUTER JOIN ALL_PATIENT_SNAPSHOTS PX_ALL_PATIENT_SNAPSHOTS ON (PX_ALL_PATIENT_SNAPSHOTS.PATNT_KEY=PX_ALL_PATIENTS.PATNT_KEY)  LEFT OUTER JOIN ALL_PATIENT_IDENTITIES PX_ALL_PATIENT_IDENTITIES ON (PX_ALL_PATIENT_SNAPSHOTS.PATNT_KEY=PX_ALL_PATIENT_IDENTITIES.PATNT_KEY and PX_ALL_PATIENT_IDENTITIES.LOOKUP_IND = 'Y' and PX_ALL_PATIENT_IDENTITIES.IDENT_ID_TYPE = 101)  LEFT OUTER JOIN ALL_PATIENT_IDENTITIES PX_JAX_MRN ON (PX_ALL_PATIENT_SNAPSHOTS.PATNT_KEY=PX_JAX_MRN.PATNT_KEY and PX_JAX_MRN.LOOKUP_IND = 'Y' and PX_JAX_MRN.IDENT_ID_TYPE = 110)  RIGHT OUTER JOIN PROCEDURE_EVENT_DTL ON (PROCEDURE_EVENT_DTL.PATNT_SNAPSHT_KEY=PX_ALL_PATIENT_SNAPSHOTS.PATNT_SNAPSHT_KEY)  LEFT OUTER JOIN ALL_CPT_PROCEDURE_CODES ON (PROCEDURE_EVENT_DTL.CPT_CD_KEY=ALL_CPT_PROCEDURE_CODES.CPT_CD_KEY)  WHERE  (  PROCEDURE_EVENT_DTL.START_DATE BETWEEN '01/01/2020 00:0:0' AND '12/31/2020 00:0:0'  AND  ALL_CPT_PROCEDURE_CODES.CPT_CD IN ( '87635','U0001','U0002' )  AND  PX_ALL_PATIENT_IDENTITIES.IDENT_ID_INT Is Not Null   AND  ( PX_ALL_PATIENTS.TEST_IND='N' )  ) /* User Running = 'yankuic' ; Document = '21285159'- 'cohort_COVID_Broad'; Query = 'CPT_CodingDetail' ('DPUNIVERS') */\""
      ]
     },
     "execution_count": 13,
     "metadata": {},
     "output_type": "execute_result"
    }
   ],
   "source": [
    "from omop_etl.bo import bo_query\n",
    "with omop.engine.connect() as con:\n",
    "    bo_cohort = bo_query('cohort_COVID_broad', con)\n",
    "\n",
    "table = 'CPT_CodingDetail'\n",
    "# print(format_stage_query(table))\n",
    "bo_cohort[table]"
   ]
  },
  {
   "cell_type": "code",
   "execution_count": 14,
   "metadata": {},
   "outputs": [],
   "source": [
    "from omop_etl.bo import bo_query, format_stage_query\n",
    "import sqlparse"
   ]
  },
  {
   "cell_type": "code",
   "execution_count": 15,
   "metadata": {},
   "outputs": [
    {
     "name": "stdout",
     "output_type": "stream",
     "text": [
      "EXECUTE ('USE DWS_PROD;\n",
      " DROP TABLE IF EXISTS dws_omop.stage.MEASUREMENT_Res_RESP_MechVentSetRate;SELECT DISTINCT  dbo.ALL_PATIENTS.PATNT_KEY, PATNT_ENCNTR_KEY_XREF1.PATNT_ENCNTR_KEY, Flowsheet_Enc_Dttime_RESP.MEASR_TAKN_DATE, Flowsheet_Enc_Dttime_RESP.MEASR_TAKN_DT, Flowsheet_RESP_Mech_Vent.MEASR_VALUE, ALL_PROVIDER_IDS_ATTEND_SER.PROVIDR_KEY AS ALL_PRO_IDS_ATT_SER_PROVIDR_KEY, ALL_PROVIDERS_VISIT.PROVIDR_KEY AS ALL_PRO_VIS_PROVIDR_KEY INTO dws_omop.stage.MEASUREMENT_Res_RESP_MechVentSetRate  FROM  dbo.ALL_PATIENTS RIGHT OUTER JOIN dbo.ALL_PATIENT_SNAPSHOTS ALL_PT_SNAPSHOTS_ENCOUNTER ON (ALL_PT_SNAPSHOTS_ENCOUNTER.PATNT_KEY=dbo.ALL_PATIENTS.PATNT_KEY)  RIGHT OUTER JOIN dbo.PATIENT_ENCOUNTER_DTL ON (ALL_PT_SNAPSHOTS_ENCOUNTER.PATNT_SNAPSHT_KEY=dbo.PATIENT_ENCOUNTER_DTL.DSCHRG_PATNT_SNAPSHT_KEY AND dbo.PATIENT_ENCOUNTER_DTL.TEST_IND=''N''\n",
      " )  LEFT OUTER JOIN dbo.ALL_PROVIDERS ALL_PROVIDERS_ATTENDING ON (dbo.PATIENT_ENCOUNTER_DTL.ATTND_PROVIDR_KEY=ALL_PROVIDERS_ATTENDING.PROVIDR_KEY AND dbo.PATIENT_ENCOUNTER_DTL.TEST_IND=''N''\n",
      " )  FULL OUTER JOIN dbo.ALL_PROVIDER_IDENTITIES ALL_PROVIDER_IDS_ATTEND_SER ON (ALL_PROVIDER_IDS_ATTEND_SER.IDENT_ID_TYPE= -1001\n",
      "  AND ALL_PROVIDERS_ATTENDING.PROVIDR_KEY=ALL_PROVIDER_IDS_ATTEND_SER.PROVIDR_KEY AND ALL_PROVIDER_IDS_ATTEND_SER.IDENT_ID_TYPE= -1001)  LEFT OUTER JOIN dbo.PATNT_ENCNTR_KEY_XREF PATNT_ENCNTR_KEY_XREF1 ON (dbo.PATIENT_ENCOUNTER_DTL.PATNT_ENCNTR_KEY=PATNT_ENCNTR_KEY_XREF1.PATNT_ENCNTR_KEY AND dbo.PATIENT_ENCOUNTER_DTL.TEST_IND=''N''\n",
      " )  LEFT OUTER JOIN (  SELECT DISTINCT a.LINK_PATNT_ENCNTR_KEY,a.PATNT_ENCNTR_KEY,a.MEASR_TAKN_DT,a.MEASR_TAKN_DATE\n",
      "\n",
      " FROM flowsheet_measure_dtl a join all_flowsheet_measures b on a.flowsht_measr_key=b.flowsht_measr_key\n",
      " where b.ETL_IND = ''Y'' and a.MEASR_VALUE is not null\n",
      " and b.STNDRD_LABEL_CAT is not null  ) Flowsheet_Enc_Dttime ON (dbo.PATIENT_ENCOUNTER_DTL.TEST_IND=''N''\n",
      "  AND dbo.PATIENT_ENCOUNTER_DTL.PATNT_ENCNTR_KEY=Flowsheet_Enc_Dttime.LINK_PATNT_ENCNTR_KEY)  LEFT OUTER JOIN (  SELECT DISTINCT a.PATNT_ENCNTR_KEY,a.MEASR_TAKN_DT,a.MEASR_TAKN_DATE\n",
      "FROM flowsheet_measure_dtl a join all_flowsheet_measures b on(a.flowsht_measr_key=b.flowsht_measr_key)\n",
      "where b.stndrd_label_cat in(''RESPIRATORY'') and a.measr_value is not null  ) Flowsheet_Enc_Dttime_RESP ON (Flowsheet_Enc_Dttime.PATNT_ENCNTR_KEY=Flowsheet_Enc_Dttime_RESP.PATNT_ENCNTR_KEY AND Flowsheet_Enc_Dttime.MEASR_TAKN_DT=Flowsheet_Enc_Dttime_RESP.MEASR_TAKN_DT)  LEFT OUTER JOIN (  select a.*\n",
      "\n",
      " from flowsheet_measure_dtl a join all_flowsheet_measures b on (a.flowsht_measr_key=b.flowsht_measr_key)\n",
      "\n",
      " where b.stndrd_label_dtl = ''RESP RATE - Mech Vent Set Rate''\n",
      "  ) Flowsheet_RESP_Mech_Vent ON (Flowsheet_Enc_Dttime_RESP.PATNT_ENCNTR_KEY=Flowsheet_RESP_Mech_Vent.PATNT_ENCNTR_KEY AND Flowsheet_Enc_Dttime_RESP.MEASR_TAKN_DT=Flowsheet_RESP_Mech_Vent.MEASR_TAKN_DT)  LEFT OUTER JOIN (  select a.*\n",
      "\n",
      "from flowsheet_measure_dtl a join all_flowsheet_measures b on (a.flowsht_measr_key=b.flowsht_measr_key)\n",
      "\n",
      " where b.stndrd_label_dtl = ''RESP RATE''  ) Flowsheet_RESP_RESPRATE ON (Flowsheet_Enc_Dttime_RESP.PATNT_ENCNTR_KEY=Flowsheet_RESP_RESPRATE.PATNT_ENCNTR_KEY AND Flowsheet_Enc_Dttime_RESP.MEASR_TAKN_DT=Flowsheet_RESP_RESPRATE.MEASR_TAKN_DT)  LEFT OUTER JOIN dbo.ALL_PROVIDERS ALL_PROVIDERS_VISIT ON (dbo.PATIENT_ENCOUNTER_DTL.TEST_IND=''N''\n",
      "  AND dbo.PATIENT_ENCOUNTER_DTL.VISIT_PROVIDR_KEY=ALL_PROVIDERS_VISIT.PROVIDR_KEY)  WHERE  (  dbo.ALL_PATIENTS.PATNT_KEY IN ( select PATIENT_KEY from dws_omop.cohort.PersonList )  AND  Flowsheet_Enc_Dttime_RESP.MEASR_TAKN_DATE >= ''01/01/2012''  AND  Flowsheet_RESP_RESPRATE.MEASR_VALUE <= ''12/31/2020''  AND  Flowsheet_RESP_Mech_Vent.MEASR_VALUE\n",
      "  Is Not Null   AND  dbo.PATIENT_ENCOUNTER_DTL.CALCULATED_ENCNTR_STAT_DESC = ''Complete''  AND  ( dbo.ALL_PATIENTS.TEST_IND=''N'' )  ) /* User Running = ''Administrator'' ; Document = ''OMOP''; Query = ''MEASUREMENT_Res_RESP_MechVentSetRate'' (''DPUNIVERS'') */')\n"
     ]
    }
   ],
   "source": [
    "with omop.engine.connect() as con:\n",
    "    print(format_stage_query('omop', 'MEASUREMENT_Res_RESP_MechVentSetRate', '01/01/2012', '12/31/2020', con, schema='stage'))"
   ]
  },
  {
   "cell_type": "code",
   "execution_count": 16,
   "metadata": {},
   "outputs": [
    {
     "ename": "NameError",
     "evalue": "name 'bo' is not defined",
     "output_type": "error",
     "traceback": [
      "\u001b[1;31m---------------------------------------------------------------------------\u001b[0m",
      "\u001b[1;31mNameError\u001b[0m                                 Traceback (most recent call last)",
      "\u001b[1;32m<ipython-input-16-6778c24a9752>\u001b[0m in \u001b[0;36m<module>\u001b[1;34m\u001b[0m\n\u001b[1;32m----> 1\u001b[1;33m \u001b[0mbo\u001b[0m\u001b[1;33m[\u001b[0m\u001b[1;34m'MEASUREMENT_Res_RESP_MechVentSetRate'\u001b[0m\u001b[1;33m]\u001b[0m\u001b[1;33m\u001b[0m\u001b[1;33m\u001b[0m\u001b[0m\n\u001b[0m",
      "\u001b[1;31mNameError\u001b[0m: name 'bo' is not defined"
     ]
    }
   ],
   "source": [
    "bo['MEASUREMENT_Res_RESP_MechVentSetRate']"
   ]
  },
  {
   "cell_type": "code",
   "execution_count": null,
   "metadata": {},
   "outputs": [],
   "source": [
    "# with omop.engine.connect() as con:\n",
    "#     bo_queries = bo_query('omop', con)\n",
    "# # print(bo_queries.keys())\n",
    "\n",
    "# # SAVE QUERIES TO FILE\n",
    "# for t in bo_queries.keys():\n",
    "#     try:\n",
    "#         print(t)\n",
    "#         f = open(f'./output/sqlstring_{t.lower()}.sql', 'w')\n",
    "#         f.write(format_stage_query(t))\n",
    "#         format_stage_query(t)\n",
    "#         f.close()\n",
    "#     except ValueError as e:\n",
    "#         print(t)\n",
    "#         raise e\n",
    "\n",
    "# aliases= yml[table]\n",
    "# format_bo_sql(bo_queries[table], table, schema='stage')\n",
    "# omop.execute(format_stage_query('MEASUREMENT_HeartRate'))\n",
    "\n",
    "# aliases = {}\n",
    "# for t in bo_queries.keys():\n",
    "#     with omop.engine.connect() as con:\n",
    "#         cols = pd.read_sql(f\"select top 0 * from stage.{t}\", con)\n",
    "#         aliases[t] = [x.lower() for x in cols.columns]\n",
    "\n",
    "# with open('col_aliases.yml', 'w') as f:\n",
    "#     yaml.dump(aliases, f)\n",
    "#     f.close()"
   ]
  },
  {
   "cell_type": "code",
   "execution_count": null,
   "metadata": {},
   "outputs": [],
   "source": [
    "bo_queries = omop.get_bo_query('omop')\n",
    "sqlstring = bo_queries['MEASUREMENT_BP_CVP']#'MEASUREMENT_BP_MAP_Cuff'] or 'MEASUREMENT_Height' MEASUREMENT_Weight\n",
    "parsed = sqlparse.parse(sqlstring)[0]\n",
    "idx = [parsed.token_index(t) for t in parsed if t.is_keyword and t.value == 'FROM'][0]\n",
    "columns = parsed.token_prev(idx)[1]\n",
    "\n",
    "# Extract columns from SELECT clause. If duplicated columns, use alias, \n",
    "# else append abbreviated source table name.\n",
    "colnames = [i.value.split('.')[-1] for i in columns]\n",
    "dup_cols = set([x for x in colnames if colnames.count(x) > 1])\n",
    "new_colnames = []\n",
    "\n",
    "counter = 0\n",
    "for item in columns:\n",
    "    if isinstance(item, sqlparse.sql.Identifier):\n",
    "        colname = item.value.split('.')[-1]\n",
    "        tabname = item.value.split('.')[-2]\n",
    "        shrt_tabname = '_'.join([word[:3] for word in tabname.split('_')])\n",
    "        # print('Identifier', item.value)\n",
    "    \n",
    "    elif isinstance(item, sqlparse.sql.Function):\n",
    "        counter += 1\n",
    "        fn_name = f'FN_{counter}'\n",
    "        for x in item:\n",
    "            if (isinstance(x, sqlparse.sql.Identifier) and x.value == 'cast'):\n",
    "                print(item.value)\n",
    "                continue\n",
    "            else: \n",
    "                pass\n",
    "            if isinstance(x, sqlparse.sql.Parenthesis): \n",
    "                for y in x:\n",
    "                    if isinstance(y, sqlparse.sql.Identifier):\n",
    "                        print(y.value)\n",
    "                        print([i.strip() for i in y.value.split(' as ')])\n",
    "                        # col, dtype = [i.strip() for i in y.value.split('as')]\n",
    "                        # print(f'try_convert({dtype}, {col})')\n",
    "    \n",
    "    # else: \n",
    "    #     print('Something else', item.__repr__)"
   ]
  },
  {
   "cell_type": "code",
   "execution_count": null,
   "metadata": {},
   "outputs": [],
   "source": [
    "def flatten(alist):\n",
    "    flat = []\n",
    "    while alist: \n",
    "        e = alist.pop()\n",
    "        if type(e) == list: \n",
    "            alist.extend(e) \n",
    "        else:\n",
    "            flat.append(e) \n",
    "     \n",
    "    return flat\n",
    "\n",
    "# def replace_cast_with_try_convert(parsed):    \n",
    "items = []\n",
    "for token in parsed.tokens:\n",
    "    if isinstance(token, sqlparse.sql.IdentifierList) or isinstance(token, sqlparse.sql.Where):\n",
    "        items = [item for item in token if search('cast', item.value)]\n",
    "        # print(items)\n",
    "        for item in items:\n",
    "            if isinstance(item, sqlparse.sql.Function):\n",
    "                \n",
    "                col, dtype = flatten([[i.value.split(' as ') for i in p if isinstance(i, sqlparse.sql.Identifier)] \n",
    "                                       for p in item if isinstance(p, sqlparse.sql.Parenthesis)])\n",
    "                item.value = f'try_convert({dtype},{col})'\n",
    "                \n",
    "            else:\n",
    "                fun_list = flatten([[a for a in i if isinstance(a, sqlparse.sql.Function)] \n",
    "                                     for i in item if search('cast', i.value)])\n",
    "                \n",
    "                # print(fun_list)\n",
    "                if not fun_list:\n",
    "                    fun_list = [i for i in item if (search('cast', i.value) & isinstance(i, sqlparse.sql.Function))]\n",
    "                \n",
    "                if not fun_list:\n",
    "                    fun_list = flatten(flatten([[[a for a in b if isinstance(a, sqlparse.sql.Function)] \n",
    "                                                for b in i if isinstance(b, sqlparse.sql.Operation)] for i in item if search('cast', i.value)]))\n",
    "\n",
    "                # print(fun_list)\n",
    "                for fun in fun_list:\n",
    "                    col, dtype = flatten([[i.value.split(' as ') for i in p if isinstance(i, sqlparse.sql.Identifier)] \n",
    "                                           for p in fun if isinstance(p, sqlparse.sql.Parenthesis)][0])\n",
    "                    # print(fun)\n",
    "                    item.value = item.value.replace(fun.value, f'try_convert({dtype},{col})')\n",
    "                    # print(item.value)\n",
    "        \n",
    "        token.value = ''.join(item.value for item in token)\n",
    "\n",
    "        print(token.value)"
   ]
  },
  {
   "cell_type": "code",
   "execution_count": null,
   "metadata": {},
   "outputs": [],
   "source": [
    "import numpy as np\n",
    "\n",
    "bo_queries = omop.get_bo_query('omop')\n",
    "sqlstring = bo_queries['MEASUREMENT_Height']#'MEASUREMENT_BP_MAP_Cuff'] or 'MEASUREMENT_Height' MEASUREMENT_Weight MEASUREMENT_BP_CVP\n",
    "parsed = sqlparse.parse(sqlstring)[0]\n",
    "\n",
    "def get_function(item):\n",
    "    if isinstance(item, (sqlparse.sql.Parenthesis, sqlparse.sql.Operation)):\n",
    "        return list(filter(None, [get_function(a) for a in item]))\n",
    "    elif isinstance(item, sqlparse.sql.Function):\n",
    "        return item\n",
    "\n",
    "def flatten(lst):\n",
    "    for el in lst:\n",
    "        if isinstance(el, list):  \n",
    "            # recurse\n",
    "            yield from flatten(el)\n",
    "        else:\n",
    "            # generate\n",
    "            yield el\n",
    " \n",
    "\n",
    "# fun_list = []\n",
    "for token in parsed.tokens:\n",
    "    if isinstance(token, (sqlparse.sql.IdentifierList, sqlparse.sql.Where)):\n",
    "        items = [item for item in token if search('cast', item.value)]\n",
    "        # print(items)\n",
    "        for item in items:\n",
    "            if isinstance(item, sqlparse.sql.Function):\n",
    "                fun_list = flatten([get_function(item)])\n",
    "                # print(fun_list)\n",
    "\n",
    "            else:\n",
    "                fun_list = flatten(list(filter(None, [get_function(i) for i in item])))\n",
    "                # print(fun_list)\n",
    "\n",
    "            for fun in fun_list:\n",
    "                col, dtype = flatten([[i.value.split(' as ') for i in p if isinstance(i, sqlparse.sql.Identifier)] \n",
    "                                        for p in fun if isinstance(p, sqlparse.sql.Parenthesis)][0])\n",
    "                # print(fun)\n",
    "                item.value = item.value.replace(fun.value, f'try_convert({dtype},{col})')\n",
    "    \n",
    "        token.value = ''.join(item.value for item in token)\n",
    "\n",
    "        print(token.value)"
   ]
  },
  {
   "cell_type": "code",
   "execution_count": null,
   "metadata": {},
   "outputs": [],
   "source": [
    "from functools import reduce"
   ]
  },
  {
   "cell_type": "code",
   "execution_count": null,
   "metadata": {},
   "outputs": [],
   "source": [
    "reduce(list.__add__, (list(i) for i in [[i.value.split(' as ') for i in p if isinstance(i, sqlparse.sql.Identifier)] \n",
    "                                        for p in fun if isinstance(p, sqlparse.sql.Parenthesis)][0]))"
   ]
  },
  {
   "cell_type": "code",
   "execution_count": null,
   "metadata": {},
   "outputs": [],
   "source": [
    "fun_list"
   ]
  },
  {
   "cell_type": "code",
   "execution_count": null,
   "metadata": {},
   "outputs": [],
   "source": [
    "for token in parsed.tokens:\n",
    "#     print(token.ttype)\n",
    "    if isinstance(token, sqlparse.sql.IdentifierList) or isinstance(token, sqlparse.sql.Where):\n",
    "        print(token.ttype)"
   ]
  },
  {
   "cell_type": "code",
   "execution_count": null,
   "metadata": {},
   "outputs": [],
   "source": [
    "from omop_etl.stage import Stager\n",
    "stage = Stager('config.yml')\n",
    "# print(l.update_mappings('person'))\n",
    "# print(l.update_mappings('visit_occurrence'))\n",
    "\n",
    "# print(l.preload_all())\n",
    "\n",
    "# print(l.load_table('person'))\n",
    "# print(l.load_table('death'))\n",
    "# print(l.load_table('condition_occurrence'))\n",
    "# print(l.load_table('procedure_occurrence'))\n",
    "# print(l.load_table('drug_exposure'))\n",
    "# print(l.load_table('observation'))\n",
    "# print(l.load_table('provider'))\n",
    "# print(l.load_table('care_site'))\n",
    "# print(l.load_table('location'))"
   ]
  },
  {
   "cell_type": "code",
   "execution_count": null,
   "metadata": {},
   "outputs": [],
   "source": [
    "load_conf = stage.store.config_param['load']\n",
    "# stage.stage_table('measurement','res_fio2')"
   ]
  },
  {
   "cell_type": "code",
   "execution_count": null,
   "metadata": {},
   "outputs": [],
   "source": [
    "for t in load_conf.keys():\n",
    "    if load_conf[t]:\n",
    "        for part in load_conf[t].keys():\n",
    "            stage.stage_table(t, part)\n",
    "    else:\n",
    "        if t not in ('provider','care_site','location'): \n",
    "            stage.stage_table(t)"
   ]
  },
  {
   "cell_type": "code",
   "execution_count": null,
   "metadata": {},
   "outputs": [],
   "source": [
    "import itertools\n",
    "import re \n",
    "\n",
    "for token in parsed.tokens:\n",
    "    if isinstance(token, sqlparse.sql.Where):\n",
    "        print([item for item in token if search('cast', item.value)])\n",
    "\n",
    "        # par = list(itertools.chain(*token))\n",
    "        # for p in par:\n",
    "        #     print(p.__repr__)\n",
    "            # if isinstance(i, sqlparse.sql.Parenthesis):\n",
    "            #     # defs = extract_definitions(i)\n",
    "            #     for x in i:\n",
    "            #         if isinstance(x, sqlparse.sql.Parenthesis):\n",
    "            #             for y in x:\n",
    "            #                 print(y.__repr__)"
   ]
  },
  {
   "cell_type": "code",
   "execution_count": null,
   "metadata": {},
   "outputs": [],
   "source": [
    "import sqlparse\n",
    "\n",
    "def extract_definitions(token_list):\n",
    "    # assumes that token_list is a parenthesis\n",
    "    definitions = []\n",
    "    tmp = []\n",
    "    par_level = 0\n",
    "    for token in token_list.flatten():\n",
    "        if token.is_whitespace:\n",
    "            continue\n",
    "        elif token.match(sqlparse.tokens.Punctuation, '('):\n",
    "            par_level += 1\n",
    "            continue\n",
    "        if token.match(sqlparse.tokens.Punctuation, ')'):\n",
    "            if par_level == 0:\n",
    "                break\n",
    "            else:\n",
    "                par_level += 1\n",
    "        elif token.match(sqlparse.tokens.Punctuation, ','):\n",
    "            if tmp:\n",
    "                definitions.append(tmp)\n",
    "            tmp = []\n",
    "        else:\n",
    "            tmp.append(token)\n",
    "    if tmp:\n",
    "        definitions.append(tmp)\n",
    "    return definitions"
   ]
  },
  {
   "cell_type": "code",
   "execution_count": null,
   "metadata": {},
   "outputs": [],
   "source": []
  }
 ],
 "metadata": {
  "kernelspec": {
   "display_name": "Python 3",
   "language": "python",
   "name": "python3"
  },
  "language_info": {
   "codemirror_mode": {
    "name": "ipython",
    "version": 3
   },
   "file_extension": ".py",
   "mimetype": "text/x-python",
   "name": "python",
   "nbconvert_exporter": "python",
   "pygments_lexer": "ipython3",
   "version": "3.7.10"
  }
 },
 "nbformat": 4,
 "nbformat_minor": 4
}
