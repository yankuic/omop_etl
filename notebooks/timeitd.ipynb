{
 "metadata": {
  "language_info": {
   "codemirror_mode": {
    "name": "ipython",
    "version": 3
   },
   "file_extension": ".py",
   "mimetype": "text/x-python",
   "name": "python",
   "nbconvert_exporter": "python",
   "pygments_lexer": "ipython3",
   "version": "3.7.4-final"
  },
  "orig_nbformat": 2,
  "kernelspec": {
   "name": "python3",
   "display_name": "Python 3.7.4 64-bit (conda)",
   "metadata": {
    "interpreter": {
     "hash": "ed9aecc04a78bc023d6560d59868ba438581fdda2914504ea0b1a159872595b9"
    }
   }
  }
 },
 "nbformat": 4,
 "nbformat_minor": 2,
 "cells": [
  {
   "cell_type": "code",
   "execution_count": 1,
   "metadata": {},
   "outputs": [],
   "source": [
    "import sys, time, threading, logging\n",
    "from functools import wraps\n",
    "\n",
    "def timeitd(f):\n",
    "    \"\"\"Return elapsed time to run function.\"\"\"\n",
    "    @wraps(f)\n",
    "    def wrap(*args, **kwargs):\n",
    "        def spinner():\n",
    "            print('Processing ...', end=\" \")\n",
    "            while True:\n",
    "                for cursor in '|/-\\\\':\n",
    "                    sys.stdout.write(cursor)\n",
    "                    sys.stdout.flush()\n",
    "                    time.sleep(0.1)\n",
    "                    sys.stdout.write('\\b')\n",
    "                    if done:\n",
    "                        sys.stdout.write('Done')\n",
    "                        return\n",
    "        startTime = time.time()\n",
    "\n",
    "        done = False\n",
    "        spin_thread = threading.Thread(target=spinner)\n",
    "        spin_thread.start()\n",
    "\n",
    "        result = f(*args, **kwargs)\n",
    "\n",
    "        done = True\n",
    "        spin_thread.join()\n",
    "\n",
    "        elapsedTime = time.time() - startTime\n",
    "        sys.stdout.write(f'\\n{f.__name__} complete. Elapsed time {time.strftime(\"%H:%M:%S\", time.gmtime(elapsedTime))}')\n",
    "        return result\n",
    "    return wrap"
   ]
  },
  {
   "cell_type": "code",
   "execution_count": 2,
   "metadata": {},
   "outputs": [],
   "source": [
    "@timeitd\n",
    "def wait_10_sec():\n",
    "    logging.info(\"I'll wait 10 secs.\")\n",
    "    time.sleep(10)"
   ]
  },
  {
   "cell_type": "code",
   "execution_count": 3,
   "metadata": {},
   "outputs": [
    {
     "output_type": "stream",
     "name": "stdout",
     "text": [
      "Processing ... Done\n",
      "wait_10_sec complete. Elapsed time 00:00:10"
     ]
    }
   ],
   "source": [
    "wait_10_sec()"
   ]
  },
  {
   "cell_type": "code",
   "execution_count": null,
   "metadata": {},
   "outputs": [],
   "source": []
  }
 ]
}