{
 "cells": [
  {
   "cell_type": "code",
   "execution_count": 1,
   "id": "b5aa70fe-8f44-4197-88f7-611b8577a369",
   "metadata": {
    "tags": []
   },
   "outputs": [],
   "source": [
    "import os\n",
    "import glob\n",
    "import pandas as pd\n",
    "\n",
    "# os.chdir('Z:/OMOP/omop_etl/omop_etl/templates')\n",
    "# print(os.getcwd())\n",
    "\n",
    "from omop_etl.datastore import DataStore\n",
    "from omop_etl.bo import bo_query\n",
    "from omop_etl.config import ProjectConfig, ETLConfig\n",
    "from omop_etl.utils import find, search"
   ]
  },
  {
   "cell_type": "code",
   "execution_count": 2,
   "id": "623a6e91-e879-40f1-af1c-9e2e5e297551",
   "metadata": {
    "tags": []
   },
   "outputs": [],
   "source": [
    "database = 'dws_omop'\n",
    "server = 'edw.shands.ufl.edu'\n",
    "config_file = os.path.join('Z:/OMOP/omop_etl/omop_etl/templates/', 'config.yml')\n",
    "omop = DataStore(config_file)\n",
    "omop.connection_str = f'mssql+pyodbc://{server}/{database}?driver=SQL+Server'\n",
    "\n",
    "with omop.engine.connect() as con:\n",
    "    bo_queries = bo_query('omop', con)\n",
    "\n",
    "_config = ProjectConfig(config_file)\n",
    "etl_config = ETLConfig()\n",
    "sql_scripts = [os.path.split(p)[1] for p in glob.glob('Z:/OMOP/omop_etl/omop_etl/sql/*.sql') ]"
   ]
  },
  {
   "cell_type": "code",
   "execution_count": 3,
   "id": "b08589b2-e073-47c4-9269-8ead6f0d8542",
   "metadata": {
    "tags": []
   },
   "outputs": [],
   "source": [
    "data_guide = pd.read_csv('loincs_data_guide.csv')\n",
    "data_guide.fillna(method='ffill', inplace=True)"
   ]
  },
  {
   "cell_type": "code",
   "execution_count": 4,
   "id": "da918c73-bd1f-458f-8c4d-5034d707e772",
   "metadata": {},
   "outputs": [],
   "source": [
    "data_guide['loinc'] = data_guide['Possible values and units'].apply(lambda s: [l for l in _config.loinc.keys() if search(l, s)][0])"
   ]
  },
  {
   "cell_type": "code",
   "execution_count": 5,
   "id": "c1bc5536-922e-4ba5-8a76-028edb9a183b",
   "metadata": {},
   "outputs": [
    {
     "data": {
      "text/html": [
       "<div>\n",
       "<style scoped>\n",
       "    .dataframe tbody tr th:only-of-type {\n",
       "        vertical-align: middle;\n",
       "    }\n",
       "\n",
       "    .dataframe tbody tr th {\n",
       "        vertical-align: top;\n",
       "    }\n",
       "\n",
       "    .dataframe thead th {\n",
       "        text-align: right;\n",
       "    }\n",
       "</style>\n",
       "<table border=\"1\" class=\"dataframe\">\n",
       "  <thead>\n",
       "    <tr style=\"text-align: right;\">\n",
       "      <th></th>\n",
       "      <th>Data element</th>\n",
       "      <th>Possible values and units</th>\n",
       "      <th>loinc</th>\n",
       "    </tr>\n",
       "  </thead>\n",
       "  <tbody>\n",
       "    <tr>\n",
       "      <th>0</th>\n",
       "      <td>AFP</td>\n",
       "      <td>���� Alpha-1-Fetoprotein [Mass/volume] in Seru...</td>\n",
       "      <td>1834-1</td>\n",
       "    </tr>\n",
       "    <tr>\n",
       "      <th>1</th>\n",
       "      <td>AFP</td>\n",
       "      <td>���� Alpha-1-Fetoprotein [Multiple of the medi...</td>\n",
       "      <td>23811-3</td>\n",
       "    </tr>\n",
       "    <tr>\n",
       "      <th>2</th>\n",
       "      <td>AFP</td>\n",
       "      <td>���� Alpha-1-Fetoprotein [Multiple of the medi...</td>\n",
       "      <td>20450-3</td>\n",
       "    </tr>\n",
       "    <tr>\n",
       "      <th>3</th>\n",
       "      <td>Albumin</td>\n",
       "      <td>���� Albumin [Mass/volume] in Serum or Plasma ...</td>\n",
       "      <td>1751-7</td>\n",
       "    </tr>\n",
       "    <tr>\n",
       "      <th>4</th>\n",
       "      <td>Albumin</td>\n",
       "      <td>���� Albumin [Mass/volume] in Serum or Plasma ...</td>\n",
       "      <td>61151-7</td>\n",
       "    </tr>\n",
       "    <tr>\n",
       "      <th>...</th>\n",
       "      <td>...</td>\n",
       "      <td>...</td>\n",
       "      <td>...</td>\n",
       "    </tr>\n",
       "    <tr>\n",
       "      <th>305</th>\n",
       "      <td>WBC</td>\n",
       "      <td>���� 12227-5: Leukocytes [#/volume] corrected ...</td>\n",
       "      <td>12227-5</td>\n",
       "    </tr>\n",
       "    <tr>\n",
       "      <th>306</th>\n",
       "      <td>WBC</td>\n",
       "      <td>���� 33256-9: Leukocytes [#/volume] corrected ...</td>\n",
       "      <td>33256-9</td>\n",
       "    </tr>\n",
       "    <tr>\n",
       "      <th>307</th>\n",
       "      <td>WBC</td>\n",
       "      <td>���� 49498-9: Leukocytes [#/volume] in Blood b...</td>\n",
       "      <td>49498-9</td>\n",
       "    </tr>\n",
       "    <tr>\n",
       "      <th>308</th>\n",
       "      <td>WBC</td>\n",
       "      <td>���� 804-5: Leukocytes [#/volume] in Blood by ...</td>\n",
       "      <td>804-5</td>\n",
       "    </tr>\n",
       "    <tr>\n",
       "      <th>309</th>\n",
       "      <td>WBC</td>\n",
       "      <td>���� 804-5: Leukocytes [#/volume] in Blood by ...</td>\n",
       "      <td>804-5</td>\n",
       "    </tr>\n",
       "  </tbody>\n",
       "</table>\n",
       "<p>310 rows × 3 columns</p>\n",
       "</div>"
      ],
      "text/plain": [
       "    Data element                          Possible values and units    loinc\n",
       "0            AFP  ���� Alpha-1-Fetoprotein [Mass/volume] in Seru...   1834-1\n",
       "1            AFP  ���� Alpha-1-Fetoprotein [Multiple of the medi...  23811-3\n",
       "2            AFP  ���� Alpha-1-Fetoprotein [Multiple of the medi...  20450-3\n",
       "3        Albumin  ���� Albumin [Mass/volume] in Serum or Plasma ...   1751-7\n",
       "4        Albumin  ���� Albumin [Mass/volume] in Serum or Plasma ...  61151-7\n",
       "..           ...                                                ...      ...\n",
       "305          WBC  ���� 12227-5: Leukocytes [#/volume] corrected ...  12227-5\n",
       "306          WBC  ���� 33256-9: Leukocytes [#/volume] corrected ...  33256-9\n",
       "307          WBC  ���� 49498-9: Leukocytes [#/volume] in Blood b...  49498-9\n",
       "308          WBC  ���� 804-5: Leukocytes [#/volume] in Blood by ...    804-5\n",
       "309          WBC  ���� 804-5: Leukocytes [#/volume] in Blood by ...    804-5\n",
       "\n",
       "[310 rows x 3 columns]"
      ]
     },
     "execution_count": 5,
     "metadata": {},
     "output_type": "execute_result"
    }
   ],
   "source": [
    "data_guide"
   ]
  },
  {
   "cell_type": "code",
   "execution_count": 6,
   "id": "39c006c7-0496-4f09-9528-7b43e2dd8eb6",
   "metadata": {
    "tags": []
   },
   "outputs": [],
   "source": [
    "not_found = {}\n",
    "found = {}\n",
    "for loinc in _config.loinc.keys():\n",
    "    was_found = list(filter(None, find(loinc, data_guide['Possible values and units'])))\n",
    "    if not was_found:\n",
    "        not_found[loinc] = _config.loinc[loinc]\n",
    "    else:\n",
    "        found[loinc] = _config.loinc[loinc]"
   ]
  },
  {
   "cell_type": "code",
   "execution_count": 7,
   "id": "66e3ce8f-73cc-474e-87e8-60ba20b6af38",
   "metadata": {},
   "outputs": [],
   "source": [
    "# found"
   ]
  },
  {
   "cell_type": "code",
   "execution_count": 8,
   "id": "7b6cba41-0b59-4e5d-bb58-f52764ae60ab",
   "metadata": {},
   "outputs": [],
   "source": [
    "df = pd.DataFrame({'LOINC':not_found.keys(), 'Desc':not_found.values()})"
   ]
  },
  {
   "cell_type": "code",
   "execution_count": 9,
   "id": "0d2ee6c4-dd02-4463-ac86-e953fbb2bead",
   "metadata": {},
   "outputs": [
    {
     "data": {
      "text/html": [
       "<div>\n",
       "<style scoped>\n",
       "    .dataframe tbody tr th:only-of-type {\n",
       "        vertical-align: middle;\n",
       "    }\n",
       "\n",
       "    .dataframe tbody tr th {\n",
       "        vertical-align: top;\n",
       "    }\n",
       "\n",
       "    .dataframe thead th {\n",
       "        text-align: right;\n",
       "    }\n",
       "</style>\n",
       "<table border=\"1\" class=\"dataframe\">\n",
       "  <thead>\n",
       "    <tr style=\"text-align: right;\">\n",
       "      <th></th>\n",
       "      <th>LOINC</th>\n",
       "      <th>Desc</th>\n",
       "    </tr>\n",
       "  </thead>\n",
       "  <tbody>\n",
       "    <tr>\n",
       "      <th>0</th>\n",
       "      <td>10331-7</td>\n",
       "      <td>Rh [Type] in Blood</td>\n",
       "    </tr>\n",
       "    <tr>\n",
       "      <th>1</th>\n",
       "      <td>10368-9</td>\n",
       "      <td>Lead [Mass/volume] in Capillary blood</td>\n",
       "    </tr>\n",
       "    <tr>\n",
       "      <th>2</th>\n",
       "      <td>10466-1</td>\n",
       "      <td>Anion gap 3 in Serum or Plasma</td>\n",
       "    </tr>\n",
       "    <tr>\n",
       "      <th>3</th>\n",
       "      <td>10912-4</td>\n",
       "      <td>Lead [Mass/volume] in Serum or Plasma</td>\n",
       "    </tr>\n",
       "    <tr>\n",
       "      <th>4</th>\n",
       "      <td>11053-6</td>\n",
       "      <td>Lactate dehydrogenase [Enzymatic activity/volu...</td>\n",
       "    </tr>\n",
       "    <tr>\n",
       "      <th>...</th>\n",
       "      <td>...</td>\n",
       "      <td>...</td>\n",
       "    </tr>\n",
       "    <tr>\n",
       "      <th>317</th>\n",
       "      <td>884-7</td>\n",
       "      <td>ABO and Rh group [Type] in Capillary blood</td>\n",
       "    </tr>\n",
       "    <tr>\n",
       "      <th>318</th>\n",
       "      <td>91556-1</td>\n",
       "      <td>Fibrin D-dimer DDU [Mass/volume] in Blood by I...</td>\n",
       "    </tr>\n",
       "    <tr>\n",
       "      <th>319</th>\n",
       "      <td>9422-7</td>\n",
       "      <td>Herpes simplex virus IgG Ab [Units/volume] in ...</td>\n",
       "    </tr>\n",
       "    <tr>\n",
       "      <th>320</th>\n",
       "      <td>9741-0</td>\n",
       "      <td>Toxoplasma gondii IgG Ab [Units/volume] in Cer...</td>\n",
       "    </tr>\n",
       "    <tr>\n",
       "      <th>321</th>\n",
       "      <td>978-7</td>\n",
       "      <td>D Ag [Presence] on Red Blood Cells</td>\n",
       "    </tr>\n",
       "  </tbody>\n",
       "</table>\n",
       "<p>322 rows × 2 columns</p>\n",
       "</div>"
      ],
      "text/plain": [
       "       LOINC                                               Desc\n",
       "0    10331-7                                 Rh [Type] in Blood\n",
       "1    10368-9              Lead [Mass/volume] in Capillary blood\n",
       "2    10466-1                     Anion gap 3 in Serum or Plasma\n",
       "3    10912-4              Lead [Mass/volume] in Serum or Plasma\n",
       "4    11053-6  Lactate dehydrogenase [Enzymatic activity/volu...\n",
       "..       ...                                                ...\n",
       "317    884-7         ABO and Rh group [Type] in Capillary blood\n",
       "318  91556-1  Fibrin D-dimer DDU [Mass/volume] in Blood by I...\n",
       "319   9422-7  Herpes simplex virus IgG Ab [Units/volume] in ...\n",
       "320   9741-0  Toxoplasma gondii IgG Ab [Units/volume] in Cer...\n",
       "321    978-7                 D Ag [Presence] on Red Blood Cells\n",
       "\n",
       "[322 rows x 2 columns]"
      ]
     },
     "execution_count": 9,
     "metadata": {},
     "output_type": "execute_result"
    }
   ],
   "source": [
    "df"
   ]
  },
  {
   "cell_type": "code",
   "execution_count": 10,
   "id": "a624fd0d-adfb-4c21-a266-77500f9d1e02",
   "metadata": {
    "tags": []
   },
   "outputs": [
    {
     "data": {
      "text/html": [
       "<div>\n",
       "<style scoped>\n",
       "    .dataframe tbody tr th:only-of-type {\n",
       "        vertical-align: middle;\n",
       "    }\n",
       "\n",
       "    .dataframe tbody tr th {\n",
       "        vertical-align: top;\n",
       "    }\n",
       "\n",
       "    .dataframe thead th {\n",
       "        text-align: right;\n",
       "    }\n",
       "</style>\n",
       "<table border=\"1\" class=\"dataframe\">\n",
       "  <thead>\n",
       "    <tr style=\"text-align: right;\">\n",
       "      <th></th>\n",
       "      <th>LOINC</th>\n",
       "      <th>Desc</th>\n",
       "    </tr>\n",
       "  </thead>\n",
       "  <tbody>\n",
       "    <tr>\n",
       "      <th>1</th>\n",
       "      <td>10368-9</td>\n",
       "      <td>Lead [Mass/volume] in Capillary blood</td>\n",
       "    </tr>\n",
       "    <tr>\n",
       "      <th>3</th>\n",
       "      <td>10912-4</td>\n",
       "      <td>Lead [Mass/volume] in Serum or Plasma</td>\n",
       "    </tr>\n",
       "    <tr>\n",
       "      <th>234</th>\n",
       "      <td>5671-3</td>\n",
       "      <td>Lead [Mass/volume] in Blood</td>\n",
       "    </tr>\n",
       "    <tr>\n",
       "      <th>294</th>\n",
       "      <td>77307-7</td>\n",
       "      <td>Lead [Mass/volume] in Venous blood</td>\n",
       "    </tr>\n",
       "  </tbody>\n",
       "</table>\n",
       "</div>"
      ],
      "text/plain": [
       "       LOINC                                   Desc\n",
       "1    10368-9  Lead [Mass/volume] in Capillary blood\n",
       "3    10912-4  Lead [Mass/volume] in Serum or Plasma\n",
       "234   5671-3            Lead [Mass/volume] in Blood\n",
       "294  77307-7     Lead [Mass/volume] in Venous blood"
      ]
     },
     "execution_count": 10,
     "metadata": {},
     "output_type": "execute_result"
    }
   ],
   "source": [
    "lead = df[find('Lead \\[', df.Desc)].LOINC.to_list()\n",
    "df[find('Lead \\[', df.Desc)]"
   ]
  },
  {
   "cell_type": "code",
   "execution_count": 11,
   "id": "75f7c48b-cd72-4909-96f1-b2cfe52055e9",
   "metadata": {},
   "outputs": [],
   "source": [
    "df.loc[find('Lead \\[', df.Desc), 'Group'] = 'Lead'"
   ]
  },
  {
   "cell_type": "code",
   "execution_count": 12,
   "id": "41a59ffa-48d1-42f4-b5fd-e80f09d3b24c",
   "metadata": {
    "tags": []
   },
   "outputs": [],
   "source": [
    "rh = df[find('Rh \\[', df.Desc)].LOINC.to_list()\n",
    "df.loc[find('Rh \\[', df.Desc), 'Group'] = 'Rh antigen'"
   ]
  },
  {
   "cell_type": "code",
   "execution_count": 13,
   "id": "cd7be094-a7ab-4bbc-a52d-490c5d964a14",
   "metadata": {
    "tags": []
   },
   "outputs": [],
   "source": [
    "anion = df[find('Anion gap ', df.Desc)].LOINC.to_list()\n",
    "df.loc[find('Anion gap ', df.Desc), 'Group'] = 'AG'"
   ]
  },
  {
   "cell_type": "code",
   "execution_count": 14,
   "id": "6c11fe36-f6da-4efb-9470-dc8e37491aaf",
   "metadata": {
    "tags": []
   },
   "outputs": [],
   "source": [
    "lactate = df[find('Lactate dehy', df.Desc)].LOINC.to_list()\n",
    "df.loc[find('Lactate dehy', df.Desc), 'Group'] = 'LDH'"
   ]
  },
  {
   "cell_type": "code",
   "execution_count": 15,
   "id": "267ea3ff-5d2c-4959-8a25-458996fb0ba3",
   "metadata": {
    "tags": []
   },
   "outputs": [],
   "source": [
    "ph = df[find('pH ', df.Desc)].LOINC.to_list()\n",
    "df.loc[find('pH ', df.Desc), 'Group'] = 'pH'"
   ]
  },
  {
   "cell_type": "code",
   "execution_count": 16,
   "id": "523056af-01cd-4d10-8b7c-b148f9c12742",
   "metadata": {
    "tags": []
   },
   "outputs": [],
   "source": [
    "thyro = df[find('Thyrotropin ', df.Desc)].LOINC.to_list()\n",
    "df.loc[find('Thyrotropin ', df.Desc), 'Group'] = 'TSH'"
   ]
  },
  {
   "cell_type": "code",
   "execution_count": 17,
   "id": "e29021c9-7eb5-4e30-a372-b39faf4f16ec",
   "metadata": {
    "tags": []
   },
   "outputs": [
    {
     "data": {
      "text/html": [
       "<div>\n",
       "<style scoped>\n",
       "    .dataframe tbody tr th:only-of-type {\n",
       "        vertical-align: middle;\n",
       "    }\n",
       "\n",
       "    .dataframe tbody tr th {\n",
       "        vertical-align: top;\n",
       "    }\n",
       "\n",
       "    .dataframe thead th {\n",
       "        text-align: right;\n",
       "    }\n",
       "</style>\n",
       "<table border=\"1\" class=\"dataframe\">\n",
       "  <thead>\n",
       "    <tr style=\"text-align: right;\">\n",
       "      <th></th>\n",
       "      <th>LOINC</th>\n",
       "      <th>Desc</th>\n",
       "      <th>Group</th>\n",
       "    </tr>\n",
       "  </thead>\n",
       "  <tbody>\n",
       "  </tbody>\n",
       "</table>\n",
       "</div>"
      ],
      "text/plain": [
       "Empty DataFrame\n",
       "Columns: [LOINC, Desc, Group]\n",
       "Index: []"
      ]
     },
     "execution_count": 17,
     "metadata": {},
     "output_type": "execute_result"
    }
   ],
   "source": [
    "creat = df[find('Creatinine renal ', df.Desc)].LOINC.to_list()\n",
    "df[find('Creatinine renal ', df.Desc)]"
   ]
  },
  {
   "cell_type": "code",
   "execution_count": 18,
   "id": "a7e7f769-a020-4186-bfff-2b0e30981e42",
   "metadata": {
    "tags": []
   },
   "outputs": [],
   "source": [
    "dag = df[find('D Ag ', df.Desc)].LOINC.to_list()\n",
    "df.loc[find('D Ag ', df.Desc), 'Group'] = 'D antigen'"
   ]
  },
  {
   "cell_type": "code",
   "execution_count": 19,
   "id": "a23599e8-63a8-4df9-9809-39e655240067",
   "metadata": {
    "tags": []
   },
   "outputs": [],
   "source": [
    "cytom = df[find('Cytomegalovirus ', df.Desc)].LOINC.to_list()\n",
    "df.loc[find('Cytomegalovirus ', df.Desc), 'Group'] = 'CMV'"
   ]
  },
  {
   "cell_type": "code",
   "execution_count": 20,
   "id": "b1609e48-2b20-400e-838f-ff5ddde3718f",
   "metadata": {
    "tags": []
   },
   "outputs": [],
   "source": [
    "herpes = df[find('Herpes ', df.Desc)].LOINC.to_list()\n",
    "df.loc[find('Herpes ', df.Desc), 'Group'] = 'HSV'"
   ]
  },
  {
   "cell_type": "code",
   "execution_count": 21,
   "id": "d124c2d9-4adf-4432-981e-93f852ce0d87",
   "metadata": {
    "tags": []
   },
   "outputs": [],
   "source": [
    "rubella = df[find('Rubella ', df.Desc)].LOINC.to_list()\n",
    "df.loc[find('Rubella ', df.Desc), 'Group'] = 'Rubella'"
   ]
  },
  {
   "cell_type": "code",
   "execution_count": 22,
   "id": "3ce76b73-e383-43bc-8886-e4c4195fc694",
   "metadata": {
    "tags": []
   },
   "outputs": [],
   "source": [
    "retic = df[find('Reticulocytes', df.Desc)].LOINC.to_list()\n",
    "df.loc[find('Reticulocytes', df.Desc), 'Group'] = 'Reticulocytes'"
   ]
  },
  {
   "cell_type": "code",
   "execution_count": 23,
   "id": "47dfd9c8-8b92-4a0f-913b-f3050ef70bf4",
   "metadata": {
    "tags": []
   },
   "outputs": [],
   "source": [
    "abo = df[find('ABO group ', df.Desc)].LOINC.to_list()\n",
    "df.loc[find('ABO group ', df.Desc), 'Group'] = 'ABO antigens'"
   ]
  },
  {
   "cell_type": "code",
   "execution_count": 24,
   "id": "d40a5a98-8cd8-4e11-ac97-0e8ac79ed83a",
   "metadata": {
    "jupyter": {
     "source_hidden": true
    },
    "tags": []
   },
   "outputs": [
    {
     "data": {
      "text/html": [
       "<div>\n",
       "<style scoped>\n",
       "    .dataframe tbody tr th:only-of-type {\n",
       "        vertical-align: middle;\n",
       "    }\n",
       "\n",
       "    .dataframe tbody tr th {\n",
       "        vertical-align: top;\n",
       "    }\n",
       "\n",
       "    .dataframe thead th {\n",
       "        text-align: right;\n",
       "    }\n",
       "</style>\n",
       "<table border=\"1\" class=\"dataframe\">\n",
       "  <thead>\n",
       "    <tr style=\"text-align: right;\">\n",
       "      <th></th>\n",
       "      <th>LOINC</th>\n",
       "      <th>Desc</th>\n",
       "      <th>Group</th>\n",
       "    </tr>\n",
       "  </thead>\n",
       "  <tbody>\n",
       "    <tr>\n",
       "      <th>19</th>\n",
       "      <td>14627-4</td>\n",
       "      <td>Bicarbonate [Moles/volume] in Venous blood</td>\n",
       "      <td>NaN</td>\n",
       "    </tr>\n",
       "    <tr>\n",
       "      <th>26</th>\n",
       "      <td>16461-6</td>\n",
       "      <td>Bicarbonate [Moles/volume] in Red Blood Cells</td>\n",
       "      <td>NaN</td>\n",
       "    </tr>\n",
       "    <tr>\n",
       "      <th>41</th>\n",
       "      <td>19230-2</td>\n",
       "      <td>Bicarbonate [Moles/volume] standard in Arteria...</td>\n",
       "      <td>NaN</td>\n",
       "    </tr>\n",
       "    <tr>\n",
       "      <th>42</th>\n",
       "      <td>19231-0</td>\n",
       "      <td>Bicarbonate [Moles/volume] standard in Capilla...</td>\n",
       "      <td>NaN</td>\n",
       "    </tr>\n",
       "    <tr>\n",
       "      <th>43</th>\n",
       "      <td>19232-8</td>\n",
       "      <td>Bicarbonate [Moles/volume] standard in Venous ...</td>\n",
       "      <td>NaN</td>\n",
       "    </tr>\n",
       "    <tr>\n",
       "      <th>44</th>\n",
       "      <td>19233-6</td>\n",
       "      <td>Bicarbonate [Moles/volume] standard in Mixed v...</td>\n",
       "      <td>NaN</td>\n",
       "    </tr>\n",
       "    <tr>\n",
       "      <th>46</th>\n",
       "      <td>1959-6</td>\n",
       "      <td>Bicarbonate [Moles/volume] in Blood</td>\n",
       "      <td>NaN</td>\n",
       "    </tr>\n",
       "    <tr>\n",
       "      <th>47</th>\n",
       "      <td>1960-4</td>\n",
       "      <td>Bicarbonate [Moles/volume] in Arterial blood</td>\n",
       "      <td>NaN</td>\n",
       "    </tr>\n",
       "    <tr>\n",
       "      <th>48</th>\n",
       "      <td>1961-2</td>\n",
       "      <td>Bicarbonate [Moles/volume] in Capillary blood</td>\n",
       "      <td>NaN</td>\n",
       "    </tr>\n",
       "    <tr>\n",
       "      <th>49</th>\n",
       "      <td>1962-0</td>\n",
       "      <td>Bicarbonate [Moles/volume] in Plasma</td>\n",
       "      <td>NaN</td>\n",
       "    </tr>\n",
       "    <tr>\n",
       "      <th>50</th>\n",
       "      <td>1963-8</td>\n",
       "      <td>Bicarbonate [Moles/volume] in Serum or Plasma</td>\n",
       "      <td>NaN</td>\n",
       "    </tr>\n",
       "    <tr>\n",
       "      <th>112</th>\n",
       "      <td>28640-1</td>\n",
       "      <td>Bicarbonate [Moles/volume] in Arterial cord blood</td>\n",
       "      <td>NaN</td>\n",
       "    </tr>\n",
       "    <tr>\n",
       "      <th>113</th>\n",
       "      <td>28641-9</td>\n",
       "      <td>Bicarbonate [Moles/volume] in Venous cord blood</td>\n",
       "      <td>NaN</td>\n",
       "    </tr>\n",
       "    <tr>\n",
       "      <th>261</th>\n",
       "      <td>69964-5</td>\n",
       "      <td>Bicarbonate [Moles/volume] standard in Plasma</td>\n",
       "      <td>NaN</td>\n",
       "    </tr>\n",
       "  </tbody>\n",
       "</table>\n",
       "</div>"
      ],
      "text/plain": [
       "       LOINC                                               Desc Group\n",
       "19   14627-4         Bicarbonate [Moles/volume] in Venous blood   NaN\n",
       "26   16461-6      Bicarbonate [Moles/volume] in Red Blood Cells   NaN\n",
       "41   19230-2  Bicarbonate [Moles/volume] standard in Arteria...   NaN\n",
       "42   19231-0  Bicarbonate [Moles/volume] standard in Capilla...   NaN\n",
       "43   19232-8  Bicarbonate [Moles/volume] standard in Venous ...   NaN\n",
       "44   19233-6  Bicarbonate [Moles/volume] standard in Mixed v...   NaN\n",
       "46    1959-6                Bicarbonate [Moles/volume] in Blood   NaN\n",
       "47    1960-4       Bicarbonate [Moles/volume] in Arterial blood   NaN\n",
       "48    1961-2      Bicarbonate [Moles/volume] in Capillary blood   NaN\n",
       "49    1962-0               Bicarbonate [Moles/volume] in Plasma   NaN\n",
       "50    1963-8      Bicarbonate [Moles/volume] in Serum or Plasma   NaN\n",
       "112  28640-1  Bicarbonate [Moles/volume] in Arterial cord blood   NaN\n",
       "113  28641-9    Bicarbonate [Moles/volume] in Venous cord blood   NaN\n",
       "261  69964-5      Bicarbonate [Moles/volume] standard in Plasma   NaN"
      ]
     },
     "execution_count": 24,
     "metadata": {},
     "output_type": "execute_result"
    }
   ],
   "source": [
    "df[find('Bicarbonate ', df.Desc)]"
   ]
  },
  {
   "cell_type": "code",
   "execution_count": 25,
   "id": "1274e072-5f19-475b-9514-cc42e08f440a",
   "metadata": {},
   "outputs": [],
   "source": [
    "# dict(zip(df[find('Creatinine', df.Desc)].LOINC,df[find('Creatinine', df.Desc)].Desc))"
   ]
  },
  {
   "cell_type": "code",
   "execution_count": 26,
   "id": "f498c61a-7942-4b92-91af-4b344223723b",
   "metadata": {},
   "outputs": [],
   "source": [
    "# dict(zip(df[find('Glucose ', df.Desc)].LOINC, df[find('Glucose ', df.Desc)].Desc))"
   ]
  },
  {
   "cell_type": "code",
   "execution_count": 27,
   "id": "c16cb748-084b-4e12-912d-f93e8cbed27a",
   "metadata": {
    "tags": []
   },
   "outputs": [],
   "source": [
    "triio = df[find('Triiodothyronine', df.Desc)].LOINC.to_list()\n",
    "df.loc[find('Triiodothyronine', df.Desc), 'Group'] = 'T3'"
   ]
  },
  {
   "cell_type": "code",
   "execution_count": 28,
   "id": "b518c1b3-f74b-470d-a703-c6cb8cfa1447",
   "metadata": {
    "tags": []
   },
   "outputs": [],
   "source": [
    "fibrin = df[find('Fibrin D-dimer', df.Desc)].LOINC.to_list()\n",
    "df.loc[find('Fibrin D-dimer', df.Desc), 'Group'] = 'D-Dimer'"
   ]
  },
  {
   "cell_type": "code",
   "execution_count": 29,
   "id": "344c413d-f201-4c05-ae00-6daacfa45bcc",
   "metadata": {
    "tags": []
   },
   "outputs": [],
   "source": [
    "toxo = df[find('Toxoplasma', df.Desc)].LOINC.to_list()\n",
    "df.loc[find('Toxoplasma', df.Desc), 'Group'] = 'Toxoplasma'"
   ]
  },
  {
   "cell_type": "code",
   "execution_count": 30,
   "id": "a862abca-5c4a-465d-b7c5-902d88b4c23f",
   "metadata": {
    "tags": []
   },
   "outputs": [],
   "source": [
    "hiv = df[find('HIV ', df.Desc)].LOINC.to_list()\n",
    "df.loc[find('HIV ', df.Desc), 'Group'] = 'HIV'"
   ]
  },
  {
   "cell_type": "code",
   "execution_count": 31,
   "id": "47951040-6132-4594-b827-44cf472fb1f7",
   "metadata": {
    "tags": []
   },
   "outputs": [],
   "source": [
    "oxygen = df[find('Oxygen satura', df.Desc)].LOINC.to_list()\n",
    "df.loc[find('Oxygen satura', df.Desc), 'Group'] = 'Oxygen saturation'"
   ]
  },
  {
   "cell_type": "code",
   "execution_count": 32,
   "id": "ba2de077-7c4d-4a02-a498-02e040fc5a7a",
   "metadata": {
    "tags": []
   },
   "outputs": [
    {
     "data": {
      "text/html": [
       "<div>\n",
       "<style scoped>\n",
       "    .dataframe tbody tr th:only-of-type {\n",
       "        vertical-align: middle;\n",
       "    }\n",
       "\n",
       "    .dataframe tbody tr th {\n",
       "        vertical-align: top;\n",
       "    }\n",
       "\n",
       "    .dataframe thead th {\n",
       "        text-align: right;\n",
       "    }\n",
       "</style>\n",
       "<table border=\"1\" class=\"dataframe\">\n",
       "  <thead>\n",
       "    <tr style=\"text-align: right;\">\n",
       "      <th></th>\n",
       "      <th>LOINC</th>\n",
       "      <th>Desc</th>\n",
       "      <th>Group</th>\n",
       "    </tr>\n",
       "  </thead>\n",
       "  <tbody>\n",
       "    <tr>\n",
       "      <th>52</th>\n",
       "      <td>2026-3</td>\n",
       "      <td>Carbon dioxide, total [Moles/volume] in Arteri...</td>\n",
       "      <td>TCO2</td>\n",
       "    </tr>\n",
       "    <tr>\n",
       "      <th>53</th>\n",
       "      <td>2028-9</td>\n",
       "      <td>Carbon dioxide, total [Moles/volume] in Serum ...</td>\n",
       "      <td>TCO2</td>\n",
       "    </tr>\n",
       "    <tr>\n",
       "      <th>58</th>\n",
       "      <td>20565-8</td>\n",
       "      <td>Carbon dioxide, total [Moles/volume] in Blood</td>\n",
       "      <td>TCO2</td>\n",
       "    </tr>\n",
       "  </tbody>\n",
       "</table>\n",
       "</div>"
      ],
      "text/plain": [
       "      LOINC                                               Desc Group\n",
       "52   2026-3  Carbon dioxide, total [Moles/volume] in Arteri...  TCO2\n",
       "53   2028-9  Carbon dioxide, total [Moles/volume] in Serum ...  TCO2\n",
       "58  20565-8      Carbon dioxide, total [Moles/volume] in Blood  TCO2"
      ]
     },
     "execution_count": 32,
     "metadata": {},
     "output_type": "execute_result"
    }
   ],
   "source": [
    "co2 = df[find('Carbon dioxide,', df.Desc)].LOINC.to_list()\n",
    "df.loc[find('Carbon dioxide,', df.Desc), 'Group'] = 'TCO2'\n",
    "df[find('Carbon dioxide,', df.Desc)]"
   ]
  },
  {
   "cell_type": "code",
   "execution_count": 33,
   "id": "e4b45870-7a4d-4812-952e-e517e990883a",
   "metadata": {},
   "outputs": [],
   "source": [
    "pco2 = df[find('Carbon dioxide \\[', df.Desc)].LOINC.to_list()\n",
    "df.loc[find('Carbon dioxide \\[', df.Desc), 'Group'] = 'PCO2'"
   ]
  },
  {
   "cell_type": "code",
   "execution_count": 34,
   "id": "6afeb340-ab5e-4db8-acb6-ef70ecf9f295",
   "metadata": {
    "tags": []
   },
   "outputs": [],
   "source": [
    "bicar = df[find('Bicarbonate', df.Desc)].LOINC.to_list()\n",
    "df.loc[find('Bicarbonate', df.Desc), 'Group'] = 'HCO3'"
   ]
  },
  {
   "cell_type": "code",
   "execution_count": 35,
   "id": "3f37365a-659f-4aad-995d-416af0f9abc6",
   "metadata": {
    "tags": []
   },
   "outputs": [
    {
     "data": {
      "text/plain": [
       "{}"
      ]
     },
     "execution_count": 35,
     "metadata": {},
     "output_type": "execute_result"
    }
   ],
   "source": [
    "alanine = df[find('Alanine amino', df.Desc)].LOINC.to_list()\n",
    "dict(zip(df[find('Alanine amino', df.Desc)].LOINC,df[find('Alanine amino', df.Desc)].Desc))"
   ]
  },
  {
   "cell_type": "code",
   "execution_count": 36,
   "id": "8beec9e4-5801-4db6-b008-e995d098a7ab",
   "metadata": {
    "tags": []
   },
   "outputs": [],
   "source": [
    "fibrinog = df[find('^Fibrinogen ', df.Desc)].LOINC.to_list()\n",
    "df.loc[find('^Fibrinogen ', df.Desc),'Group'] = 'Fibrinogen'"
   ]
  },
  {
   "cell_type": "code",
   "execution_count": 37,
   "id": "56dd9e21-adbf-49ef-8b42-238161f05e89",
   "metadata": {
    "tags": []
   },
   "outputs": [],
   "source": [
    "erythro = df[find('^Erythrocytes', df.Desc)].LOINC.to_list()\n",
    "df.loc[find('^Erythrocytes', df.Desc), 'Group'] = 'Erythrocytes'"
   ]
  },
  {
   "cell_type": "code",
   "execution_count": 38,
   "id": "922110ab-9e12-46dc-a963-f3a798edcff5",
   "metadata": {
    "tags": []
   },
   "outputs": [],
   "source": [
    "lympho = df[find('Lymphocytes', df.Desc)].LOINC.to_list()\n",
    "df[find('Lymphocytes', df.Desc)] = 'Lymphocytes'"
   ]
  },
  {
   "cell_type": "code",
   "execution_count": 39,
   "id": "89ce15cc-f617-48dd-be64-fbad47724ce1",
   "metadata": {
    "tags": []
   },
   "outputs": [],
   "source": [
    "neutrop = df[find('Neutrophils', df.Desc)].LOINC.to_list()\n",
    "df[find('Neutrophils', df.Desc)] = 'Neutrophils'"
   ]
  },
  {
   "cell_type": "code",
   "execution_count": 40,
   "id": "8798c5b6-deb7-4e98-9645-342ba2977666",
   "metadata": {
    "tags": []
   },
   "outputs": [],
   "source": [
    "cd3 = df[find('CD3\\+CD4\\+', df.Desc)].LOINC.to_list()\n",
    "df.loc[find('CD3\\+CD4\\+', df.Desc), 'Group'] = 'T4 cells'"
   ]
  },
  {
   "cell_type": "code",
   "execution_count": 41,
   "id": "9c90d3eb-615b-422b-93e1-5a2364297684",
   "metadata": {
    "tags": []
   },
   "outputs": [],
   "source": [
    "basoph = df[find('Basophils', df.Desc)].LOINC.to_list()\n",
    "df.loc[find('Basophils', df.Desc),'Group'] = 'Basophils'"
   ]
  },
  {
   "cell_type": "code",
   "execution_count": 42,
   "id": "db475f05-3c85-4ac8-8e80-5703961ba623",
   "metadata": {
    "tags": []
   },
   "outputs": [],
   "source": [
    "eosino = df[find('Eosinophils', df.Desc)].LOINC.to_list()\n",
    "df.loc[find('Eosinophils', df.Desc), 'Group'] = 'Eosinophils'"
   ]
  },
  {
   "cell_type": "code",
   "execution_count": 43,
   "id": "1bdba26b-b285-4b9d-9d66-2bbd3a129cc6",
   "metadata": {
    "tags": []
   },
   "outputs": [],
   "source": [
    "monoc = df[find('Monocytes', df.Desc)].LOINC.to_list()\n",
    "df.loc[find('Monocytes', df.Desc), 'Group'] = 'Monocytes'"
   ]
  },
  {
   "cell_type": "code",
   "execution_count": 44,
   "id": "fca4d78a-25bb-4ef2-89d5-253e9c87ff55",
   "metadata": {
    "tags": []
   },
   "outputs": [],
   "source": [
    "magnes = df[find('Magnesium', df.Desc)].LOINC.to_list()\n",
    "df.loc[find('Magnesium', df.Desc), 'Group'] = 'Magnesium'"
   ]
  },
  {
   "cell_type": "code",
   "execution_count": 45,
   "id": "2d5527b3-9504-4dfe-86e0-9ed866bebc41",
   "metadata": {
    "tags": []
   },
   "outputs": [],
   "source": [
    "myeloc = df[find('Myelocytes', df.Desc)].LOINC.to_list()\n",
    "df.loc[find('Myelocytes', df.Desc), 'Group'] = 'Myelocytes'"
   ]
  },
  {
   "cell_type": "code",
   "execution_count": 46,
   "id": "0a669bd9-be7d-445f-b090-55aecae6775c",
   "metadata": {
    "tags": []
   },
   "outputs": [],
   "source": [
    "oxygen_pp = df[find('Oxygen \\[', df.Desc)].LOINC.to_list()\n",
    "df.loc[find('Oxygen \\[', df.Desc),'Group'] = 'PaO2'"
   ]
  },
  {
   "cell_type": "code",
   "execution_count": 47,
   "id": "0d60f8cb-51b4-4fc3-867d-0632602e2606",
   "metadata": {
    "tags": []
   },
   "outputs": [],
   "source": [
    "interleu = df[find('Interleukin', df.Desc)].LOINC.to_list()\n",
    "df.loc[find('Interleukin', df.Desc), 'Group'] = 'ILs'"
   ]
  },
  {
   "cell_type": "code",
   "execution_count": 48,
   "id": "c4bd397e-5aef-4cc2-ba91-9bb1ddd3da70",
   "metadata": {
    "tags": []
   },
   "outputs": [],
   "source": [
    "mch = df[find('MCH', df.Desc)].LOINC.to_list()\n",
    "df.loc[find('MCH', df.Desc), 'Group'] = 'MCH'"
   ]
  },
  {
   "cell_type": "code",
   "execution_count": 49,
   "id": "74a7b917-28ff-4df4-ab7f-7029b92afe40",
   "metadata": {
    "tags": []
   },
   "outputs": [],
   "source": [
    "fibrin = df[find('Fibrin', df.Desc) & ~find('^Fibrinogen', df.Desc)].LOINC.to_list()\n",
    "df.loc[find('Fibrin\\+', df.Desc), 'Group'] = 'Fibrin/Fibrinogen Fragments'"
   ]
  },
  {
   "cell_type": "code",
   "execution_count": 50,
   "id": "43578552-1a0d-44a2-a52a-adda09b3c36d",
   "metadata": {
    "tags": []
   },
   "outputs": [],
   "source": [
    "thyroxine = df[find('Thyroxine ', df.Desc)].LOINC.to_list()\n",
    "df.loc[find('Thyroxine ', df.Desc), 'Group'] = 'Thyroxine'"
   ]
  },
  {
   "cell_type": "code",
   "execution_count": 51,
   "id": "7eb40bd4-f2ef-4bfc-9aeb-90f3fc7d0502",
   "metadata": {
    "tags": []
   },
   "outputs": [
    {
     "data": {
      "text/plain": [
       "{}"
      ]
     },
     "execution_count": 51,
     "metadata": {},
     "output_type": "execute_result"
    }
   ],
   "source": [
    "dict(zip(df[find('Albumin ', df.Desc)].LOINC,df[find('Albumin ', df.Desc)].Desc))"
   ]
  },
  {
   "cell_type": "code",
   "execution_count": 52,
   "id": "12409c4a-7bda-46f7-a118-811c3bba9890",
   "metadata": {},
   "outputs": [
    {
     "data": {
      "text/plain": [
       "{}"
      ]
     },
     "execution_count": 52,
     "metadata": {},
     "output_type": "execute_result"
    }
   ],
   "source": [
    "dict(zip(df[find('Hemoglobin ', df.Desc)].LOINC, df[find('Hemoglobin ', df.Desc)].Desc))"
   ]
  },
  {
   "cell_type": "code",
   "execution_count": 53,
   "id": "15ecb859-ac38-440e-acbf-3890eed035d4",
   "metadata": {},
   "outputs": [
    {
     "data": {
      "text/plain": [
       "{}"
      ]
     },
     "execution_count": 53,
     "metadata": {},
     "output_type": "execute_result"
    }
   ],
   "source": [
    "dict(zip(df[find('Troponin ', df.Desc)].LOINC, df[find('Troponin ', df.Desc)].Desc))"
   ]
  },
  {
   "cell_type": "code",
   "execution_count": 54,
   "id": "ef6b5833-303a-4bfe-a902-80c61ee74053",
   "metadata": {
    "tags": []
   },
   "outputs": [],
   "source": [
    "erythro = df[find('^Erythrocyte', df.Desc)].LOINC.to_list()\n",
    "df.loc[find('^Erythrocytes', df.Desc), 'Group'] = 'Erythrocytes'"
   ]
  },
  {
   "cell_type": "code",
   "execution_count": 55,
   "id": "8bd29dfb-09c6-487b-8535-fc7b32b1bc91",
   "metadata": {},
   "outputs": [],
   "source": [
    "erythro_dis = df[find('^Erythrocyte dis', df.Desc)].LOINC.to_list()\n",
    "df.loc[find('^Erythrocyte dis', df.Desc), 'Group'] = 'RDW'"
   ]
  },
  {
   "cell_type": "code",
   "execution_count": 56,
   "id": "e637783e-1344-411f-bc92-1c1d751339df",
   "metadata": {
    "tags": []
   },
   "outputs": [],
   "source": [
    "prothr = df[find('^Prothrombin', df.Desc)].LOINC.to_list()\n",
    "df.loc[find('^Prothrombin', df.Desc), 'Group'] = 'PT'"
   ]
  },
  {
   "cell_type": "code",
   "execution_count": 57,
   "id": "33adb2c0-bd38-447f-b9a9-28f2eb00287c",
   "metadata": {
    "tags": []
   },
   "outputs": [],
   "source": [
    "mcv = df[find('^MCV', df.Desc)].LOINC.to_list()\n",
    "df.loc[find('^MCV', df.Desc), 'Group'] = 'MCV'"
   ]
  },
  {
   "cell_type": "code",
   "execution_count": 58,
   "id": "6c842537-eaa3-4b15-962a-e753aa86cd1f",
   "metadata": {
    "tags": []
   },
   "outputs": [],
   "source": [
    "abo = df[find('^ABO', df.Desc)].LOINC.to_list()\n",
    "df.loc[find('^ABO', df.Desc), 'Group'] = 'ABO antigens'"
   ]
  },
  {
   "cell_type": "code",
   "execution_count": 59,
   "id": "3926b455-b8da-4956-aee6-4c9729368caa",
   "metadata": {
    "tags": []
   },
   "outputs": [
    {
     "data": {
      "text/plain": [
       "{}"
      ]
     },
     "execution_count": 59,
     "metadata": {},
     "output_type": "execute_result"
    }
   ],
   "source": [
    "dict(zip(df[find('^Platelet', df.Desc)].LOINC, df[find('^Platelet', df.Desc)].Desc))"
   ]
  },
  {
   "cell_type": "code",
   "execution_count": 60,
   "id": "20ba2ec8-8104-4f0c-8d0b-a574fdc56e56",
   "metadata": {},
   "outputs": [],
   "source": [
    "coagul = df[find('^Coagulation ', df.Desc)].LOINC.to_list()\n",
    "df.loc[find('^Coagulation ', df.Desc), 'Group'] = 'Factor X'"
   ]
  },
  {
   "cell_type": "code",
   "execution_count": 61,
   "id": "2795690d-ae5d-4607-b995-eb096d5d7dfb",
   "metadata": {},
   "outputs": [],
   "source": [
    "procal = df[find('^Procalcitonin ', df.Desc)].LOINC.to_list()\n",
    "df.loc[find('^Procalcitonin ', df.Desc), 'Group'] = 'PCT'"
   ]
  },
  {
   "cell_type": "code",
   "execution_count": 62,
   "id": "ad24c888-9284-4388-a029-5614b495804e",
   "metadata": {},
   "outputs": [],
   "source": [
    "afp = df[find('^Alpha-1-fetoprotein', df.Desc)].LOINC.to_list()\n",
    "df.loc[find('^Alpha-1-fetoprotein', df.Desc), 'Group'] = 'AFP'"
   ]
  },
  {
   "cell_type": "code",
   "execution_count": 63,
   "id": "792c3cae-39e9-4f3b-bfe7-4c73fbba5603",
   "metadata": {
    "tags": []
   },
   "outputs": [],
   "source": [
    "for loinc in not_found:\n",
    "    if loinc not in (lead + rh + anion + lactate + ph + thyro + creat + dag + cytom + \\\n",
    "                     herpes + rubella + retic + abo + triio + fibrin + toxo + hiv + \\\n",
    "                     oxygen + co2 + bicar + alanine + fibrinog + erythro + lympho + neutrop +\\\n",
    "                     cd3 + basoph + eosino + monoc + magnes + myeloc + oxygen_pp + interleu +\\\n",
    "                     mch + fibrin + thyroxine + erythro + prothr + mcv + abo + coagul + procal + \\\n",
    "                     erythro_dis + afp + pco2):\n",
    "        print(loinc, ':', not_found[loinc])"
   ]
  },
  {
   "cell_type": "code",
   "execution_count": 64,
   "id": "1efdf919-0010-4172-afc8-0b3cda1139f7",
   "metadata": {},
   "outputs": [],
   "source": [
    "# not_found"
   ]
  },
  {
   "cell_type": "code",
   "execution_count": 65,
   "id": "0947e077-2257-46e1-b8c5-98bf4a806ba4",
   "metadata": {
    "tags": []
   },
   "outputs": [],
   "source": [
    "df_copy = df[['Group','Desc','LOINC']].copy()\n",
    "df_copy.columns = ['Data element', 'Possible values and units', 'loinc']"
   ]
  },
  {
   "cell_type": "code",
   "execution_count": 66,
   "id": "bb22c495-09ff-419e-a0ac-1047c1b3b40b",
   "metadata": {},
   "outputs": [],
   "source": [
    "data_guide['Possible values and units'] = data_guide['Possible values and units'].apply(lambda s: [_config.loinc[l] for l in _config.loinc.keys() if search(l, s)][0])"
   ]
  },
  {
   "cell_type": "code",
   "execution_count": 67,
   "id": "8451f7e0-9740-46a1-a22b-eba6a1b8bde3",
   "metadata": {},
   "outputs": [],
   "source": [
    "data_guide_exp = pd.concat([data_guide, df_copy])"
   ]
  },
  {
   "cell_type": "code",
   "execution_count": 68,
   "id": "80823809-9619-4c5d-b328-f011ee8721d4",
   "metadata": {},
   "outputs": [
    {
     "data": {
      "text/html": [
       "<div>\n",
       "<style scoped>\n",
       "    .dataframe tbody tr th:only-of-type {\n",
       "        vertical-align: middle;\n",
       "    }\n",
       "\n",
       "    .dataframe tbody tr th {\n",
       "        vertical-align: top;\n",
       "    }\n",
       "\n",
       "    .dataframe thead th {\n",
       "        text-align: right;\n",
       "    }\n",
       "</style>\n",
       "<table border=\"1\" class=\"dataframe\">\n",
       "  <thead>\n",
       "    <tr style=\"text-align: right;\">\n",
       "      <th></th>\n",
       "      <th>Data element</th>\n",
       "      <th>Possible values and units</th>\n",
       "      <th>loinc</th>\n",
       "    </tr>\n",
       "  </thead>\n",
       "  <tbody>\n",
       "    <tr>\n",
       "      <th>0</th>\n",
       "      <td>AFP</td>\n",
       "      <td>Alpha-1-Fetoprotein [Mass/volume] in Serum or ...</td>\n",
       "      <td>1834-1</td>\n",
       "    </tr>\n",
       "    <tr>\n",
       "      <th>1</th>\n",
       "      <td>AFP</td>\n",
       "      <td>Alpha-1-Fetoprotein [Multiple of the median] a...</td>\n",
       "      <td>23811-3</td>\n",
       "    </tr>\n",
       "    <tr>\n",
       "      <th>2</th>\n",
       "      <td>AFP</td>\n",
       "      <td>Alpha-1-Fetoprotein [Multiple of the median] i...</td>\n",
       "      <td>20450-3</td>\n",
       "    </tr>\n",
       "    <tr>\n",
       "      <th>3</th>\n",
       "      <td>Albumin</td>\n",
       "      <td>Albumin [Mass/volume] in Serum or Plasma</td>\n",
       "      <td>1751-7</td>\n",
       "    </tr>\n",
       "    <tr>\n",
       "      <th>4</th>\n",
       "      <td>Albumin</td>\n",
       "      <td>Albumin [Mass/volume] in Serum or Plasma by Br...</td>\n",
       "      <td>61151-7</td>\n",
       "    </tr>\n",
       "    <tr>\n",
       "      <th>...</th>\n",
       "      <td>...</td>\n",
       "      <td>...</td>\n",
       "      <td>...</td>\n",
       "    </tr>\n",
       "    <tr>\n",
       "      <th>317</th>\n",
       "      <td>ABO antigens</td>\n",
       "      <td>ABO and Rh group [Type] in Capillary blood</td>\n",
       "      <td>884-7</td>\n",
       "    </tr>\n",
       "    <tr>\n",
       "      <th>318</th>\n",
       "      <td>D-Dimer</td>\n",
       "      <td>Fibrin D-dimer DDU [Mass/volume] in Blood by I...</td>\n",
       "      <td>91556-1</td>\n",
       "    </tr>\n",
       "    <tr>\n",
       "      <th>319</th>\n",
       "      <td>HSV</td>\n",
       "      <td>Herpes simplex virus IgG Ab [Units/volume] in ...</td>\n",
       "      <td>9422-7</td>\n",
       "    </tr>\n",
       "    <tr>\n",
       "      <th>320</th>\n",
       "      <td>Toxoplasma</td>\n",
       "      <td>Toxoplasma gondii IgG Ab [Units/volume] in Cer...</td>\n",
       "      <td>9741-0</td>\n",
       "    </tr>\n",
       "    <tr>\n",
       "      <th>321</th>\n",
       "      <td>D antigen</td>\n",
       "      <td>D Ag [Presence] on Red Blood Cells</td>\n",
       "      <td>978-7</td>\n",
       "    </tr>\n",
       "  </tbody>\n",
       "</table>\n",
       "<p>632 rows × 3 columns</p>\n",
       "</div>"
      ],
      "text/plain": [
       "     Data element                          Possible values and units    loinc\n",
       "0             AFP  Alpha-1-Fetoprotein [Mass/volume] in Serum or ...   1834-1\n",
       "1             AFP  Alpha-1-Fetoprotein [Multiple of the median] a...  23811-3\n",
       "2             AFP  Alpha-1-Fetoprotein [Multiple of the median] i...  20450-3\n",
       "3         Albumin           Albumin [Mass/volume] in Serum or Plasma   1751-7\n",
       "4         Albumin  Albumin [Mass/volume] in Serum or Plasma by Br...  61151-7\n",
       "..            ...                                                ...      ...\n",
       "317  ABO antigens         ABO and Rh group [Type] in Capillary blood    884-7\n",
       "318       D-Dimer  Fibrin D-dimer DDU [Mass/volume] in Blood by I...  91556-1\n",
       "319           HSV  Herpes simplex virus IgG Ab [Units/volume] in ...   9422-7\n",
       "320    Toxoplasma  Toxoplasma gondii IgG Ab [Units/volume] in Cer...   9741-0\n",
       "321     D antigen                 D Ag [Presence] on Red Blood Cells    978-7\n",
       "\n",
       "[632 rows x 3 columns]"
      ]
     },
     "execution_count": 68,
     "metadata": {},
     "output_type": "execute_result"
    }
   ],
   "source": [
    "data_guide_exp"
   ]
  },
  {
   "cell_type": "code",
   "execution_count": 69,
   "id": "51f986b1-a846-4654-8075-f84560c9122e",
   "metadata": {},
   "outputs": [],
   "source": [
    "loincs = ','.join(f\"'{l}'\" for l in data_guide_exp.loinc)"
   ]
  },
  {
   "cell_type": "code",
   "execution_count": 75,
   "id": "1b56d319-5ebb-488b-b93e-df21bea7e14b",
   "metadata": {},
   "outputs": [],
   "source": [
    "with omop.engine.connect() as con:\n",
    "    meas = pd.read_sql(f\"\"\"select distinct measurement_concept_id as concept_id, measurement_source_value as loinc\n",
    "                           from dbo.measurement \n",
    "                           where measurement_source_value in ({loincs})\"\"\", con)"
   ]
  },
  {
   "cell_type": "code",
   "execution_count": 76,
   "id": "6b2d871e-03a0-4517-bf7c-7bba9849d807",
   "metadata": {},
   "outputs": [
    {
     "data": {
      "text/html": [
       "<div>\n",
       "<style scoped>\n",
       "    .dataframe tbody tr th:only-of-type {\n",
       "        vertical-align: middle;\n",
       "    }\n",
       "\n",
       "    .dataframe tbody tr th {\n",
       "        vertical-align: top;\n",
       "    }\n",
       "\n",
       "    .dataframe thead th {\n",
       "        text-align: right;\n",
       "    }\n",
       "</style>\n",
       "<table border=\"1\" class=\"dataframe\">\n",
       "  <thead>\n",
       "    <tr style=\"text-align: right;\">\n",
       "      <th></th>\n",
       "      <th>concept_id</th>\n",
       "      <th>loinc</th>\n",
       "    </tr>\n",
       "  </thead>\n",
       "  <tbody>\n",
       "    <tr>\n",
       "      <th>0</th>\n",
       "      <td>3019897</td>\n",
       "      <td>788-0</td>\n",
       "    </tr>\n",
       "    <tr>\n",
       "      <th>1</th>\n",
       "      <td>3008652</td>\n",
       "      <td>23869-1</td>\n",
       "    </tr>\n",
       "    <tr>\n",
       "      <th>2</th>\n",
       "      <td>3034868</td>\n",
       "      <td>38180-6</td>\n",
       "    </tr>\n",
       "    <tr>\n",
       "      <th>3</th>\n",
       "      <td>3015632</td>\n",
       "      <td>2028-9</td>\n",
       "    </tr>\n",
       "    <tr>\n",
       "      <th>4</th>\n",
       "      <td>3002809</td>\n",
       "      <td>31112-6</td>\n",
       "    </tr>\n",
       "    <tr>\n",
       "      <th>...</th>\n",
       "      <td>...</td>\n",
       "      <td>...</td>\n",
       "    </tr>\n",
       "    <tr>\n",
       "      <th>341</th>\n",
       "      <td>3026361</td>\n",
       "      <td>26453-1</td>\n",
       "    </tr>\n",
       "    <tr>\n",
       "      <th>342</th>\n",
       "      <td>3016723</td>\n",
       "      <td>2160-0</td>\n",
       "    </tr>\n",
       "    <tr>\n",
       "      <th>343</th>\n",
       "      <td>3025267</td>\n",
       "      <td>7905-3</td>\n",
       "    </tr>\n",
       "    <tr>\n",
       "      <th>344</th>\n",
       "      <td>3043706</td>\n",
       "      <td>32717-1</td>\n",
       "    </tr>\n",
       "    <tr>\n",
       "      <th>345</th>\n",
       "      <td>3036282</td>\n",
       "      <td>13952-7</td>\n",
       "    </tr>\n",
       "  </tbody>\n",
       "</table>\n",
       "<p>346 rows × 2 columns</p>\n",
       "</div>"
      ],
      "text/plain": [
       "     concept_id    loinc\n",
       "0       3019897    788-0\n",
       "1       3008652  23869-1\n",
       "2       3034868  38180-6\n",
       "3       3015632   2028-9\n",
       "4       3002809  31112-6\n",
       "..          ...      ...\n",
       "341     3026361  26453-1\n",
       "342     3016723   2160-0\n",
       "343     3025267   7905-3\n",
       "344     3043706  32717-1\n",
       "345     3036282  13952-7\n",
       "\n",
       "[346 rows x 2 columns]"
      ]
     },
     "execution_count": 76,
     "metadata": {},
     "output_type": "execute_result"
    }
   ],
   "source": [
    "meas"
   ]
  },
  {
   "cell_type": "code",
   "execution_count": 77,
   "id": "9132fc66-c66d-44ea-9494-5a9f704a42a4",
   "metadata": {},
   "outputs": [
    {
     "data": {
      "text/html": [
       "<div>\n",
       "<style scoped>\n",
       "    .dataframe tbody tr th:only-of-type {\n",
       "        vertical-align: middle;\n",
       "    }\n",
       "\n",
       "    .dataframe tbody tr th {\n",
       "        vertical-align: top;\n",
       "    }\n",
       "\n",
       "    .dataframe thead th {\n",
       "        text-align: right;\n",
       "    }\n",
       "</style>\n",
       "<table border=\"1\" class=\"dataframe\">\n",
       "  <thead>\n",
       "    <tr style=\"text-align: right;\">\n",
       "      <th></th>\n",
       "      <th>Data element</th>\n",
       "      <th>Possible values and units</th>\n",
       "      <th>loinc</th>\n",
       "    </tr>\n",
       "  </thead>\n",
       "  <tbody>\n",
       "    <tr>\n",
       "      <th>0</th>\n",
       "      <td>AFP</td>\n",
       "      <td>Alpha-1-Fetoprotein [Mass/volume] in Serum or ...</td>\n",
       "      <td>1834-1</td>\n",
       "    </tr>\n",
       "    <tr>\n",
       "      <th>1</th>\n",
       "      <td>AFP</td>\n",
       "      <td>Alpha-1-Fetoprotein [Multiple of the median] a...</td>\n",
       "      <td>23811-3</td>\n",
       "    </tr>\n",
       "    <tr>\n",
       "      <th>2</th>\n",
       "      <td>AFP</td>\n",
       "      <td>Alpha-1-Fetoprotein [Multiple of the median] i...</td>\n",
       "      <td>20450-3</td>\n",
       "    </tr>\n",
       "    <tr>\n",
       "      <th>3</th>\n",
       "      <td>Albumin</td>\n",
       "      <td>Albumin [Mass/volume] in Serum or Plasma</td>\n",
       "      <td>1751-7</td>\n",
       "    </tr>\n",
       "    <tr>\n",
       "      <th>4</th>\n",
       "      <td>Albumin</td>\n",
       "      <td>Albumin [Mass/volume] in Serum or Plasma by Br...</td>\n",
       "      <td>61151-7</td>\n",
       "    </tr>\n",
       "    <tr>\n",
       "      <th>...</th>\n",
       "      <td>...</td>\n",
       "      <td>...</td>\n",
       "      <td>...</td>\n",
       "    </tr>\n",
       "    <tr>\n",
       "      <th>317</th>\n",
       "      <td>ABO antigens</td>\n",
       "      <td>ABO and Rh group [Type] in Capillary blood</td>\n",
       "      <td>884-7</td>\n",
       "    </tr>\n",
       "    <tr>\n",
       "      <th>318</th>\n",
       "      <td>D-Dimer</td>\n",
       "      <td>Fibrin D-dimer DDU [Mass/volume] in Blood by I...</td>\n",
       "      <td>91556-1</td>\n",
       "    </tr>\n",
       "    <tr>\n",
       "      <th>319</th>\n",
       "      <td>HSV</td>\n",
       "      <td>Herpes simplex virus IgG Ab [Units/volume] in ...</td>\n",
       "      <td>9422-7</td>\n",
       "    </tr>\n",
       "    <tr>\n",
       "      <th>320</th>\n",
       "      <td>Toxoplasma</td>\n",
       "      <td>Toxoplasma gondii IgG Ab [Units/volume] in Cer...</td>\n",
       "      <td>9741-0</td>\n",
       "    </tr>\n",
       "    <tr>\n",
       "      <th>321</th>\n",
       "      <td>D antigen</td>\n",
       "      <td>D Ag [Presence] on Red Blood Cells</td>\n",
       "      <td>978-7</td>\n",
       "    </tr>\n",
       "  </tbody>\n",
       "</table>\n",
       "<p>632 rows × 3 columns</p>\n",
       "</div>"
      ],
      "text/plain": [
       "     Data element                          Possible values and units    loinc\n",
       "0             AFP  Alpha-1-Fetoprotein [Mass/volume] in Serum or ...   1834-1\n",
       "1             AFP  Alpha-1-Fetoprotein [Multiple of the median] a...  23811-3\n",
       "2             AFP  Alpha-1-Fetoprotein [Multiple of the median] i...  20450-3\n",
       "3         Albumin           Albumin [Mass/volume] in Serum or Plasma   1751-7\n",
       "4         Albumin  Albumin [Mass/volume] in Serum or Plasma by Br...  61151-7\n",
       "..            ...                                                ...      ...\n",
       "317  ABO antigens         ABO and Rh group [Type] in Capillary blood    884-7\n",
       "318       D-Dimer  Fibrin D-dimer DDU [Mass/volume] in Blood by I...  91556-1\n",
       "319           HSV  Herpes simplex virus IgG Ab [Units/volume] in ...   9422-7\n",
       "320    Toxoplasma  Toxoplasma gondii IgG Ab [Units/volume] in Cer...   9741-0\n",
       "321     D antigen                 D Ag [Presence] on Red Blood Cells    978-7\n",
       "\n",
       "[632 rows x 3 columns]"
      ]
     },
     "execution_count": 77,
     "metadata": {},
     "output_type": "execute_result"
    }
   ],
   "source": [
    "data_guide_exp"
   ]
  },
  {
   "cell_type": "code",
   "execution_count": 108,
   "id": "f855d9a5-96b5-4b65-86ff-675c6a581722",
   "metadata": {},
   "outputs": [
    {
     "data": {
      "text/html": [
       "<div>\n",
       "<style scoped>\n",
       "    .dataframe tbody tr th:only-of-type {\n",
       "        vertical-align: middle;\n",
       "    }\n",
       "\n",
       "    .dataframe tbody tr th {\n",
       "        vertical-align: top;\n",
       "    }\n",
       "\n",
       "    .dataframe thead th {\n",
       "        text-align: right;\n",
       "    }\n",
       "</style>\n",
       "<table border=\"1\" class=\"dataframe\">\n",
       "  <thead>\n",
       "    <tr style=\"text-align: right;\">\n",
       "      <th></th>\n",
       "      <th>concept_id</th>\n",
       "      <th>loinc</th>\n",
       "      <th>Data element</th>\n",
       "      <th>Possible values and units</th>\n",
       "    </tr>\n",
       "  </thead>\n",
       "  <tbody>\n",
       "    <tr>\n",
       "      <th>0</th>\n",
       "      <td>3019897</td>\n",
       "      <td>788-0</td>\n",
       "      <td>RDW</td>\n",
       "      <td>Erythrocyte distribution width [Ratio] by Auto...</td>\n",
       "    </tr>\n",
       "    <tr>\n",
       "      <th>1</th>\n",
       "      <td>3008652</td>\n",
       "      <td>23869-1</td>\n",
       "      <td>Hepatitis B Virus</td>\n",
       "      <td>Hepatitis B virus DNA [Mass/volume] (viral loa...</td>\n",
       "    </tr>\n",
       "    <tr>\n",
       "      <th>2</th>\n",
       "      <td>3034868</td>\n",
       "      <td>38180-6</td>\n",
       "      <td>Hepatitis C Virus</td>\n",
       "      <td>Hepatitis C virus RNA [log units/volume] (vira...</td>\n",
       "    </tr>\n",
       "    <tr>\n",
       "      <th>3</th>\n",
       "      <td>3015632</td>\n",
       "      <td>2028-9</td>\n",
       "      <td>TCO2</td>\n",
       "      <td>Carbon dioxide, total [Moles/volume] in Serum ...</td>\n",
       "    </tr>\n",
       "    <tr>\n",
       "      <th>4</th>\n",
       "      <td>3002809</td>\n",
       "      <td>31112-6</td>\n",
       "      <td>Reticulocytes</td>\n",
       "      <td>Reticulocytes/100 erythrocytes in Blood by Manual</td>\n",
       "    </tr>\n",
       "    <tr>\n",
       "      <th>...</th>\n",
       "      <td>...</td>\n",
       "      <td>...</td>\n",
       "      <td>...</td>\n",
       "      <td>...</td>\n",
       "    </tr>\n",
       "    <tr>\n",
       "      <th>348</th>\n",
       "      <td>3026361</td>\n",
       "      <td>26453-1</td>\n",
       "      <td>Erythrocytes</td>\n",
       "      <td>Erythrocytes [#/volume] in Blood</td>\n",
       "    </tr>\n",
       "    <tr>\n",
       "      <th>349</th>\n",
       "      <td>3016723</td>\n",
       "      <td>2160-0</td>\n",
       "      <td>Creatinine</td>\n",
       "      <td>Creatinine [Mass/volume] in Serum or Plasma</td>\n",
       "    </tr>\n",
       "    <tr>\n",
       "      <th>350</th>\n",
       "      <td>3025267</td>\n",
       "      <td>7905-3</td>\n",
       "      <td>Hepatitis B Virus</td>\n",
       "      <td>Hepatitis B virus surface Ag [Presence] in Ser...</td>\n",
       "    </tr>\n",
       "    <tr>\n",
       "      <th>351</th>\n",
       "      <td>3043706</td>\n",
       "      <td>32717-1</td>\n",
       "      <td>Sodium</td>\n",
       "      <td>Sodium [Moles/volume] in Arterial blood</td>\n",
       "    </tr>\n",
       "    <tr>\n",
       "      <th>352</th>\n",
       "      <td>3036282</td>\n",
       "      <td>13952-7</td>\n",
       "      <td>Hepatitis B Virus</td>\n",
       "      <td>Hepatitis B virus core Ab [Presence] in Serum ...</td>\n",
       "    </tr>\n",
       "  </tbody>\n",
       "</table>\n",
       "<p>353 rows × 4 columns</p>\n",
       "</div>"
      ],
      "text/plain": [
       "     concept_id    loinc       Data element  \\\n",
       "0       3019897    788-0                RDW   \n",
       "1       3008652  23869-1  Hepatitis B Virus   \n",
       "2       3034868  38180-6  Hepatitis C Virus   \n",
       "3       3015632   2028-9               TCO2   \n",
       "4       3002809  31112-6      Reticulocytes   \n",
       "..          ...      ...                ...   \n",
       "348     3026361  26453-1       Erythrocytes   \n",
       "349     3016723   2160-0         Creatinine   \n",
       "350     3025267   7905-3  Hepatitis B Virus   \n",
       "351     3043706  32717-1             Sodium   \n",
       "352     3036282  13952-7  Hepatitis B Virus   \n",
       "\n",
       "                             Possible values and units  \n",
       "0    Erythrocyte distribution width [Ratio] by Auto...  \n",
       "1    Hepatitis B virus DNA [Mass/volume] (viral loa...  \n",
       "2    Hepatitis C virus RNA [log units/volume] (vira...  \n",
       "3    Carbon dioxide, total [Moles/volume] in Serum ...  \n",
       "4    Reticulocytes/100 erythrocytes in Blood by Manual  \n",
       "..                                                 ...  \n",
       "348                   Erythrocytes [#/volume] in Blood  \n",
       "349        Creatinine [Mass/volume] in Serum or Plasma  \n",
       "350  Hepatitis B virus surface Ag [Presence] in Ser...  \n",
       "351            Sodium [Moles/volume] in Arterial blood  \n",
       "352  Hepatitis B virus core Ab [Presence] in Serum ...  \n",
       "\n",
       "[353 rows x 4 columns]"
      ]
     },
     "execution_count": 108,
     "metadata": {},
     "output_type": "execute_result"
    }
   ],
   "source": [
    "rel_loinc = meas.merge(data_guide_exp, on='loinc')\n",
    "rel_loinc"
   ]
  },
  {
   "cell_type": "code",
   "execution_count": 113,
   "id": "be0ba798-92fe-400b-b2b9-f6ee85f4d09f",
   "metadata": {},
   "outputs": [],
   "source": [
    "# rel_loinc['Possible values and units'] = \n",
    "rel_loinc['Possible values and units'] = rel_loinc.apply(lambda row: f\"{row['Possible values and units']} (LOINC: {row['loinc']}, Concept ID: {row['concept_id']})\", axis=1)"
   ]
  },
  {
   "cell_type": "code",
   "execution_count": 116,
   "id": "0140e8c7-beae-4c1b-a3dd-dfd7afc30906",
   "metadata": {},
   "outputs": [],
   "source": [
    "# rel_loinc[['Data element', 'Possible values and units']].to_csv('labs_table.csv', index=False)"
   ]
  },
  {
   "cell_type": "code",
   "execution_count": null,
   "id": "1a7f1868-271a-4965-8800-ad0b239e4763",
   "metadata": {},
   "outputs": [],
   "source": []
  }
 ],
 "metadata": {
  "kernelspec": {
   "display_name": "Python 3",
   "language": "python",
   "name": "python3"
  },
  "language_info": {
   "codemirror_mode": {
    "name": "ipython",
    "version": 3
   },
   "file_extension": ".py",
   "mimetype": "text/x-python",
   "name": "python",
   "nbconvert_exporter": "python",
   "pygments_lexer": "ipython3",
   "version": "3.7.10"
  }
 },
 "nbformat": 4,
 "nbformat_minor": 5
}
