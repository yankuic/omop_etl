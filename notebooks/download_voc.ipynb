{
 "cells": [
  {
   "cell_type": "markdown",
   "metadata": {},
   "source": [
    "# Download vocabulary "
   ]
  },
  {
   "cell_type": "code",
   "execution_count": 1,
   "metadata": {},
   "outputs": [],
   "source": [
    "from selenium import webdriver\n",
    "from selenium.webdriver.remote.errorhandler import NoSuchElementException\n",
    "from datetime import datetime as dt\n",
    "from omop_etl.utils import timeitc\n",
    "import yaml\n",
    "import time"
   ]
  },
  {
   "cell_type": "code",
   "execution_count": null,
   "metadata": {},
   "outputs": [],
   "source": [
    "chrome_path = "
   ]
  },
  {
   "cell_type": "code",
   "execution_count": 8,
   "metadata": {},
   "outputs": [],
   "source": [
    "def athena_driver(username, password, headless=True, download_dir=None):\n",
    "    options = webdriver.ChromeOptions()\n",
    "    options.add_argument(\"--incognito\")\n",
    "    options.add_argument('window-size=1680x900')\n",
    "    options.headless = headless\n",
    "    if download_dir:\n",
    "        options.add_experimental_option('prefs', {'download.default_directory': download_dir})\n",
    "    driver = webdriver.Chrome(executable_path='/chrome/chromedriver.exe', options=options)\n",
    "    driver.set_window_position(0,0)\n",
    "    driver.set_window_size(1200, 1375)\n",
    "    driver.set_page_load_timeout(15)\n",
    "    \n",
    "    driver.get(\"https://athena.ohdsi.org/\")\n",
    "    driver.find_element_by_xpath('/html/body/div/div/div[4]/div[2]/div/div[2]/div[2]/button').click()\n",
    "    driver.find_element_by_xpath('/html/body/div/div/header/nav/div[3]/a').click()\n",
    "    driver.find_element_by_xpath('/html/body/div/div/div[1]/div/div[2]/div/button').click()\n",
    "\n",
    "    main_window = driver.current_window_handle\n",
    "    for handle in driver.window_handles:\n",
    "        if handle != main_window:\n",
    "            popup = handle\n",
    "            driver.switch_to.window(popup)\n",
    "\n",
    "    driver.find_element_by_xpath('//*[@id=\"username\"]').send_keys(username)\n",
    "    driver.find_element_by_xpath('//*[@id=\"password\"]').send_keys(password)\n",
    "    driver.find_element_by_xpath('/html/body/div[1]/div/div/div[2]/div/form/section[3]/input[4]').click()\n",
    "    driver.switch_to.window(driver.window_handles[0])\n",
    "\n",
    "    return driver "
   ]
  },
  {
   "cell_type": "code",
   "execution_count": 3,
   "metadata": {},
   "outputs": [],
   "source": [
    "def request_new_vocabulary_file(driver):\n",
    "    driver.get('https://athena.ohdsi.org/search-terms/start')\n",
    "    driver.find_element_by_xpath('/html/body/div/div/header/nav/div[3]/div/a/div[2]').click()\n",
    "    driver.find_element_by_xpath('//*[@id=\"app\"]/div/header/nav/div[3]/div/div/div/a[1]').click()\n",
    "    driver.find_element_by_xpath('//*[@id=\"app\"]/div/header/nav/div[2]/a').click()\n",
    "    \n",
    "    # double click on select all to make sure no vocab is selected \n",
    "    driver.find_element_by_xpath('//*[@id=\"app\"]/div/div[1]/div[2]/table/thead/tr/th[1]/label').click()\n",
    "    driver.find_element_by_xpath('//*[@id=\"app\"]/div/div[1]/div[2]/table/thead/tr/th[1]/label').click()\n",
    "\n",
    "    # Select vocabularies\n",
    "    checkboxes = driver.find_elements_by_css_selector(\"#app > div > div.at-vocabs > div.at-vocabularies > table > tbody > tr\")\n",
    "    with open('omop_vocabularies.yml') as f:\n",
    "        vocabs = yaml.safe_load(f)\n",
    "    \n",
    "    for checkbox in checkboxes:\n",
    "        cls = checkbox.find_element_by_class_name('at-vocabularies__code-td')\n",
    "        if cls.text in vocabs:\n",
    "            checkbox.click()\n",
    "            print(f'Vocabulary {cls.text} was selected')\n",
    "    \n",
    "    datestamp = dt.today().strftime('%m_%d_%Y')\n",
    "    driver.find_element_by_xpath('//*[@id=\"app\"]/div/div[1]/div[1]/button').click()\n",
    "    driver.find_element_by_xpath('//*[@id=\"app\"]/div/div[1]/div[3]/div[2]/div/div[2]/form/div/div[1]/input').send_keys(f'vocabulary_5x_{datestamp}')\n",
    "    \n",
    "    # Request vocab file\n",
    "    driver.find_element_by_xpath('//*[@id=\"app\"]/div/div[1]/div[3]/div[2]/div/div[2]/form/div/div[2]/button[1]').click()\n",
    "\n",
    "    #return to main page\n",
    "    driver.get('https://athena.ohdsi.org/search-terms/start')"
   ]
  },
  {
   "cell_type": "code",
   "execution_count": 4,
   "metadata": {},
   "outputs": [],
   "source": [
    "def download_vocabulary_file(driver, get_last=True, vocabulary_name=None, archive=True, restore=True):\n",
    "    \"\"\"Download most recent vocabulary file.\"\"\"\n",
    "    driver.get('https://athena.ohdsi.org/search-terms/start')\n",
    "    driver.find_element_by_xpath('/html/body/div/div/header/nav/div[3]/div/a/div[2]').click()\n",
    "    driver.find_element_by_xpath('//*[@id=\"app\"]/div/header/nav/div[3]/div/div/div/a[1]').click()\n",
    "    driver.find_element_by_xpath('//*[@id=\"app\"]/div/header/nav/div[3]/div').click()\n",
    "    buttons = driver.find_elements_by_class_name(\"react-sanfona-item\")\n",
    "    last = True\n",
    "    archive = False\n",
    "    if get_last:\n",
    "        button = buttons[0]\n",
    "        tool = button.find_element_by_class_name('ac-toolbar')\n",
    "        status = tool.text.split()[-1]\n",
    "        if status == 'DOWNLOADSHAREARCHIVE': \n",
    "            driver.find_element_by_xpath('//*[@id=\"app\"]/div/div[1]/div[2]/div[1]/div[1]/ul/li/div/button[1]').click()\n",
    "            if archive:\n",
    "                time.sleep(30)\n",
    "                driver.find_element_by_xpath('//*[@id=\"app\"]/div/div[1]/div[2]/div[1]/div[1]/ul/li/div/button[3]').click()\n",
    "        elif status == 'ARCHIVEDRESTORE':\n",
    "            driver.find_element_by_xpath('//*[@id=\"app\"]/div/div[1]/div[2]/div[1]/div[1]/ul/li/div/button').click()\n",
    "            time.sleep(2)\n",
    "            tool = button.find_element_by_class_name('ac-toolbar')\n",
    "            status = tool.text.split()[-1]\n",
    "            while status == 'PENDING':\n",
    "                print('Restoring vocabulary, please wait.', end='\\r')\n",
    "                time.sleep(60)\n",
    "                tool = button.find_element_by_class_name('ac-toolbar')\n",
    "                status = tool.text.split()[-1]\n",
    "                if status == 'DOWNLOADSHAREARCHIVE':\n",
    "                    time.sleep(30)\n",
    "                    driver.find_element_by_xpath('//*[@id=\"app\"]/div/div[1]/div[2]/div[1]/div[1]/ul/li/div/button[1]').click()\n",
    "                    print(\"Download started\")\n",
    "                    if archive:\n",
    "                        time.sleep(30)\n",
    "                        driver.find_element_by_xpath('//*[@id=\"app\"]/div/div[1]/div[2]/div[1]/div[1]/ul/li/div/button[3]').click()                \n",
    "        elif status == 'PENDING':\n",
    "            print('Restoring vocabulary, try again later.')"
   ]
  },
  {
   "cell_type": "code",
   "execution_count": 9,
   "metadata": {},
   "outputs": [
    {
     "ename": "WebDriverException",
     "evalue": "Message: 'chromedriver.exe' executable needs to be in PATH. Please see https://sites.google.com/a/chromium.org/chromedriver/home\n",
     "output_type": "error",
     "traceback": [
      "\u001b[1;31m---------------------------------------------------------------------------\u001b[0m",
      "\u001b[1;31mFileNotFoundError\u001b[0m                         Traceback (most recent call last)",
      "\u001b[1;32mE:\\Continuum\\anaconda3\\envs\\omop_etl\\lib\\site-packages\\selenium\\webdriver\\common\\service.py\u001b[0m in \u001b[0;36mstart\u001b[1;34m(self)\u001b[0m\n\u001b[0;32m     75\u001b[0m                                             \u001b[0mstderr\u001b[0m\u001b[1;33m=\u001b[0m\u001b[0mself\u001b[0m\u001b[1;33m.\u001b[0m\u001b[0mlog_file\u001b[0m\u001b[1;33m,\u001b[0m\u001b[1;33m\u001b[0m\u001b[1;33m\u001b[0m\u001b[0m\n\u001b[1;32m---> 76\u001b[1;33m                                             stdin=PIPE)\n\u001b[0m\u001b[0;32m     77\u001b[0m         \u001b[1;32mexcept\u001b[0m \u001b[0mTypeError\u001b[0m\u001b[1;33m:\u001b[0m\u001b[1;33m\u001b[0m\u001b[1;33m\u001b[0m\u001b[0m\n",
      "\u001b[1;32mE:\\Continuum\\anaconda3\\envs\\omop_etl\\lib\\subprocess.py\u001b[0m in \u001b[0;36m__init__\u001b[1;34m(self, args, bufsize, executable, stdin, stdout, stderr, preexec_fn, close_fds, shell, cwd, env, universal_newlines, startupinfo, creationflags, restore_signals, start_new_session, pass_fds, encoding, errors, text)\u001b[0m\n\u001b[0;32m    799\u001b[0m                                 \u001b[0merrread\u001b[0m\u001b[1;33m,\u001b[0m \u001b[0merrwrite\u001b[0m\u001b[1;33m,\u001b[0m\u001b[1;33m\u001b[0m\u001b[1;33m\u001b[0m\u001b[0m\n\u001b[1;32m--> 800\u001b[1;33m                                 restore_signals, start_new_session)\n\u001b[0m\u001b[0;32m    801\u001b[0m         \u001b[1;32mexcept\u001b[0m\u001b[1;33m:\u001b[0m\u001b[1;33m\u001b[0m\u001b[1;33m\u001b[0m\u001b[0m\n",
      "\u001b[1;32mE:\\Continuum\\anaconda3\\envs\\omop_etl\\lib\\subprocess.py\u001b[0m in \u001b[0;36m_execute_child\u001b[1;34m(self, args, executable, preexec_fn, close_fds, pass_fds, cwd, env, startupinfo, creationflags, shell, p2cread, p2cwrite, c2pread, c2pwrite, errread, errwrite, unused_restore_signals, unused_start_new_session)\u001b[0m\n\u001b[0;32m   1206\u001b[0m                                          \u001b[0mos\u001b[0m\u001b[1;33m.\u001b[0m\u001b[0mfspath\u001b[0m\u001b[1;33m(\u001b[0m\u001b[0mcwd\u001b[0m\u001b[1;33m)\u001b[0m \u001b[1;32mif\u001b[0m \u001b[0mcwd\u001b[0m \u001b[1;32mis\u001b[0m \u001b[1;32mnot\u001b[0m \u001b[1;32mNone\u001b[0m \u001b[1;32melse\u001b[0m \u001b[1;32mNone\u001b[0m\u001b[1;33m,\u001b[0m\u001b[1;33m\u001b[0m\u001b[1;33m\u001b[0m\u001b[0m\n\u001b[1;32m-> 1207\u001b[1;33m                                          startupinfo)\n\u001b[0m\u001b[0;32m   1208\u001b[0m             \u001b[1;32mfinally\u001b[0m\u001b[1;33m:\u001b[0m\u001b[1;33m\u001b[0m\u001b[1;33m\u001b[0m\u001b[0m\n",
      "\u001b[1;31mFileNotFoundError\u001b[0m: [WinError 2] The system cannot find the file specified",
      "\nDuring handling of the above exception, another exception occurred:\n",
      "\u001b[1;31mWebDriverException\u001b[0m                        Traceback (most recent call last)",
      "\u001b[1;32m<ipython-input-9-186ec5607146>\u001b[0m in \u001b[0;36m<module>\u001b[1;34m\u001b[0m\n\u001b[0;32m      6\u001b[0m \u001b[0mPASSWORD\u001b[0m \u001b[1;33m=\u001b[0m \u001b[1;34m\"7DSrMx7JNTHaXEM\"\u001b[0m\u001b[1;33m\u001b[0m\u001b[1;33m\u001b[0m\u001b[0m\n\u001b[0;32m      7\u001b[0m \u001b[0mpath\u001b[0m \u001b[1;33m=\u001b[0m \u001b[1;34mr'Z:\\OMOP_CDM'\u001b[0m\u001b[1;33m\u001b[0m\u001b[1;33m\u001b[0m\u001b[0m\n\u001b[1;32m----> 8\u001b[1;33m \u001b[0mathena\u001b[0m \u001b[1;33m=\u001b[0m \u001b[0mathena_driver\u001b[0m\u001b[1;33m(\u001b[0m\u001b[0mUSERNAME\u001b[0m\u001b[1;33m,\u001b[0m \u001b[0mPASSWORD\u001b[0m\u001b[1;33m,\u001b[0m \u001b[0mheadless\u001b[0m\u001b[1;33m=\u001b[0m\u001b[1;32mFalse\u001b[0m\u001b[1;33m,\u001b[0m \u001b[0mdownload_dir\u001b[0m\u001b[1;33m=\u001b[0m\u001b[0mpath\u001b[0m\u001b[1;33m)\u001b[0m\u001b[1;33m\u001b[0m\u001b[1;33m\u001b[0m\u001b[0m\n\u001b[0m\u001b[0;32m      9\u001b[0m \u001b[1;31m# request_new_vocabulary_file(athena)\u001b[0m\u001b[1;33m\u001b[0m\u001b[1;33m\u001b[0m\u001b[1;33m\u001b[0m\u001b[0m\n",
      "\u001b[1;32m<ipython-input-8-eda5e428f5fb>\u001b[0m in \u001b[0;36mathena_driver\u001b[1;34m(username, password, headless, download_dir)\u001b[0m\n\u001b[0;32m      6\u001b[0m     \u001b[1;32mif\u001b[0m \u001b[0mdownload_dir\u001b[0m\u001b[1;33m:\u001b[0m\u001b[1;33m\u001b[0m\u001b[1;33m\u001b[0m\u001b[0m\n\u001b[0;32m      7\u001b[0m         \u001b[0moptions\u001b[0m\u001b[1;33m.\u001b[0m\u001b[0madd_experimental_option\u001b[0m\u001b[1;33m(\u001b[0m\u001b[1;34m'prefs'\u001b[0m\u001b[1;33m,\u001b[0m \u001b[1;33m{\u001b[0m\u001b[1;34m'download.default_directory'\u001b[0m\u001b[1;33m:\u001b[0m \u001b[0mdownload_dir\u001b[0m\u001b[1;33m}\u001b[0m\u001b[1;33m)\u001b[0m\u001b[1;33m\u001b[0m\u001b[1;33m\u001b[0m\u001b[0m\n\u001b[1;32m----> 8\u001b[1;33m     \u001b[0mdriver\u001b[0m \u001b[1;33m=\u001b[0m \u001b[0mwebdriver\u001b[0m\u001b[1;33m.\u001b[0m\u001b[0mChrome\u001b[0m\u001b[1;33m(\u001b[0m\u001b[0mexecutable_path\u001b[0m\u001b[1;33m=\u001b[0m\u001b[1;34m'../chrome/chromedriver.exe'\u001b[0m\u001b[1;33m,\u001b[0m \u001b[0moptions\u001b[0m\u001b[1;33m=\u001b[0m\u001b[0moptions\u001b[0m\u001b[1;33m)\u001b[0m\u001b[1;33m\u001b[0m\u001b[1;33m\u001b[0m\u001b[0m\n\u001b[0m\u001b[0;32m      9\u001b[0m     \u001b[0mdriver\u001b[0m\u001b[1;33m.\u001b[0m\u001b[0mset_window_position\u001b[0m\u001b[1;33m(\u001b[0m\u001b[1;36m0\u001b[0m\u001b[1;33m,\u001b[0m\u001b[1;36m0\u001b[0m\u001b[1;33m)\u001b[0m\u001b[1;33m\u001b[0m\u001b[1;33m\u001b[0m\u001b[0m\n\u001b[0;32m     10\u001b[0m     \u001b[0mdriver\u001b[0m\u001b[1;33m.\u001b[0m\u001b[0mset_window_size\u001b[0m\u001b[1;33m(\u001b[0m\u001b[1;36m1200\u001b[0m\u001b[1;33m,\u001b[0m \u001b[1;36m1375\u001b[0m\u001b[1;33m)\u001b[0m\u001b[1;33m\u001b[0m\u001b[1;33m\u001b[0m\u001b[0m\n",
      "\u001b[1;32mE:\\Continuum\\anaconda3\\envs\\omop_etl\\lib\\site-packages\\selenium\\webdriver\\chrome\\webdriver.py\u001b[0m in \u001b[0;36m__init__\u001b[1;34m(self, executable_path, port, options, service_args, desired_capabilities, service_log_path, chrome_options, keep_alive)\u001b[0m\n\u001b[0;32m     71\u001b[0m             \u001b[0mservice_args\u001b[0m\u001b[1;33m=\u001b[0m\u001b[0mservice_args\u001b[0m\u001b[1;33m,\u001b[0m\u001b[1;33m\u001b[0m\u001b[1;33m\u001b[0m\u001b[0m\n\u001b[0;32m     72\u001b[0m             log_path=service_log_path)\n\u001b[1;32m---> 73\u001b[1;33m         \u001b[0mself\u001b[0m\u001b[1;33m.\u001b[0m\u001b[0mservice\u001b[0m\u001b[1;33m.\u001b[0m\u001b[0mstart\u001b[0m\u001b[1;33m(\u001b[0m\u001b[1;33m)\u001b[0m\u001b[1;33m\u001b[0m\u001b[1;33m\u001b[0m\u001b[0m\n\u001b[0m\u001b[0;32m     74\u001b[0m \u001b[1;33m\u001b[0m\u001b[0m\n\u001b[0;32m     75\u001b[0m         \u001b[1;32mtry\u001b[0m\u001b[1;33m:\u001b[0m\u001b[1;33m\u001b[0m\u001b[1;33m\u001b[0m\u001b[0m\n",
      "\u001b[1;32mE:\\Continuum\\anaconda3\\envs\\omop_etl\\lib\\site-packages\\selenium\\webdriver\\common\\service.py\u001b[0m in \u001b[0;36mstart\u001b[1;34m(self)\u001b[0m\n\u001b[0;32m     81\u001b[0m                 raise WebDriverException(\n\u001b[0;32m     82\u001b[0m                     \"'%s' executable needs to be in PATH. %s\" % (\n\u001b[1;32m---> 83\u001b[1;33m                         os.path.basename(self.path), self.start_error_message)\n\u001b[0m\u001b[0;32m     84\u001b[0m                 )\n\u001b[0;32m     85\u001b[0m             \u001b[1;32melif\u001b[0m \u001b[0merr\u001b[0m\u001b[1;33m.\u001b[0m\u001b[0merrno\u001b[0m \u001b[1;33m==\u001b[0m \u001b[0merrno\u001b[0m\u001b[1;33m.\u001b[0m\u001b[0mEACCES\u001b[0m\u001b[1;33m:\u001b[0m\u001b[1;33m\u001b[0m\u001b[1;33m\u001b[0m\u001b[0m\n",
      "\u001b[1;31mWebDriverException\u001b[0m: Message: 'chromedriver.exe' executable needs to be in PATH. Please see https://sites.google.com/a/chromium.org/chromedriver/home\n"
     ]
    }
   ],
   "source": [
    "# Enter your Athena credentials to login\n",
    "#TODO - get an account that everyone can access.\n",
    "#TODO - request credentials \n",
    "\n",
    "USERNAME = \"yankuic@ufl.edu\"\n",
    "PASSWORD = \"7DSrMx7JNTHaXEM\"\n",
    "path = r'Z:\\OMOP_CDM'\n",
    "athena = athena_driver(USERNAME, PASSWORD, headless=False, download_dir=path)\n",
    "# request_new_vocabulary_file(athena)"
   ]
  },
  {
   "cell_type": "code",
   "execution_count": 16,
   "metadata": {},
   "outputs": [],
   "source": [
    "# request_new_vocabulary_file(athena)\n",
    "download_vocabulary_file(athena)\n",
    "# athena.find_element_by_xpath('//*[@id=\"app\"]/div/div[1]/div[2]/div[2]/div[1]/ul/li/div/button').click()\n",
    "# athena"
   ]
  },
  {
   "cell_type": "code",
   "execution_count": 12,
   "metadata": {
    "jupyter": {
     "source_hidden": true
    },
    "tags": []
   },
   "outputs": [
    {
     "name": "stdout",
     "output_type": "stream",
     "text": [
      "Restoring vocabulary, try again later.\n"
     ]
    }
   ],
   "source": [
    "## athena.switch_to.window(athena.window_handles[0])\n",
    "# athena.get('https://athena.ohdsi.org/search-terms/start')\n",
    "# athena.find_element_by_xpath('/html/body/div/div/header/nav/div[3]/div/a/div[2]').click()\n",
    "# athena.find_element_by_xpath('//*[@id=\"app\"]/div/header/nav/div[3]/div/div/div/a[1]').click()\n",
    "# athena.find_element_by_xpath('//*[@id=\"app\"]/div/header/nav/div[3]/div').click()\n",
    "# buttons = athena.find_elements_by_class_name(\"react-sanfona-item\")\n",
    "# last = True\n",
    "# archive = False\n",
    "# if last:\n",
    "#     button = buttons[0]\n",
    "#     tool = button.find_element_by_class_name('ac-toolbar')\n",
    "#     status = tool.text.split()[-1]\n",
    "#     if status == 'DOWNLOADSHAREARCHIVE': \n",
    "#         athena.find_element_by_xpath('//*[@id=\"app\"]/div/div[1]/div[2]/div[1]/div[1]/ul/li/div/button[1]').click()\n",
    "#         if archive:\n",
    "#             time.sleep(30)\n",
    "#             athena.find_element_by_xpath('//*[@id=\"app\"]/div/div[1]/div[2]/div[1]/div[1]/ul/li/div/button[3]').click()\n",
    "#     elif status == 'ARCHIVEDRESTORE':\n",
    "#         athena.find_element_by_xpath('//*[@id=\"app\"]/div/div[1]/div[2]/div[1]/div[1]/ul/li/div/button').click()\n",
    "#         time.sleep(2)\n",
    "#         tool = button.find_element_by_class_name('ac-toolbar')\n",
    "#         status = tool.text.split()[-1]\n",
    "#         while status == 'PENDING':\n",
    "#             print('Restoring vocabulary, please wait.', end='\\r')\n",
    "#             time.sleep(60)\n",
    "#             tool = button.find_element_by_class_name('ac-toolbar')\n",
    "#             status = tool.text.split()[-1]\n",
    "#             if status == 'DOWNLOADSHAREARCHIVE':\n",
    "#                 time.sleep(30)\n",
    "#                 athena.find_element_by_xpath('//*[@id=\"app\"]/div/div[1]/div[2]/div[1]/div[1]/ul/li/div/button[1]').click()\n",
    "#                 print(\"Download started\")\n",
    "#                 if archive:\n",
    "#                     time.sleep(30)\n",
    "#                     athena.find_element_by_xpath('//*[@id=\"app\"]/div/div[1]/div[2]/div[1]/div[1]/ul/li/div/button[3]').click()                \n",
    "#     elif status == 'PENDING':\n",
    "#         print('Restoring vocabulary, try again later.')"
   ]
  },
  {
   "cell_type": "markdown",
   "metadata": {},
   "source": [
    "# Unzip vocabulary file"
   ]
  },
  {
   "cell_type": "code",
   "execution_count": 18,
   "metadata": {},
   "outputs": [
    {
     "data": {
      "text/plain": [
       "'Z:\\\\OMOP_CDM\\\\vocabulary_download_v5_{fe78dd5b-1bf6-4e4d-9270-195c4299fd07}_1622566662890.zip'"
      ]
     },
     "execution_count": 18,
     "metadata": {},
     "output_type": "execute_result"
    }
   ],
   "source": [
    "import glob, os\n",
    "path = r'Z:\\OMOP_CDM'\n",
    "csv_list = glob.glob(path + '/*.zip')\n",
    "last_zip = max(csv_list, key=os.path.getctime)\n",
    "last_zip"
   ]
  },
  {
   "cell_type": "code",
   "execution_count": 19,
   "metadata": {},
   "outputs": [
    {
     "name": "stdout",
     "output_type": "stream",
     "text": [
      "Vocabulary files were extracted.\n"
     ]
    }
   ],
   "source": [
    "import zipfile\n",
    "with zipfile.ZipFile(last_zip) as z:\n",
    "    z.extractall(path + '/Vocabulary_v5x')\n",
    "    print('Vocabulary files were extracted.')"
   ]
  },
  {
   "cell_type": "raw",
   "metadata": {},
   "source": [
    "# Downloading CPT4 codes\n",
    "OHDSI script to download cpt4 codes does not work anymore. \n",
    "We'll need to wait the update or download the codes by our own. "
   ]
  },
  {
   "cell_type": "markdown",
   "metadata": {},
   "source": [
    "# Import vocabulary tables into db"
   ]
  },
  {
   "cell_type": "code",
   "execution_count": 7,
   "metadata": {
    "jupyter": {
     "source_hidden": true
    },
    "tags": []
   },
   "outputs": [],
   "source": [
    "# import datetime\n",
    "# import time\n",
    "# import math\n",
    "# from pydma.utils import timeit_context\n",
    "# import pandas as pd\n",
    "# import numpy as np\n",
    "# import numpy.ma as ma\n",
    "# from turbodbc import connect\n",
    "# from turbodbc.exceptions import DatabaseError, InterfaceError\n",
    "# from pydma.databases import OneFLDb\n",
    "\n",
    "# database='DWS_CC_OMOP'\n",
    "# omop = OneFLDb('edw', database=database)\n",
    "# today = datetime.datetime.today()\n",
    "# date_flag = today.strftime('%Y%m%d')\n",
    "# schema = 'xref'\n",
    "\n",
    "# t_connection = connect(driver='{SQL Server}', server='edw.shands.ufl.edu', \n",
    "#               database=database, trusted_connection='yes')\n",
    "\n",
    "# tables = ['concept']#, 'concept_ancestor','concept_class', 'concept_relationship', 'concept_synonym',\n",
    "# #           'domain', 'drug_strength', 'relationship', 'vocabulary']\n",
    "# df_debug = ''\n",
    "\n",
    "# for table in tables:\n",
    "#     # Truncate table\n",
    "#     cursor = t_connection.cursor()\n",
    "    \n",
    "#     sql = \"\"\"\\\n",
    "#         truncate table {}.{}\n",
    "#         \"\"\".format(schema, table)\n",
    "    \n",
    "#     # Use raw_connection to access data types.\n",
    "#     raw_connection = omop.engine.raw_connection()\n",
    "#     omop_cursor = raw_connection.cursor()\n",
    "#     omop_cursor.execute(sql)\n",
    "#     omop_cursor.commit()\n",
    "          \n",
    "#     # Retrieve sql data types \n",
    "#     omop_cursor.execute(f'select top 1 * from {schema}.{table}')\n",
    "#     dtypes = {t[0]:t[1] for t in omop_cursor.description}\n",
    "# #     nullable = [t[0] for t in omop_cursor.description if t[-1]]\n",
    "#     omop_cursor.close()\n",
    "#     raw_connection.close()\n",
    "    \n",
    "#     # Use turbodbc supported data types\n",
    "#     for t in dtypes.keys():\n",
    "#         if dtypes[t] is int:\n",
    "#             dtypes[t] = np.int64\n",
    "    \n",
    "#     if table == 'drug_strength':\n",
    "#         chunks = pd.read_csv(r'z:\\OMOP_CDM\\Vocabulary_v5x\\{}.csv'.format(table.upper()), #keep_default_na=False, \n",
    "#                              chunksize=1000000, sep='\\t', dtype=str, low_memory=False)\n",
    "\n",
    "#     else:\n",
    "#         chunks = pd.read_csv(r'z:\\OMOP_CDM\\Vocabulary_v5x\\{}.csv'.format(table.upper()), keep_default_na=False,\n",
    "#                          chunksize=1000000, dtype=dtypes, sep='\\t')\n",
    "    \n",
    "#     insert_query = \"\"\"\n",
    "#             SET ANSI_WARNINGS OFF\n",
    "            \n",
    "#             INSERT INTO {0}.{1} ({2})\n",
    "#             VALUES ({3})\n",
    "            \n",
    "#             SET ANSI_WARNINGS ON\n",
    "#         \"\"\"\n",
    "    \n",
    "#     remove_999 = \"\"\"\n",
    "#             update {0}.{1}\n",
    "#             set {2} = NULL\n",
    "#             where {2} = -999\n",
    "#     \"\"\"\n",
    "    \n",
    "#     count = 0\n",
    "#     rows_proc = 0\n",
    "#     with timeit_context(f'Processing table {table}'):\n",
    "#         print(f'Loading table {table} into schema {schema}. Please wait.')\n",
    "#         for chunk in chunks:\n",
    "            \n",
    "#             if table == 'drug_strength':\n",
    "                \n",
    "#                 for col in chunk.columns:\n",
    "#                     data_type = dtypes[col]\n",
    "#                     if data_type is np.int64:\n",
    "#                         chunk[col] = chunk[col].fillna(-999).astype(data_type)\n",
    "#                     elif data_type is str:\n",
    "#                         chunk[col] = chunk[col].fillna('').astype(data_type)\n",
    "                \n",
    "#             # Replace all NaN for None - turbodbc does not support NaN\n",
    "#             chunk = chunk.where((pd.notnull(chunk)), None)\n",
    "\n",
    "#             if count == 0:\n",
    "#                 columns = ','.join(chunk.columns)\n",
    "#                 n_cols = len(chunk.columns)\n",
    "#                 placehl = ','.join(['?']*n_cols)\n",
    "#                 count=+1\n",
    "\n",
    "#             insert_query = insert_query.format(schema, table, columns, placehl)\n",
    "\n",
    "#             try:\n",
    "#                 cursor.executemanycolumns(insert_query, [np.ascontiguousarray(chunk[col].values) for col in chunk.columns])\n",
    "#                 rows_proc = rows_proc + chunk.shape[0]\n",
    "#                 t_connection.commit()\n",
    "                                \n",
    "#             except (DatabaseError, InterfaceError, ValueError) as e:\n",
    "#                 df_debug = chunk\n",
    "#                 t_connection.rollback()\n",
    "#                 t_connection.close()\n",
    "#                 raise e\n",
    "    \n",
    "#     if table == 'drug_strength':\n",
    "        \n",
    "#         for col in chunk.columns:\n",
    "#             data_type = dtypes[col]\n",
    "#             if data_type is np.int64:\n",
    "#                 print(f'Cleaning up column {col}')\n",
    "#                 cursor.execute(remove_999.format(schema, table, col))\n",
    "#                 t_connection.commit()\n",
    "\n",
    "#     cursor.close()            \n",
    "#     print(f'Import complete: {rows_proc} rows processed')\n",
    "\n",
    "# t_connection.close()"
   ]
  },
  {
   "cell_type": "code",
   "execution_count": 1,
   "metadata": {
    "collapsed": true,
    "jupyter": {
     "outputs_hidden": true,
     "source_hidden": true
    },
    "tags": []
   },
   "outputs": [
    {
     "name": "stdout",
     "output_type": "stream",
     "text": [
      "Unable to import optional dependencies:\n",
      "selenium: No module named 'selenium'\n",
      "Importing drug_strength finished in 00:00:05\n"
     ]
    }
   ],
   "source": [
    "# _BOOLEAN_CODE = 0\n",
    "# _INTEGER_CODE = 10\n",
    "# _FLOATING_POINT_CODE = 20\n",
    "# _STRING_CODE = 30\n",
    "# _UNICODE_CODE = 31\n",
    "# _TIMESTAMP_CODE = 40\n",
    "# _DATE_CODE = 41\n",
    "    \n",
    "import datetime\n",
    "import time\n",
    "import math\n",
    "from omop_etl.utils import timeitc\n",
    "import pandas as pd\n",
    "import numpy as np\n",
    "from turbodbc import connect, make_options\n",
    "from turbodbc.exceptions import DatabaseError, InterfaceError\n",
    "from pydma.databases import OneFLDb\n",
    "\n",
    "schema = 'testing'\n",
    "table = 'drug_strength'\n",
    "database = 'dws_omop'\n",
    "omop = OneFLDb('edw', database=database)\n",
    "\n",
    "tbdbc_dtypes = {10: int, 20:np.int64, 30:str}\n",
    "\n",
    "options = make_options(use_async_io=True,\n",
    "                       prefer_unicode=True,\n",
    "                       fetch_wchar_as_char=True)\n",
    "\n",
    "connection = connect(driver='{SQL Server}', server='edw.shands.ufl.edu', \n",
    "                     database=database, trusted_connection='yes', turbodbc_options=options)\n",
    "\n",
    "#get table data types\n",
    "cursor = connection.cursor()\n",
    "cursor.execute(f'select top 1 * from {schema}.{table}')\n",
    "dtypes = {t[0]:t[1] for t in cursor.description}\n",
    "# cursor.close()  \n",
    "\n",
    "for t in dtypes.keys():\n",
    "    if dtypes[t] == 10:\n",
    "        dtypes[t] = np.int64\n",
    "    elif dtypes[t] == 20:\n",
    "        dtypes[t] = float\n",
    "    else:\n",
    "        dtypes[t] = str\n",
    "\n",
    "try:\n",
    "    next(pd.read_csv(f'z:/OMOP_CDM/Vocabulary_v5x/{table.upper()}.csv', chunksize=1000, dtype=dtypes, sep='\\t'))\n",
    "    \n",
    "    chunks = pd.read_csv(f'z:/OMOP_CDM/Vocabulary_v5x/{table.upper()}.csv', keep_default_na=False,\n",
    "                     chunksize=100000, dtype=dtypes, sep='\\t')\n",
    "except ValueError as e:\n",
    "    chunks = pd.read_csv(f'z:/OMOP_CDM/Vocabulary_v5x/{table.upper()}.csv', chunksize=100000, keep_default_na=False, dtype=str, sep='\\t')\n",
    "\n",
    "\n",
    "count = 0\n",
    "for chunk in chunks:\n",
    "    if count == 0:\n",
    "        columns = ','.join(chunk.columns)\n",
    "        n_cols = len(chunk.columns)\n",
    "        placehl = ','.join(['?']*n_cols)\n",
    "        count=+1\n",
    "\n",
    "    else: break\n",
    "        \n",
    "chunk = chunk.where(pd.notnull(chunk.replace('', np.nan)), None)\n",
    "\n",
    "insert_query = f\"\"\"\n",
    "        set ansi_warnings off; \n",
    "        insert into {schema}.{table} ({columns})\n",
    "        values ({placehl})\n",
    "        set ansi_warnings on\n",
    "    \"\"\"\n",
    "\n",
    "truncate_str = f'truncate table {schema}.{table}'\n",
    "cursor.execute(truncate_str)\n",
    "connection.commit()\n",
    "\n",
    "with timeitc(f'Importing {table}'):\n",
    "    cursor.executemanycolumns(insert_query, [np.ascontiguousarray(chunk[col].values) for col in chunk.columns])\n",
    "    connection.commit()\n",
    "\n",
    "connection.close()"
   ]
  },
  {
   "cell_type": "code",
   "execution_count": 41,
   "metadata": {
    "jupyter": {
     "source_hidden": true
    },
    "tags": []
   },
   "outputs": [],
   "source": [
    "# loinc = pd.read_csv('/OMOP/omop_etl/xref/loinc.csv', sep='\\t')\n",
    "# source_to_concept = loinc = pd.read_csv('/OMOP/omop_etl/xref/source_to_concept_map.csv', sep='\\t')"
   ]
  },
  {
   "cell_type": "code",
   "execution_count": 42,
   "metadata": {
    "jupyter": {
     "source_hidden": true
    },
    "tags": []
   },
   "outputs": [],
   "source": [
    "# with omop.engine.connect() as con:\n",
    "#     loinc.to_sql('loinc', con, schema='xref', index=False, if_exists='append')\n",
    "#     source_to_concept.to_sql('source_to_concept_map', con, schema='xref', index=False, if_exists='append')"
   ]
  },
  {
   "cell_type": "code",
   "execution_count": 4,
   "metadata": {
    "jupyter": {
     "source_hidden": true
    },
    "tags": []
   },
   "outputs": [],
   "source": [
    "# truncate_str = f'truncate table {schema}.{table}'\n",
    "# cursor.execute(truncate_str)\n",
    "# connection.commit()\n",
    "    \n",
    "# with timeitc(f'Importing {table}'):\n",
    "#     with omop.engine.connect() as con:\n",
    "#         chunk.to_sql(table, con, schema='testing', index=False, if_exists='append')"
   ]
  },
  {
   "cell_type": "code",
   "execution_count": 1,
   "metadata": {},
   "outputs": [],
   "source": [
    "import os\n",
    "from omop_etl.io import import_csv"
   ]
  },
  {
   "cell_type": "code",
   "execution_count": 3,
   "metadata": {},
   "outputs": [
    {
     "name": "stdout",
     "output_type": "stream",
     "text": [
      "Importing data into table concept finished in 00:08:38\n",
      "Processing table concept, please wait\n",
      " 6581661 rows affected\n",
      "Importing data into table concept_ancestor finished in 00:57:33\n",
      "Processing table concept_ancestor, please wait\n",
      " 73470571 rows affected\n",
      "Importing data into table concept_class finished in 00:00:00\n",
      "Processing table concept_class, please wait\n",
      " 414 rows affected\n",
      "Importing data into table concept_relationship finished in 00:37:26\n",
      "Processing table concept_relationship, please wait\n",
      " 47733858 rows affected\n",
      "Importing data into table concept_synonym finished in 00:01:30\n",
      "Processing table concept_synonym, please wait\n",
      " 2180766 rows affected\n",
      "Importing data into table domain finished in 00:00:00\n",
      "Processing table domain, please wait\n",
      " 48 rows affected\n",
      "Importing data into table drug_strength finished in 00:03:48\n",
      "Processing table drug_strength, please wait\n",
      " 2829860 rows affected\n",
      "Importing data into table relationship finished in 00:00:00\n",
      "Processing table relationship, please wait\n",
      " 618 rows affected\n",
      "Importing data into table vocabulary finished in 00:00:00\n",
      "Processing table vocabulary, please wait\n",
      " 92 rows affected\n"
     ]
    }
   ],
   "source": [
    "schema = 'testing'\n",
    "# table = 'concept'\n",
    "database = 'dws_omop'\n",
    "server='edw.shands.ufl.edu'\n",
    "project_dir = 'z:/OMOP_CDM/Vocabulary_v5x/'\n",
    "\n",
    "tables = ['concept', 'concept_ancestor','concept_class', 'concept_relationship', 'concept_synonym',\n",
    "          'domain', 'drug_strength', 'relationship', 'vocabulary']\n",
    "\n",
    "# for table in tables:\n",
    "#     filepath = os.path.join(project_dir, f'{table.upper()}.csv')\n",
    "#     print(f'Processing table {table}, please wait\\n')\n",
    "#     print(import_csv(filepath, table, 1e6, schema, server, database, keep_default_na=False, sep='\\t'))"
   ]
  },
  {
   "cell_type": "code",
   "execution_count": null,
   "metadata": {},
   "outputs": [],
   "source": []
  }
 ],
 "metadata": {
  "kernelspec": {
   "display_name": "Python 3",
   "language": "python",
   "name": "python3"
  },
  "language_info": {
   "codemirror_mode": {
    "name": "ipython",
    "version": 3
   },
   "file_extension": ".py",
   "mimetype": "text/x-python",
   "name": "python",
   "nbconvert_exporter": "python",
   "pygments_lexer": "ipython3",
   "version": "3.7.4"
  },
  "toc-autonumbering": false,
  "toc-showcode": false,
  "toc-showmarkdowntxt": false
 },
 "nbformat": 4,
 "nbformat_minor": 4
}
