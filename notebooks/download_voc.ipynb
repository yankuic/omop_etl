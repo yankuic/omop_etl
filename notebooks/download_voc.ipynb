{
 "metadata": {
  "language_info": {
   "codemirror_mode": {
    "name": "ipython",
    "version": 3
   },
   "file_extension": ".py",
   "mimetype": "text/x-python",
   "name": "python",
   "nbconvert_exporter": "python",
   "pygments_lexer": "ipython3",
   "version": "3.7.4-final"
  },
  "orig_nbformat": 2,
  "kernelspec": {
   "name": "python3",
   "display_name": "Python 3",
   "language": "python"
  }
 },
 "nbformat": 4,
 "nbformat_minor": 2,
 "cells": [
  {
   "cell_type": "code",
   "execution_count": 1,
   "metadata": {},
   "outputs": [],
   "source": [
    "from robobrowser import RoboBrowser"
   ]
  },
  {
   "cell_type": "code",
   "execution_count": 2,
   "metadata": {},
   "outputs": [],
   "source": [
    "br = RoboBrowser()"
   ]
  },
  {
   "cell_type": "code",
   "execution_count": 3,
   "metadata": {},
   "outputs": [],
   "source": [
    "br.open(\"https://athena.ohdsi.org/search-terms\")"
   ]
  },
  {
   "cell_type": "code",
   "execution_count": 12,
   "metadata": {},
   "outputs": [],
   "source": [
    "form = br.get_form(id='ac-form')"
   ]
  },
  {
   "cell_type": "code",
   "execution_count": 13,
   "metadata": {},
   "outputs": [],
   "source": [
    "form"
   ]
  },
  {
   "cell_type": "code",
   "execution_count": 31,
   "metadata": {
    "tags": []
   },
   "outputs": [
    {
     "output_type": "stream",
     "name": "stdout",
     "text": [
      "200 \nb'<!doctype html><html><head><title>Athena</title><meta charset=\"utf-8\"></head><body><div id=\"app\"></div><script src=\"/app.8c4752a6a5522cba6e9f.js?8c4752a6a5522cba6e9f\" charset=\"UTF-8\"></script></body></html>'\n"
     ]
    }
   ],
   "source": [
    "from http import client\n",
    "c = client.HTTPSConnection(\"athena.ohdsi.org/\")\n",
    "c.request(\"GET\", \"/\")\n",
    "response = c.getresponse()\n",
    "print(response.status, response.reason)\n",
    "data = response.read()\n",
    "print(data)"
   ]
  },
  {
   "cell_type": "code",
   "execution_count": 39,
   "metadata": {},
   "outputs": [],
   "source": [
    "import requests\n",
    "from bs4 import BeautifulSoup\n",
    "\n",
    "BASE_URL = 'https://cas.odysseusinc.com/cas/login'\n",
    "USERNAME = \"yankuic@ufl.edu\"\n",
    "PASSWORD = \"7DSrMx7JNTHaXEM\"\n",
    "\n",
    "s = requests.Session()\n",
    "\n",
    "data = {\"username\": USERNAME, \"password\": PASSWORD}\n",
    "r = s.post(f'{BASE_URL}', data=data)"
   ]
  },
  {
   "cell_type": "code",
   "execution_count": 40,
   "metadata": {},
   "outputs": [
    {
     "output_type": "execute_result",
     "data": {
      "text/plain": [
       "<Response [200]>"
      ]
     },
     "metadata": {},
     "execution_count": 40
    }
   ],
   "source": [
    "r"
   ]
  },
  {
   "cell_type": "code",
   "execution_count": null,
   "metadata": {},
   "outputs": [],
   "source": []
  }
 ]
}