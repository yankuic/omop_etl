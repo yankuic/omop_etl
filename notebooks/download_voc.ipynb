{
 "cells": [
  {
   "cell_type": "markdown",
   "source": [
    "# New command: vocab --update\r\n",
    "\r\n",
    "The script will perform the following actions:\r\n",
    "\r\n",
    "- Request a new vocabulary version from [Athena](https://athena.ohdsi.org). A list of vocabularies used is in config.yml.\r\n",
    "- Download vocabulary zip file.\r\n",
    "- Unzip vocabulary file retrieved from Athena.\r\n",
    "- Update CPT4 codes using cpt.bat tool provided.\r\n",
    "\r\n",
    "Optional step\r\n",
    "\r\n",
    "- Import vocabulary tables into project database.\r\n",
    "\r\n",
    "Requires an Athena account to download the vocabulary tables and api_key from the [NLM](https://uts.nlm.nih.gov) to update CPT4 codes.\r\n",
    "\r\n",
    "TODO:\r\n",
    "\r\n",
    "- get an account that everyone can access\r\n",
    "- implement request credentials\r\n",
    "- implement request api_key"
   ],
   "metadata": {}
  },
  {
   "cell_type": "markdown",
   "source": [
    "# Download vocabulary"
   ],
   "metadata": {}
  },
  {
   "cell_type": "code",
   "execution_count": 1,
   "source": [
    "import os\r\n",
    "import glob\r\n",
    "import time\r\n",
    "import yaml\r\n",
    "from selenium import webdriver\r\n",
    "from selenium.webdriver.remote.errorhandler import NoSuchElementException\r\n",
    "from datetime import datetime as dt\r\n",
    "\r\n",
    "from omop_etl.utils import timeitc\r\n",
    "from omop_etl.load import Loader\r\n",
    "from omop_etl.utils import search"
   ],
   "outputs": [],
   "metadata": {}
  },
  {
   "cell_type": "code",
   "execution_count": 2,
   "source": [
    "config = r'\\\\share.ahc.ufl.edu\\share$\\DSS\\IDR_Projects\\COVID-19\\OMOP\\new_pipeline\\config.yml'\r\n",
    "config = r'\\\\share.ahc.ufl.edu\\share$\\DSS\\IDR_Projects\\Cancer_Center\\omop_cc_etl\\config.yml'\r\n",
    "loader = Loader(config)\r\n",
    "download_dir = os.path.join(loader.config.project_dir, 'vocabulary')"
   ],
   "outputs": [],
   "metadata": {}
  },
  {
   "cell_type": "code",
   "execution_count": 3,
   "source": [
    "def athena_driver(username, password, chrome_path, headless=True, download_dir=None):\r\n",
    "    options = webdriver.ChromeOptions()\r\n",
    "    options.add_argument(\"--incognito\")\r\n",
    "    options.add_argument('window-size=1680x900')\r\n",
    "    options.headless = headless\r\n",
    "    if download_dir:\r\n",
    "        options.add_experimental_option('prefs', {'download.default_directory': download_dir})\r\n",
    "    driver = webdriver.Chrome(executable_path=chrome_path, options=options)\r\n",
    "    driver.set_window_position(0,0)\r\n",
    "    driver.set_window_size(1200, 1375)\r\n",
    "    driver.set_page_load_timeout(15)\r\n",
    "    \r\n",
    "    driver.get(\"https://athena.ohdsi.org/\")\r\n",
    "    driver.find_element_by_xpath('/html/body/div/div/div[4]/div[2]/div/div[2]/div[2]/button').click()\r\n",
    "    driver.find_element_by_xpath('/html/body/div/div/header/nav/div[3]/a').click()\r\n",
    "    driver.find_element_by_xpath('/html/body/div/div/div[1]/div/div[2]/div/button').click()\r\n",
    "\r\n",
    "    main_window = driver.current_window_handle\r\n",
    "    for handle in driver.window_handles:\r\n",
    "        if handle != main_window:\r\n",
    "            popup = handle\r\n",
    "            driver.switch_to.window(popup)\r\n",
    "\r\n",
    "    driver.find_element_by_xpath('//*[@id=\"username\"]').send_keys(username)\r\n",
    "    driver.find_element_by_xpath('//*[@id=\"password\"]').send_keys(password)\r\n",
    "    driver.find_element_by_xpath('/html/body/div[1]/div/div/div[2]/div/form/section[3]/input[4]').click()\r\n",
    "    driver.switch_to.window(driver.window_handles[0])\r\n",
    "\r\n",
    "    return driver "
   ],
   "outputs": [],
   "metadata": {}
  },
  {
   "cell_type": "code",
   "execution_count": 11,
   "source": [
    "def request_new_vocabulary_file(driver, vocabularies):\r\n",
    "    driver.get('https://athena.ohdsi.org/search-terms/start')\r\n",
    "    driver.find_element_by_xpath('/html/body/div/div/header/nav/div[3]/div/a/div[2]').click()\r\n",
    "    driver.find_element_by_xpath('//*[@id=\"app\"]/div/header/nav/div[3]/div/div/div/a[1]').click()\r\n",
    "    driver.find_element_by_xpath('//*[@id=\"app\"]/div/header/nav/div[2]/a').click()\r\n",
    "    \r\n",
    "    # double click on select all to make sure no vocab is selected \r\n",
    "    driver.find_element_by_xpath('//*[@id=\"app\"]/div/div[1]/div[2]/table/thead/tr/th[1]/label').click()\r\n",
    "    driver.find_element_by_xpath('//*[@id=\"app\"]/div/div[1]/div[2]/table/thead/tr/th[1]/label').click()\r\n",
    "\r\n",
    "    # Select vocabularies\r\n",
    "    checkboxes = driver.find_elements_by_css_selector(\"#app > div > div.at-vocabs > div.at-vocabularies > table > tbody > tr\")\r\n",
    "    \r\n",
    "    for checkbox in checkboxes:\r\n",
    "        cls = checkbox.find_element_by_class_name('at-vocabularies__code-td')\r\n",
    "        if cls.text in vocabularies:\r\n",
    "            checkbox.click()\r\n",
    "            print(f'Vocabulary {cls.text} was selected')\r\n",
    "    \r\n",
    "    datestamp = dt.today().strftime('%m_%d_%Y')\r\n",
    "    driver.find_element_by_xpath('//*[@id=\"app\"]/div/div[1]/div[1]/button').click()\r\n",
    "    driver.find_element_by_xpath('//*[@id=\"app\"]/div/div[1]/div[3]/div[2]/div/div[2]/form/div/div[1]/input').send_keys(f'vocabulary_5x_{datestamp}')\r\n",
    "    \r\n",
    "    # Request vocab file\r\n",
    "    driver.find_element_by_xpath('//*[@id=\"app\"]/div/div[1]/div[3]/div[2]/div/div[2]/form/div/div[2]/button[1]').click()\r\n",
    "\r\n",
    "    #return to main page\r\n",
    "    driver.get('https://athena.ohdsi.org/search-terms/start')"
   ],
   "outputs": [],
   "metadata": {}
  },
  {
   "cell_type": "code",
   "execution_count": 23,
   "source": [
    "def download_vocabulary_file(driver, get_last=True, vocabulary_name=None, archive=True):\r\n",
    "    \"\"\"Download most recent vocabulary file.\"\"\"\r\n",
    "    driver.get('https://athena.ohdsi.org/search-terms/start')\r\n",
    "    driver.find_element_by_xpath('/html/body/div/div/header/nav/div[3]/div/a/div[2]').click()\r\n",
    "    driver.find_element_by_xpath('//*[@id=\"app\"]/div/header/nav/div[3]/div/div/div/a[1]').click()\r\n",
    "    driver.find_element_by_xpath('//*[@id=\"app\"]/div/header/nav/div[3]/div').click()\r\n",
    "    buttons = driver.find_elements_by_class_name(\"react-sanfona-item\")\r\n",
    "\r\n",
    "    if get_last:\r\n",
    "        button = buttons[0]\r\n",
    "        tool = button.find_element_by_class_name('ac-toolbar')\r\n",
    "        status = tool.text.split()[-1]\r\n",
    "\r\n",
    "        if status == 'DOWNLOADSHAREARCHIVE': \r\n",
    "            driver.find_element_by_xpath('//*[@id=\"app\"]/div/div[1]/div[2]/div[1]/div[1]/ul/li/div/button[1]').click()\r\n",
    "            if archive:\r\n",
    "                time.sleep(30)\r\n",
    "                driver.find_element_by_xpath('//*[@id=\"app\"]/div/div[1]/div[2]/div[1]/div[1]/ul/li/div/button[3]').click()\r\n",
    "\r\n",
    "        elif status == 'ARCHIVEDRESTORE':\r\n",
    "            driver.find_element_by_xpath('//*[@id=\"app\"]/div/div[1]/div[2]/div[1]/div[1]/ul/li/div/button').click()\r\n",
    "            time.sleep(2)\r\n",
    "            tool = button.find_element_by_class_name('ac-toolbar')\r\n",
    "            status = tool.text.split()[-1]\r\n",
    "\r\n",
    "        while status == 'PENDING':\r\n",
    "            print('Restoring vocabulary, please wait.', end='\\r')\r\n",
    "            time.sleep(60)\r\n",
    "            tool = button.find_element_by_class_name('ac-toolbar')\r\n",
    "            status = tool.text.split()[-1]\r\n",
    "\r\n",
    "            if status == 'DOWNLOADSHAREARCHIVE':\r\n",
    "                time.sleep(30)\r\n",
    "                driver.find_element_by_xpath('//*[@id=\"app\"]/div/div[1]/div[2]/div[1]/div[1]/ul/li/div/button[1]').click()\r\n",
    "                print(\"Download started\")\r\n",
    "                if archive:\r\n",
    "                    time.sleep(30)\r\n",
    "                    driver.find_element_by_xpath('//*[@id=\"app\"]/div/div[1]/div[2]/div[1]/div[1]/ul/li/div/button[3]').click() "
   ],
   "outputs": [],
   "metadata": {}
  },
  {
   "cell_type": "code",
   "execution_count": 7,
   "source": [
    "# Enter your Athena credentials to login\r\n",
    "USERNAME = \"yankuic@ufl.edu\"\r\n",
    "PASSWORD = \"7DSrMx7JNTHaXEM\"\r\n",
    "path = r'Z:\\OMOP_CDM'\r\n",
    "athena = athena_driver(USERNAME, PASSWORD, loader.chrome_path, headless=True, download_dir=download_dir)"
   ],
   "outputs": [],
   "metadata": {}
  },
  {
   "cell_type": "code",
   "execution_count": 12,
   "source": [
    "request_new_vocabulary_file(athena, loader.config.vocabularies)"
   ],
   "outputs": [
    {
     "output_type": "stream",
     "name": "stdout",
     "text": [
      "Vocabulary SNOMED was selected\n",
      "Vocabulary ICD9CM was selected\n",
      "Vocabulary ICD9Proc was selected\n",
      "Vocabulary CPT4 was selected\n",
      "Vocabulary HCPCS was selected\n",
      "Vocabulary LOINC was selected\n",
      "Vocabulary NDFRT was selected\n",
      "Vocabulary RxNorm was selected\n",
      "Vocabulary NDC was selected\n",
      "Vocabulary Gender was selected\n",
      "Vocabulary Race was selected\n",
      "Vocabulary CMS Place of Service was selected\n",
      "Vocabulary ATC was selected\n",
      "Vocabulary VA Product was selected\n",
      "Vocabulary VA Class was selected\n",
      "Vocabulary ICD10 was selected\n",
      "Vocabulary ICD10PCS was selected\n",
      "Vocabulary DRG was selected\n",
      "Vocabulary MDC was selected\n",
      "Vocabulary APC was selected\n",
      "Vocabulary Revenue Code was selected\n",
      "Vocabulary Ethnicity was selected\n",
      "Vocabulary MeSH was selected\n",
      "Vocabulary NUCC was selected\n",
      "Vocabulary Medicare Specialty was selected\n",
      "Vocabulary SPL was selected\n",
      "Vocabulary GCN_SEQNO was selected\n",
      "Vocabulary OPCS4 was selected\n",
      "Vocabulary HES Specialty was selected\n",
      "Vocabulary PCORNet was selected\n",
      "Vocabulary Currency was selected\n",
      "Vocabulary ICD10CM was selected\n",
      "Vocabulary ABMS was selected\n",
      "Vocabulary dm+d was selected\n",
      "Vocabulary EphMRA ATC was selected\n",
      "Vocabulary NFC was selected\n",
      "Vocabulary RxNorm Extension was selected\n",
      "Vocabulary MMI was selected\n",
      "Vocabulary Specimen Type was selected\n",
      "Vocabulary CVX was selected\n",
      "Vocabulary ICDO3 was selected\n",
      "Vocabulary GGR was selected\n",
      "Vocabulary MEDRT was selected\n",
      "Vocabulary Episode Type was selected\n",
      "Vocabulary Provider was selected\n",
      "Vocabulary Supplier was selected\n",
      "Vocabulary HemOnc was selected\n",
      "Vocabulary NAACCR was selected\n",
      "Vocabulary CTD was selected\n",
      "Vocabulary OMOP Extension was selected\n",
      "Vocabulary CIViC was selected\n",
      "Vocabulary JAX was selected\n",
      "Vocabulary NCIt was selected\n",
      "Vocabulary Cancer Modifier was selected\n",
      "Vocabulary OPS was selected\n",
      "Vocabulary CCAM was selected\n"
     ]
    }
   ],
   "metadata": {}
  },
  {
   "cell_type": "code",
   "execution_count": 22,
   "source": [
    "# request_new_vocabulary_file(athena)\r\n",
    "download_vocabulary_file(athena)\r\n",
    "# athena.find_element_by_xpath('//*[@id=\"app\"]/div/div[1]/div[2]/div[2]/div[1]/ul/li/div/button').click()"
   ],
   "outputs": [
    {
     "output_type": "stream",
     "name": "stdout",
     "text": [
      "Download started\n"
     ]
    }
   ],
   "metadata": {}
  },
  {
   "cell_type": "code",
   "execution_count": 34,
   "source": [
    "# method to get the downloaded file name\r\n",
    "def get_downloaded_filename():\r\n",
    "     zip_list = glob.glob(download_dir + '/*.zip')\r\n",
    "     last_zip = max(zip_list, key=os.path.getctime)\r\n",
    "     return last_zip"
   ],
   "outputs": [],
   "metadata": {}
  },
  {
   "cell_type": "code",
   "execution_count": 26,
   "source": [
    "# athena.execute_script(\"return document.querySelector('downloads-manager').shadowRoot.querySelector('#downloadsList downloads-item').shadowRoot.querySelector('#progress').value\")\r\n",
    "# athena.execute_script(\"return document.querySelector('downloads-manager').shadowRoot.querySelector('#downloadsList downloads-item').shadowRoot.querySelector('div#content  #file-link').text\")"
   ],
   "outputs": [],
   "metadata": {}
  },
  {
   "cell_type": "code",
   "execution_count": 35,
   "source": [
    "filename = get_downloaded_filename()\r\n",
    "filename"
   ],
   "outputs": [
    {
     "output_type": "execute_result",
     "data": {
      "text/plain": [
       "'\\\\\\\\share.ahc.ufl.edu\\\\share$\\\\DSS\\\\IDR_Projects\\\\COVID-19\\\\OMOP\\\\new_pipeline\\\\vocabulary\\\\vocabulary_download_v5_{eb084edd-3ac2-4259-9e48-726252e24edd}_1630083285143.zip'"
      ]
     },
     "metadata": {},
     "execution_count": 35
    }
   ],
   "metadata": {}
  },
  {
   "cell_type": "code",
   "execution_count": 36,
   "source": [
    "athena.close()"
   ],
   "outputs": [],
   "metadata": {}
  },
  {
   "cell_type": "markdown",
   "source": [
    "# Unzip vocabulary files"
   ],
   "metadata": {}
  },
  {
   "cell_type": "code",
   "execution_count": 37,
   "source": [
    "import zipfile\r\n",
    "\r\n",
    "with zipfile.ZipFile(filename) as z:\r\n",
    "    csv = [f.filename for f in z.filelist if search('csv', f.filename)]\r\n",
    "    not_csv = [f.filename for f in z.filelist if f.filename not in csv]\r\n",
    "    z.extractall(download_dir)\r\n",
    "    print('Vocabulary files were extracted.')"
   ],
   "outputs": [
    {
     "output_type": "stream",
     "name": "stdout",
     "text": [
      "Vocabulary files were extracted.\n"
     ]
    }
   ],
   "metadata": {}
  },
  {
   "cell_type": "markdown",
   "source": [
    "# Update CPT4 codes"
   ],
   "metadata": {}
  },
  {
   "cell_type": "code",
   "execution_count": 38,
   "source": [
    "# requires api_key from https://uts.nlm.nih.gov\r\n",
    "api_key = '189a8df1-7922-4d9f-a1c3-80a8db7c5397'\r\n",
    "os.system(f'pushd {download_dir} && cpt.bat {api_key} && popd')"
   ],
   "outputs": [
    {
     "output_type": "execute_result",
     "data": {
      "text/plain": [
       "0"
      ]
     },
     "metadata": {},
     "execution_count": 38
    }
   ],
   "metadata": {}
  },
  {
   "cell_type": "code",
   "execution_count": 39,
   "source": [
    "# Clean up directory\r\n",
    "os.remove(os.path.join(download_dir, filename))\r\n",
    "[os.remove(os.path.join(download_dir, f)) for f in not_csv]"
   ],
   "outputs": [
    {
     "output_type": "execute_result",
     "data": {
      "text/plain": [
       "[None, None, None, None]"
      ]
     },
     "metadata": {},
     "execution_count": 39
    }
   ],
   "metadata": {}
  },
  {
   "cell_type": "markdown",
   "source": [
    "# Import vocabulary tables into project database"
   ],
   "metadata": {}
  },
  {
   "cell_type": "code",
   "execution_count": 3,
   "source": [
    "import os\r\n",
    "from omop_etl.io import import_csv\r\n",
    "\r\n",
    "schema = 'xref'\r\n",
    "# table = 'concept'\r\n",
    "database = 'dws_omop'\r\n",
    "server='dwsrsrch01.***REMOVED***.edu'\r\n",
    "\r\n",
    "tables = ['concept', 'concept_ancestor','concept_class', 'concept_relationship', 'concept_synonym',\r\n",
    "          'domain', 'drug_strength', 'relationship', 'vocabulary', 'source_to_concept_map']\r\n",
    "\r\n",
    "for table in tables:\r\n",
    "    filepath = os.path.join(download_dir, f'{table.upper()}.csv')\r\n",
    "    print(f'Processing table {table}, please wait')\r\n",
    "    print(import_csv(filepath, table, 1e6, schema, server, database, keep_default_na=False, sep='\\t'))"
   ],
   "outputs": [
    {
     "output_type": "stream",
     "name": "stdout",
     "text": [
      "Processing table concept, please wait\n",
      "Importing data into table concept finished in 00:06:10\n",
      "6567004 rows affected\n",
      "Processing table concept_ancestor, please wait\n",
      "Importing data into table concept_ancestor finished in 00:39:44\n",
      "73942777 rows affected\n",
      "Processing table concept_class, please wait\n",
      "Importing data into table concept_class finished in 00:00:00\n",
      "415 rows affected\n",
      "Processing table concept_relationship, please wait\n",
      "Importing data into table concept_relationship finished in 00:30:07\n",
      "47754428 rows affected\n",
      "Processing table concept_synonym, please wait\n",
      "Importing data into table concept_synonym finished in 00:01:26\n",
      "2176340 rows affected\n",
      "Processing table domain, please wait\n",
      "Importing data into table domain finished in 00:00:00\n",
      "48 rows affected\n",
      "Processing table drug_strength, please wait\n",
      "Importing data into table drug_strength finished in 00:02:06\n",
      "2840468 rows affected\n",
      "Processing table relationship, please wait\n",
      "Importing data into table relationship finished in 00:00:00\n",
      "622 rows affected\n",
      "Processing table vocabulary, please wait\n",
      "Importing data into table vocabulary finished in 00:00:00\n",
      "92 rows affected\n",
      "Processing table source_to_concept_map, please wait\n",
      "Importing data into table source_to_concept_map finished in 00:00:00\n",
      "167 rows affected\n"
     ]
    }
   ],
   "metadata": {}
  },
  {
   "cell_type": "markdown",
   "source": [
    "# Legacy code\r\n",
    "\r\n",
    "Code used for experimentation prior implementing into omop_etl app. Keeping for future reference."
   ],
   "metadata": {}
  },
  {
   "cell_type": "code",
   "execution_count": 62,
   "source": [
    "# import glob, os\r\n",
    "# path = r'Z:\\OMOP_CDM'\r\n",
    "# csv_list = glob.glob(path + '/*.zip')\r\n",
    "# last_zip = max(csv_list, key=os.path.getctime)\r\n",
    "# last_zip"
   ],
   "outputs": [],
   "metadata": {}
  },
  {
   "cell_type": "code",
   "execution_count": 12,
   "source": [
    "## athena.switch_to.window(athena.window_handles[0])\r\n",
    "# athena.get('https://athena.ohdsi.org/search-terms/start')\r\n",
    "# athena.find_element_by_xpath('/html/body/div/div/header/nav/div[3]/div/a/div[2]').click()\r\n",
    "# athena.find_element_by_xpath('//*[@id=\"app\"]/div/header/nav/div[3]/div/div/div/a[1]').click()\r\n",
    "# athena.find_element_by_xpath('//*[@id=\"app\"]/div/header/nav/div[3]/div').click()\r\n",
    "# buttons = athena.find_elements_by_class_name(\"react-sanfona-item\")\r\n",
    "# last = True\r\n",
    "# archive = False\r\n",
    "# if last:\r\n",
    "#     button = buttons[0]\r\n",
    "#     tool = button.find_element_by_class_name('ac-toolbar')\r\n",
    "#     status = tool.text.split()[-1]\r\n",
    "#     if status == 'DOWNLOADSHAREARCHIVE': \r\n",
    "#         athena.find_element_by_xpath('//*[@id=\"app\"]/div/div[1]/div[2]/div[1]/div[1]/ul/li/div/button[1]').click()\r\n",
    "#         if archive:\r\n",
    "#             time.sleep(30)\r\n",
    "#             athena.find_element_by_xpath('//*[@id=\"app\"]/div/div[1]/div[2]/div[1]/div[1]/ul/li/div/button[3]').click()\r\n",
    "#     elif status == 'ARCHIVEDRESTORE':\r\n",
    "#         athena.find_element_by_xpath('//*[@id=\"app\"]/div/div[1]/div[2]/div[1]/div[1]/ul/li/div/button').click()\r\n",
    "#         time.sleep(2)\r\n",
    "#         tool = button.find_element_by_class_name('ac-toolbar')\r\n",
    "#         status = tool.text.split()[-1]\r\n",
    "#         while status == 'PENDING':\r\n",
    "#             print('Restoring vocabulary, please wait.', end='\\r')\r\n",
    "#             time.sleep(60)\r\n",
    "#             tool = button.find_element_by_class_name('ac-toolbar')\r\n",
    "#             status = tool.text.split()[-1]\r\n",
    "#             if status == 'DOWNLOADSHAREARCHIVE':\r\n",
    "#                 time.sleep(30)\r\n",
    "#                 athena.find_element_by_xpath('//*[@id=\"app\"]/div/div[1]/div[2]/div[1]/div[1]/ul/li/div/button[1]').click()\r\n",
    "#                 print(\"Download started\")\r\n",
    "#                 if archive:\r\n",
    "#                     time.sleep(30)\r\n",
    "#                     athena.find_element_by_xpath('//*[@id=\"app\"]/div/div[1]/div[2]/div[1]/div[1]/ul/li/div/button[3]').click()                \r\n",
    "#     elif status == 'PENDING':\r\n",
    "#         print('Restoring vocabulary, try again later.')"
   ],
   "outputs": [
    {
     "output_type": "stream",
     "name": "stdout",
     "text": [
      "Restoring vocabulary, try again later.\n"
     ]
    }
   ],
   "metadata": {
    "jupyter": {
     "source_hidden": true
    },
    "tags": []
   }
  },
  {
   "cell_type": "code",
   "execution_count": 7,
   "source": [
    "# import datetime\r\n",
    "# import time\r\n",
    "# import math\r\n",
    "# from pydma.utils import timeit_context\r\n",
    "# import pandas as pd\r\n",
    "# import numpy as np\r\n",
    "# import numpy.ma as ma\r\n",
    "# from turbodbc import connect\r\n",
    "# from turbodbc.exceptions import DatabaseError, InterfaceError\r\n",
    "# from pydma.databases import OneFLDb\r\n",
    "\r\n",
    "# database='DWS_CC_OMOP'\r\n",
    "# omop = OneFLDb('edw', database=database)\r\n",
    "# today = datetime.datetime.today()\r\n",
    "# date_flag = today.strftime('%Y%m%d')\r\n",
    "# schema = 'xref'\r\n",
    "\r\n",
    "# t_connection = connect(driver='{SQL Server}', server='edw.***REMOVED***.edu', \r\n",
    "#               database=database, trusted_connection='yes')\r\n",
    "\r\n",
    "# tables = ['concept']#, 'concept_ancestor','concept_class', 'concept_relationship', 'concept_synonym',\r\n",
    "# #           'domain', 'drug_strength', 'relationship', 'vocabulary']\r\n",
    "# df_debug = ''\r\n",
    "\r\n",
    "# for table in tables:\r\n",
    "#     # Truncate table\r\n",
    "#     cursor = t_connection.cursor()\r\n",
    "    \r\n",
    "#     sql = \"\"\"\\\r\n",
    "#         truncate table {}.{}\r\n",
    "#         \"\"\".format(schema, table)\r\n",
    "    \r\n",
    "#     # Use raw_connection to access data types.\r\n",
    "#     raw_connection = omop.engine.raw_connection()\r\n",
    "#     omop_cursor = raw_connection.cursor()\r\n",
    "#     omop_cursor.execute(sql)\r\n",
    "#     omop_cursor.commit()\r\n",
    "          \r\n",
    "#     # Retrieve sql data types \r\n",
    "#     omop_cursor.execute(f'select top 1 * from {schema}.{table}')\r\n",
    "#     dtypes = {t[0]:t[1] for t in omop_cursor.description}\r\n",
    "# #     nullable = [t[0] for t in omop_cursor.description if t[-1]]\r\n",
    "#     omop_cursor.close()\r\n",
    "#     raw_connection.close()\r\n",
    "    \r\n",
    "#     # Use turbodbc supported data types\r\n",
    "#     for t in dtypes.keys():\r\n",
    "#         if dtypes[t] is int:\r\n",
    "#             dtypes[t] = np.int64\r\n",
    "    \r\n",
    "#     if table == 'drug_strength':\r\n",
    "#         chunks = pd.read_csv(r'z:\\OMOP_CDM\\Vocabulary_v5x\\{}.csv'.format(table.upper()), #keep_default_na=False, \r\n",
    "#                              chunksize=1000000, sep='\\t', dtype=str, low_memory=False)\r\n",
    "\r\n",
    "#     else:\r\n",
    "#         chunks = pd.read_csv(r'z:\\OMOP_CDM\\Vocabulary_v5x\\{}.csv'.format(table.upper()), keep_default_na=False,\r\n",
    "#                          chunksize=1000000, dtype=dtypes, sep='\\t')\r\n",
    "    \r\n",
    "#     insert_query = \"\"\"\r\n",
    "#             SET ANSI_WARNINGS OFF\r\n",
    "            \r\n",
    "#             INSERT INTO {0}.{1} ({2})\r\n",
    "#             VALUES ({3})\r\n",
    "            \r\n",
    "#             SET ANSI_WARNINGS ON\r\n",
    "#         \"\"\"\r\n",
    "    \r\n",
    "#     remove_999 = \"\"\"\r\n",
    "#             update {0}.{1}\r\n",
    "#             set {2} = NULL\r\n",
    "#             where {2} = -999\r\n",
    "#     \"\"\"\r\n",
    "    \r\n",
    "#     count = 0\r\n",
    "#     rows_proc = 0\r\n",
    "#     with timeit_context(f'Processing table {table}'):\r\n",
    "#         print(f'Loading table {table} into schema {schema}. Please wait.')\r\n",
    "#         for chunk in chunks:\r\n",
    "            \r\n",
    "#             if table == 'drug_strength':\r\n",
    "                \r\n",
    "#                 for col in chunk.columns:\r\n",
    "#                     data_type = dtypes[col]\r\n",
    "#                     if data_type is np.int64:\r\n",
    "#                         chunk[col] = chunk[col].fillna(-999).astype(data_type)\r\n",
    "#                     elif data_type is str:\r\n",
    "#                         chunk[col] = chunk[col].fillna('').astype(data_type)\r\n",
    "                \r\n",
    "#             # Replace all NaN for None - turbodbc does not support NaN\r\n",
    "#             chunk = chunk.where((pd.notnull(chunk)), None)\r\n",
    "\r\n",
    "#             if count == 0:\r\n",
    "#                 columns = ','.join(chunk.columns)\r\n",
    "#                 n_cols = len(chunk.columns)\r\n",
    "#                 placehl = ','.join(['?']*n_cols)\r\n",
    "#                 count=+1\r\n",
    "\r\n",
    "#             insert_query = insert_query.format(schema, table, columns, placehl)\r\n",
    "\r\n",
    "#             try:\r\n",
    "#                 cursor.executemanycolumns(insert_query, [np.ascontiguousarray(chunk[col].values) for col in chunk.columns])\r\n",
    "#                 rows_proc = rows_proc + chunk.shape[0]\r\n",
    "#                 t_connection.commit()\r\n",
    "                                \r\n",
    "#             except (DatabaseError, InterfaceError, ValueError) as e:\r\n",
    "#                 df_debug = chunk\r\n",
    "#                 t_connection.rollback()\r\n",
    "#                 t_connection.close()\r\n",
    "#                 raise e\r\n",
    "    \r\n",
    "#     if table == 'drug_strength':\r\n",
    "        \r\n",
    "#         for col in chunk.columns:\r\n",
    "#             data_type = dtypes[col]\r\n",
    "#             if data_type is np.int64:\r\n",
    "#                 print(f'Cleaning up column {col}')\r\n",
    "#                 cursor.execute(remove_999.format(schema, table, col))\r\n",
    "#                 t_connection.commit()\r\n",
    "\r\n",
    "#     cursor.close()            \r\n",
    "#     print(f'Import complete: {rows_proc} rows processed')\r\n",
    "\r\n",
    "# t_connection.close()"
   ],
   "outputs": [],
   "metadata": {
    "jupyter": {
     "source_hidden": true
    },
    "tags": []
   }
  },
  {
   "cell_type": "code",
   "execution_count": 1,
   "source": [
    "# _BOOLEAN_CODE = 0\r\n",
    "# _INTEGER_CODE = 10\r\n",
    "# _FLOATING_POINT_CODE = 20\r\n",
    "# _STRING_CODE = 30\r\n",
    "# _UNICODE_CODE = 31\r\n",
    "# _TIMESTAMP_CODE = 40\r\n",
    "# _DATE_CODE = 41\r\n",
    "    \r\n",
    "# import datetime\r\n",
    "# import time\r\n",
    "# import math\r\n",
    "# from omop_etl.utils import timeitc\r\n",
    "# import pandas as pd\r\n",
    "# import numpy as np\r\n",
    "# from turbodbc import connect, make_options\r\n",
    "# from turbodbc.exceptions import DatabaseError, InterfaceError\r\n",
    "# from pydma.databases import OneFLDb\r\n",
    "\r\n",
    "# schema = 'testing'\r\n",
    "# table = 'drug_strength'\r\n",
    "# database = 'dws_omop'\r\n",
    "# omop = OneFLDb('edw', database=database)\r\n",
    "\r\n",
    "# tbdbc_dtypes = {10: int, 20:np.int64, 30:str}\r\n",
    "\r\n",
    "# options = make_options(use_async_io=True,\r\n",
    "#                        prefer_unicode=True,\r\n",
    "#                        fetch_wchar_as_char=True)\r\n",
    "\r\n",
    "# connection = connect(driver='{SQL Server}', server='edw.***REMOVED***.edu', \r\n",
    "#                      database=database, trusted_connection='yes', turbodbc_options=options)\r\n",
    "\r\n",
    "# #get table data types\r\n",
    "# cursor = connection.cursor()\r\n",
    "# cursor.execute(f'select top 1 * from {schema}.{table}')\r\n",
    "# dtypes = {t[0]:t[1] for t in cursor.description}\r\n",
    "# # cursor.close()  \r\n",
    "\r\n",
    "# for t in dtypes.keys():\r\n",
    "#     if dtypes[t] == 10:\r\n",
    "#         dtypes[t] = np.int64\r\n",
    "#     elif dtypes[t] == 20:\r\n",
    "#         dtypes[t] = float\r\n",
    "#     else:\r\n",
    "#         dtypes[t] = str\r\n",
    "\r\n",
    "# try:\r\n",
    "#     next(pd.read_csv(f'z:/OMOP_CDM/Vocabulary_v5x/{table.upper()}.csv', chunksize=1000, dtype=dtypes, sep='\\t'))\r\n",
    "    \r\n",
    "#     chunks = pd.read_csv(f'z:/OMOP_CDM/Vocabulary_v5x/{table.upper()}.csv', keep_default_na=False,\r\n",
    "#                      chunksize=100000, dtype=dtypes, sep='\\t')\r\n",
    "# except ValueError as e:\r\n",
    "#     chunks = pd.read_csv(f'z:/OMOP_CDM/Vocabulary_v5x/{table.upper()}.csv', chunksize=100000, keep_default_na=False, dtype=str, sep='\\t')\r\n",
    "\r\n",
    "\r\n",
    "# count = 0\r\n",
    "# for chunk in chunks:\r\n",
    "#     if count == 0:\r\n",
    "#         columns = ','.join(chunk.columns)\r\n",
    "#         n_cols = len(chunk.columns)\r\n",
    "#         placehl = ','.join(['?']*n_cols)\r\n",
    "#         count=+1\r\n",
    "\r\n",
    "#     else: break\r\n",
    "        \r\n",
    "# chunk = chunk.where(pd.notnull(chunk.replace('', np.nan)), None)\r\n",
    "\r\n",
    "# insert_query = f\"\"\"\r\n",
    "#         set ansi_warnings off; \r\n",
    "#         insert into {schema}.{table} ({columns})\r\n",
    "#         values ({placehl})\r\n",
    "#         set ansi_warnings on\r\n",
    "#     \"\"\"\r\n",
    "\r\n",
    "# truncate_str = f'truncate table {schema}.{table}'\r\n",
    "# cursor.execute(truncate_str)\r\n",
    "# connection.commit()\r\n",
    "\r\n",
    "# with timeitc(f'Importing {table}'):\r\n",
    "#     cursor.executemanycolumns(insert_query, [np.ascontiguousarray(chunk[col].values) for col in chunk.columns])\r\n",
    "#     connection.commit()\r\n",
    "\r\n",
    "# connection.close()"
   ],
   "outputs": [
    {
     "output_type": "stream",
     "name": "stdout",
     "text": [
      "Unable to import optional dependencies:\n",
      "selenium: No module named 'selenium'\n",
      "Importing drug_strength finished in 00:00:05\n"
     ]
    }
   ],
   "metadata": {
    "collapsed": true,
    "jupyter": {
     "outputs_hidden": true,
     "source_hidden": true
    },
    "tags": []
   }
  },
  {
   "cell_type": "code",
   "execution_count": 41,
   "source": [
    "# loinc = pd.read_csv('/OMOP/omop_etl/xref/loinc.csv', sep='\\t')\r\n",
    "# source_to_concept = loinc = pd.read_csv('/OMOP/omop_etl/xref/source_to_concept_map.csv', sep='\\t')"
   ],
   "outputs": [],
   "metadata": {
    "jupyter": {
     "source_hidden": true
    },
    "tags": []
   }
  },
  {
   "cell_type": "code",
   "execution_count": 42,
   "source": [
    "# with omop.engine.connect() as con:\r\n",
    "#     loinc.to_sql('loinc', con, schema='xref', index=False, if_exists='append')\r\n",
    "#     source_to_concept.to_sql('source_to_concept_map', con, schema='xref', index=False, if_exists='append')"
   ],
   "outputs": [],
   "metadata": {
    "jupyter": {
     "source_hidden": true
    },
    "tags": []
   }
  },
  {
   "cell_type": "code",
   "execution_count": 4,
   "source": [
    "# truncate_str = f'truncate table {schema}.{table}'\r\n",
    "# cursor.execute(truncate_str)\r\n",
    "# connection.commit()\r\n",
    "    \r\n",
    "# with timeitc(f'Importing {table}'):\r\n",
    "#     with omop.engine.connect() as con:\r\n",
    "#         chunk.to_sql(table, con, schema='testing', index=False, if_exists='append')"
   ],
   "outputs": [],
   "metadata": {
    "jupyter": {
     "source_hidden": true
    },
    "tags": []
   }
  },
  {
   "cell_type": "code",
   "execution_count": null,
   "source": [],
   "outputs": [],
   "metadata": {}
  }
 ],
 "metadata": {
  "interpreter": {
   "hash": "7c85ff1ad38d990bff1f8127f6f93832ae5b0f8f3376f1de851f2ae7a03d3a34"
  },
  "kernelspec": {
   "name": "python3",
   "display_name": "Python 3.7.10 64-bit ('omop': conda)"
  },
  "language_info": {
   "codemirror_mode": {
    "name": "ipython",
    "version": 3
   },
   "file_extension": ".py",
   "mimetype": "text/x-python",
   "name": "python",
   "nbconvert_exporter": "python",
   "pygments_lexer": "ipython3",
   "version": "3.7.10"
  },
  "toc-autonumbering": false,
  "toc-showcode": false,
  "toc-showmarkdowntxt": false
 },
 "nbformat": 4,
 "nbformat_minor": 4
}