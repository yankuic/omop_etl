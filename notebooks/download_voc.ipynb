{
 "cells": [
  {
   "cell_type": "code",
   "execution_count": 1,
   "metadata": {},
   "outputs": [],
   "source": [
    "from selenium import webdriver\n",
    "from selenium.webdriver.remote.errorhandler import NoSuchElementException\n",
    "from datetime import datetime as dt\n",
    "import yaml"
   ]
  },
  {
   "cell_type": "code",
   "execution_count": 2,
   "metadata": {},
   "outputs": [],
   "source": [
    "def athena_driver(username, password, headless=True, download_dir=None):\n",
    "    options = webdriver.ChromeOptions()\n",
    "    options.add_argument(\"--incognito\")\n",
    "    options.add_argument('window-size=1680x900')\n",
    "    options.headless = headless\n",
    "    if download_dir:\n",
    "        options.add_experimental_option('prefs', {'download.default_directory': download_dir})\n",
    "    driver = webdriver.Chrome(executable_path='chromedriver.exe', options=options)\n",
    "    driver.set_window_position(0,0)\n",
    "    driver.set_window_size(1200, 1375)\n",
    "    driver.set_page_load_timeout(15)\n",
    "    \n",
    "    driver.get(\"https://athena.ohdsi.org/\")\n",
    "    driver.find_element_by_xpath('/html/body/div/div/div[4]/div[2]/div/div[2]/div[2]/button').click()\n",
    "    driver.find_element_by_xpath('/html/body/div/div/header/nav/div[3]/a').click()\n",
    "    driver.find_element_by_xpath('/html/body/div/div/div[1]/div/div[2]/div/button').click()\n",
    "\n",
    "    main_window = driver.current_window_handle\n",
    "    for handle in driver.window_handles:\n",
    "        if handle != main_window:\n",
    "            popup = handle\n",
    "            driver.switch_to.window(popup)\n",
    "\n",
    "    driver.find_element_by_xpath('//*[@id=\"username\"]').send_keys(username)\n",
    "    driver.find_element_by_xpath('//*[@id=\"password\"]').send_keys(password)\n",
    "    driver.find_element_by_xpath('/html/body/div[1]/div/div/div[2]/div/form/section[3]/input[4]').click()\n",
    "    driver.switch_to.window(driver.window_handles[0])\n",
    "\n",
    "    return driver "
   ]
  },
  {
   "cell_type": "code",
   "execution_count": 65,
   "metadata": {},
   "outputs": [],
   "source": [
    "def request_new_vocabulary_file(driver):\n",
    "    driver.get('https://athena.ohdsi.org/search-terms/start')\n",
    "    driver.find_element_by_xpath('/html/body/div/div/header/nav/div[3]/div/a/div[2]').click()\n",
    "    driver.find_element_by_xpath('//*[@id=\"app\"]/div/header/nav/div[3]/div/div/div/a[1]').click()\n",
    "    driver.find_element_by_xpath('//*[@id=\"app\"]/div/header/nav/div[2]/a').click()\n",
    "    \n",
    "    # double click on select all to make sure no vocab is selected \n",
    "    driver.find_element_by_xpath('//*[@id=\"app\"]/div/div[1]/div[2]/table/thead/tr/th[1]/label').click()\n",
    "    driver.find_element_by_xpath('//*[@id=\"app\"]/div/div[1]/div[2]/table/thead/tr/th[1]/label').click()\n",
    "\n",
    "    # Select vocabularies\n",
    "    checkboxes = driver.find_elements_by_css_selector(\"#app > div > div.at-vocabs > div.at-vocabularies > table > tbody > tr\")\n",
    "    with open('omop_vocabularies.yml') as f:\n",
    "        vocabs = yaml.safe_load(f)\n",
    "    \n",
    "    for checkbox in checkboxes:\n",
    "        cls = checkbox.find_element_by_class_name('at-vocabularies__code-td')\n",
    "        if cls.text in vocabs:\n",
    "            checkbox.click()\n",
    "            print(f'Vocabulary {cls.text} was selected')\n",
    "    \n",
    "    datestamp = dt.today().strftime('%m_%d_%Y')\n",
    "    driver.find_element_by_xpath('//*[@id=\"app\"]/div/div[1]/div[1]/button').click()\n",
    "    driver.find_element_by_xpath('//*[@id=\"app\"]/div/div[1]/div[3]/div[2]/div/div[2]/form/div/div[1]/input').send_keys(f'vocabulary_5x_{datestamp}')\n",
    "    \n",
    "    # Request vocab file\n",
    "    driver.find_element_by_xpath('//*[@id=\"app\"]/div/div[1]/div[3]/div[2]/div/div[2]/form/div/div[2]/button[1]').click()\n",
    "\n",
    "    #return to main page\n",
    "    driver.get('https://athena.ohdsi.org/search-terms/start')"
   ]
  },
  {
   "cell_type": "code",
   "execution_count": 7,
   "metadata": {},
   "outputs": [],
   "source": [
    "def download_vocabulary_file(driver, get_last=True, vocabulary_name=None, archive=True, restore=True):\n",
    "    \"\"\"Download most recent vocabulary file.\"\"\"\n",
    "    driver.get('https://athena.ohdsi.org/search-terms/start')\n",
    "    driver.find_element_by_xpath('/html/body/div/div/header/nav/div[3]/div/a/div[2]').click()\n",
    "    driver.find_element_by_xpath('//*[@id=\"app\"]/div/header/nav/div[3]/div/div/div/a[1]').click()\n",
    "    athena.find_element_by_xpath('//*[@id=\"app\"]/div/header/nav/div[3]/div').click()\n",
    "    buttons = driver.find_elements_by_class_name(\"react-sanfona-item\")\n",
    "    if get_last: \n",
    "        button = buttons[0]\n",
    "        tool = button.find_element_by_class_name('ac-toolbar')\n",
    "        status = tool.text.split()[-1]\n",
    "        if status == 'DOWNLOADSHAREARCHIVE':\n",
    "            print(tool.text)\n",
    "            tool.click()\n",
    "            if archive:\n",
    "                driver.find_element_by_xpath('//*[@id=\"app\"]/div/div[1]/div[2]/div[1]/div[1]/ul/li/div/button[3]').click()\n",
    "        elif (tool.text == 'RESTORE') & restore is True:\n",
    "            print('Restoring vocabulary, try again later')\n",
    "            tool.click()\n",
    "            # Wait 30min while file is restored.\n",
    "            # If archive: archive.click()\n",
    "#             driver.find_element_by_xpath('//*[@id=\"app\"]/div/div[1]/div[2]/div[1]/div[1]/ul/li/div/button[3]').click()\n",
    "        elif (tool.text == 'RESTORE') & restore is False:\n",
    "            return 'Vocabulary file is archived. Set restore=True to restore and download.'\n",
    "#         except NoSuchElementException: \n",
    "#             tool = button.find_element_by_class_name('ac-toolbar')\n",
    "#             res = tool.text.split()[-1]\n",
    "#             if res == 'PENDING': \n",
    "#                 print(\"Restoring vocabulary, try again later.\")\n",
    "        finally: \n",
    "            driver.get('https://athena.ohdsi.org/search-terms/start')"
   ]
  },
  {
   "cell_type": "code",
   "execution_count": 67,
   "metadata": {},
   "outputs": [
    {
     "name": "stdout",
     "output_type": "stream",
     "text": [
      "Vocabulary SNOMED was selected\n",
      "Vocabulary ICD9CM was selected\n",
      "Vocabulary ICD9Proc was selected\n",
      "Vocabulary CPT4 was selected\n",
      "Vocabulary HCPCS was selected\n",
      "Vocabulary LOINC was selected\n",
      "Vocabulary NDFRT was selected\n",
      "Vocabulary RxNorm was selected\n",
      "Vocabulary NDC was selected\n",
      "Vocabulary Gender was selected\n",
      "Vocabulary Race was selected\n",
      "Vocabulary CMS Place of Service was selected\n",
      "Vocabulary ATC was selected\n",
      "Vocabulary VA Product was selected\n",
      "Vocabulary VA Class was selected\n",
      "Vocabulary ICD10 was selected\n",
      "Vocabulary ICD10PCS was selected\n",
      "Vocabulary DRG was selected\n",
      "Vocabulary MDC was selected\n",
      "Vocabulary APC was selected\n",
      "Vocabulary Revenue Code was selected\n",
      "Vocabulary Ethnicity was selected\n",
      "Vocabulary MeSH was selected\n",
      "Vocabulary NUCC was selected\n",
      "Vocabulary Medicare Specialty was selected\n",
      "Vocabulary SPL was selected\n",
      "Vocabulary GCN_SEQNO was selected\n",
      "Vocabulary OPCS4 was selected\n",
      "Vocabulary HES Specialty was selected\n",
      "Vocabulary PCORNet was selected\n",
      "Vocabulary Currency was selected\n",
      "Vocabulary ICD10CM was selected\n",
      "Vocabulary ABMS was selected\n",
      "Vocabulary dm+d was selected\n",
      "Vocabulary EphMRA ATC was selected\n",
      "Vocabulary NFC was selected\n",
      "Vocabulary RxNorm Extension was selected\n",
      "Vocabulary MMI was selected\n",
      "Vocabulary Specimen Type was selected\n",
      "Vocabulary CVX was selected\n",
      "Vocabulary ICDO3 was selected\n",
      "Vocabulary GGR was selected\n",
      "Vocabulary MEDRT was selected\n",
      "Vocabulary Episode Type was selected\n",
      "Vocabulary Provider was selected\n",
      "Vocabulary Supplier was selected\n",
      "Vocabulary HemOnc was selected\n",
      "Vocabulary NAACCR was selected\n",
      "Vocabulary CTD was selected\n",
      "Vocabulary OMOP Extension was selected\n",
      "Vocabulary CIViC was selected\n",
      "Vocabulary JAX was selected\n",
      "Vocabulary NCIt was selected\n",
      "Vocabulary Cancer Modifier was selected\n",
      "Vocabulary OPS was selected\n",
      "Vocabulary CCAM was selected\n"
     ]
    }
   ],
   "source": [
    "# Login to Athena\n",
    "#TODO - get an account that everyone can access.\n",
    "USERNAME = \"yankuic@ufl.edu\"\n",
    "PASSWORD = \"7DSrMx7JNTHaXEM\"\n",
    "athena = athena_driver(USERNAME, PASSWORD, headless=False)\n",
    "request_new_vocabulary_file(athena)"
   ]
  },
  {
   "cell_type": "code",
   "execution_count": 12,
   "metadata": {},
   "outputs": [],
   "source": [
    "download_vocabulary_file(athena)"
   ]
  },
  {
   "cell_type": "code",
   "execution_count": 86,
   "metadata": {},
   "outputs": [
    {
     "name": "stdout",
     "output_type": "stream",
     "text": [
      "ARCHIVEDRESTORE\n"
     ]
    }
   ],
   "source": [
    "# athena.switch_to.window(athena.window_handles[0])\n",
    "athena.get('https://athena.ohdsi.org/search-terms/start')\n",
    "athena.find_element_by_xpath('/html/body/div/div/header/nav/div[3]/div/a/div[2]').click()\n",
    "athena.find_element_by_xpath('//*[@id=\"app\"]/div/header/nav/div[3]/div/div/div/a[1]').click()\n",
    "athena.find_element_by_xpath('//*[@id=\"app\"]/div/header/nav/div[3]/div').click()\n",
    "buttons = athena.find_elements_by_class_name(\"react-sanfona-item\")\n",
    "last = True\n",
    "archive = True\n",
    "if last:\n",
    "    button = buttons[0]\n",
    "    tool = button.find_element_by_class_name('ac-toolbar')\n",
    "    status = tool.text.split()[-1]\n",
    "    if status == 'DOWNLOADSHAREARCHIVE': \n",
    "        athena.find_element_by_xpath('//*[@id=\"app\"]/div/div[1]/div[2]/div[1]/div[1]/ul/li/div/button[1]').click()\n",
    "        if archive:\n",
    "            athena.find_element_by_xpath('//*[@id=\"app\"]/div/div[1]/div[2]/div[1]/div[1]/ul/li/div/button[3]').click()\n",
    "    elif status == 'ARCHIVEDRESTORE':\n",
    "        print(status)"
   ]
  },
  {
   "cell_type": "code",
   "execution_count": 18,
   "metadata": {},
   "outputs": [],
   "source": [
    "# Implement 30 min wait - it takes 15-20 min for ATHENA to process the download file. \n",
    "\n",
    "# Download vocabulary\n",
    "driver.find_element_by_xpath('//*[@id=\"app\"]/div/div[1]/div[2]/div[1]/div[1]/ul/li/div/button[1]').click()\n",
    "\n",
    "if archive:\n",
    "# Implement 5 min wait then archive the vocabulary\n",
    "    driver.find_element_by_xpath('//*[@id=\"app\"]/div/div[1]/div[2]/div[1]/div[1]/ul/li/div/button[3]').click()"
   ]
  },
  {
   "cell_type": "code",
   "execution_count": 18,
   "metadata": {},
   "outputs": [],
   "source": [
    "# Unzip vocab zip file\n",
    "!tar -xf C:\\Users\\yankuic\\Downloads\\vocabulary_download_v5_{3715153c-1726-4268-a5b3-c3a8a3921c43}_1617991037969.zip"
   ]
  },
  {
   "cell_type": "code",
   "execution_count": null,
   "metadata": {},
   "outputs": [],
   "source": [
    "#app > div > div.at-download-history > div.react-sanfona > div:nth-child(1) > div.ac-toolbar > ul > li > div > span"
   ]
  }
 ],
 "metadata": {
  "kernelspec": {
   "display_name": "Python 3",
   "language": "python",
   "name": "python3"
  },
  "language_info": {
   "codemirror_mode": {
    "name": "ipython",
    "version": 3
   },
   "file_extension": ".py",
   "mimetype": "text/x-python",
   "name": "python",
   "nbconvert_exporter": "python",
   "pygments_lexer": "ipython3",
   "version": "3.7.4"
  }
 },
 "nbformat": 4,
 "nbformat_minor": 4
}
