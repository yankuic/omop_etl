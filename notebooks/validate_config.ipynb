{
 "cells": [
  {
   "cell_type": "code",
   "execution_count": 1,
   "source": [
    "# Check config files\r\n",
    "\r\n",
    "- Check tables match in config and etl_config\r\n",
    "- Check subset names match in config and etl_config\r\n",
    "- Check dp_names match bo dp_names\r\n",
    "- Check scripts in etl_config exists\r\n",
    "- Check all stage tables have aliases\r\n",
    "- Check aliases match stage table columns\r\n",
    "- Check load tables match table and subset names\r\n",
    "- Check load scripts exists\r\n",
    "- Check table name with source_table\r\n",
    "- Check source_code from table match source_code from query"
   ],
   "outputs": [
    {
     "output_type": "error",
     "ename": "SyntaxError",
     "evalue": "invalid syntax (<ipython-input-1-138a97a92d2d>, line 3)",
     "traceback": [
      "\u001b[1;36m  File \u001b[1;32m\"<ipython-input-1-138a97a92d2d>\"\u001b[1;36m, line \u001b[1;32m3\u001b[0m\n\u001b[1;33m    - Check tables match in config and etl_config\u001b[0m\n\u001b[1;37m                 ^\u001b[0m\n\u001b[1;31mSyntaxError\u001b[0m\u001b[1;31m:\u001b[0m invalid syntax\n"
     ]
    }
   ],
   "metadata": {}
  },
  {
   "cell_type": "code",
   "execution_count": null,
   "source": [
    "import os\r\n",
    "import glob\r\n",
    "import pandas as pd\r\n",
    "\r\n",
    "os.chdir('Z:/OMOP/omop_etl/omop_etl/templates')\r\n",
    "print(os.getcwd())\r\n",
    "\r\n",
    "from omop_etl.datastore import DataStore\r\n",
    "from omop_etl.bo import bo_query\r\n",
    "from omop_etl.config import ProjectConfig, ETLConfig"
   ],
   "outputs": [
    {
     "output_type": "stream",
     "name": "stdout",
     "text": [
      "Z:\\OMOP\\omop_etl\\omop_etl\\templates\n"
     ]
    }
   ],
   "metadata": {}
  },
  {
   "cell_type": "code",
   "execution_count": null,
   "source": [
    "database = 'dws_omop'\r\n",
    "server = 'edw.shands.ufl.edu'\r\n",
    "\r\n",
    "omop = DataStore('config.yml')\r\n",
    "omop.connection_str = f'mssql+pyodbc://{server}/{database}?driver=SQL+Server'\r\n",
    "\r\n",
    "with omop.engine.connect() as con:\r\n",
    "    bo_queries = bo_query('omop', con)\r\n",
    "\r\n",
    "_config = ProjectConfig('config.yml')\r\n",
    "etl_config = ETLConfig()\r\n",
    "sql_scripts = [os.path.split(p)[1] for p in glob.glob('Z:/OMOP/omop_etl/omop_etl/sql/*.sql') ]\r\n",
    "\r\n",
    "path = 'Z:/OMOP/omop_etl/omop_etl/sql'"
   ],
   "outputs": [],
   "metadata": {}
  },
  {
   "cell_type": "code",
   "execution_count": null,
   "source": [
    "def file_exists(file):\r\n",
    "    path = 'Z:/OMOP/omop_etl/omop_etl/sql'\r\n",
    "    filepath = os.path.join(path, file)\r\n",
    "    \r\n",
    "    return os.path.exists(filepath)"
   ],
   "outputs": [],
   "metadata": {}
  },
  {
   "cell_type": "code",
   "execution_count": null,
   "source": [
    "dp_names = []\r\n",
    "preload_scripts = []\r\n",
    "mapping_scripts = []\r\n",
    "load_scripts = []\r\n",
    "\r\n",
    "for table in config_load.keys():\r\n",
    "    if config_load[table]:\r\n",
    "        for sbs in config_load[table]:\r\n",
    "            stg = etl_stage[table]\r\n",
    "            dp_names.append(etl_stage[table][sbs] if isinstance(stg, dict) else stg)\r\n",
    "            load_scripts.append(etl_load[table][sbs] if isinstance(stg, dict) else stg)\r\n",
    "            \r\n",
    "            if isinstance(stg, dict):\r\n",
    "                print(f'{table}, {sbs} load script exists?', file_exists(etl_load[table][sbs]))\r\n",
    "            \r\n",
    "            if table in etl_preload.keys():\r\n",
    "                preload_scripts.append(etl_preload[table][sbs])\r\n",
    "                print(f'{table}, {sbs} preload script exists?', file_exists(etl_preload[table][sbs]))\r\n",
    "                \r\n",
    "    else:\r\n",
    "        if table in etl_stage.keys():\r\n",
    "            dp_names.append(etl_stage[table])\r\n",
    "        if table in etl_mapping.keys():\r\n",
    "            mapping_scripts.append(etl_mapping[table])\r\n",
    "            print(f'{table} mapping script exists?', file_exists(etl_mapping[table]))"
   ],
   "outputs": [
    {
     "output_type": "stream",
     "name": "stdout",
     "text": [
      "person mapping script exists? True\n",
      "visit_occurrence mapping script exists? True\n",
      "procedure_occurrence, icd load script exists? True\n",
      "procedure_occurrence, icd preload script exists? True\n",
      "procedure_occurrence, cpt load script exists? True\n",
      "procedure_occurrence, cpt preload script exists? True\n",
      "drug_exposure, order load script exists? True\n",
      "drug_exposure, order preload script exists? True\n",
      "drug_exposure, admin load script exists? True\n",
      "drug_exposure, admin preload script exists? True\n",
      "measurement, bp load script exists? True\n",
      "measurement, bp preload script exists? True\n",
      "measurement, bp_artline load script exists? True\n",
      "measurement, bp_artline preload script exists? True\n",
      "measurement, bp_noninvasive load script exists? True\n",
      "measurement, bp_noninvasive preload script exists? True\n",
      "measurement, bp_cvp load script exists? True\n",
      "measurement, bp_cvp preload script exists? True\n",
      "measurement, bp_cvp_mean load script exists? True\n",
      "measurement, bp_cvp_mean preload script exists? True\n",
      "measurement, bp_map_artline load script exists? True\n",
      "measurement, bp_map_artline preload script exists? True\n",
      "measurement, bp_map_cuff load script exists? True\n",
      "measurement, bp_map_cuff preload script exists? True\n",
      "measurement, bp_map_noninvasive load script exists? True\n",
      "measurement, bp_map_noninvasive preload script exists? True\n",
      "measurement, bp_pap_mean load script exists? True\n",
      "measurement, bp_pap_mean preload script exists? True\n",
      "measurement, heart_rate load script exists? True\n",
      "measurement, heart_rate preload script exists? True\n",
      "measurement, height load script exists? True\n",
      "measurement, height preload script exists? True\n",
      "measurement, lab load script exists? True\n",
      "measurement, lab preload script exists? True\n",
      "measurement, pain load script exists? True\n",
      "measurement, pain preload script exists? True\n",
      "measurement, pain_jax load script exists? True\n",
      "measurement, pain_jax preload script exists? True\n",
      "measurement, pain_peds load script exists? True\n",
      "measurement, pain_peds preload script exists? True\n",
      "measurement, qtcb load script exists? True\n",
      "measurement, qtcb preload script exists? True\n",
      "measurement, res_dev load script exists? True\n",
      "measurement, res_dev preload script exists? True\n",
      "measurement, res_etco2 load script exists? True\n",
      "measurement, res_etco2 preload script exists? True\n",
      "measurement, res_etco2_on load script exists? True\n",
      "measurement, res_etco2_on preload script exists? True\n",
      "measurement, res_fio2 load script exists? True\n",
      "measurement, res_fio2 preload script exists? True\n",
      "measurement, gcs load script exists? True\n",
      "measurement, gcs preload script exists? True\n",
      "measurement, gcs_peds load script exists? True\n",
      "measurement, gcs_peds preload script exists? True\n",
      "measurement, res_o2 load script exists? True\n",
      "measurement, res_o2 preload script exists? True\n",
      "measurement, res_o2_ml load script exists? True\n",
      "measurement, res_o2_ml preload script exists? True\n",
      "measurement, res_peep load script exists? True\n",
      "measurement, res_peep preload script exists? True\n",
      "measurement, res_pip load script exists? True\n",
      "measurement, res_pip preload script exists? True\n",
      "measurement, res_resp load script exists? True\n",
      "measurement, res_resp preload script exists? True\n",
      "measurement, res_resp_adultspont load script exists? True\n",
      "measurement, res_resp_adultspont preload script exists? True\n",
      "measurement, res_resp_pedsspont load script exists? True\n",
      "measurement, res_resp_pedsspont preload script exists? True\n",
      "measurement, res_resp_mech load script exists? True\n",
      "measurement, res_resp_mech preload script exists? True\n",
      "measurement, res_spo2 load script exists? True\n",
      "measurement, res_spo2 preload script exists? True\n",
      "measurement, res_tidal load script exists? True\n",
      "measurement, res_tidal preload script exists? True\n",
      "measurement, res_tidal_mech load script exists? True\n",
      "measurement, res_tidal_mech preload script exists? True\n",
      "measurement, res_tidal_spont load script exists? True\n",
      "measurement, res_tidal_spont preload script exists? True\n",
      "measurement, res_vent_mode load script exists? True\n",
      "measurement, res_vent_mode preload script exists? True\n",
      "measurement, res_vent_start load script exists? True\n",
      "measurement, res_vent_start preload script exists? True\n",
      "measurement, res_vent_end load script exists? True\n",
      "measurement, res_vent_end preload script exists? True\n",
      "measurement, res_vent_mode_peds load script exists? True\n",
      "measurement, res_vent_mode_peds preload script exists? True\n",
      "measurement, res_vent_start_peds load script exists? True\n",
      "measurement, res_vent_start_peds preload script exists? True\n",
      "measurement, res_vent_end_peds load script exists? True\n",
      "measurement, res_vent_end_peds preload script exists? True\n",
      "measurement, rothman load script exists? True\n",
      "measurement, rothman preload script exists? True\n",
      "measurement, sofa load script exists? True\n",
      "measurement, sofa preload script exists? True\n",
      "measurement, temp load script exists? True\n",
      "measurement, temp preload script exists? True\n",
      "measurement, weight load script exists? True\n",
      "measurement, weight preload script exists? True\n",
      "observation, icu load script exists? True\n",
      "observation, icu preload script exists? True\n",
      "observation, lda load script exists? True\n",
      "observation, lda preload script exists? True\n",
      "observation, vent load script exists? True\n",
      "observation, vent preload script exists? True\n",
      "observation, payer load script exists? True\n",
      "observation, payer preload script exists? True\n",
      "observation, smoking load script exists? True\n",
      "observation, smoking preload script exists? True\n",
      "observation, zipcode load script exists? True\n",
      "observation, zipcode preload script exists? True\n",
      "provider mapping script exists? True\n",
      "care_site mapping script exists? True\n",
      "location mapping script exists? True\n"
     ]
    }
   ],
   "metadata": {
    "tags": []
   }
  },
  {
   "cell_type": "code",
   "execution_count": null,
   "source": [
    "set(dp_names) == set(bo_queries.keys())"
   ],
   "outputs": [
    {
     "data": {
      "text/plain": [
       "False"
      ]
     },
     "metadata": {},
     "output_type": "display_data"
    }
   ],
   "metadata": {}
  },
  {
   "cell_type": "code",
   "execution_count": null,
   "source": [
    "# Wrong dp_name in etl_config\r\n",
    "set(dp_names) - set(bo_queries.keys())"
   ],
   "outputs": [
    {
     "data": {
      "text/plain": [
       "set()"
      ]
     },
     "metadata": {},
     "output_type": "display_data"
    }
   ],
   "metadata": {}
  },
  {
   "cell_type": "code",
   "execution_count": null,
   "source": [
    "# dp_names missing in etl_config\r\n",
    "set(bo_queries.keys()) - set(dp_names)"
   ],
   "outputs": [
    {
     "data": {
      "text/plain": [
       "{'MEASUREMENT_Res_RESP_AdultMech', 'MEASUREMENT_Res_RESP_PedsMech'}"
      ]
     },
     "metadata": {},
     "output_type": "display_data"
    }
   ],
   "metadata": {}
  },
  {
   "cell_type": "code",
   "execution_count": null,
   "source": [
    "# Check if preload tables exist in config, etl stage, and etl load\r\n",
    "for prl in etl_preload:\r\n",
    "    if prl in config_load.keys():\r\n",
    "        print(f'Preload table {prl} found in config.')\r\n",
    "    if prl in etl_stage.keys():\r\n",
    "        print(f'Preload table {prl} found in etl_stage')\r\n",
    "    if prl in etl_load.keys():\r\n",
    "        print(f'Preload table {prl} found in etl_load')"
   ],
   "outputs": [
    {
     "output_type": "stream",
     "name": "stdout",
     "text": [
      "Preload table condition_occurrence found in config.\n",
      "Preload table condition_occurrence found in etl_stage\n",
      "Preload table condition_occurrence found in etl_load\n",
      "Preload table drug_exposure found in config.\n",
      "Preload table drug_exposure found in etl_stage\n",
      "Preload table drug_exposure found in etl_load\n",
      "Preload table measurement found in config.\n",
      "Preload table measurement found in etl_stage\n",
      "Preload table measurement found in etl_load\n",
      "Preload table observation found in config.\n",
      "Preload table observation found in etl_stage\n",
      "Preload table observation found in etl_load\n",
      "Preload table procedure_occurrence found in config.\n",
      "Preload table procedure_occurrence found in etl_stage\n",
      "Preload table procedure_occurrence found in etl_load\n"
     ]
    }
   ],
   "metadata": {}
  },
  {
   "cell_type": "code",
   "execution_count": null,
   "source": [
    "temp_path = 'Z:/OMOP/omop_etl/omop_etl/templates'\r\n",
    "source = pd.read_csv(os.path.join(temp_path, 'source_to_concept_map.csv'), sep='\\t')"
   ],
   "outputs": [],
   "metadata": {}
  },
  {
   "cell_type": "code",
   "execution_count": null,
   "source": [],
   "outputs": [],
   "metadata": {}
  }
 ],
 "metadata": {
  "orig_nbformat": 4,
  "language_info": {
   "name": "python",
   "version": "3.7.4",
   "mimetype": "text/x-python",
   "codemirror_mode": {
    "name": "ipython",
    "version": 3
   },
   "pygments_lexer": "ipython3",
   "nbconvert_exporter": "python",
   "file_extension": ".py"
  },
  "kernelspec": {
   "name": "python3",
   "display_name": "Python 3.7.4 64-bit ('base': conda)"
  },
  "interpreter": {
   "hash": "ed9aecc04a78bc023d6560d59868ba438581fdda2914504ea0b1a159872595b9"
  }
 },
 "nbformat": 4,
 "nbformat_minor": 2
}