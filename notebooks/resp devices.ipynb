{
 "cells": [
  {
   "cell_type": "code",
   "execution_count": 3,
   "metadata": {},
   "outputs": [
    {
     "name": "stdout",
     "output_type": "stream",
     "text": [
      "Z:\\Covid19\\Covid19_OMOP\\new_pipeline\n"
     ]
    }
   ],
   "source": [
    "from omop_etl.datastore import DataStore\n",
    "from omop_etl.load import Loader\n",
    "import pandas as pd\n",
    "\n",
    "import os\n",
    "os.chdir('Z:/Covid19/Covid19_OMOP/new_pipeline/')\n",
    "print(os.getcwd())"
   ]
  },
  {
   "cell_type": "code",
   "execution_count": 12,
   "metadata": {},
   "outputs": [],
   "source": [
    "def flatten(lst):\n",
    "    for el in lst:\n",
    "        if isinstance(el, list):  \n",
    "            # recurse\n",
    "            yield from flatten(el)\n",
    "        else:\n",
    "            # generate\n",
    "            yield el"
   ]
  },
  {
   "cell_type": "code",
   "execution_count": 5,
   "metadata": {},
   "outputs": [],
   "source": [
    "omop = DataStore('config.yml')"
   ]
  },
  {
   "cell_type": "code",
   "execution_count": 6,
   "metadata": {},
   "outputs": [],
   "source": [
    "with omop.connection() as con:\n",
    "    dev = pd.read_sql('''\n",
    "    SELECT distinct [respiratory_device]\n",
    "      FROM [DWS_OMOP].[stage].[MEASUREMENT_Res_Device]\n",
    "    ''', con)"
   ]
  },
  {
   "cell_type": "code",
   "execution_count": 7,
   "metadata": {},
   "outputs": [],
   "source": [
    "# dev.respiratory_device.apply(lambda s: s.split(';')).to_list()"
   ]
  },
  {
   "cell_type": "code",
   "execution_count": 8,
   "metadata": {},
   "outputs": [],
   "source": [
    "with omop.connection() as con:\n",
    "    vmode = pd.read_sql('''\n",
    "    SELECT distinct adult_vent_mode\n",
    "      FROM [DWS_OMOP].[stage].[MEASUREMENT_Res_Vent]\n",
    "    ''', con)"
   ]
  },
  {
   "cell_type": "code",
   "execution_count": 15,
   "metadata": {},
   "outputs": [
    {
     "data": {
      "text/plain": [
       "{'(S) CMV',\n",
       " 'AC',\n",
       " 'AC/VC+',\n",
       " 'APRV',\n",
       " 'APRV/Bi-Level/DuoPAP',\n",
       " 'APV-CMV',\n",
       " 'APV-SIMV',\n",
       " 'APVcmv',\n",
       " 'APVsimv',\n",
       " 'ASV',\n",
       " 'Auto tube compensation',\n",
       " 'Bi-LEVEL',\n",
       " 'CMV',\n",
       " 'CPAP',\n",
       " 'NIV-ST',\n",
       " 'Non-Invasive',\n",
       " 'Other (Comment)',\n",
       " 'P-CMV',\n",
       " 'P-SIMV',\n",
       " 'PAV',\n",
       " 'PCV',\n",
       " 'PCV+',\n",
       " 'PCV+ Assist',\n",
       " 'PCV+ASSIST',\n",
       " 'PRVC',\n",
       " 'PSV',\n",
       " 'SIMV',\n",
       " 'SPONTANEOUS',\n",
       " 'Spontaneous',\n",
       " 'Stand-by',\n",
       " 'VAPS',\n",
       " 'VC+',\n",
       " 'VS',\n",
       " 'Volume Control',\n",
       " 'Volume Support',\n",
       " 'Volume control',\n",
       " 'Volume support'}"
      ]
     },
     "execution_count": 15,
     "metadata": {},
     "output_type": "execute_result"
    }
   ],
   "source": [
    "set(list(flatten(vmode.adult_vent_mode.apply(lambda s: s.split(';')).to_list())))"
   ]
  },
  {
   "cell_type": "code",
   "execution_count": null,
   "metadata": {},
   "outputs": [],
   "source": []
  }
 ],
 "metadata": {
  "kernelspec": {
   "display_name": "Python 3",
   "language": "python",
   "name": "python3"
  },
  "language_info": {
   "codemirror_mode": {
    "name": "ipython",
    "version": 3
   },
   "file_extension": ".py",
   "mimetype": "text/x-python",
   "name": "python",
   "nbconvert_exporter": "python",
   "pygments_lexer": "ipython3",
   "version": "3.7.4"
  }
 },
 "nbformat": 4,
 "nbformat_minor": 4
}
