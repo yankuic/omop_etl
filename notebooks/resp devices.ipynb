{
 "cells": [
  {
   "cell_type": "code",
   "execution_count": 1,
   "metadata": {},
   "outputs": [
    {
     "name": "stdout",
     "output_type": "stream",
     "text": [
      "Z:\\Covid19\\Covid19_OMOP\\new_pipeline\n"
     ]
    }
   ],
   "source": [
    "from omop_etl.datastore import DataStore\n",
    "from omop_etl.load import Loader\n",
    "import pandas as pd\n",
    "\n",
    "import os\n",
    "os.chdir('Z:/Covid19/Covid19_OMOP/new_pipeline/')\n",
    "print(os.getcwd())"
   ]
  },
  {
   "cell_type": "code",
   "execution_count": 2,
   "metadata": {},
   "outputs": [],
   "source": [
    "def flatten(lst):\n",
    "    for el in lst:\n",
    "        if isinstance(el, list):  \n",
    "            # recurse\n",
    "            yield from flatten(el)\n",
    "        else:\n",
    "            # generate\n",
    "            yield el"
   ]
  },
  {
   "cell_type": "code",
   "execution_count": 3,
   "metadata": {},
   "outputs": [],
   "source": [
    "omop = DataStore('config.yml')"
   ]
  },
  {
   "cell_type": "code",
   "execution_count": 4,
   "metadata": {},
   "outputs": [],
   "source": [
    "with omop.connection() as con:\n",
    "    dev = pd.read_sql('''\n",
    "    SELECT distinct [respiratory_device]\n",
    "      FROM [DWS_OMOP].[stage].[MEASUREMENT_Res_Device]\n",
    "    ''', con)"
   ]
  },
  {
   "cell_type": "code",
   "execution_count": 5,
   "metadata": {},
   "outputs": [],
   "source": [
    "# dev.respiratory_device.apply(lambda s: s.split(';')).to_list()"
   ]
  },
  {
   "cell_type": "code",
   "execution_count": 6,
   "metadata": {},
   "outputs": [],
   "source": [
    "# with omop.connection() as con:\n",
    "#     vmode = pd.read_sql('''\n",
    "#     SELECT distinct adult_vent_mode\n",
    "#       FROM [DWS_OMOP].[stage].[MEASUREMENT_Res_Vent]\n",
    "#     ''', con)"
   ]
  },
  {
   "cell_type": "code",
   "execution_count": 7,
   "metadata": {},
   "outputs": [
    {
     "data": {
      "text/plain": [
       "{'Aerosol mask',\n",
       " 'BVM (Bag Valve Mask)',\n",
       " 'BiPAP',\n",
       " 'Blow-by',\n",
       " 'CPAP',\n",
       " 'Cricothyrotomy',\n",
       " 'ETT',\n",
       " 'Face tent',\n",
       " 'High Flow via Trach',\n",
       " 'High flow nasal cannula',\n",
       " 'IGel',\n",
       " 'King Tube',\n",
       " 'LMA',\n",
       " 'Nasal cannula',\n",
       " 'Non-rebreather mask',\n",
       " 'Oscillator',\n",
       " 'Other (Comment)',\n",
       " 'Oxyhood',\n",
       " 'Oxyimiser',\n",
       " 'Partial rebreather mask',\n",
       " 'Positive Airway Pressure Device',\n",
       " 'Room Air / (None)',\n",
       " 'Simple mask',\n",
       " 'T-piece',\n",
       " 'Trach mask',\n",
       " 'Tracheostomy',\n",
       " 'Transtracheal catheter',\n",
       " 'Ventilator',\n",
       " 'Venturi mask'}"
      ]
     },
     "execution_count": 7,
     "metadata": {},
     "output_type": "execute_result"
    }
   ],
   "source": [
    "set(list(flatten(dev.respiratory_device.apply(lambda s: s.split(';')).to_list())))"
   ]
  },
  {
   "cell_type": "code",
   "execution_count": 62,
   "metadata": {},
   "outputs": [],
   "source": [
    "from omop_etl.utils import search\n",
    "import re"
   ]
  },
  {
   "cell_type": "code",
   "execution_count": 123,
   "metadata": {},
   "outputs": [],
   "source": [
    "with omop.connection() as con:\n",
    "    icd = pd.read_sql('''\n",
    "        select distinct b.DIAG_CD_LVL2_DESC as [Desc], b.ICD_TYPE, count(distinct DIAG_CD_DECML) N\n",
    "        from dbo.condition_occurrence a\n",
    "        join dws_prod.dbo.ALL_ICD_DIAGNOSIS_CODES b\n",
    "        on a.condition_source_value = b.DIAG_CD_DECML\n",
    "        group by b.DIAG_CD_LVL2_DESC, b.ICD_TYPE\n",
    "        order by b.DIAG_CD_LVL2_DESC--count(*) desc\n",
    "    ''', con)"
   ]
  },
  {
   "cell_type": "code",
   "execution_count": 124,
   "metadata": {},
   "outputs": [],
   "source": [
    "icd = icd[['ICD_TYPE', 'Desc', 'N']]"
   ]
  },
  {
   "cell_type": "code",
   "execution_count": 125,
   "metadata": {},
   "outputs": [],
   "source": [
    "# icd"
   ]
  },
  {
   "cell_type": "code",
   "execution_count": 126,
   "metadata": {},
   "outputs": [],
   "source": [
    "def as_sentence(s):\n",
    "    splitted = s.split(None, 1) if search('[0-9]', s) else s\n",
    "    if len(splitted) == 2:\n",
    "        icd,des = splitted\n",
    "        return icd + ': ' + des.capitalize()\n",
    "    else:\n",
    "        des = splitted[0]\n",
    "        return splitted.capitalize()"
   ]
  },
  {
   "cell_type": "code",
   "execution_count": 127,
   "metadata": {},
   "outputs": [],
   "source": [
    "icd['Desc'] = icd.apply(lambda row: re.sub('\\(.*.\\)', '', as_sentence(row.Desc)) + f' ({str(row.N)})', 1)"
   ]
  },
  {
   "cell_type": "code",
   "execution_count": 128,
   "metadata": {},
   "outputs": [],
   "source": [
    "icd.to_csv('z:/OMOP/omop_etl/notebooks/icd_codes.csv', index=False)"
   ]
  },
  {
   "cell_type": "code",
   "execution_count": 129,
   "metadata": {},
   "outputs": [
    {
     "data": {
      "text/plain": [
       "0        001-009.99: Intestinal infectious diseases (43)\n",
       "1                          010-018.99: Tuberculosis (32)\n",
       "2            020-027.99: Zoonotic bacterial diseases (9)\n",
       "3              030-041.99: Other bacterial diseases (70)\n",
       "4      042-042.99: Human immunodeficiency virus [hiv]...\n",
       "                             ...                        \n",
       "561              Z66-Z66: Do not resuscitate status  (1)\n",
       "562                            Z67-Z67: Blood type  (10)\n",
       "563                 Z68-Z68: Body mass index [bmi]  (30)\n",
       "564    Z69-Z76: Persons encountering health services ...\n",
       "565    Z77-Z99: Persons with potential health hazards...\n",
       "Length: 566, dtype: object"
      ]
     },
     "execution_count": 129,
     "metadata": {},
     "output_type": "execute_result"
    }
   ],
   "source": [
    "icd.apply(lambda row: row.Desc, 1)"
   ]
  },
  {
   "cell_type": "code",
   "execution_count": null,
   "metadata": {},
   "outputs": [],
   "source": []
  }
 ],
 "metadata": {
  "kernelspec": {
   "display_name": "Python 3",
   "language": "python",
   "name": "python3"
  },
  "language_info": {
   "codemirror_mode": {
    "name": "ipython",
    "version": 3
   },
   "file_extension": ".py",
   "mimetype": "text/x-python",
   "name": "python",
   "nbconvert_exporter": "python",
   "pygments_lexer": "ipython3",
   "version": "3.7.10"
  }
 },
 "nbformat": 4,
 "nbformat_minor": 4
}
