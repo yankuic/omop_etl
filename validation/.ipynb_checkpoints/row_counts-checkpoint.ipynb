{
 "cells": [
  {
   "cell_type": "code",
   "execution_count": 1,
   "metadata": {},
   "outputs": [
    {
     "name": "stdout",
     "output_type": "stream",
     "text": [
      "Z:\\OMOP\\omop_etl\n"
     ]
    }
   ],
   "source": [
    "import os\n",
    "import yaml\n",
    "\n",
    "os.chdir('Z:\\OMOP\\omop_etl')\n",
    "print(os.getcwd())\n",
    "\n",
    "import pandas as pd\n",
    "from omop_etl.load import Loader\n",
    "# from .omop_etl.stage import STAGE\n",
    "\n",
    "from pydma.utils import find"
   ]
  },
  {
   "cell_type": "code",
   "execution_count": 29,
   "metadata": {},
   "outputs": [],
   "source": [
    "omop = Loader('config.yml')\n",
    "\n",
    "# CONFIG = 'omop_etl/etl_config.yml'\n",
    "# with open(CONFIG) as f:\n",
    "#     yml = yaml.safe_load(f)\n",
    "\n",
    "ALIASES = omop.aliases\n",
    "STAGE = omop.config.load"
   ]
  },
  {
   "cell_type": "code",
   "execution_count": 30,
   "metadata": {},
   "outputs": [
    {
     "data": {
      "text/plain": [
       "{'person': None,\n",
       " 'death': None,\n",
       " 'condition_occurrence': None,\n",
       " 'procedure_occurrence': {'icd': 'ICD coded procedures',\n",
       "  'cpt': 'CPT coded procedures'},\n",
       " 'drug_exposure': {'order': 'Medication orders',\n",
       "  'admin': 'Medication administration'},\n",
       " 'measurement': {'bp': 'Blood pressure',\n",
       "  'bp_artline': 'Invasive blood pressure',\n",
       "  'bp_noninvasive': 'Non-invasive blood presure',\n",
       "  'bp_cvp': None,\n",
       "  'bp_cvp_mean': None,\n",
       "  'bp_map_artline': 'Mean arterial pressure invasive methods',\n",
       "  'bp_map_cuff': 'Mean arterial pressure manual (Cuff)',\n",
       "  'bp_map_noninvasive': 'Mean arterial pressure non-invasive methods',\n",
       "  'bp_pap_mean': 'Pulmonary Artery Pressure',\n",
       "  'heart_rate': 'Heart rate',\n",
       "  'height': 'Height',\n",
       "  'lab': 'Laboratory results',\n",
       "  'pain': 'Pain scale',\n",
       "  'pain_jax': None,\n",
       "  'pain_peds': None,\n",
       "  'qtcb': 'Q-T interval corrected Bazett',\n",
       "  'res_dev': 'Respiratory device',\n",
       "  'res_etco2': 'Carbon dioxide [Partial pressure] in Exhaled gas at end expiration',\n",
       "  'res_fio2': 'Inhaled oxygen concentration',\n",
       "  'res_gcs': 'Glasgow coma score total',\n",
       "  'res_gcs_peds': None,\n",
       "  'res_o2': 'Inhaled oxygen flow rate',\n",
       "  'res_o2_ml': None,\n",
       "  'res_peep': 'PEEP Respiratory system',\n",
       "  'res_pip': 'Peak inspiratory pressure',\n",
       "  'res_resp': 'Breath rate spontaneous, mechanical, and respiratory rate',\n",
       "  'res_resp_adultmech': None,\n",
       "  'res_resp_adultspont': None,\n",
       "  'res_resp_pedsmech': None,\n",
       "  'res_resp_pedsspont': None,\n",
       "  'res_spo2': 'Oxygen saturation in arterial blood by pulse oximetry',\n",
       "  'res_tidal': 'Tidal volume setting',\n",
       "  'res_tidal_exhaled': 'Volume exhaled maximum ventilator alarm',\n",
       "  'res_vent': 'Ventilation mode adults',\n",
       "  'res_vent_peds': 'Ventilation mode pediatric',\n",
       "  'rothman': 'Rothman index calculated',\n",
       "  'sofa': 'Sequential organ failure assessment score',\n",
       "  'temp': 'Body temperature',\n",
       "  'weight': 'Body weight'},\n",
       " 'observation': {'icu': 'Intensive care unit stay',\n",
       "  'lda': 'LDA intubation type and LDA intubation start and end times',\n",
       "  'vent': 'Dependence on respirator',\n",
       "  'payer': 'Healthcare payer',\n",
       "  'smoking': 'Tobacco smoking behavior',\n",
       "  'zipcode': 'Patient postal code'},\n",
       " 'visit_occurrence': None,\n",
       " 'provider': None,\n",
       " 'care_site': None,\n",
       " 'location': None}"
      ]
     },
     "execution_count": 30,
     "metadata": {},
     "output_type": "execute_result"
    }
   ],
   "source": [
    "STAGE"
   ]
  },
  {
   "cell_type": "code",
   "execution_count": 15,
   "metadata": {},
   "outputs": [],
   "source": [
    "stage_t = omop.list_tables(in_schema=['stage'])\n",
    "stage_t['Count'] = stage_t.Table.apply(lambda t: omop.row_count(t, schema='stage'))"
   ]
  },
  {
   "cell_type": "code",
   "execution_count": 16,
   "metadata": {},
   "outputs": [],
   "source": [
    "stage_t_dict = stage_t[['Table','Count']].to_dict()\n",
    "# stage_t_dict"
   ]
  },
  {
   "cell_type": "code",
   "execution_count": 17,
   "metadata": {},
   "outputs": [
    {
     "data": {
      "text/plain": [
       "5172282"
      ]
     },
     "execution_count": 17,
     "metadata": {},
     "output_type": "execute_result"
    }
   ],
   "source": [
    "stage_t_dict['Count'][7]"
   ]
  },
  {
   "cell_type": "code",
   "execution_count": 18,
   "metadata": {},
   "outputs": [],
   "source": [
    "def find_key(input_dict, value):\n",
    "    return next((k for k, v in input_dict.items() if v == value), None)"
   ]
  },
  {
   "cell_type": "code",
   "execution_count": 31,
   "metadata": {},
   "outputs": [
    {
     "ename": "TypeError",
     "evalue": "'NoneType' object is not subscriptable",
     "output_type": "error",
     "traceback": [
      "\u001b[1;31m---------------------------------------------------------------------------\u001b[0m",
      "\u001b[1;31mTypeError\u001b[0m                                 Traceback (most recent call last)",
      "\u001b[1;32m<ipython-input-31-f19117bbad46>\u001b[0m in \u001b[0;36m<module>\u001b[1;34m\u001b[0m\n\u001b[0;32m      6\u001b[0m         \u001b[1;32mif\u001b[0m \u001b[0mloaded\u001b[0m\u001b[1;33m[\u001b[0m\u001b[0mt\u001b[0m\u001b[1;33m]\u001b[0m\u001b[1;33m:\u001b[0m\u001b[1;33m\u001b[0m\u001b[1;33m\u001b[0m\u001b[0m\n\u001b[0;32m      7\u001b[0m             \u001b[1;32mfor\u001b[0m \u001b[0mpart\u001b[0m \u001b[1;32min\u001b[0m \u001b[0mloaded\u001b[0m\u001b[1;33m[\u001b[0m\u001b[0mt\u001b[0m\u001b[1;33m]\u001b[0m\u001b[1;33m:\u001b[0m\u001b[1;33m\u001b[0m\u001b[1;33m\u001b[0m\u001b[0m\n\u001b[1;32m----> 8\u001b[1;33m                 \u001b[0mstg_name\u001b[0m \u001b[1;33m=\u001b[0m \u001b[0mSTAGE\u001b[0m\u001b[1;33m[\u001b[0m\u001b[0mt\u001b[0m\u001b[1;33m]\u001b[0m\u001b[1;33m[\u001b[0m\u001b[0mpart\u001b[0m\u001b[1;33m]\u001b[0m\u001b[1;33m\u001b[0m\u001b[1;33m\u001b[0m\u001b[0m\n\u001b[0m\u001b[0;32m      9\u001b[0m                 \u001b[0midx\u001b[0m \u001b[1;33m=\u001b[0m \u001b[0mfind_key\u001b[0m\u001b[1;33m(\u001b[0m\u001b[0mstage_t_dict\u001b[0m\u001b[1;33m[\u001b[0m\u001b[1;34m'Table'\u001b[0m\u001b[1;33m]\u001b[0m\u001b[1;33m,\u001b[0m \u001b[0mstg_name\u001b[0m\u001b[1;33m)\u001b[0m\u001b[1;33m\u001b[0m\u001b[1;33m\u001b[0m\u001b[0m\n\u001b[0;32m     10\u001b[0m                 \u001b[0mcount\u001b[0m \u001b[1;33m=\u001b[0m \u001b[0mstage_t_dict\u001b[0m\u001b[1;33m[\u001b[0m\u001b[1;34m'Count'\u001b[0m\u001b[1;33m]\u001b[0m\u001b[1;33m[\u001b[0m\u001b[0midx\u001b[0m\u001b[1;33m]\u001b[0m\u001b[1;33m\u001b[0m\u001b[1;33m\u001b[0m\u001b[0m\n",
      "\u001b[1;31mTypeError\u001b[0m: 'NoneType' object is not subscriptable"
     ]
    }
   ],
   "source": [
    "loaded = omop.config.load\n",
    "\n",
    "result = []\n",
    "for t in loaded.keys():\n",
    "    if t not in ['provider','care_site','location']:\n",
    "        if loaded[t]:\n",
    "            for part in loaded[t]:\n",
    "                stg_name = STAGE[t][part]\n",
    "                idx = find_key(stage_t_dict['Table'], stg_name)\n",
    "                count = stage_t_dict['Count'][idx]\n",
    "                result.append([t, part, count])\n",
    "        else:\n",
    "            stg_name = STAGE[t]\n",
    "            idx = find_key(stage_t_dict['Table'], stg_name)\n",
    "            count = stage_t_dict['Count'][idx]\n",
    "            result.append([t, None, count])\n",
    "\n",
    "table_counts = pd.DataFrame(result, columns=['Table', 'Part', 'Count'])\n",
    "# table_counts.head(50)"
   ]
  },
  {
   "cell_type": "code",
   "execution_count": null,
   "metadata": {},
   "outputs": [],
   "source": [
    "count_diff = table_counts.groupby('Table').sum().reset_index()\n",
    "count_diff['RC_Load'] = count_diff.Table.apply(lambda t: omop.row_count(t))\n",
    "count_diff['RC_DeId'] = count_diff.Table.apply(lambda t: omop.row_count(t, schema='hipaa'))\n",
    "count_diff['RC_Preload'] = count_diff.Table.apply(lambda t: omop.row_count(t, schema='preload'))\n",
    "count_diff"
   ]
  },
  {
   "cell_type": "code",
   "execution_count": null,
   "metadata": {},
   "outputs": [],
   "source": [
    "# t_sbs = stage_t[find(['MEASUREMENT','DRUG','CONDITION','PROCEDURE','OBSERVATION'], stage_t.Table)].Table.tolist()"
   ]
  },
  {
   "cell_type": "code",
   "execution_count": null,
   "metadata": {},
   "outputs": [],
   "source": []
  }
 ],
 "metadata": {
  "kernelspec": {
   "display_name": "Python 3",
   "language": "python",
   "name": "python3"
  },
  "language_info": {
   "codemirror_mode": {
    "name": "ipython",
    "version": 3
   },
   "file_extension": ".py",
   "mimetype": "text/x-python",
   "name": "python",
   "nbconvert_exporter": "python",
   "pygments_lexer": "ipython3",
   "version": "3.7.4"
  }
 },
 "nbformat": 4,
 "nbformat_minor": 4
}
