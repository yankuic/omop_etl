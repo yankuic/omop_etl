{
 "cells": [
  {
   "cell_type": "code",
   "execution_count": 9,
   "metadata": {},
   "outputs": [],
   "source": [
    "import os\n",
    "import yaml\n",
    "\n",
    "# os.chdir('//share.***REMOVED***/COVID-19/OMOP/new_pipeline')\n",
    "config_path = 'Y:/IDR_Projects/COVID-19/OMOP/new_pipeline/config.yml'\n",
    "# print(os.getcwd())\n",
    "\n",
    "import pandas as pd\n",
    "from omop_etl.load import Loader\n",
    "# from .omop_etl.stage import STAGE\n",
    "\n",
    "from pydma.utils import find"
   ]
  },
  {
   "cell_type": "code",
   "execution_count": 10,
   "metadata": {},
   "outputs": [],
   "source": [
    "omop = Loader(config_path)\n",
    "STAGE = omop.stage"
   ]
  },
  {
   "cell_type": "markdown",
   "metadata": {},
   "source": [
    "# Row counts"
   ]
  },
  {
   "cell_type": "code",
   "execution_count": 11,
   "metadata": {},
   "outputs": [],
   "source": [
    "def find_key(input_dict, value):\n",
    "    return next((k for k, v in input_dict.items() if v == value), None)"
   ]
  },
  {
   "cell_type": "code",
   "execution_count": 12,
   "metadata": {},
   "outputs": [],
   "source": [
    "loaded = omop.config.load\n",
    "\n",
    "result = []\n",
    "for t in loaded.keys():\n",
    "    if t not in ['provider','care_site','location']:\n",
    "        if loaded[t]:\n",
    "            for part in loaded[t]:\n",
    "                stg_name = STAGE[t][part]\n",
    "                count = omop.row_count(stg_name, schema='stage')\n",
    "                result.append([t, part, count])\n",
    "        else:\n",
    "            stg_name = STAGE[t]\n",
    "            count = omop.row_count(stg_name, schema='stage')\n",
    "            result.append([t, None, count])\n",
    "\n",
    "table_counts = pd.DataFrame(result, columns=['Table', 'Part', 'Stage_RC'])\n",
    "# table_counts.head(50)"
   ]
  },
  {
   "cell_type": "code",
   "execution_count": 6,
   "metadata": {},
   "outputs": [],
   "source": [
    "# table_counts"
   ]
  },
  {
   "cell_type": "code",
   "execution_count": 13,
   "metadata": {},
   "outputs": [],
   "source": [
    "count_diff = table_counts.groupby('Table').sum().reset_index()\n",
    "count_diff['Preload_RC'] = count_diff.Table.apply(lambda t: omop.row_count(t, schema='preload') if t not in ('death','person','visit_occurrence') else 0)\n",
    "count_diff['Load_RC'] = count_diff.Table.apply(lambda t: omop.row_count(t))\n",
    "count_diff['DeId_RC'] = count_diff.Table.apply(lambda t: omop.row_count(t, schema='hipaa'))"
   ]
  },
  {
   "cell_type": "code",
   "execution_count": 10,
   "metadata": {},
   "outputs": [],
   "source": [
    "# t_sbs = stage_t[find(['MEASUREMENT','DRUG','CONDITION','PROCEDURE','OBSERVATION'], stage_t.Table)].Table.tolist()"
   ]
  },
  {
   "cell_type": "code",
   "execution_count": 14,
   "metadata": {},
   "outputs": [
    {
     "name": "stdout",
     "output_type": "stream",
     "text": [
      "                  Table   Stage_RC  Preload_RC    Load_RC    DeId_RC\n",
      "0  condition_occurrence  111356597   114219578   93230054   93230054\n",
      "1                 death       9999           0       9999       9999\n",
      "2         drug_exposure  109144518   109425553  109420791  109420791\n",
      "3           measurement  542705876   626277119  623180440  623180440\n",
      "4           observation  109568227   109738696  155292632  155292632\n",
      "5                person     312040           0     312040     312040\n",
      "6  procedure_occurrence   40351525    40352038   18314103   18314103\n",
      "7      visit_occurrence   36432094           0   36429750   36429750\n"
     ]
    }
   ],
   "source": [
    "print(count_diff)"
   ]
  },
  {
   "cell_type": "code",
   "execution_count": null,
   "metadata": {},
   "outputs": [],
   "source": []
  },
  {
   "cell_type": "markdown",
   "metadata": {},
   "source": [
    "# Count concept ids"
   ]
  },
  {
   "cell_type": "code",
   "execution_count": null,
   "metadata": {},
   "outputs": [],
   "source": []
  },
  {
   "cell_type": "markdown",
   "metadata": {},
   "source": [
    "# Date range"
   ]
  },
  {
   "cell_type": "code",
   "execution_count": null,
   "metadata": {},
   "outputs": [],
   "source": []
  },
  {
   "cell_type": "markdown",
   "metadata": {},
   "source": [
    "# Test for bad values\n",
    "- bp - charindex('/',(bp),1) > 0\n",
    "- res_resp_mech - leng of value_source_value <=50"
   ]
  },
  {
   "cell_type": "code",
   "execution_count": null,
   "metadata": {},
   "outputs": [],
   "source": []
  }
 ],
 "metadata": {
  "interpreter": {
   "hash": "7c85ff1ad38d990bff1f8127f6f93832ae5b0f8f3376f1de851f2ae7a03d3a34"
  },
  "kernelspec": {
   "display_name": "Python 3.7.10 64-bit ('omop': conda)",
   "name": "python3"
  },
  "language_info": {
   "codemirror_mode": {
    "name": "ipython",
    "version": 3
   },
   "file_extension": ".py",
   "mimetype": "text/x-python",
   "name": "python",
   "nbconvert_exporter": "python",
   "pygments_lexer": "ipython3",
   "version": "3.7.10"
  }
 },
 "nbformat": 4,
 "nbformat_minor": 4
}
