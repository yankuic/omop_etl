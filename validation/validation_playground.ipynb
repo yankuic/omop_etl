{
 "cells": [
  {
   "cell_type": "code",
   "execution_count": 1,
   "metadata": {},
   "outputs": [
    {
     "name": "stdout",
     "output_type": "stream",
     "text": [
      "Z:\\Covid19\\Covid19_OMOP\\new_pipeline\n"
     ]
    }
   ],
   "source": [
    "import os\n",
    "import yaml\n",
    "\n",
    "os.chdir('Z:/Covid19/Covid19_OMOP/new_pipeline/')\n",
    "print(os.getcwd())\n",
    "\n",
    "import pandas as pd\n",
    "from omop_etl.load import Loader\n",
    "# from .omop_etl.stage import STAGE\n",
    "\n",
    "from pydma.utils import find"
   ]
  },
  {
   "cell_type": "code",
   "execution_count": 2,
   "metadata": {},
   "outputs": [],
   "source": [
    "omop = Loader('config.yml')\n",
    "STAGE = omop.stage"
   ]
  },
  {
   "cell_type": "markdown",
   "metadata": {},
   "source": [
    "# Row counts"
   ]
  },
  {
   "cell_type": "code",
   "execution_count": 3,
   "metadata": {},
   "outputs": [],
   "source": [
    "def find_key(input_dict, value):\n",
    "    return next((k for k, v in input_dict.items() if v == value), None)"
   ]
  },
  {
   "cell_type": "code",
   "execution_count": 4,
   "metadata": {},
   "outputs": [],
   "source": [
    "loaded = omop.config.load\n",
    "\n",
    "result = []\n",
    "for t in loaded.keys():\n",
    "    if t not in ['provider','care_site','location']:\n",
    "        if loaded[t]:\n",
    "            for part in loaded[t]:\n",
    "                stg_name = STAGE[t][part]\n",
    "                count = omop.row_count(stg_name, schema='stage')\n",
    "                result.append([t, part, count])\n",
    "        else:\n",
    "            stg_name = STAGE[t]\n",
    "            count = omop.row_count(stg_name, schema='stage')\n",
    "            result.append([t, None, count])\n",
    "\n",
    "table_counts = pd.DataFrame(result, columns=['Table', 'Part', 'Stage_RC'])\n",
    "# table_counts.head(50)"
   ]
  },
  {
   "cell_type": "code",
   "execution_count": 5,
   "metadata": {},
   "outputs": [],
   "source": [
    "# table_counts"
   ]
  },
  {
   "cell_type": "code",
   "execution_count": 6,
   "metadata": {},
   "outputs": [],
   "source": [
    "count_diff = table_counts.groupby('Table').sum().reset_index()\n",
    "count_diff['Preload_RC'] = count_diff.Table.apply(lambda t: omop.row_count(t, schema='preload') if t not in ('death','person','visit_occurrence') else 0)\n",
    "count_diff['Load_RC'] = count_diff.Table.apply(lambda t: omop.row_count(t))\n",
    "count_diff['DeId_RC'] = count_diff.Table.apply(lambda t: omop.row_count(t, schema='hipaa'))"
   ]
  },
  {
   "cell_type": "code",
   "execution_count": 7,
   "metadata": {},
   "outputs": [],
   "source": [
    "# t_sbs = stage_t[find(['MEASUREMENT','DRUG','CONDITION','PROCEDURE','OBSERVATION'], stage_t.Table)].Table.tolist()"
   ]
  },
  {
   "cell_type": "code",
   "execution_count": 8,
   "metadata": {},
   "outputs": [
    {
     "name": "stdout",
     "output_type": "stream",
     "text": [
      "                  Table   Stage_RC  Preload_RC    Load_RC    DeId_RC\n",
      "0  condition_occurrence   67002743    69174425   56801747   56801747\n",
      "1                 death       6301           0       6301       6301\n",
      "2         drug_exposure   73551749    73444222   73408463   73408463\n",
      "3           measurement  357397202   412434410  422814217  422814941\n",
      "4           observation   71381467    71486920   87570857   87570857\n",
      "5                person     204936           0     204935     204935\n",
      "6  procedure_occurrence   26568160    26462556   12009481   12009481\n",
      "7      visit_occurrence   23734186           0   23656621   23656621\n"
     ]
    }
   ],
   "source": [
    "print(count_diff)"
   ]
  },
  {
   "cell_type": "markdown",
   "metadata": {},
   "source": [
    "# Count concept ids"
   ]
  },
  {
   "cell_type": "code",
   "execution_count": null,
   "metadata": {},
   "outputs": [],
   "source": []
  },
  {
   "cell_type": "markdown",
   "metadata": {},
   "source": [
    "# Date range"
   ]
  },
  {
   "cell_type": "code",
   "execution_count": null,
   "metadata": {},
   "outputs": [],
   "source": []
  },
  {
   "cell_type": "markdown",
   "metadata": {},
   "source": []
  }
 ],
 "metadata": {
  "kernelspec": {
   "display_name": "Python 3",
   "language": "python",
   "name": "python3"
  },
  "language_info": {
   "codemirror_mode": {
    "name": "ipython",
    "version": 3
   },
   "file_extension": ".py",
   "mimetype": "text/x-python",
   "name": "python",
   "nbconvert_exporter": "python",
   "pygments_lexer": "ipython3",
   "version": "3.7.10"
  }
 },
 "nbformat": 4,
 "nbformat_minor": 4
}
