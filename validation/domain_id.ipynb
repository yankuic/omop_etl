{
 "cells": [
  {
   "cell_type": "code",
   "execution_count": 1,
   "metadata": {},
   "outputs": [],
   "source": [
    "import re\n",
    "import pandas as pd\n",
    "from omop_etl.load import Loader\n",
    "from omop_etl.utils import search, find"
   ]
  },
  {
   "cell_type": "code",
   "execution_count": 2,
   "metadata": {},
   "outputs": [],
   "source": [
    "omop = Loader('z:/Covid19/Covid19_OMOP/new_pipeline/config.yml')"
   ]
  },
  {
   "cell_type": "code",
   "execution_count": 3,
   "metadata": {},
   "outputs": [],
   "source": [
    "def domain_counts(table):\n",
    "    \n",
    "    dimension = table.split('_')[0]\n",
    "\n",
    "    with omop.engine.connect() as con:\n",
    "        dom = pd.read_sql('''\n",
    "        select distinct b.domain_id, count(*) N\n",
    "        from dbo.{0} a\n",
    "        join xref.concept b\n",
    "        on a.{1}_concept_id = b.concept_id\n",
    "        group by b.domain_id\n",
    "        '''.format(table, dimension), con)\n",
    "\n",
    "        return dom"
   ]
  },
  {
   "cell_type": "code",
   "execution_count": 4,
   "metadata": {},
   "outputs": [
    {
     "data": {
      "text/html": [
       "<div>\n",
       "<style scoped>\n",
       "    .dataframe tbody tr th:only-of-type {\n",
       "        vertical-align: middle;\n",
       "    }\n",
       "\n",
       "    .dataframe tbody tr th {\n",
       "        vertical-align: top;\n",
       "    }\n",
       "\n",
       "    .dataframe thead th {\n",
       "        text-align: right;\n",
       "    }\n",
       "</style>\n",
       "<table border=\"1\" class=\"dataframe\">\n",
       "  <thead>\n",
       "    <tr style=\"text-align: right;\">\n",
       "      <th></th>\n",
       "      <th>domain_id</th>\n",
       "      <th>N</th>\n",
       "    </tr>\n",
       "  </thead>\n",
       "  <tbody>\n",
       "    <tr>\n",
       "      <th>0</th>\n",
       "      <td>Metadata</td>\n",
       "      <td>363949</td>\n",
       "    </tr>\n",
       "    <tr>\n",
       "      <th>1</th>\n",
       "      <td>Condition</td>\n",
       "      <td>74748009</td>\n",
       "    </tr>\n",
       "  </tbody>\n",
       "</table>\n",
       "</div>"
      ],
      "text/plain": [
       "   domain_id         N\n",
       "0   Metadata    363949\n",
       "1  Condition  74748009"
      ]
     },
     "execution_count": 4,
     "metadata": {},
     "output_type": "execute_result"
    }
   ],
   "source": [
    "domain_counts('condition_occurrence')"
   ]
  },
  {
   "cell_type": "code",
   "execution_count": 5,
   "metadata": {},
   "outputs": [
    {
     "data": {
      "text/html": [
       "<div>\n",
       "<style scoped>\n",
       "    .dataframe tbody tr th:only-of-type {\n",
       "        vertical-align: middle;\n",
       "    }\n",
       "\n",
       "    .dataframe tbody tr th {\n",
       "        vertical-align: top;\n",
       "    }\n",
       "\n",
       "    .dataframe thead th {\n",
       "        text-align: right;\n",
       "    }\n",
       "</style>\n",
       "<table border=\"1\" class=\"dataframe\">\n",
       "  <thead>\n",
       "    <tr style=\"text-align: right;\">\n",
       "      <th></th>\n",
       "      <th>domain_id</th>\n",
       "      <th>N</th>\n",
       "    </tr>\n",
       "  </thead>\n",
       "  <tbody>\n",
       "    <tr>\n",
       "      <th>0</th>\n",
       "      <td>Observation</td>\n",
       "      <td>136112769</td>\n",
       "    </tr>\n",
       "  </tbody>\n",
       "</table>\n",
       "</div>"
      ],
      "text/plain": [
       "     domain_id          N\n",
       "0  Observation  136112769"
      ]
     },
     "execution_count": 5,
     "metadata": {},
     "output_type": "execute_result"
    }
   ],
   "source": [
    "domain_counts('observation')"
   ]
  },
  {
   "cell_type": "code",
   "execution_count": 6,
   "metadata": {},
   "outputs": [
    {
     "data": {
      "text/html": [
       "<div>\n",
       "<style scoped>\n",
       "    .dataframe tbody tr th:only-of-type {\n",
       "        vertical-align: middle;\n",
       "    }\n",
       "\n",
       "    .dataframe tbody tr th {\n",
       "        vertical-align: top;\n",
       "    }\n",
       "\n",
       "    .dataframe thead th {\n",
       "        text-align: right;\n",
       "    }\n",
       "</style>\n",
       "<table border=\"1\" class=\"dataframe\">\n",
       "  <thead>\n",
       "    <tr style=\"text-align: right;\">\n",
       "      <th></th>\n",
       "      <th>domain_id</th>\n",
       "      <th>N</th>\n",
       "    </tr>\n",
       "  </thead>\n",
       "  <tbody>\n",
       "    <tr>\n",
       "      <th>0</th>\n",
       "      <td>Measurement</td>\n",
       "      <td>520105066</td>\n",
       "    </tr>\n",
       "    <tr>\n",
       "      <th>1</th>\n",
       "      <td>Metadata</td>\n",
       "      <td>31671828</td>\n",
       "    </tr>\n",
       "  </tbody>\n",
       "</table>\n",
       "</div>"
      ],
      "text/plain": [
       "     domain_id          N\n",
       "0  Measurement  520105066\n",
       "1     Metadata   31671828"
      ]
     },
     "execution_count": 6,
     "metadata": {},
     "output_type": "execute_result"
    }
   ],
   "source": [
    "domain_counts('measurement')"
   ]
  },
  {
   "cell_type": "code",
   "execution_count": 7,
   "metadata": {},
   "outputs": [
    {
     "data": {
      "text/html": [
       "<div>\n",
       "<style scoped>\n",
       "    .dataframe tbody tr th:only-of-type {\n",
       "        vertical-align: middle;\n",
       "    }\n",
       "\n",
       "    .dataframe tbody tr th {\n",
       "        vertical-align: top;\n",
       "    }\n",
       "\n",
       "    .dataframe thead th {\n",
       "        text-align: right;\n",
       "    }\n",
       "</style>\n",
       "<table border=\"1\" class=\"dataframe\">\n",
       "  <thead>\n",
       "    <tr style=\"text-align: right;\">\n",
       "      <th></th>\n",
       "      <th>domain_id</th>\n",
       "      <th>N</th>\n",
       "    </tr>\n",
       "  </thead>\n",
       "  <tbody>\n",
       "    <tr>\n",
       "      <th>0</th>\n",
       "      <td>Metadata</td>\n",
       "      <td>1716043</td>\n",
       "    </tr>\n",
       "    <tr>\n",
       "      <th>1</th>\n",
       "      <td>Procedure</td>\n",
       "      <td>14527678</td>\n",
       "    </tr>\n",
       "  </tbody>\n",
       "</table>\n",
       "</div>"
      ],
      "text/plain": [
       "   domain_id         N\n",
       "0   Metadata   1716043\n",
       "1  Procedure  14527678"
      ]
     },
     "execution_count": 7,
     "metadata": {},
     "output_type": "execute_result"
    }
   ],
   "source": [
    "domain_counts('procedure_occurrence')"
   ]
  },
  {
   "cell_type": "code",
   "execution_count": 8,
   "metadata": {},
   "outputs": [
    {
     "data": {
      "text/html": [
       "<div>\n",
       "<style scoped>\n",
       "    .dataframe tbody tr th:only-of-type {\n",
       "        vertical-align: middle;\n",
       "    }\n",
       "\n",
       "    .dataframe tbody tr th {\n",
       "        vertical-align: top;\n",
       "    }\n",
       "\n",
       "    .dataframe thead th {\n",
       "        text-align: right;\n",
       "    }\n",
       "</style>\n",
       "<table border=\"1\" class=\"dataframe\">\n",
       "  <thead>\n",
       "    <tr style=\"text-align: right;\">\n",
       "      <th></th>\n",
       "      <th>domain_id</th>\n",
       "      <th>N</th>\n",
       "    </tr>\n",
       "  </thead>\n",
       "  <tbody>\n",
       "    <tr>\n",
       "      <th>0</th>\n",
       "      <td>Drug</td>\n",
       "      <td>96169798</td>\n",
       "    </tr>\n",
       "    <tr>\n",
       "      <th>1</th>\n",
       "      <td>Metadata</td>\n",
       "      <td>354337</td>\n",
       "    </tr>\n",
       "  </tbody>\n",
       "</table>\n",
       "</div>"
      ],
      "text/plain": [
       "  domain_id         N\n",
       "0      Drug  96169798\n",
       "1  Metadata    354337"
      ]
     },
     "execution_count": 8,
     "metadata": {},
     "output_type": "execute_result"
    }
   ],
   "source": [
    "domain_counts('drug_exposure')"
   ]
  },
  {
   "cell_type": "markdown",
   "metadata": {},
   "source": [
    "# Procedure -> measurement"
   ]
  },
  {
   "cell_type": "code",
   "execution_count": 23,
   "metadata": {},
   "outputs": [],
   "source": [
    "with omop.engine.connect() as con:\n",
    "    cpt_to_meas = pd.read_sql('''\n",
    "    select distinct procedure_source_value\n",
    "        ,vocabulary_id, domain_id\n",
    "        ,CPT_CD_TYPE, CPT_CD_LVL1_DESC\n",
    "        ,CPT_CD_LVL2_DESC, count(distinct CPT_CD) N \n",
    "    from preload.procedure_occurrence a\n",
    "    join xref.concept b\n",
    "    on a.procedure_concept_id = b.concept_id\n",
    "    join dws_prod.dbo.ALL_CPT_PROCEDURE_CODES c\n",
    "    on a.procedure_source_value = c.CPT_CD\n",
    "    where domain_id = 'Measurement' -- @domain\n",
    "    and CPT_CD_TYPE = 'CPT'\n",
    "    group by procedure_source_value, vocabulary_id, domain_id, CPT_CD_TYPE, CPT_CD_LVL1_DESC,CPT_CD_LVL2_DESC\n",
    "    order by procedure_source_value\n",
    "    ''', con)"
   ]
  },
  {
   "cell_type": "code",
   "execution_count": 21,
   "metadata": {},
   "outputs": [],
   "source": [
    "# cpt_to_meas.to_csv('cpt_codes.csv', index=False)"
   ]
  },
  {
   "cell_type": "code",
   "execution_count": 31,
   "metadata": {},
   "outputs": [
    {
     "data": {
      "text/html": [
       "<div>\n",
       "<style scoped>\n",
       "    .dataframe tbody tr th:only-of-type {\n",
       "        vertical-align: middle;\n",
       "    }\n",
       "\n",
       "    .dataframe tbody tr th {\n",
       "        vertical-align: top;\n",
       "    }\n",
       "\n",
       "    .dataframe thead th {\n",
       "        text-align: right;\n",
       "    }\n",
       "</style>\n",
       "<table border=\"1\" class=\"dataframe\">\n",
       "  <thead>\n",
       "    <tr style=\"text-align: right;\">\n",
       "      <th></th>\n",
       "      <th>procedure_source_value</th>\n",
       "      <th>vocabulary_id</th>\n",
       "      <th>domain_id</th>\n",
       "      <th>CPT_CD_TYPE</th>\n",
       "      <th>CPT_CD_LVL1_DESC</th>\n",
       "      <th>CPT_CD_LVL2_DESC</th>\n",
       "      <th>N</th>\n",
       "    </tr>\n",
       "  </thead>\n",
       "  <tbody>\n",
       "    <tr>\n",
       "      <th>112</th>\n",
       "      <td>82003</td>\n",
       "      <td>CPT4</td>\n",
       "      <td>Measurement</td>\n",
       "      <td>CPT</td>\n",
       "      <td>80000-89398 Pathology and Laboratory Tests</td>\n",
       "      <td>82000-84999 Chemistry Pathology and Laboratory...</td>\n",
       "      <td>1</td>\n",
       "    </tr>\n",
       "    <tr>\n",
       "      <th>113</th>\n",
       "      <td>82009</td>\n",
       "      <td>CPT4</td>\n",
       "      <td>Measurement</td>\n",
       "      <td>CPT</td>\n",
       "      <td>1011136 Pathology and Laboratory Procedures</td>\n",
       "      <td>1011237 Chemistry Procedures</td>\n",
       "      <td>1</td>\n",
       "    </tr>\n",
       "    <tr>\n",
       "      <th>114</th>\n",
       "      <td>82010</td>\n",
       "      <td>CPT4</td>\n",
       "      <td>Measurement</td>\n",
       "      <td>CPT</td>\n",
       "      <td>1011136 Pathology and Laboratory Procedures</td>\n",
       "      <td>1011237 Chemistry Procedures</td>\n",
       "      <td>1</td>\n",
       "    </tr>\n",
       "    <tr>\n",
       "      <th>115</th>\n",
       "      <td>82017</td>\n",
       "      <td>CPT4</td>\n",
       "      <td>Measurement</td>\n",
       "      <td>CPT</td>\n",
       "      <td>1011136 Pathology and Laboratory Procedures</td>\n",
       "      <td>1011237 Chemistry Procedures</td>\n",
       "      <td>1</td>\n",
       "    </tr>\n",
       "    <tr>\n",
       "      <th>116</th>\n",
       "      <td>82024</td>\n",
       "      <td>CPT4</td>\n",
       "      <td>Measurement</td>\n",
       "      <td>CPT</td>\n",
       "      <td>1011136 Pathology and Laboratory Procedures</td>\n",
       "      <td>1011237 Chemistry Procedures</td>\n",
       "      <td>1</td>\n",
       "    </tr>\n",
       "    <tr>\n",
       "      <th>...</th>\n",
       "      <td>...</td>\n",
       "      <td>...</td>\n",
       "      <td>...</td>\n",
       "      <td>...</td>\n",
       "      <td>...</td>\n",
       "      <td>...</td>\n",
       "      <td>...</td>\n",
       "    </tr>\n",
       "    <tr>\n",
       "      <th>368</th>\n",
       "      <td>84630</td>\n",
       "      <td>CPT4</td>\n",
       "      <td>Measurement</td>\n",
       "      <td>CPT</td>\n",
       "      <td>1011136 Pathology and Laboratory Procedures</td>\n",
       "      <td>1011237 Chemistry Procedures</td>\n",
       "      <td>1</td>\n",
       "    </tr>\n",
       "    <tr>\n",
       "      <th>369</th>\n",
       "      <td>84681</td>\n",
       "      <td>CPT4</td>\n",
       "      <td>Measurement</td>\n",
       "      <td>CPT</td>\n",
       "      <td>1011136 Pathology and Laboratory Procedures</td>\n",
       "      <td>1011237 Chemistry Procedures</td>\n",
       "      <td>1</td>\n",
       "    </tr>\n",
       "    <tr>\n",
       "      <th>370</th>\n",
       "      <td>84702</td>\n",
       "      <td>CPT4</td>\n",
       "      <td>Measurement</td>\n",
       "      <td>CPT</td>\n",
       "      <td>1011136 Pathology and Laboratory Procedures</td>\n",
       "      <td>1011237 Chemistry Procedures</td>\n",
       "      <td>1</td>\n",
       "    </tr>\n",
       "    <tr>\n",
       "      <th>371</th>\n",
       "      <td>84703</td>\n",
       "      <td>CPT4</td>\n",
       "      <td>Measurement</td>\n",
       "      <td>CPT</td>\n",
       "      <td>1011136 Pathology and Laboratory Procedures</td>\n",
       "      <td>1011237 Chemistry Procedures</td>\n",
       "      <td>1</td>\n",
       "    </tr>\n",
       "    <tr>\n",
       "      <th>372</th>\n",
       "      <td>84999</td>\n",
       "      <td>CPT4</td>\n",
       "      <td>Measurement</td>\n",
       "      <td>CPT</td>\n",
       "      <td>1011136 Pathology and Laboratory Procedures</td>\n",
       "      <td>1011237 Chemistry Procedures</td>\n",
       "      <td>1</td>\n",
       "    </tr>\n",
       "  </tbody>\n",
       "</table>\n",
       "<p>261 rows × 7 columns</p>\n",
       "</div>"
      ],
      "text/plain": [
       "    procedure_source_value vocabulary_id    domain_id CPT_CD_TYPE  \\\n",
       "112                  82003          CPT4  Measurement         CPT   \n",
       "113                  82009          CPT4  Measurement         CPT   \n",
       "114                  82010          CPT4  Measurement         CPT   \n",
       "115                  82017          CPT4  Measurement         CPT   \n",
       "116                  82024          CPT4  Measurement         CPT   \n",
       "..                     ...           ...          ...         ...   \n",
       "368                  84630          CPT4  Measurement         CPT   \n",
       "369                  84681          CPT4  Measurement         CPT   \n",
       "370                  84702          CPT4  Measurement         CPT   \n",
       "371                  84703          CPT4  Measurement         CPT   \n",
       "372                  84999          CPT4  Measurement         CPT   \n",
       "\n",
       "                                CPT_CD_LVL1_DESC  \\\n",
       "112   80000-89398 Pathology and Laboratory Tests   \n",
       "113  1011136 Pathology and Laboratory Procedures   \n",
       "114  1011136 Pathology and Laboratory Procedures   \n",
       "115  1011136 Pathology and Laboratory Procedures   \n",
       "116  1011136 Pathology and Laboratory Procedures   \n",
       "..                                           ...   \n",
       "368  1011136 Pathology and Laboratory Procedures   \n",
       "369  1011136 Pathology and Laboratory Procedures   \n",
       "370  1011136 Pathology and Laboratory Procedures   \n",
       "371  1011136 Pathology and Laboratory Procedures   \n",
       "372  1011136 Pathology and Laboratory Procedures   \n",
       "\n",
       "                                      CPT_CD_LVL2_DESC  N  \n",
       "112  82000-84999 Chemistry Pathology and Laboratory...  1  \n",
       "113                       1011237 Chemistry Procedures  1  \n",
       "114                       1011237 Chemistry Procedures  1  \n",
       "115                       1011237 Chemistry Procedures  1  \n",
       "116                       1011237 Chemistry Procedures  1  \n",
       "..                                                 ... ..  \n",
       "368                       1011237 Chemistry Procedures  1  \n",
       "369                       1011237 Chemistry Procedures  1  \n",
       "370                       1011237 Chemistry Procedures  1  \n",
       "371                       1011237 Chemistry Procedures  1  \n",
       "372                       1011237 Chemistry Procedures  1  \n",
       "\n",
       "[261 rows x 7 columns]"
      ]
     },
     "execution_count": 31,
     "metadata": {},
     "output_type": "execute_result"
    }
   ],
   "source": [
    "cpt_to_meas[find('Chemistry', cpt_to_meas.CPT_CD_LVL2_DESC)]"
   ]
  },
  {
   "cell_type": "markdown",
   "metadata": {},
   "source": [
    "# Condition -> Observation"
   ]
  },
  {
   "cell_type": "code",
   "execution_count": 36,
   "metadata": {},
   "outputs": [],
   "source": [
    "with omop.engine.connect() as con:\n",
    "    icd_to_obs = pd.read_sql('''\n",
    "    select distinct \n",
    "         ICD_TYPE\n",
    "        ,DIAG_CD_LVL2_DESC as [DESC]\n",
    "        ,count(distinct condition_source_value) N\n",
    "    from preload.condition_occurrence a\n",
    "    join xref.concept b\n",
    "    on a.condition_concept_id = b.concept_id\n",
    "    join dws_prod.dbo.ALL_ICD_DIAGNOSIS_CODES c\n",
    "    on a.condition_source_value = c.DIAG_CD_DECML\n",
    "    where domain_id = 'Observation'\n",
    "    group by ICD_TYPE, DIAG_CD_LVL2_DESC\n",
    "    ''', con)"
   ]
  },
  {
   "cell_type": "code",
   "execution_count": 47,
   "metadata": {},
   "outputs": [],
   "source": [
    "icd_to_obs['Range'] = icd_to_obs.DESC.apply(lambda s: s.split(' ', 1)[0] if search('-[0-9A-Z]', s) else '')\n",
    "icd_to_obs['DESC'] = icd_to_obs.DESC.apply(lambda s: s.split(' ', 1)[1] if search('-[0-9A-Z]', s) else s)\n",
    "icd_to_obs['DESC'] = icd_to_obs.DESC.apply(lambda s: re.sub('\\(.*\\)$','',s).lower().capitalize().strip())"
   ]
  },
  {
   "cell_type": "code",
   "execution_count": 61,
   "metadata": {},
   "outputs": [],
   "source": [
    "# icd_to_obs"
   ]
  },
  {
   "cell_type": "code",
   "execution_count": 65,
   "metadata": {},
   "outputs": [
    {
     "data": {
      "text/html": [
       "<div>\n",
       "<style scoped>\n",
       "    .dataframe tbody tr th:only-of-type {\n",
       "        vertical-align: middle;\n",
       "    }\n",
       "\n",
       "    .dataframe tbody tr th {\n",
       "        vertical-align: top;\n",
       "    }\n",
       "\n",
       "    .dataframe thead th {\n",
       "        text-align: right;\n",
       "    }\n",
       "</style>\n",
       "<table border=\"1\" class=\"dataframe\">\n",
       "  <thead>\n",
       "    <tr style=\"text-align: right;\">\n",
       "      <th></th>\n",
       "      <th>ICD_TYPE</th>\n",
       "      <th>DESC</th>\n",
       "      <th>N</th>\n",
       "      <th>Range</th>\n",
       "    </tr>\n",
       "  </thead>\n",
       "  <tbody>\n",
       "    <tr>\n",
       "      <th>4</th>\n",
       "      <td>ICD10</td>\n",
       "      <td>Supplementary factors related to causes of mor...</td>\n",
       "      <td>1</td>\n",
       "      <td></td>\n",
       "    </tr>\n",
       "    <tr>\n",
       "      <th>116</th>\n",
       "      <td>ICD10</td>\n",
       "      <td>Supplementary factors related to causes of mor...</td>\n",
       "      <td>269</td>\n",
       "      <td>Y90-Y99</td>\n",
       "    </tr>\n",
       "  </tbody>\n",
       "</table>\n",
       "</div>"
      ],
      "text/plain": [
       "    ICD_TYPE                                               DESC    N    Range\n",
       "4      ICD10  Supplementary factors related to causes of mor...    1         \n",
       "116    ICD10  Supplementary factors related to causes of mor...  269  Y90-Y99"
      ]
     },
     "execution_count": 65,
     "metadata": {},
     "output_type": "execute_result"
    }
   ],
   "source": [
    "icd_to_obs[find('Supple', icd_to_obs.DESC)]"
   ]
  },
  {
   "cell_type": "code",
   "execution_count": 85,
   "metadata": {},
   "outputs": [],
   "source": [
    "icd_grouped = icd_to_obs.groupby(['ICD_TYPE', 'DESC']).sum()\n",
    "icd_grouped['Code range'] = (icd_to_obs.groupby(['ICD_TYPE', 'DESC']).last()).Range\n",
    "icd_grouped = icd_grouped.reset_index()\n",
    "icd_grouped['DESC'] = icd_grouped.apply(lambda r: r.DESC + f\" ({r['Code range']})\", axis=1)"
   ]
  },
  {
   "cell_type": "code",
   "execution_count": 87,
   "metadata": {
    "tags": []
   },
   "outputs": [],
   "source": [
    "# icd_grouped.to_csv('icd_to_observation.csv', index=False)"
   ]
  },
  {
   "cell_type": "markdown",
   "metadata": {},
   "source": [
    "# Procedures"
   ]
  },
  {
   "cell_type": "code",
   "execution_count": 88,
   "metadata": {},
   "outputs": [],
   "source": [
    "with omop.engine.connect() as con:\n",
    "    cpt = pd.read_sql('''\n",
    "    select distinct procedure_source_value, vocabulary_id, domain_id, CPT_CD_TYPE, CPT_CD_LVL1_DESC,CPT_CD_LVL2_DESC \n",
    "    from preload.procedure_occurrence a\n",
    "    join xref.concept b\n",
    "    on a.procedure_concept_id = b.concept_id\n",
    "    join dws_prod.dbo.ALL_CPT_PROCEDURE_CODES c\n",
    "    on a.procedure_source_value = c.CPT_CD\n",
    "    where domain_id = 'Procedure'\n",
    "    and CPT_CD_TYPE = 'CPT'\n",
    "    order by procedure_source_value\n",
    "    ''', con)"
   ]
  },
  {
   "cell_type": "code",
   "execution_count": 89,
   "metadata": {},
   "outputs": [
    {
     "data": {
      "text/html": [
       "<div>\n",
       "<style scoped>\n",
       "    .dataframe tbody tr th:only-of-type {\n",
       "        vertical-align: middle;\n",
       "    }\n",
       "\n",
       "    .dataframe tbody tr th {\n",
       "        vertical-align: top;\n",
       "    }\n",
       "\n",
       "    .dataframe thead th {\n",
       "        text-align: right;\n",
       "    }\n",
       "</style>\n",
       "<table border=\"1\" class=\"dataframe\">\n",
       "  <thead>\n",
       "    <tr style=\"text-align: right;\">\n",
       "      <th></th>\n",
       "      <th>procedure_source_value</th>\n",
       "      <th>vocabulary_id</th>\n",
       "      <th>domain_id</th>\n",
       "      <th>CPT_CD_TYPE</th>\n",
       "      <th>CPT_CD_LVL1_DESC</th>\n",
       "      <th>CPT_CD_LVL2_DESC</th>\n",
       "    </tr>\n",
       "  </thead>\n",
       "  <tbody>\n",
       "    <tr>\n",
       "      <th>0</th>\n",
       "      <td>00100</td>\n",
       "      <td>CPT4</td>\n",
       "      <td>Procedure</td>\n",
       "      <td>CPT</td>\n",
       "      <td>1002796 Anesthesia</td>\n",
       "      <td>1002797 Anesthesia for Procedures on the Head</td>\n",
       "    </tr>\n",
       "    <tr>\n",
       "      <th>1</th>\n",
       "      <td>00102</td>\n",
       "      <td>CPT4</td>\n",
       "      <td>Procedure</td>\n",
       "      <td>CPT</td>\n",
       "      <td>1002796 Anesthesia</td>\n",
       "      <td>1002797 Anesthesia for Procedures on the Head</td>\n",
       "    </tr>\n",
       "    <tr>\n",
       "      <th>2</th>\n",
       "      <td>00103</td>\n",
       "      <td>CPT4</td>\n",
       "      <td>Procedure</td>\n",
       "      <td>CPT</td>\n",
       "      <td>1002796 Anesthesia</td>\n",
       "      <td>1002797 Anesthesia for Procedures on the Head</td>\n",
       "    </tr>\n",
       "    <tr>\n",
       "      <th>3</th>\n",
       "      <td>00104</td>\n",
       "      <td>CPT4</td>\n",
       "      <td>Procedure</td>\n",
       "      <td>CPT</td>\n",
       "      <td>1002796 Anesthesia</td>\n",
       "      <td>1002797 Anesthesia for Procedures on the Head</td>\n",
       "    </tr>\n",
       "    <tr>\n",
       "      <th>4</th>\n",
       "      <td>00120</td>\n",
       "      <td>CPT4</td>\n",
       "      <td>Procedure</td>\n",
       "      <td>CPT</td>\n",
       "      <td>1002796 Anesthesia</td>\n",
       "      <td>1002797 Anesthesia for Procedures on the Head</td>\n",
       "    </tr>\n",
       "    <tr>\n",
       "      <th>...</th>\n",
       "      <td>...</td>\n",
       "      <td>...</td>\n",
       "      <td>...</td>\n",
       "      <td>...</td>\n",
       "      <td>...</td>\n",
       "      <td>...</td>\n",
       "    </tr>\n",
       "    <tr>\n",
       "      <th>6987</th>\n",
       "      <td>99495</td>\n",
       "      <td>CPT4</td>\n",
       "      <td>Procedure</td>\n",
       "      <td>CPT</td>\n",
       "      <td>1013625 Evaluation and Management Services</td>\n",
       "      <td>1021131 Transitional Care Evaluation and Manag...</td>\n",
       "    </tr>\n",
       "    <tr>\n",
       "      <th>6988</th>\n",
       "      <td>99496</td>\n",
       "      <td>CPT4</td>\n",
       "      <td>Procedure</td>\n",
       "      <td>CPT</td>\n",
       "      <td>1013625 Evaluation and Management Services</td>\n",
       "      <td>1021131 Transitional Care Evaluation and Manag...</td>\n",
       "    </tr>\n",
       "    <tr>\n",
       "      <th>6989</th>\n",
       "      <td>99497</td>\n",
       "      <td>CPT4</td>\n",
       "      <td>Procedure</td>\n",
       "      <td>CPT</td>\n",
       "      <td>1013625 Evaluation and Management Services</td>\n",
       "      <td>1021844 Advance Care Planning Evaluation and M...</td>\n",
       "    </tr>\n",
       "    <tr>\n",
       "      <th>6990</th>\n",
       "      <td>99498</td>\n",
       "      <td>CPT4</td>\n",
       "      <td>Procedure</td>\n",
       "      <td>CPT</td>\n",
       "      <td>1013625 Evaluation and Management Services</td>\n",
       "      <td>1021844 Advance Care Planning Evaluation and M...</td>\n",
       "    </tr>\n",
       "    <tr>\n",
       "      <th>6991</th>\n",
       "      <td>99499</td>\n",
       "      <td>CPT4</td>\n",
       "      <td>Procedure</td>\n",
       "      <td>CPT</td>\n",
       "      <td>1013625 Evaluation and Management Services</td>\n",
       "      <td>1013875 Other Evaluation and Management Services</td>\n",
       "    </tr>\n",
       "  </tbody>\n",
       "</table>\n",
       "<p>6992 rows × 6 columns</p>\n",
       "</div>"
      ],
      "text/plain": [
       "     procedure_source_value vocabulary_id  domain_id CPT_CD_TYPE  \\\n",
       "0                     00100          CPT4  Procedure         CPT   \n",
       "1                     00102          CPT4  Procedure         CPT   \n",
       "2                     00103          CPT4  Procedure         CPT   \n",
       "3                     00104          CPT4  Procedure         CPT   \n",
       "4                     00120          CPT4  Procedure         CPT   \n",
       "...                     ...           ...        ...         ...   \n",
       "6987                  99495          CPT4  Procedure         CPT   \n",
       "6988                  99496          CPT4  Procedure         CPT   \n",
       "6989                  99497          CPT4  Procedure         CPT   \n",
       "6990                  99498          CPT4  Procedure         CPT   \n",
       "6991                  99499          CPT4  Procedure         CPT   \n",
       "\n",
       "                                CPT_CD_LVL1_DESC  \\\n",
       "0                             1002796 Anesthesia   \n",
       "1                             1002796 Anesthesia   \n",
       "2                             1002796 Anesthesia   \n",
       "3                             1002796 Anesthesia   \n",
       "4                             1002796 Anesthesia   \n",
       "...                                          ...   \n",
       "6987  1013625 Evaluation and Management Services   \n",
       "6988  1013625 Evaluation and Management Services   \n",
       "6989  1013625 Evaluation and Management Services   \n",
       "6990  1013625 Evaluation and Management Services   \n",
       "6991  1013625 Evaluation and Management Services   \n",
       "\n",
       "                                       CPT_CD_LVL2_DESC  \n",
       "0         1002797 Anesthesia for Procedures on the Head  \n",
       "1         1002797 Anesthesia for Procedures on the Head  \n",
       "2         1002797 Anesthesia for Procedures on the Head  \n",
       "3         1002797 Anesthesia for Procedures on the Head  \n",
       "4         1002797 Anesthesia for Procedures on the Head  \n",
       "...                                                 ...  \n",
       "6987  1021131 Transitional Care Evaluation and Manag...  \n",
       "6988  1021131 Transitional Care Evaluation and Manag...  \n",
       "6989  1021844 Advance Care Planning Evaluation and M...  \n",
       "6990  1021844 Advance Care Planning Evaluation and M...  \n",
       "6991   1013875 Other Evaluation and Management Services  \n",
       "\n",
       "[6992 rows x 6 columns]"
      ]
     },
     "execution_count": 89,
     "metadata": {},
     "output_type": "execute_result"
    }
   ],
   "source": [
    "cpt"
   ]
  },
  {
   "cell_type": "code",
   "execution_count": 93,
   "metadata": {},
   "outputs": [],
   "source": [
    "cpt['Desc'] = cpt.CPT_CD_LVL1_DESC.apply(lambda s: s.split(' ', 1)[1] if search('[0-9]', s) else '')"
   ]
  },
  {
   "cell_type": "code",
   "execution_count": 97,
   "metadata": {},
   "outputs": [],
   "source": [
    "cpt['Desc2'] = cpt.CPT_CD_LVL2_DESC.apply(lambda s: s.split(' ', 1)[1] if search('[0-9]', s) else '')"
   ]
  },
  {
   "cell_type": "code",
   "execution_count": 99,
   "metadata": {},
   "outputs": [],
   "source": [
    "cpt_sum = cpt.groupby(['Desc','Desc2']).count()"
   ]
  },
  {
   "cell_type": "code",
   "execution_count": 1,
   "metadata": {},
   "outputs": [],
   "source": [
    "# cpt_sum.to_csv('cpt_proc.csv')"
   ]
  },
  {
   "cell_type": "markdown",
   "metadata": {},
   "source": [
    "# Drug classes"
   ]
  },
  {
   "cell_type": "code",
   "execution_count": 7,
   "metadata": {},
   "outputs": [],
   "source": [
    "import requests"
   ]
  },
  {
   "cell_type": "code",
   "execution_count": 4,
   "metadata": {},
   "outputs": [
    {
     "data": {
      "text/html": [
       "<div>\n",
       "<style scoped>\n",
       "    .dataframe tbody tr th:only-of-type {\n",
       "        vertical-align: middle;\n",
       "    }\n",
       "\n",
       "    .dataframe tbody tr th {\n",
       "        vertical-align: top;\n",
       "    }\n",
       "\n",
       "    .dataframe thead th {\n",
       "        text-align: right;\n",
       "    }\n",
       "</style>\n",
       "<table border=\"1\" class=\"dataframe\">\n",
       "  <thead>\n",
       "    <tr style=\"text-align: right;\">\n",
       "      <th></th>\n",
       "      <th>drug_source_value</th>\n",
       "    </tr>\n",
       "  </thead>\n",
       "  <tbody>\n",
       "    <tr>\n",
       "      <th>0</th>\n",
       "      <td>2052814</td>\n",
       "    </tr>\n",
       "    <tr>\n",
       "      <th>1</th>\n",
       "      <td>197407</td>\n",
       "    </tr>\n",
       "    <tr>\n",
       "      <th>2</th>\n",
       "      <td>142442</td>\n",
       "    </tr>\n",
       "    <tr>\n",
       "      <th>3</th>\n",
       "      <td>1928686</td>\n",
       "    </tr>\n",
       "    <tr>\n",
       "      <th>4</th>\n",
       "      <td>8214</td>\n",
       "    </tr>\n",
       "  </tbody>\n",
       "</table>\n",
       "</div>"
      ],
      "text/plain": [
       "  drug_source_value\n",
       "0           2052814\n",
       "1            197407\n",
       "2            142442\n",
       "3           1928686\n",
       "4              8214"
      ]
     },
     "execution_count": 4,
     "metadata": {},
     "output_type": "execute_result"
    }
   ],
   "source": [
    "with omop.engine.connect() as con:\n",
    "    rxcui = pd.read_sql('''\n",
    "        select distinct drug_source_value\n",
    "        from preload.drug_exposure a\n",
    "        join xref.concept b\n",
    "        on a.drug_concept_id = b.concept_id\n",
    "        where b.domain_id = 'Drug'\n",
    "    ''', con)\n",
    "\n",
    "rxcui.head()"
   ]
  },
  {
   "cell_type": "code",
   "execution_count": 5,
   "metadata": {},
   "outputs": [],
   "source": [
    "from multiprocessing import Pool"
   ]
  },
  {
   "cell_type": "code",
   "execution_count": 53,
   "metadata": {},
   "outputs": [],
   "source": [
    "rxclasses = []\n",
    "failed = {}\n",
    "results = {}\n",
    "\n",
    "def pull_request(rxcui, relaSource = None, rela = None):\n",
    "    if relaSource:\n",
    "        relaSource = f'&relaSource={relaSource}'\n",
    "    if relaSource and rela:\n",
    "        relaSource = f'{relaSource}&rela={rela}'\n",
    "    url = f'https://rxnav.nlm.nih.gov/REST/rxclass/class/byRxcui.json?rxcui={rxcui}{relaSource or \"\"}'\n",
    "    return requests.get(url).json()\n",
    "\n",
    "for rx in rxcui.drug_source_value:\n",
    "    resp = pull_request(rx, relaSource='VA', rela='has_VAClass')\n",
    "    info = resp.get('rxclassDrugInfoList')\n",
    "    if info:\n",
    "        results[rx] = resp\n",
    "        rxclass = resp['rxclassDrugInfoList']['rxclassDrugInfo'][0]['rxclassMinConceptItem']['className']\n",
    "        rxclasses.append((rx, rxclass))\n",
    "    else: \n",
    "        resp = pull_request(rx)\n",
    "        failed[rx] = resp\n",
    "        \n",
    "#     infoList = resp.get('rxclassDrugInfoList')\n",
    "    \n",
    "#     if infoList:\n",
    "#         \n",
    "#     else:\n",
    "#         url = f'https://rxnav.nlm.nih.gov/REST/rxclass/class/byRxcui.json?rxcui={rx}&relaSource=FDASPL'\n",
    "#         resp = requests.get(url).json()\n",
    "#         failed[rx] = resp"
   ]
  },
  {
   "cell_type": "code",
   "execution_count": 45,
   "metadata": {},
   "outputs": [
    {
     "data": {
      "text/plain": [
       "[('197407', 'ANTI-INFLAMMATORY,TOPICAL'),\n",
       " ('142442', 'NONSALICYLATE NSAIs,ANTIRHEUMATIC'),\n",
       " ('1928686', 'IMMUNE SUPPRESSANTS'),\n",
       " ('8214', 'LIPID SUPPLEMENTS'),\n",
       " ('905455', 'THYROID SUPPLEMENTS'),\n",
       " ('636522', 'NON-OPIOID-CONTAINING ANTITUSSIVES/EXPECTORANTS'),\n",
       " ('142432', 'ANTIHYPERTENSIVES,OTHER'),\n",
       " ('197668', 'ESTROGENS')]"
      ]
     },
     "execution_count": 45,
     "metadata": {},
     "output_type": "execute_result"
    }
   ],
   "source": [
    "rxclasses"
   ]
  },
  {
   "cell_type": "code",
   "execution_count": 59,
   "metadata": {},
   "outputs": [],
   "source": [
    "# failed.get('9641').get('rxclassDrugInfoList')"
   ]
  },
  {
   "cell_type": "code",
   "execution_count": 54,
   "metadata": {},
   "outputs": [
    {
     "data": {
      "text/plain": [
       "302"
      ]
     },
     "execution_count": 54,
     "metadata": {},
     "output_type": "execute_result"
    }
   ],
   "source": [
    "len(set(list(zip(*rxclasses))[1]))"
   ]
  },
  {
   "cell_type": "code",
   "execution_count": 57,
   "metadata": {},
   "outputs": [
    {
     "data": {
      "text/plain": [
       "7178"
      ]
     },
     "execution_count": 57,
     "metadata": {},
     "output_type": "execute_result"
    }
   ],
   "source": [
    "len(set(list(zip(*rxclasses))[0]))"
   ]
  },
  {
   "cell_type": "code",
   "execution_count": 121,
   "metadata": {},
   "outputs": [
    {
     "name": "stdout",
     "output_type": "stream",
     "text": [
      "{'Phytosterols'}\n",
      "{'Selenium'}\n",
      "{'Benzethonium', 'Lidocaine', 'Amides'}\n",
      "{'Plant Extracts'}\n",
      "Empty: {('Unknown Cellular or Molecular Interaction', 'MEDRT', 'has_moa'), ('Drug Hypersensitivity', 'MEDRT', 'ci_with'), ('Abnormalities, Drug-Induced', 'MEDRT', 'may_treat'), ('Unknown Physiological Effect', 'MEDRT', 'has_pe'), ('Milk Hypersensitivity', 'MEDRT', 'ci_with')}\n",
      "Failed:  {'userInput': {'relaSource': 'ALL', 'relas': 'ALL', 'rxcui': '2103236'}}\n",
      "{'Measles Vaccine', 'Rubella Vaccine', 'Mumps Vaccine', 'Vaccines, Attenuated'}\n",
      "Failed:  {'userInput': {'relaSource': 'ALL', 'relas': 'ALL', 'rxcui': '1306885'}}\n",
      "Failed:  {'userInput': {'relaSource': 'ALL', 'relas': 'ALL', 'rxcui': '891766'}}\n",
      "{'Antibodies, Monoclonal', 'Antibodies, Monoclonal, Humanized'}\n",
      "{'Cellulose'}\n",
      "{'Ranitidine'}\n",
      "Failed:  {'userInput': {'relaSource': 'ALL', 'relas': 'ALL', 'rxcui': '2109751'}}\n",
      "Failed:  {'userInput': {'relaSource': 'ALL', 'relas': 'ALL', 'rxcui': '259283'}}\n",
      "{'Allergens', 'Benzocaine'}\n",
      "Failed:  {'userInput': {'relaSource': 'ALL', 'relas': 'ALL', 'rxcui': '313232'}}\n",
      "Failed:  {'userInput': {'relaSource': 'ALL', 'relas': 'ALL', 'rxcui': '1046820'}}\n",
      "Failed:  {'userInput': {'relaSource': 'ALL', 'relas': 'ALL', 'rxcui': '7288'}}\n",
      "{'Brompheniramine', 'Acetaminophen'}\n",
      "Empty: {('Increased Antibody Production', 'MEDRT', 'has_pe'), ('Drug Hypersensitivity', 'MEDRT', 'ci_with'), ('Antibody Interactions', 'MEDRT', 'has_moa'), ('Increased Antibody Activity', 'MEDRT', 'has_pe'), ('Actively Acquired Immunity', 'MEDRT', 'has_pe')}\n",
      "{'Pyridoxal Phosphate', 'Pyridoxal'}\n",
      "{'Simethicone', 'Magnesium Hydroxide', 'Calcium Carbonate'}\n",
      "Failed:  {'userInput': {'relaSource': 'ALL', 'relas': 'ALL', 'rxcui': '261137'}}\n",
      "Failed:  {'userInput': {'relaSource': 'ALL', 'relas': 'ALL', 'rxcui': '836378'}}\n",
      "{'Nicotinic Acids', 'Niacin', 'Lovastatin'}\n",
      "{'Prochlorperazine', 'Phenothiazines'}\n",
      "{'Aminoglycosides', 'Neomycin'}\n",
      "Failed:  {'userInput': {'relaSource': 'ALL', 'relas': 'ALL', 'rxcui': '1311658'}}\n",
      "Empty: {('Iron bivalent, oral preparations', 'ATC', '')}\n",
      "{'Piperidines', 'Benzilates'}\n",
      "{'Aminoglycosides', 'Amikacin'}\n",
      "Failed:  {'userInput': {'relaSource': 'ALL', 'relas': 'ALL', 'rxcui': '1370991'}}\n",
      "{'Water'}\n",
      "{'Deoxycytidine'}\n",
      "{'Sumatriptan'}\n",
      "{'Triclosan'}\n",
      "Failed:  {'userInput': {'relaSource': 'ALL', 'relas': 'ALL', 'rxcui': '1309947'}}\n",
      "Failed:  {'userInput': {'relaSource': 'ALL', 'relas': 'ALL', 'rxcui': '308792'}}\n",
      "Failed:  {'userInput': {'relaSource': 'ALL', 'relas': 'ALL', 'rxcui': '259342'}}\n",
      "{'Hydrocodone', 'Acetaminophen'}\n",
      "{'Dihydropyridines', 'Amides', 'Thiazides', 'Hydrochlorothiazide', 'Amlodipine', 'Fumarates'}\n",
      "Failed:  {'userInput': {'relaSource': 'ALL', 'relas': 'ALL', 'rxcui': '249167'}}\n",
      "{'Chlorides', 'Rubidium'}\n",
      "{'Diethylstilbestrol'}\n",
      "Empty: {('Skin Diseases, Viral', 'MEDRT', 'may_treat'), ('Skin Diseases, Bacterial', 'MEDRT', 'may_treat')}\n",
      "{'Imidazoles'}\n",
      "{'Vaccines, Inactivated', 'Influenza Vaccines'}\n",
      "Failed:  {'userInput': {'relaSource': 'ALL', 'relas': 'ALL', 'rxcui': '309638'}}\n",
      "{'Plant Extracts'}\n",
      "{'Glucagon-Like Peptide 1', 'Exenatide'}\n",
      "Failed:  {'userInput': {'relaSource': 'ALL', 'relas': 'ALL', 'rxcui': '285193'}}\n",
      "{'Arginine'}\n",
      "Failed:  {'userInput': {'relaSource': 'ALL', 'relas': 'ALL', 'rxcui': '241190'}}\n",
      "{'Lithium Chloride'}\n",
      "Failed:  {'userInput': {'relaSource': 'ALL', 'relas': 'ALL', 'rxcui': '360230'}}\n",
      "{'Technetium Tc 99m Sulfur Colloid'}\n",
      "{'Fluoxetine'}\n",
      "{'Boron'}\n",
      "{'Technetium'}\n",
      "Failed:  {'userInput': {'relaSource': 'ALL', 'relas': 'ALL', 'rxcui': '1366748'}}\n",
      "{'Carbamates', 'Phenylenediamines'}\n",
      "{'Viloxazine'}\n",
      "Failed:  {'userInput': {'relaSource': 'ALL', 'relas': 'ALL', 'rxcui': '308656'}}\n",
      "{'Clonidine'}\n",
      "{'Ubiquinone'}\n",
      "{'Betamethasone'}\n",
      "{'Docosahexaenoic Acids'}\n",
      "{'Benzimidazoles'}\n",
      "{'Scopolamine'}\n",
      "{'Calcium Hydroxide'}\n",
      "{'Calcium Chloride', 'Sodium Acetate', 'Sodium Chloride', 'Sodium Citrate', 'Potassium Chloride', 'Magnesium Chloride'}\n",
      "Empty: {('Other antidepressants', 'ATC', '')}\n",
      "{'Diterpenes', 'Vitamin A'}\n",
      "{'cytomegalovirus-specific hyperimmune globulin', 'Immunoglobulins', 'Virus-specific Hyperimmune Globulins'}\n",
      "Failed:  {'userInput': {'relaSource': 'ALL', 'relas': 'ALL', 'rxcui': '91413'}}\n",
      "{'Lidocaine', 'Amides', 'Polymyxins', 'Neomycin', 'Aminoglycosides', 'Bacitracin', 'Polymyxin B'}\n",
      "Failed:  {'userInput': {'relaSource': 'ALL', 'relas': 'ALL', 'rxcui': '629587'}}\n",
      "{'Cholesterol'}\n",
      "{'Salicylamides', 'Aspirin', 'Caffeine', 'Xanthines'}\n",
      "Empty: {('Muscular Atrophy, Spinal', 'MEDRT', 'may_treat'), ('Other drugs for disorders of the musculo-skeletal system', 'ATC', ''), ('Gene Transduction or Replacement', 'MEDRT', 'has_moa'), ('Increased Protein Synthesis', 'MEDRT', 'has_pe'), ('Recombinant deoxyribonucleic acid-containing product', 'SNOMEDCT', 'isa_structure')}\n",
      "{'Vaccines, Inactivated', 'Influenza Vaccines'}\n",
      "{'Codeine'}\n",
      "Failed:  {'userInput': {'relaSource': 'ALL', 'relas': 'ALL', 'rxcui': '259761'}}\n",
      "Failed:  {'userInput': {'relaSource': 'ALL', 'relas': 'ALL', 'rxcui': '309380'}}\n",
      "Failed:  {'userInput': {'relaSource': 'ALL', 'relas': 'ALL', 'rxcui': '1116361'}}\n",
      "{'Chlorpheniramine', 'Pseudoephedrine'}\n",
      "Failed:  {'userInput': {'relaSource': 'ALL', 'relas': 'ALL', 'rxcui': '616883'}}\n",
      "Empty: {('Increased Antibody Production', 'MEDRT', 'has_pe'), ('Drug Hypersensitivity', 'MEDRT', 'ci_with'), ('Antibody Interactions', 'MEDRT', 'has_moa'), ('Increased Antibody Activity', 'MEDRT', 'has_pe'), ('Actively Acquired Immunity', 'MEDRT', 'has_pe')}\n",
      "Failed:  {'userInput': {'relaSource': 'ALL', 'relas': 'ALL', 'rxcui': '1311690'}}\n",
      "Empty: {('Salicylate-containing product', 'SNOMEDCT', 'isa_structure')}\n",
      "Failed:  {'userInput': {'relaSource': 'ALL', 'relas': 'ALL', 'rxcui': '1306130'}}\n",
      "Failed:  {'userInput': {'relaSource': 'ALL', 'relas': 'ALL', 'rxcui': '237929'}}\n",
      "{'Linoleic Acid'}\n",
      "{'Albuterol'}\n",
      "{'Polyethylene Glycols', 'Interferon alpha-2', 'Interferon-alpha', 'Recombinant Proteins'}\n",
      "{'Rosaniline Dyes'}\n",
      "{'Vaccines, Inactivated', 'Influenza Vaccines'}\n",
      "{'Phenobarbital', 'Belladonna Alkaloids', 'Ergotamines', 'Ergotamine'}\n",
      "Failed:  {'userInput': {'relaSource': 'ALL', 'relas': 'ALL', 'rxcui': '1046914'}}\n",
      "{'Antibodies, Monoclonal, Humanized'}\n"
     ]
    }
   ],
   "source": [
    "for rx in list(failed.keys())[:100]:\n",
    "    _rxcui = failed.get(rx)\n",
    "    infoList = _rxcui.get('rxclassDrugInfoList')#\n",
    "    if infoList:\n",
    "        infoClass = infoList.get('rxclassDrugInfo')\n",
    "        className = set([\n",
    "            s['rxclassMinConceptItem']['className'] for s in infoClass \n",
    "            if (s['rela'] in ('has_ingredient', 'has_chemical_structure'))\n",
    "        ])\n",
    "        if className:\n",
    "            print(className)\n",
    "        else:\n",
    "            className = set([\n",
    "                (s['rxclassMinConceptItem']['className'], s['relaSource'], s['rela']) for s in infoClass \n",
    "            ])\n",
    "            print('Empty:', className)\n",
    "    else:\n",
    "        print('Failed: ', _rxcui)\n",
    "#     if classinfo:\n",
    "#         print(classinfo['rela'])\n",
    "#     else:\n",
    "#         print('Failed: ', _rxcui)"
   ]
  },
  {
   "cell_type": "code",
   "execution_count": 111,
   "metadata": {},
   "outputs": [
    {
     "data": {
      "text/plain": [
       "['Antibodies, Monoclonal, Humanized', 'Antibodies, Monoclonal, Humanized']"
      ]
     },
     "execution_count": 111,
     "metadata": {},
     "output_type": "execute_result"
    }
   ],
   "source": [
    "[s['rxclassMinConceptItem']['className'] for s in infoClass if (s['relaSource'] == 'MEDRT' and s['rela'] == 'has_ingredient')] #'minConcept', 'rxclassMinConceptItem', 'rela', 'relaSource'"
   ]
  },
  {
   "cell_type": "code",
   "execution_count": 88,
   "metadata": {},
   "outputs": [
    {
     "data": {
      "text/plain": [
       "{'userInput': {'relaSource': 'ALL', 'relas': 'ALL', 'rxcui': '2045627'},\n",
       " 'rxclassDrugInfoList': {'rxclassDrugInfo': [{'minConcept': {'rxcui': '2045613',\n",
       "     'name': 'erenumab',\n",
       "     'tty': 'IN'},\n",
       "    'rxclassMinConceptItem': {'classId': 'D000077221',\n",
       "     'className': 'Calcitonin Gene-Related Peptide Receptor Antagonists',\n",
       "     'classType': 'MESHPA'},\n",
       "    'rela': '',\n",
       "    'relaSource': 'MESH'},\n",
       "   {'minConcept': {'rxcui': '2045613', 'name': 'erenumab', 'tty': 'IN'},\n",
       "    'rxclassMinConceptItem': {'classId': 'N02CD',\n",
       "     'className': 'Calcitonin gene-related peptide (CGRP) antagonists',\n",
       "     'classType': 'ATC1-4'},\n",
       "    'rela': '',\n",
       "    'relaSource': 'ATC'},\n",
       "   {'minConcept': {'rxcui': '2045613', 'name': 'erenumab', 'tty': 'IN'},\n",
       "    'rxclassMinConceptItem': {'classId': 'D008881',\n",
       "     'className': 'Migraine Disorders',\n",
       "     'classType': 'DISEASE'},\n",
       "    'rela': 'may_prevent',\n",
       "    'relaSource': 'MEDRT'},\n",
       "   {'minConcept': {'rxcui': '2045613', 'name': 'erenumab', 'tty': 'IN'},\n",
       "    'rxclassMinConceptItem': {'classId': 'D061067',\n",
       "     'className': 'Antibodies, Monoclonal, Humanized',\n",
       "     'classType': 'CHEM'},\n",
       "    'rela': 'has_ingredient',\n",
       "    'relaSource': 'MEDRT'},\n",
       "   {'minConcept': {'rxcui': '2045613', 'name': 'erenumab', 'tty': 'IN'},\n",
       "    'rxclassMinConceptItem': {'classId': 'N0000008452',\n",
       "     'className': 'Decreased Calcitonin Secretion',\n",
       "     'classType': 'PE'},\n",
       "    'rela': 'has_pe',\n",
       "    'relaSource': 'MEDRT'},\n",
       "   {'minConcept': {'rxcui': '2045613', 'name': 'erenumab', 'tty': 'IN'},\n",
       "    'rxclassMinConceptItem': {'classId': '108807002',\n",
       "     'className': 'Monoclonal antibody-containing product',\n",
       "     'classType': 'STRUCT',\n",
       "     'classUrl': 'http://snomed.info/id/108807002'},\n",
       "    'rela': 'isa_structure',\n",
       "    'relaSource': 'SNOMEDCT'},\n",
       "   {'minConcept': {'rxcui': '2045613', 'name': 'erenumab', 'tty': 'IN'},\n",
       "    'rxclassMinConceptItem': {'classId': '771677008',\n",
       "     'className': 'Calcitonin gene-related peptide receptor antagonist-containing product',\n",
       "     'classType': 'DISPOS',\n",
       "     'classUrl': 'http://snomed.info/id/771677008'},\n",
       "    'rela': 'isa_disposition',\n",
       "    'relaSource': 'SNOMEDCT'},\n",
       "   {'minConcept': {'rxcui': '2045614', 'name': 'erenumab-aooe', 'tty': 'PIN'},\n",
       "    'rxclassMinConceptItem': {'classId': 'D000077221',\n",
       "     'className': 'Calcitonin Gene-Related Peptide Receptor Antagonists',\n",
       "     'classType': 'MESHPA'},\n",
       "    'rela': '',\n",
       "    'relaSource': 'MESH'},\n",
       "   {'minConcept': {'rxcui': '2045614', 'name': 'erenumab-aooe', 'tty': 'PIN'},\n",
       "    'rxclassMinConceptItem': {'classId': 'D008881',\n",
       "     'className': 'Migraine Disorders',\n",
       "     'classType': 'DISEASE'},\n",
       "    'rela': 'may_prevent',\n",
       "    'relaSource': 'MEDRT'},\n",
       "   {'minConcept': {'rxcui': '2045614', 'name': 'erenumab-aooe', 'tty': 'PIN'},\n",
       "    'rxclassMinConceptItem': {'classId': 'D061067',\n",
       "     'className': 'Antibodies, Monoclonal, Humanized',\n",
       "     'classType': 'CHEM'},\n",
       "    'rela': 'has_ingredient',\n",
       "    'relaSource': 'MEDRT'},\n",
       "   {'minConcept': {'rxcui': '2045614', 'name': 'erenumab-aooe', 'tty': 'PIN'},\n",
       "    'rxclassMinConceptItem': {'classId': 'N0000008452',\n",
       "     'className': 'Decreased Calcitonin Secretion',\n",
       "     'classType': 'PE'},\n",
       "    'rela': 'has_pe',\n",
       "    'relaSource': 'MEDRT'}]}}"
      ]
     },
     "execution_count": 88,
     "metadata": {},
     "output_type": "execute_result"
    }
   ],
   "source": [
    "_rxcuid"
   ]
  },
  {
   "cell_type": "code",
   "execution_count": 61,
   "metadata": {},
   "outputs": [],
   "source": [
    "rxclassified = pd.DataFrame(rxclasses, columns=['RxNorm', 'Class'])"
   ]
  },
  {
   "cell_type": "code",
   "execution_count": 64,
   "metadata": {},
   "outputs": [],
   "source": [
    "rxsummary = rxclassified.groupby('Class').count()"
   ]
  },
  {
   "cell_type": "code",
   "execution_count": 65,
   "metadata": {},
   "outputs": [],
   "source": [
    "# rxsummary.to_csv('rxclassification.csv')"
   ]
  },
  {
   "cell_type": "code",
   "execution_count": null,
   "metadata": {},
   "outputs": [],
   "source": []
  }
 ],
 "metadata": {
  "kernelspec": {
   "display_name": "Python 3",
   "language": "python",
   "name": "python3"
  },
  "language_info": {
   "codemirror_mode": {
    "name": "ipython",
    "version": 3
   },
   "file_extension": ".py",
   "mimetype": "text/x-python",
   "name": "python",
   "nbconvert_exporter": "python",
   "pygments_lexer": "ipython3",
   "version": "3.7.11"
  }
 },
 "nbformat": 4,
 "nbformat_minor": 4
}
