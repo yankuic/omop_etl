{
 "metadata": {
  "language_info": {
   "codemirror_mode": {
    "name": "ipython",
    "version": 3
   },
   "file_extension": ".py",
   "mimetype": "text/x-python",
   "name": "python",
   "nbconvert_exporter": "python",
   "pygments_lexer": "ipython3",
   "version": "3.7.4-final"
  },
  "orig_nbformat": 2,
  "kernelspec": {
   "name": "python3",
   "display_name": "Python 3.7.4 64-bit (conda)",
   "metadata": {
    "interpreter": {
     "hash": "ed9aecc04a78bc023d6560d59868ba438581fdda2914504ea0b1a159872595b9"
    }
   }
  }
 },
 "nbformat": 4,
 "nbformat_minor": 2,
 "cells": [
  {
   "cell_type": "code",
   "execution_count": 15,
   "metadata": {},
   "outputs": [],
   "source": [
    "import pandas as pd\n",
    "from omop_etl.datastore import DataStore\n",
    "from omop_etl.stage import STAGE"
   ]
  },
  {
   "cell_type": "code",
   "execution_count": 2,
   "metadata": {},
   "outputs": [],
   "source": [
    "omop = DataStore('../config.yml')"
   ]
  },
  {
   "cell_type": "code",
   "execution_count": 3,
   "metadata": {},
   "outputs": [],
   "source": [
    "stage_t = omop.list_tables(in_schema=['stage'])\n",
    "stage_t['Count'] = stage_t.Table.apply(lambda t: omop.row_count(t, schema='stage'))"
   ]
  },
  {
   "cell_type": "code",
   "execution_count": 27,
   "metadata": {},
   "outputs": [
    {
     "output_type": "execute_result",
     "data": {
      "text/plain": [
       "{'Table': {0: 'PERSON',\n",
       "  1: 'DEATH',\n",
       "  2: 'CONDITION',\n",
       "  3: 'PROCEDURE_ICD',\n",
       "  4: 'PROCEDURE_CPT',\n",
       "  5: 'DRUG_ORDER',\n",
       "  6: 'DRUG_ADMIN',\n",
       "  7: 'MEASUREMENT_BP',\n",
       "  8: 'MEASUREMENT_HeartRate',\n",
       "  9: 'MEASUREMENT_Height',\n",
       "  10: 'MEASUREMENT_LAB',\n",
       "  11: 'MEASUREMENT_PainScale',\n",
       "  12: 'MEASUREMENT_QTCB',\n",
       "  13: 'MEASUREMENT_Res_Device',\n",
       "  14: 'MEASUREMENT_Res_ETCO2',\n",
       "  15: 'MEASUREMENT_Res_FIO2',\n",
       "  16: 'MEASUREMENT_Res_GCS',\n",
       "  17: 'MEASUREMENT_Res_O2',\n",
       "  18: 'MEASUREMENT_Res_PEEP',\n",
       "  19: 'MEASUREMENT_Res_PIP',\n",
       "  20: 'MEASUREMENT_Res_RESP',\n",
       "  21: 'MEASUREMENT_Res_SPO2',\n",
       "  22: 'MEASUREMENT_Res_Tidal',\n",
       "  23: 'MEASUREMENT_Res_Vent',\n",
       "  24: 'MEASUREMENT_Rothman',\n",
       "  25: 'MEASUREMENT_SOFA',\n",
       "  26: 'MEASUREMENT_Temp',\n",
       "  27: 'MEASUREMENT_Weight',\n",
       "  28: 'OBSERVATION_ICU',\n",
       "  29: 'OBSERVATION_LDA',\n",
       "  30: 'OBSERVATION_Vent',\n",
       "  31: 'OBSERVATION_Payer',\n",
       "  32: 'OBSERVATION_Smoking',\n",
       "  33: 'OBSERVATION_Zipcode',\n",
       "  34: 'VISIT',\n",
       "  35: 'query_log',\n",
       "  36: 'location_v6'},\n",
       " 'Count': {0: 226199,\n",
       "  1: 5104,\n",
       "  2: 22812356,\n",
       "  3: 160254,\n",
       "  4: 9888636,\n",
       "  5: 6905412,\n",
       "  6: 25265880,\n",
       "  7: 19669584,\n",
       "  8: 48068910,\n",
       "  9: 637283,\n",
       "  10: 4335188,\n",
       "  11: 5377719,\n",
       "  12: 187896,\n",
       "  13: 14391651,\n",
       "  14: 11733926,\n",
       "  15: 4896877,\n",
       "  16: 4508978,\n",
       "  17: 4337991,\n",
       "  18: 853560,\n",
       "  19: 11590624,\n",
       "  20: 27353352,\n",
       "  21: 34596492,\n",
       "  22: 9008423,\n",
       "  23: 707285,\n",
       "  24: 28987029,\n",
       "  25: 2459634,\n",
       "  26: 19038432,\n",
       "  27: 1092318,\n",
       "  28: 42667,\n",
       "  29: 83957,\n",
       "  30: 68064,\n",
       "  31: 10139049,\n",
       "  32: 10181394,\n",
       "  33: 10109074,\n",
       "  34: 8798468,\n",
       "  35: 117,\n",
       "  36: 7703787}}"
      ]
     },
     "metadata": {},
     "execution_count": 27
    }
   ],
   "source": [
    "stage_t_dict = stage_t[['Table','Count']].to_dict()\n",
    "stage_t_dict"
   ]
  },
  {
   "cell_type": "code",
   "execution_count": 31,
   "metadata": {},
   "outputs": [
    {
     "output_type": "execute_result",
     "data": {
      "text/plain": [
       "19669584"
      ]
     },
     "metadata": {},
     "execution_count": 31
    }
   ],
   "source": [
    "stage_t_dict['Count'][7]"
   ]
  },
  {
   "cell_type": "code",
   "execution_count": 26,
   "metadata": {},
   "outputs": [
    {
     "output_type": "execute_result",
     "data": {
      "text/plain": [
       "7"
      ]
     },
     "metadata": {},
     "execution_count": 26
    }
   ],
   "source": [
    "def find_key(input_dict, value):\n",
    "    return next((k for k, v in input_dict.items() if v == value), None)"
   ]
  },
  {
   "cell_type": "code",
   "execution_count": 41,
   "metadata": {},
   "outputs": [
    {
     "output_type": "execute_result",
     "data": {
      "text/plain": [
       "                  Table     Part     Count\n",
       "0                person  zipcode    226199\n",
       "1                 death  zipcode      5104\n",
       "2  condition_occurrence  zipcode  22812356\n",
       "3  procedure_occurrence      icd    160254\n",
       "4  procedure_occurrence      cpt   9888636"
      ],
      "text/html": "<div>\n<style scoped>\n    .dataframe tbody tr th:only-of-type {\n        vertical-align: middle;\n    }\n\n    .dataframe tbody tr th {\n        vertical-align: top;\n    }\n\n    .dataframe thead th {\n        text-align: right;\n    }\n</style>\n<table border=\"1\" class=\"dataframe\">\n  <thead>\n    <tr style=\"text-align: right;\">\n      <th></th>\n      <th>Table</th>\n      <th>Part</th>\n      <th>Count</th>\n    </tr>\n  </thead>\n  <tbody>\n    <tr>\n      <td>0</td>\n      <td>person</td>\n      <td>zipcode</td>\n      <td>226199</td>\n    </tr>\n    <tr>\n      <td>1</td>\n      <td>death</td>\n      <td>zipcode</td>\n      <td>5104</td>\n    </tr>\n    <tr>\n      <td>2</td>\n      <td>condition_occurrence</td>\n      <td>zipcode</td>\n      <td>22812356</td>\n    </tr>\n    <tr>\n      <td>3</td>\n      <td>procedure_occurrence</td>\n      <td>icd</td>\n      <td>160254</td>\n    </tr>\n    <tr>\n      <td>4</td>\n      <td>procedure_occurrence</td>\n      <td>cpt</td>\n      <td>9888636</td>\n    </tr>\n  </tbody>\n</table>\n</div>"
     },
     "metadata": {},
     "execution_count": 41
    }
   ],
   "source": [
    "loaded = omop.config_param['load']\n",
    "result = []\n",
    "for t in loaded.keys():\n",
    "    if t not in ['provider','care_site','location']:\n",
    "        if loaded[t]:\n",
    "            for part in loaded[t]:\n",
    "                stg_name = STAGE[t][part]\n",
    "                idx = find_key(stage_t_dict['Table'], stg_name)\n",
    "                count = stage_t_dict['Count'][idx]\n",
    "                result.append([t, part, count])\n",
    "        else:\n",
    "            stg_name = STAGE[t]\n",
    "            idx = find_key(stage_t_dict['Table'], stg_name)\n",
    "            count = stage_t_dict['Count'][idx]\n",
    "            result.append([t, part, count])\n",
    "\n",
    "table_counts = pd.DataFrame(result, columns=['Table', 'Part', 'Count'])\n",
    "table_counts.head()"
   ]
  },
  {
   "cell_type": "code",
   "execution_count": 42,
   "metadata": {},
   "outputs": [
    {
     "output_type": "execute_result",
     "data": {
      "text/plain": [
       "                          Count\n",
       "Table                          \n",
       "condition_occurrence   22812356\n",
       "death                      5104\n",
       "drug_exposure          32171292\n",
       "measurement           253833152\n",
       "observation            30624205\n",
       "person                   226199\n",
       "procedure_occurrence   10048890\n",
       "visit                   8798468"
      ],
      "text/html": "<div>\n<style scoped>\n    .dataframe tbody tr th:only-of-type {\n        vertical-align: middle;\n    }\n\n    .dataframe tbody tr th {\n        vertical-align: top;\n    }\n\n    .dataframe thead th {\n        text-align: right;\n    }\n</style>\n<table border=\"1\" class=\"dataframe\">\n  <thead>\n    <tr style=\"text-align: right;\">\n      <th></th>\n      <th>Count</th>\n    </tr>\n    <tr>\n      <th>Table</th>\n      <th></th>\n    </tr>\n  </thead>\n  <tbody>\n    <tr>\n      <td>condition_occurrence</td>\n      <td>22812356</td>\n    </tr>\n    <tr>\n      <td>death</td>\n      <td>5104</td>\n    </tr>\n    <tr>\n      <td>drug_exposure</td>\n      <td>32171292</td>\n    </tr>\n    <tr>\n      <td>measurement</td>\n      <td>253833152</td>\n    </tr>\n    <tr>\n      <td>observation</td>\n      <td>30624205</td>\n    </tr>\n    <tr>\n      <td>person</td>\n      <td>226199</td>\n    </tr>\n    <tr>\n      <td>procedure_occurrence</td>\n      <td>10048890</td>\n    </tr>\n    <tr>\n      <td>visit</td>\n      <td>8798468</td>\n    </tr>\n  </tbody>\n</table>\n</div>"
     },
     "metadata": {},
     "execution_count": 42
    }
   ],
   "source": [
    "table_counts.groupby('Table').sum()"
   ]
  },
  {
   "cell_type": "code",
   "execution_count": null,
   "metadata": {},
   "outputs": [],
   "source": []
  }
 ]
}