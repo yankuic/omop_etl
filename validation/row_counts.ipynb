{
 "cells": [
  {
   "cell_type": "code",
   "execution_count": 27,
   "metadata": {},
   "outputs": [],
   "source": [
    "import pandas as pd\n",
    "from omop_etl.datastore import DataStore\n",
    "from omop_etl.stage import STAGE\n",
    "\n",
    "from pydma.utils import find"
   ]
  },
  {
   "cell_type": "code",
   "execution_count": 15,
   "metadata": {},
   "outputs": [],
   "source": [
    "omop = DataStore('../config.yml')"
   ]
  },
  {
   "cell_type": "code",
   "execution_count": 16,
   "metadata": {},
   "outputs": [],
   "source": [
    "stage_t = omop.list_tables(in_schema=['stage'])\n",
    "stage_t['Count'] = stage_t.Table.apply(lambda t: omop.row_count(t, schema='stage'))"
   ]
  },
  {
   "cell_type": "code",
   "execution_count": 17,
   "metadata": {},
   "outputs": [],
   "source": [
    "stage_t_dict = stage_t[['Table','Count']].to_dict()\n",
    "# stage_t_dict"
   ]
  },
  {
   "cell_type": "code",
   "execution_count": 18,
   "metadata": {},
   "outputs": [
    {
     "output_type": "execute_result",
     "data": {
      "text/plain": [
       "73484"
      ]
     },
     "metadata": {},
     "execution_count": 18
    }
   ],
   "source": [
    "stage_t_dict['Count'][7]"
   ]
  },
  {
   "cell_type": "code",
   "execution_count": 19,
   "metadata": {},
   "outputs": [],
   "source": [
    "def find_key(input_dict, value):\n",
    "    return next((k for k, v in input_dict.items() if v == value), None)"
   ]
  },
  {
   "cell_type": "code",
   "execution_count": 20,
   "metadata": {},
   "outputs": [
    {
     "output_type": "execute_result",
     "data": {
      "text/plain": [
       "                  Table  Part     Count\n",
       "0                person  None    242390\n",
       "1                 death  None      5579\n",
       "2  condition_occurrence  None  25348522\n",
       "3  procedure_occurrence   icd    174452\n",
       "4  procedure_occurrence   cpt  11027439"
      ],
      "text/html": "<div>\n<style scoped>\n    .dataframe tbody tr th:only-of-type {\n        vertical-align: middle;\n    }\n\n    .dataframe tbody tr th {\n        vertical-align: top;\n    }\n\n    .dataframe thead th {\n        text-align: right;\n    }\n</style>\n<table border=\"1\" class=\"dataframe\">\n  <thead>\n    <tr style=\"text-align: right;\">\n      <th></th>\n      <th>Table</th>\n      <th>Part</th>\n      <th>Count</th>\n    </tr>\n  </thead>\n  <tbody>\n    <tr>\n      <th>0</th>\n      <td>person</td>\n      <td>None</td>\n      <td>242390</td>\n    </tr>\n    <tr>\n      <th>1</th>\n      <td>death</td>\n      <td>None</td>\n      <td>5579</td>\n    </tr>\n    <tr>\n      <th>2</th>\n      <td>condition_occurrence</td>\n      <td>None</td>\n      <td>25348522</td>\n    </tr>\n    <tr>\n      <th>3</th>\n      <td>procedure_occurrence</td>\n      <td>icd</td>\n      <td>174452</td>\n    </tr>\n    <tr>\n      <th>4</th>\n      <td>procedure_occurrence</td>\n      <td>cpt</td>\n      <td>11027439</td>\n    </tr>\n  </tbody>\n</table>\n</div>"
     },
     "metadata": {},
     "execution_count": 20
    }
   ],
   "source": [
    "loaded = omop.config_param['load']\n",
    "result = []\n",
    "for t in loaded.keys():\n",
    "    if t not in ['provider','care_site','location']:\n",
    "        if loaded[t]:\n",
    "            for part in loaded[t]:\n",
    "                stg_name = STAGE[t][part]\n",
    "                idx = find_key(stage_t_dict['Table'], stg_name)\n",
    "                count = stage_t_dict['Count'][idx]\n",
    "                result.append([t, part, count])\n",
    "        else:\n",
    "            stg_name = STAGE[t]\n",
    "            idx = find_key(stage_t_dict['Table'], stg_name)\n",
    "            count = stage_t_dict['Count'][idx]\n",
    "            result.append([t, None, count])\n",
    "\n",
    "table_counts = pd.DataFrame(result, columns=['Table', 'Part', 'Count'])\n",
    "table_counts.head()"
   ]
  },
  {
   "cell_type": "code",
   "execution_count": 21,
   "metadata": {},
   "outputs": [
    {
     "output_type": "execute_result",
     "data": {
      "text/plain": [
       "                  Table      Count    RC_Load    RC_DeId\n",
       "0  condition_occurrence   25348522   20867090   20867090\n",
       "1                 death       5579       5579       5579\n",
       "2         drug_exposure   34347650   34173541   34173541\n",
       "3           measurement  273904063  275651510  275651510\n",
       "4           observation   33763735   40503251   40503251\n",
       "5                person     242390     242388     242388\n",
       "6  procedure_occurrence   11201891    4790264    4790264\n",
       "7      visit_occurrence    9704407    9669131    9669131"
      ],
      "text/html": "<div>\n<style scoped>\n    .dataframe tbody tr th:only-of-type {\n        vertical-align: middle;\n    }\n\n    .dataframe tbody tr th {\n        vertical-align: top;\n    }\n\n    .dataframe thead th {\n        text-align: right;\n    }\n</style>\n<table border=\"1\" class=\"dataframe\">\n  <thead>\n    <tr style=\"text-align: right;\">\n      <th></th>\n      <th>Table</th>\n      <th>Count</th>\n      <th>RC_Load</th>\n      <th>RC_DeId</th>\n    </tr>\n  </thead>\n  <tbody>\n    <tr>\n      <th>0</th>\n      <td>condition_occurrence</td>\n      <td>25348522</td>\n      <td>20867090</td>\n      <td>20867090</td>\n    </tr>\n    <tr>\n      <th>1</th>\n      <td>death</td>\n      <td>5579</td>\n      <td>5579</td>\n      <td>5579</td>\n    </tr>\n    <tr>\n      <th>2</th>\n      <td>drug_exposure</td>\n      <td>34347650</td>\n      <td>34173541</td>\n      <td>34173541</td>\n    </tr>\n    <tr>\n      <th>3</th>\n      <td>measurement</td>\n      <td>273904063</td>\n      <td>275651510</td>\n      <td>275651510</td>\n    </tr>\n    <tr>\n      <th>4</th>\n      <td>observation</td>\n      <td>33763735</td>\n      <td>40503251</td>\n      <td>40503251</td>\n    </tr>\n    <tr>\n      <th>5</th>\n      <td>person</td>\n      <td>242390</td>\n      <td>242388</td>\n      <td>242388</td>\n    </tr>\n    <tr>\n      <th>6</th>\n      <td>procedure_occurrence</td>\n      <td>11201891</td>\n      <td>4790264</td>\n      <td>4790264</td>\n    </tr>\n    <tr>\n      <th>7</th>\n      <td>visit_occurrence</td>\n      <td>9704407</td>\n      <td>9669131</td>\n      <td>9669131</td>\n    </tr>\n  </tbody>\n</table>\n</div>"
     },
     "metadata": {},
     "execution_count": 21
    }
   ],
   "source": [
    "count_diff = table_counts.groupby('Table').sum().reset_index()\n",
    "count_diff['RC_Load'] = count_diff.Table.apply(lambda t: omop.row_count(t))\n",
    "count_diff['RC_DeId'] = count_diff.Table.apply(lambda t: omop.row_count(t, schema='deid'))\n",
    "count_diff"
   ]
  },
  {
   "cell_type": "code",
   "execution_count": 32,
   "metadata": {},
   "outputs": [],
   "source": [
    "t_sbs = stage_t[find(['MEASUREMENT','DRUG','CONDITION','PROCEDURE','OBSERVATION'], stage_t.Table)].Table.tolist()"
   ]
  },
  {
   "cell_type": "code",
   "execution_count": 33,
   "metadata": {},
   "outputs": [
    {
     "output_type": "execute_result",
     "data": {
      "text/plain": [
       "['MEASUREMENT_BP',\n",
       " 'OBSERVATION_Zipcode',\n",
       " 'OBSERVATION_Smoking',\n",
       " 'OBSERVATION_Payer',\n",
       " 'OBSERVATION_Vent',\n",
       " 'OBSERVATION_LDA',\n",
       " 'OBSERVATION_ICU',\n",
       " 'MEASUREMENT_Weight',\n",
       " 'MEASUREMENT_Temp',\n",
       " 'MEASUREMENT_SOFA',\n",
       " 'MEASUREMENT_Rothman',\n",
       " 'MEASUREMENT_Res_Vent',\n",
       " 'MEASUREMENT_Res_Tidal',\n",
       " 'MEASUREMENT_Res_SPO2',\n",
       " 'MEASUREMENT_Res_RESP',\n",
       " 'MEASUREMENT_Res_PIP',\n",
       " 'MEASUREMENT_Res_PEEP',\n",
       " 'MEASUREMENT_Res_O2',\n",
       " 'MEASUREMENT_Res_GCS',\n",
       " 'MEASUREMENT_Res_FIO2',\n",
       " 'MEASUREMENT_Res_ETCO2',\n",
       " 'MEASUREMENT_Res_Device',\n",
       " 'MEASUREMENT_QTCB',\n",
       " 'MEASUREMENT_PainScale',\n",
       " 'MEASUREMENT_LAB',\n",
       " 'MEASUREMENT_Height',\n",
       " 'MEASUREMENT_HeartRate',\n",
       " 'DRUG_ADMIN',\n",
       " 'DRUG_ORDER',\n",
       " 'PROCEDURE_CPT',\n",
       " 'PROCEDURE_ICD',\n",
       " 'CONDITION']"
      ]
     },
     "metadata": {},
     "execution_count": 33
    }
   ],
   "source": []
  },
  {
   "cell_type": "code",
   "execution_count": null,
   "metadata": {},
   "outputs": [],
   "source": []
  }
 ],
 "metadata": {
  "kernelspec": {
   "display_name": "python3",
   "language": "",
   "name": "python3"
  },
  "language_info": {
   "codemirror_mode": {
    "name": "ipython",
    "version": 3
   },
   "file_extension": ".py",
   "mimetype": "text/x-python",
   "name": "python",
   "nbconvert_exporter": "python",
   "pygments_lexer": "ipython3",
   "version": "3.7.4-final"
  }
 },
 "nbformat": 4,
 "nbformat_minor": 4
}