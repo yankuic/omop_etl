{
 "cells": [
  {
   "cell_type": "code",
   "execution_count": 13,
   "metadata": {},
   "outputs": [
    {
     "output_type": "stream",
     "name": "stdout",
     "text": [
      "Z:\\OMOP\\omop_etl\n"
     ]
    }
   ],
   "source": [
    "import os\n",
    "import yaml\n",
    "\n",
    "os.chdir('Z:\\OMOP\\omop_etl')\n",
    "print(os.getcwd())\n",
    "\n",
    "import pandas as pd\n",
    "from omop_etl.datastore import DataStore\n",
    "# from .omop_etl.stage import STAGE\n",
    "\n",
    "from pydma.utils import find"
   ]
  },
  {
   "cell_type": "code",
   "execution_count": 14,
   "metadata": {},
   "outputs": [],
   "source": [
    "omop = DataStore('config.yml')\n",
    "\n",
    "CONFIG = 'omop_etl/etl_config.yml'\n",
    "with open(CONFIG) as f:\n",
    "    yml = yaml.safe_load(f)\n",
    "\n",
    "ALIASES = yml['aliases']\n",
    "STAGE = yml['stage']"
   ]
  },
  {
   "cell_type": "code",
   "execution_count": 4,
   "metadata": {},
   "outputs": [],
   "source": [
    "stage_t = omop.list_tables(in_schema=['stage'])\n",
    "stage_t['Count'] = stage_t.Table.apply(lambda t: omop.row_count(t, schema='stage'))"
   ]
  },
  {
   "cell_type": "code",
   "execution_count": 5,
   "metadata": {},
   "outputs": [],
   "source": [
    "stage_t_dict = stage_t[['Table','Count']].to_dict()\n",
    "# stage_t_dict"
   ]
  },
  {
   "cell_type": "code",
   "execution_count": 6,
   "metadata": {},
   "outputs": [
    {
     "output_type": "execute_result",
     "data": {
      "text/plain": [
       "5172282"
      ]
     },
     "metadata": {},
     "execution_count": 6
    }
   ],
   "source": [
    "stage_t_dict['Count'][7]"
   ]
  },
  {
   "cell_type": "code",
   "execution_count": 19,
   "metadata": {},
   "outputs": [],
   "source": [
    "def find_key(input_dict, value):\n",
    "    return next((k for k, v in input_dict.items() if v == value), None)"
   ]
  },
  {
   "cell_type": "code",
   "execution_count": 19,
   "metadata": {},
   "outputs": [
    {
     "output_type": "execute_result",
     "data": {
      "text/plain": [
       "                   Table                 Part     Count\n",
       "0                 person                 None    261222\n",
       "1                  death                 None      6452\n",
       "2   condition_occurrence                 None  74725451\n",
       "3   procedure_occurrence                  icd    396109\n",
       "4   procedure_occurrence                  cpt  29049589\n",
       "5          drug_exposure                order  28348416\n",
       "6          drug_exposure                admin  51170789\n",
       "7            measurement                   bp  21078360\n",
       "8            measurement           bp_artline   6664673\n",
       "9            measurement       bp_noninvasive   5173404\n",
       "10           measurement               bp_cvp    410683\n",
       "11           measurement          bp_cvp_mean   1181355\n",
       "12           measurement       bp_map_artline   7070546\n",
       "13           measurement          bp_map_cuff  10849484\n",
       "14           measurement   bp_map_noninvasive   5172282\n",
       "15           measurement          bp_pap_mean    928743\n",
       "16           measurement           heart_rate  56243744\n",
       "17           measurement               height   3885021\n",
       "18           measurement                  lab  34476985\n",
       "19           measurement                 pain   7245303\n",
       "20           measurement             pain_jax   3272001\n",
       "21           measurement            pain_peds    390634\n",
       "22           measurement                 qtcb    230065\n",
       "23           measurement              res_dev  10535992\n",
       "24           measurement            res_etco2  14322459\n",
       "25           measurement             res_fio2   2200351\n",
       "26           measurement              res_gcs   2995724\n",
       "27           measurement         res_gcs_peds    175099\n",
       "28           measurement               res_o2   2485989\n",
       "29           measurement            res_o2_ml     92826\n",
       "30           measurement             res_peep    393912\n",
       "31           measurement              res_pip  16611740\n",
       "32           measurement             res_resp   5623965\n",
       "33           measurement   res_resp_adultmech      7035\n",
       "34           measurement  res_resp_adultspont     26913\n",
       "35           measurement    res_resp_pedsmech     23460\n",
       "36           measurement   res_resp_pedsspont      2505\n",
       "37           measurement             res_spo2  36419669\n",
       "38           measurement            res_tidal    164238\n",
       "39           measurement    res_tidal_exhaled  12737402\n",
       "40           measurement             res_vent    189056\n",
       "41           measurement        res_vent_peds     87308\n",
       "42           measurement              rothman  13901460\n",
       "43           measurement                 sofa   4238362\n",
       "44           measurement                 temp  22908996\n",
       "45           measurement               weight   5318424\n",
       "46           observation                  icu     41882\n",
       "47           observation                  lda    100437\n",
       "48           observation                 vent    142680\n",
       "49           observation                payer  26752850"
      ],
      "text/html": "<div>\n<style scoped>\n    .dataframe tbody tr th:only-of-type {\n        vertical-align: middle;\n    }\n\n    .dataframe tbody tr th {\n        vertical-align: top;\n    }\n\n    .dataframe thead th {\n        text-align: right;\n    }\n</style>\n<table border=\"1\" class=\"dataframe\">\n  <thead>\n    <tr style=\"text-align: right;\">\n      <th></th>\n      <th>Table</th>\n      <th>Part</th>\n      <th>Count</th>\n    </tr>\n  </thead>\n  <tbody>\n    <tr>\n      <th>0</th>\n      <td>person</td>\n      <td>None</td>\n      <td>261222</td>\n    </tr>\n    <tr>\n      <th>1</th>\n      <td>death</td>\n      <td>None</td>\n      <td>6452</td>\n    </tr>\n    <tr>\n      <th>2</th>\n      <td>condition_occurrence</td>\n      <td>None</td>\n      <td>74725451</td>\n    </tr>\n    <tr>\n      <th>3</th>\n      <td>procedure_occurrence</td>\n      <td>icd</td>\n      <td>396109</td>\n    </tr>\n    <tr>\n      <th>4</th>\n      <td>procedure_occurrence</td>\n      <td>cpt</td>\n      <td>29049589</td>\n    </tr>\n    <tr>\n      <th>5</th>\n      <td>drug_exposure</td>\n      <td>order</td>\n      <td>28348416</td>\n    </tr>\n    <tr>\n      <th>6</th>\n      <td>drug_exposure</td>\n      <td>admin</td>\n      <td>51170789</td>\n    </tr>\n    <tr>\n      <th>7</th>\n      <td>measurement</td>\n      <td>bp</td>\n      <td>21078360</td>\n    </tr>\n    <tr>\n      <th>8</th>\n      <td>measurement</td>\n      <td>bp_artline</td>\n      <td>6664673</td>\n    </tr>\n    <tr>\n      <th>9</th>\n      <td>measurement</td>\n      <td>bp_noninvasive</td>\n      <td>5173404</td>\n    </tr>\n    <tr>\n      <th>10</th>\n      <td>measurement</td>\n      <td>bp_cvp</td>\n      <td>410683</td>\n    </tr>\n    <tr>\n      <th>11</th>\n      <td>measurement</td>\n      <td>bp_cvp_mean</td>\n      <td>1181355</td>\n    </tr>\n    <tr>\n      <th>12</th>\n      <td>measurement</td>\n      <td>bp_map_artline</td>\n      <td>7070546</td>\n    </tr>\n    <tr>\n      <th>13</th>\n      <td>measurement</td>\n      <td>bp_map_cuff</td>\n      <td>10849484</td>\n    </tr>\n    <tr>\n      <th>14</th>\n      <td>measurement</td>\n      <td>bp_map_noninvasive</td>\n      <td>5172282</td>\n    </tr>\n    <tr>\n      <th>15</th>\n      <td>measurement</td>\n      <td>bp_pap_mean</td>\n      <td>928743</td>\n    </tr>\n    <tr>\n      <th>16</th>\n      <td>measurement</td>\n      <td>heart_rate</td>\n      <td>56243744</td>\n    </tr>\n    <tr>\n      <th>17</th>\n      <td>measurement</td>\n      <td>height</td>\n      <td>3885021</td>\n    </tr>\n    <tr>\n      <th>18</th>\n      <td>measurement</td>\n      <td>lab</td>\n      <td>34476985</td>\n    </tr>\n    <tr>\n      <th>19</th>\n      <td>measurement</td>\n      <td>pain</td>\n      <td>7245303</td>\n    </tr>\n    <tr>\n      <th>20</th>\n      <td>measurement</td>\n      <td>pain_jax</td>\n      <td>3272001</td>\n    </tr>\n    <tr>\n      <th>21</th>\n      <td>measurement</td>\n      <td>pain_peds</td>\n      <td>390634</td>\n    </tr>\n    <tr>\n      <th>22</th>\n      <td>measurement</td>\n      <td>qtcb</td>\n      <td>230065</td>\n    </tr>\n    <tr>\n      <th>23</th>\n      <td>measurement</td>\n      <td>res_dev</td>\n      <td>10535992</td>\n    </tr>\n    <tr>\n      <th>24</th>\n      <td>measurement</td>\n      <td>res_etco2</td>\n      <td>14322459</td>\n    </tr>\n    <tr>\n      <th>25</th>\n      <td>measurement</td>\n      <td>res_fio2</td>\n      <td>2200351</td>\n    </tr>\n    <tr>\n      <th>26</th>\n      <td>measurement</td>\n      <td>res_gcs</td>\n      <td>2995724</td>\n    </tr>\n    <tr>\n      <th>27</th>\n      <td>measurement</td>\n      <td>res_gcs_peds</td>\n      <td>175099</td>\n    </tr>\n    <tr>\n      <th>28</th>\n      <td>measurement</td>\n      <td>res_o2</td>\n      <td>2485989</td>\n    </tr>\n    <tr>\n      <th>29</th>\n      <td>measurement</td>\n      <td>res_o2_ml</td>\n      <td>92826</td>\n    </tr>\n    <tr>\n      <th>30</th>\n      <td>measurement</td>\n      <td>res_peep</td>\n      <td>393912</td>\n    </tr>\n    <tr>\n      <th>31</th>\n      <td>measurement</td>\n      <td>res_pip</td>\n      <td>16611740</td>\n    </tr>\n    <tr>\n      <th>32</th>\n      <td>measurement</td>\n      <td>res_resp</td>\n      <td>5623965</td>\n    </tr>\n    <tr>\n      <th>33</th>\n      <td>measurement</td>\n      <td>res_resp_adultmech</td>\n      <td>7035</td>\n    </tr>\n    <tr>\n      <th>34</th>\n      <td>measurement</td>\n      <td>res_resp_adultspont</td>\n      <td>26913</td>\n    </tr>\n    <tr>\n      <th>35</th>\n      <td>measurement</td>\n      <td>res_resp_pedsmech</td>\n      <td>23460</td>\n    </tr>\n    <tr>\n      <th>36</th>\n      <td>measurement</td>\n      <td>res_resp_pedsspont</td>\n      <td>2505</td>\n    </tr>\n    <tr>\n      <th>37</th>\n      <td>measurement</td>\n      <td>res_spo2</td>\n      <td>36419669</td>\n    </tr>\n    <tr>\n      <th>38</th>\n      <td>measurement</td>\n      <td>res_tidal</td>\n      <td>164238</td>\n    </tr>\n    <tr>\n      <th>39</th>\n      <td>measurement</td>\n      <td>res_tidal_exhaled</td>\n      <td>12737402</td>\n    </tr>\n    <tr>\n      <th>40</th>\n      <td>measurement</td>\n      <td>res_vent</td>\n      <td>189056</td>\n    </tr>\n    <tr>\n      <th>41</th>\n      <td>measurement</td>\n      <td>res_vent_peds</td>\n      <td>87308</td>\n    </tr>\n    <tr>\n      <th>42</th>\n      <td>measurement</td>\n      <td>rothman</td>\n      <td>13901460</td>\n    </tr>\n    <tr>\n      <th>43</th>\n      <td>measurement</td>\n      <td>sofa</td>\n      <td>4238362</td>\n    </tr>\n    <tr>\n      <th>44</th>\n      <td>measurement</td>\n      <td>temp</td>\n      <td>22908996</td>\n    </tr>\n    <tr>\n      <th>45</th>\n      <td>measurement</td>\n      <td>weight</td>\n      <td>5318424</td>\n    </tr>\n    <tr>\n      <th>46</th>\n      <td>observation</td>\n      <td>icu</td>\n      <td>41882</td>\n    </tr>\n    <tr>\n      <th>47</th>\n      <td>observation</td>\n      <td>lda</td>\n      <td>100437</td>\n    </tr>\n    <tr>\n      <th>48</th>\n      <td>observation</td>\n      <td>vent</td>\n      <td>142680</td>\n    </tr>\n    <tr>\n      <th>49</th>\n      <td>observation</td>\n      <td>payer</td>\n      <td>26752850</td>\n    </tr>\n  </tbody>\n</table>\n</div>"
     },
     "metadata": {},
     "execution_count": 19
    }
   ],
   "source": [
    "loaded = omop.config_param['load']\n",
    "\n",
    "result = []\n",
    "for t in loaded.keys():\n",
    "    if t not in ['provider','care_site','location']:\n",
    "        if loaded[t]:\n",
    "            for part in loaded[t]:\n",
    "                stg_name = STAGE[t][part]\n",
    "                idx = find_key(stage_t_dict['Table'], stg_name)\n",
    "                count = stage_t_dict['Count'][idx]\n",
    "                result.append([t, part, count])\n",
    "        else:\n",
    "            stg_name = STAGE[t]\n",
    "            idx = find_key(stage_t_dict['Table'], stg_name)\n",
    "            count = stage_t_dict['Count'][idx]\n",
    "            result.append([t, None, count])\n",
    "\n",
    "table_counts = pd.DataFrame(result, columns=['Table', 'Part', 'Count'])\n",
    "table_counts.head(50)"
   ]
  },
  {
   "cell_type": "code",
   "execution_count": 24,
   "metadata": {},
   "outputs": [
    {
     "output_type": "execute_result",
     "data": {
      "text/plain": [
       "                  Table      Count    RC_Load    RC_DeId\n",
       "0  condition_occurrence   74725451   73464094   20867090\n",
       "1                 death       6452       6446       5579\n",
       "2         drug_exposure   79519205   78815931   34173541\n",
       "3           measurement  315736168  360396063  275651510\n",
       "4           observation   80449088   80169785   40503251\n",
       "5                person     261222     261227     242388\n",
       "6  procedure_occurrence   29445698   29201416    4790264\n",
       "7      visit_occurrence   26752594   26663500    9669131"
      ],
      "text/html": "<div>\n<style scoped>\n    .dataframe tbody tr th:only-of-type {\n        vertical-align: middle;\n    }\n\n    .dataframe tbody tr th {\n        vertical-align: top;\n    }\n\n    .dataframe thead th {\n        text-align: right;\n    }\n</style>\n<table border=\"1\" class=\"dataframe\">\n  <thead>\n    <tr style=\"text-align: right;\">\n      <th></th>\n      <th>Table</th>\n      <th>Count</th>\n      <th>RC_Load</th>\n      <th>RC_DeId</th>\n    </tr>\n  </thead>\n  <tbody>\n    <tr>\n      <th>0</th>\n      <td>condition_occurrence</td>\n      <td>74725451</td>\n      <td>73464094</td>\n      <td>20867090</td>\n    </tr>\n    <tr>\n      <th>1</th>\n      <td>death</td>\n      <td>6452</td>\n      <td>6446</td>\n      <td>5579</td>\n    </tr>\n    <tr>\n      <th>2</th>\n      <td>drug_exposure</td>\n      <td>79519205</td>\n      <td>78815931</td>\n      <td>34173541</td>\n    </tr>\n    <tr>\n      <th>3</th>\n      <td>measurement</td>\n      <td>315736168</td>\n      <td>360396063</td>\n      <td>275651510</td>\n    </tr>\n    <tr>\n      <th>4</th>\n      <td>observation</td>\n      <td>80449088</td>\n      <td>80169785</td>\n      <td>40503251</td>\n    </tr>\n    <tr>\n      <th>5</th>\n      <td>person</td>\n      <td>261222</td>\n      <td>261227</td>\n      <td>242388</td>\n    </tr>\n    <tr>\n      <th>6</th>\n      <td>procedure_occurrence</td>\n      <td>29445698</td>\n      <td>29201416</td>\n      <td>4790264</td>\n    </tr>\n    <tr>\n      <th>7</th>\n      <td>visit_occurrence</td>\n      <td>26752594</td>\n      <td>26663500</td>\n      <td>9669131</td>\n    </tr>\n  </tbody>\n</table>\n</div>"
     },
     "metadata": {},
     "execution_count": 24
    }
   ],
   "source": [
    "count_diff = table_counts.groupby('Table').sum().reset_index()\n",
    "count_diff['RC_Load'] = count_diff.Table.apply(lambda t: omop.row_count(t))\n",
    "count_diff['RC_DeId'] = count_diff.Table.apply(lambda t: omop.row_count(t, schema='hipaa'))\n",
    "count_diff"
   ]
  },
  {
   "cell_type": "code",
   "execution_count": 22,
   "metadata": {},
   "outputs": [],
   "source": [
    "# t_sbs = stage_t[find(['MEASUREMENT','DRUG','CONDITION','PROCEDURE','OBSERVATION'], stage_t.Table)].Table.tolist()"
   ]
  },
  {
   "cell_type": "code",
   "execution_count": 30,
   "metadata": {},
   "outputs": [
    {
     "output_type": "execute_result",
     "data": {
      "text/plain": [
       "                  Table      Count    RC_Load    RC_DeId\n",
       "0  condition_occurrence   74725451   61154887   61154102\n",
       "1                 death       6452       6452       6452\n",
       "2         drug_exposure   79519205   79394081   79393862\n",
       "3           measurement  315736168  382511603  382511603\n",
       "4           observation   80449088   99003172   99001854\n",
       "5                person     261222     261227     261220\n",
       "6  procedure_occurrence   29445698   13389500   13389310\n",
       "7      visit_occurrence   26752594   26663500   26663500"
      ],
      "text/html": "<div>\n<style scoped>\n    .dataframe tbody tr th:only-of-type {\n        vertical-align: middle;\n    }\n\n    .dataframe tbody tr th {\n        vertical-align: top;\n    }\n\n    .dataframe thead th {\n        text-align: right;\n    }\n</style>\n<table border=\"1\" class=\"dataframe\">\n  <thead>\n    <tr style=\"text-align: right;\">\n      <th></th>\n      <th>Table</th>\n      <th>Count</th>\n      <th>RC_Load</th>\n      <th>RC_DeId</th>\n    </tr>\n  </thead>\n  <tbody>\n    <tr>\n      <th>0</th>\n      <td>condition_occurrence</td>\n      <td>74725451</td>\n      <td>61154887</td>\n      <td>61154102</td>\n    </tr>\n    <tr>\n      <th>1</th>\n      <td>death</td>\n      <td>6452</td>\n      <td>6452</td>\n      <td>6452</td>\n    </tr>\n    <tr>\n      <th>2</th>\n      <td>drug_exposure</td>\n      <td>79519205</td>\n      <td>79394081</td>\n      <td>79393862</td>\n    </tr>\n    <tr>\n      <th>3</th>\n      <td>measurement</td>\n      <td>315736168</td>\n      <td>382511603</td>\n      <td>382511603</td>\n    </tr>\n    <tr>\n      <th>4</th>\n      <td>observation</td>\n      <td>80449088</td>\n      <td>99003172</td>\n      <td>99001854</td>\n    </tr>\n    <tr>\n      <th>5</th>\n      <td>person</td>\n      <td>261222</td>\n      <td>261227</td>\n      <td>261220</td>\n    </tr>\n    <tr>\n      <th>6</th>\n      <td>procedure_occurrence</td>\n      <td>29445698</td>\n      <td>13389500</td>\n      <td>13389310</td>\n    </tr>\n    <tr>\n      <th>7</th>\n      <td>visit_occurrence</td>\n      <td>26752594</td>\n      <td>26663500</td>\n      <td>26663500</td>\n    </tr>\n  </tbody>\n</table>\n</div>"
     },
     "metadata": {},
     "execution_count": 30
    }
   ],
   "source": [
    "count_diff = table_counts.groupby('Table').sum().reset_index()\n",
    "count_diff['RC_Load'] = count_diff.Table.apply(lambda t: omop.row_count(t))\n",
    "count_diff['RC_DeId'] = count_diff.Table.apply(lambda t: omop.row_count(t, schema='hipaa'))\n",
    "count_diff"
   ]
  },
  {
   "cell_type": "code",
   "execution_count": null,
   "metadata": {},
   "outputs": [],
   "source": []
  }
 ],
 "metadata": {
  "kernelspec": {
   "name": "python374jvsc74a57bd0ed9aecc04a78bc023d6560d59868ba438581fdda2914504ea0b1a159872595b9",
   "display_name": "Python 3.7.4 64-bit ('base': conda)"
  },
  "language_info": {
   "codemirror_mode": {
    "name": "ipython",
    "version": 3
   },
   "file_extension": ".py",
   "mimetype": "text/x-python",
   "name": "python",
   "nbconvert_exporter": "python",
   "pygments_lexer": "ipython3",
   "version": "3.7.4"
  }
 },
 "nbformat": 4,
 "nbformat_minor": 4
}