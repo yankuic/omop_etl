{
 "cells": [
  {
   "cell_type": "code",
   "execution_count": 1,
   "metadata": {},
   "outputs": [
    {
     "name": "stdout",
     "output_type": "stream",
     "text": [
      "Z:\\OMOP\\omop_etl\n"
     ]
    }
   ],
   "source": [
    "import os\n",
    "import yaml\n",
    "\n",
    "os.chdir('Z:\\OMOP\\omop_etl')\n",
    "print(os.getcwd())\n",
    "\n",
    "import pandas as pd\n",
    "from omop_etl.load import Loader\n",
    "# from .omop_etl.stage import STAGE\n",
    "\n",
    "from pydma.utils import find"
   ]
  },
  {
   "cell_type": "code",
   "execution_count": 32,
   "metadata": {},
   "outputs": [],
   "source": [
    "omop = Loader('config.yml')\n",
    "\n",
    "# CONFIG = 'omop_etl/etl_config.yml'\n",
    "# with open(CONFIG) as f:\n",
    "#     yml = yaml.safe_load(f)\n",
    "\n",
    "ALIASES = omop.aliases\n",
    "STAGE = omop.stage"
   ]
  },
  {
   "cell_type": "code",
   "execution_count": 33,
   "metadata": {},
   "outputs": [
    {
     "data": {
      "text/plain": [
       "{'condition_occurrence': 'CONDITION',\n",
       " 'death': 'DEATH',\n",
       " 'drug_exposure': {'admin': 'DRUG_ADMIN', 'order': 'DRUG_ORDER'},\n",
       " 'measurement': {'bp': 'MEASUREMENT_BP_BP',\n",
       "  'bp_artline': 'MEASUREMENT_BP_ArterialLine',\n",
       "  'bp_noninvasive': 'MEASUREMENT_BP_BP_NonInvasive',\n",
       "  'bp_cvp': 'MEASUREMENT_BP_CVP',\n",
       "  'bp_cvp_mean': 'MEASUREMENT_BP_CVP_mean',\n",
       "  'bp_map_artline': 'MEASUREMENT_BP_MAP_A_line',\n",
       "  'bp_map_cuff': 'MEASUREMENT_BP_MAP_Cuff',\n",
       "  'bp_map_noninvasive': 'MEASUREMENT_BP_MAP_NonINvasive',\n",
       "  'bp_pap_mean': 'MEASUREMENT_BP_PAP_mean',\n",
       "  'heart_rate': 'MEASUREMENT_HeartRate',\n",
       "  'height': 'MEASUREMENT_Height',\n",
       "  'lab': 'MEASUREMENT_LAB',\n",
       "  'lda': 'MEASUREMENT_LDA',\n",
       "  'pain': 'MEASUREMENT_PainScale',\n",
       "  'pain_jax': 'MEASUREMENT_PainScale_JAX',\n",
       "  'pain_peds': 'MEASUREMENT_PainScale_Peds',\n",
       "  'qtcb': 'MEASUREMENT_QTCB',\n",
       "  'res_dev': 'MEASUREMENT_Res_Device',\n",
       "  'res_etco2': 'MEASUREMENT_Res_ETCO2',\n",
       "  'res_etco2_on': 'MEASUREMENT_Res_ETCO2_NO',\n",
       "  'res_fio2': 'MEASUREMENT_Res_FIO2',\n",
       "  'res_gcs': 'MEASUREMENT_Res_GCS',\n",
       "  'res_gcs_peds': 'MEASUREMENT_Res_GCS_Peds',\n",
       "  'res_o2': 'MEASUREMENT_Res_O2',\n",
       "  'res_o2_ml': 'MEASUREMENT_Res_O2_mL',\n",
       "  'res_peep': 'MEASUREMENT_Res_PEEP',\n",
       "  'res_pip': 'MEASUREMENT_Res_PIP',\n",
       "  'res_resp': 'MEASUREMENT_Res_RESP',\n",
       "  'res_resp_adultmech': 'MEASUREMENT_Res_RESP_AdultMech',\n",
       "  'res_resp_adultspont': 'MEASUREMENT_Res_RESP_AdultSpont',\n",
       "  'res_resp_pedsmech': 'MEASUREMENT_Res_RESP_PedsMech',\n",
       "  'res_resp_pedsspont': 'MEASUREMENT_Res_RESP_PedsSpont',\n",
       "  'res_spo2': 'MEASUREMENT_Res_SPO2',\n",
       "  'res_tidal': 'MEASUREMENT_Res_Tidal',\n",
       "  'res_tidal_exhaled': 'MEASUREMENT_Res_TidalExhaled',\n",
       "  'res_vent': 'MEASUREMENT_Res_Vent',\n",
       "  'res_vent_peds': 'MEASUREMENT_Res_VentPeds',\n",
       "  'rothman': 'MEASUREMENT_Rothman',\n",
       "  'sofa': 'MEASUREMENT_SOFA',\n",
       "  'temp': 'MEASUREMENT_Temp',\n",
       "  'weight': 'MEASUREMENT_Weight'},\n",
       " 'observation': {'icu': 'OBSERVATION_ICU',\n",
       "  'lda': 'OBSERVATION_LDA',\n",
       "  'payer': 'OBSERVATION_Payer',\n",
       "  'smoking': 'OBSERVATION_Smoking',\n",
       "  'vent': 'OBSERVATION_Vent',\n",
       "  'zipcode': 'OBSERVATION_Zipcode'},\n",
       " 'person': 'PERSON',\n",
       " 'procedure_occurrence': {'cpt': 'PROCEDURE_CPT', 'icd': 'PROCEDURE_ICD'},\n",
       " 'visit_occurrence': 'VISIT'}"
      ]
     },
     "execution_count": 33,
     "metadata": {},
     "output_type": "execute_result"
    }
   ],
   "source": [
    "STAGE"
   ]
  },
  {
   "cell_type": "code",
   "execution_count": 15,
   "metadata": {},
   "outputs": [],
   "source": [
    "stage_t = omop.list_tables(in_schema=['stage'])\n",
    "stage_t['Count'] = stage_t.Table.apply(lambda t: omop.row_count(t, schema='stage'))"
   ]
  },
  {
   "cell_type": "code",
   "execution_count": 16,
   "metadata": {},
   "outputs": [],
   "source": [
    "stage_t_dict = stage_t[['Table','Count']].to_dict()\n",
    "# stage_t_dict"
   ]
  },
  {
   "cell_type": "code",
   "execution_count": 17,
   "metadata": {},
   "outputs": [
    {
     "data": {
      "text/plain": [
       "5172282"
      ]
     },
     "execution_count": 17,
     "metadata": {},
     "output_type": "execute_result"
    }
   ],
   "source": [
    "stage_t_dict['Count'][7]"
   ]
  },
  {
   "cell_type": "code",
   "execution_count": 18,
   "metadata": {},
   "outputs": [],
   "source": [
    "def find_key(input_dict, value):\n",
    "    return next((k for k, v in input_dict.items() if v == value), None)"
   ]
  },
  {
   "cell_type": "code",
   "execution_count": 34,
   "metadata": {},
   "outputs": [],
   "source": [
    "loaded = omop.config.load\n",
    "\n",
    "result = []\n",
    "for t in loaded.keys():\n",
    "    if t not in ['provider','care_site','location']:\n",
    "        if loaded[t]:\n",
    "            for part in loaded[t]:\n",
    "                stg_name = STAGE[t][part]\n",
    "                idx = find_key(stage_t_dict['Table'], stg_name)\n",
    "                count = stage_t_dict['Count'][idx]\n",
    "                result.append([t, part, count])\n",
    "        else:\n",
    "            stg_name = STAGE[t]\n",
    "            idx = find_key(stage_t_dict['Table'], stg_name)\n",
    "            count = stage_t_dict['Count'][idx]\n",
    "            result.append([t, None, count])\n",
    "\n",
    "table_counts = pd.DataFrame(result, columns=['Table', 'Part', 'Count'])\n",
    "# table_counts.head(50)"
   ]
  },
  {
   "cell_type": "code",
   "execution_count": 36,
   "metadata": {},
   "outputs": [
    {
     "data": {
      "text/html": [
       "<div>\n",
       "<style scoped>\n",
       "    .dataframe tbody tr th:only-of-type {\n",
       "        vertical-align: middle;\n",
       "    }\n",
       "\n",
       "    .dataframe tbody tr th {\n",
       "        vertical-align: top;\n",
       "    }\n",
       "\n",
       "    .dataframe thead th {\n",
       "        text-align: right;\n",
       "    }\n",
       "</style>\n",
       "<table border=\"1\" class=\"dataframe\">\n",
       "  <thead>\n",
       "    <tr style=\"text-align: right;\">\n",
       "      <th></th>\n",
       "      <th>Table</th>\n",
       "      <th>Count</th>\n",
       "      <th>RC_Load</th>\n",
       "      <th>RC_DeId</th>\n",
       "      <th>RC_Preload</th>\n",
       "    </tr>\n",
       "  </thead>\n",
       "  <tbody>\n",
       "    <tr>\n",
       "      <th>0</th>\n",
       "      <td>condition_occurrence</td>\n",
       "      <td>74725451</td>\n",
       "      <td>61154887</td>\n",
       "      <td>61154102</td>\n",
       "      <td>74743630</td>\n",
       "    </tr>\n",
       "    <tr>\n",
       "      <th>1</th>\n",
       "      <td>death</td>\n",
       "      <td>6452</td>\n",
       "      <td>6452</td>\n",
       "      <td>6452</td>\n",
       "      <td>0</td>\n",
       "    </tr>\n",
       "    <tr>\n",
       "      <th>2</th>\n",
       "      <td>drug_exposure</td>\n",
       "      <td>79519205</td>\n",
       "      <td>79394081</td>\n",
       "      <td>79393862</td>\n",
       "      <td>79398201</td>\n",
       "    </tr>\n",
       "    <tr>\n",
       "      <th>3</th>\n",
       "      <td>measurement</td>\n",
       "      <td>315736168</td>\n",
       "      <td>382511603</td>\n",
       "      <td>382511603</td>\n",
       "      <td>371840188</td>\n",
       "    </tr>\n",
       "    <tr>\n",
       "      <th>4</th>\n",
       "      <td>observation</td>\n",
       "      <td>80449088</td>\n",
       "      <td>99003172</td>\n",
       "      <td>99001854</td>\n",
       "      <td>80534624</td>\n",
       "    </tr>\n",
       "    <tr>\n",
       "      <th>5</th>\n",
       "      <td>person</td>\n",
       "      <td>261222</td>\n",
       "      <td>261227</td>\n",
       "      <td>261220</td>\n",
       "      <td>0</td>\n",
       "    </tr>\n",
       "    <tr>\n",
       "      <th>6</th>\n",
       "      <td>procedure_occurrence</td>\n",
       "      <td>29445698</td>\n",
       "      <td>13389500</td>\n",
       "      <td>13389310</td>\n",
       "      <td>29328512</td>\n",
       "    </tr>\n",
       "    <tr>\n",
       "      <th>7</th>\n",
       "      <td>visit_occurrence</td>\n",
       "      <td>26752594</td>\n",
       "      <td>26663500</td>\n",
       "      <td>26663088</td>\n",
       "      <td>0</td>\n",
       "    </tr>\n",
       "  </tbody>\n",
       "</table>\n",
       "</div>"
      ],
      "text/plain": [
       "                  Table      Count    RC_Load    RC_DeId  RC_Preload\n",
       "0  condition_occurrence   74725451   61154887   61154102    74743630\n",
       "1                 death       6452       6452       6452           0\n",
       "2         drug_exposure   79519205   79394081   79393862    79398201\n",
       "3           measurement  315736168  382511603  382511603   371840188\n",
       "4           observation   80449088   99003172   99001854    80534624\n",
       "5                person     261222     261227     261220           0\n",
       "6  procedure_occurrence   29445698   13389500   13389310    29328512\n",
       "7      visit_occurrence   26752594   26663500   26663088           0"
      ]
     },
     "execution_count": 36,
     "metadata": {},
     "output_type": "execute_result"
    }
   ],
   "source": [
    "count_diff = table_counts.groupby('Table').sum().reset_index()\n",
    "count_diff['RC_Load'] = count_diff.Table.apply(lambda t: omop.row_count(t))\n",
    "count_diff['RC_DeId'] = count_diff.Table.apply(lambda t: omop.row_count(t, schema='hipaa'))\n",
    "count_diff['RC_Preload'] = count_diff.Table.apply(lambda t: omop.row_count(t, schema='preload') if t not in ('death','person','visit_occurrence') else 0)\n",
    "count_diff"
   ]
  },
  {
   "cell_type": "code",
   "execution_count": null,
   "metadata": {},
   "outputs": [],
   "source": [
    "# t_sbs = stage_t[find(['MEASUREMENT','DRUG','CONDITION','PROCEDURE','OBSERVATION'], stage_t.Table)].Table.tolist()"
   ]
  },
  {
   "cell_type": "code",
   "execution_count": null,
   "metadata": {},
   "outputs": [],
   "source": []
  }
 ],
 "metadata": {
  "kernelspec": {
   "display_name": "Python 3",
   "language": "python",
   "name": "python3"
  },
  "language_info": {
   "codemirror_mode": {
    "name": "ipython",
    "version": 3
   },
   "file_extension": ".py",
   "mimetype": "text/x-python",
   "name": "python",
   "nbconvert_exporter": "python",
   "pygments_lexer": "ipython3",
   "version": "3.7.4"
  }
 },
 "nbformat": 4,
 "nbformat_minor": 4
}
